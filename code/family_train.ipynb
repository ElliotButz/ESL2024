{
 "cells": [
  {
   "cell_type": "code",
   "execution_count": 1,
   "metadata": {
    "metadata": {}
   },
   "outputs": [
    {
     "name": "stderr",
     "output_type": "stream",
     "text": [
      "/home/ebutz/miniconda3/envs/pyg2/lib/python3.11/site-packages/tqdm/auto.py:21: TqdmWarning: IProgress not found. Please update jupyter and ipywidgets. See https://ipywidgets.readthedocs.io/en/stable/user_install.html\n",
      "  from .autonotebook import tqdm as notebook_tqdm\n"
     ]
    }
   ],
   "source": [
    "import torch\n",
    "import os\n",
    "import sys\n",
    "sys.path.append('/home/ebutz/ESL2024/code/utils' )\n",
    "import optuna\n",
    "import torch.nn.functional as F\n",
    "from torch_geometric.data import HeteroData\n",
    "from torch_geometric.loader import LinkNeighborLoader\n",
    "from torch_geometric.sampler import NegativeSampling\n",
    "import torch_geometric.transforms as T\n",
    "import pickle\n",
    "import os\n",
    "import sys\n",
    "import torch\n",
    "import torch.optim as optim\n",
    "import torch_geometric\n",
    "from torch_geometric.nn import ComplEx\n",
    "from torch_geometric.data import Data\n",
    "from torch_geometric.transforms import RandomLinkSplit\n",
    "from torch_geometric.loader import DataLoader\n",
    "import torch.nn.functional as F\n",
    "from nxontology.imports import from_file\n",
    "import wandb\n",
    "from play_with_complex import *\n",
    "from data_utils import *\n",
    "from train_utils import *\n",
    "from model_utils import *\n",
    "import numpy as np\n",
    "import pandas as pd\n",
    "from tqdm import tqdm\n",
    "tqdm.pandas()\n",
    "from torchmetrics.retrieval import RetrievalMRR, RetrievalHitRate\n",
    "import play_with_complex as pwc\n",
    "from work_in_graph import *\n",
    "from usefull_little_functions import *\n",
    "import numpy as np\n",
    "import torch"
   ]
  },
  {
   "cell_type": "code",
   "execution_count": 2,
   "metadata": {
    "metadata": {}
   },
   "outputs": [
    {
     "name": "stdout",
     "output_type": "stream",
     "text": [
      "brouillon : family train for usual labels\n",
      "Device: 'cpu'\n"
     ]
    }
   ],
   "source": [
    "epochs = 2\n",
    "\n",
    "# How to calculate loss ?\n",
    "# Choices are : 'usual', 'rand_linsim', linsim', 'gaussian_noise', 'usual'.\n",
    "labels_type = 'usual'\n",
    "\n",
    "# How many epochs between 2 time-consuming evaluations ?\n",
    "eval_period = 1\n",
    "\n",
    "# Wandb\n",
    "xp_name = 'brouillon'\n",
    "run_name = f'family train for {labels_type} labels'\n",
    "print(xp_name,':',run_name)\n",
    "\n",
    "# Iric\n",
    "iric_path       = '/home/ebutz/ESL2024/data/full_iric/iric.csv'\n",
    "\n",
    "# # Ontology\n",
    "# ontology_path = '/home/ebutz/ESL2024/data/go-basic.json.gz'\n",
    "\n",
    "# Set device\n",
    "device = torch.device('cuda' if torch.cuda.is_available() else 'cpu')\n",
    "device = 'cpu'\n",
    "print(f\"Device: '{device}'\")"
   ]
  },
  {
   "cell_type": "code",
   "execution_count": 3,
   "metadata": {
    "metadata": {}
   },
   "outputs": [
    {
     "name": "stderr",
     "output_type": "stream",
     "text": [
      "Failed to detect the name of this notebook, you can set it manually with the WANDB_NOTEBOOK_NAME environment variable to enable code saving.\n",
      "\u001b[34m\u001b[1mwandb\u001b[0m: Currently logged in as: \u001b[33mbutzelliot\u001b[0m (\u001b[33mesl2024\u001b[0m). Use \u001b[1m`wandb login --relogin`\u001b[0m to force relogin\n"
     ]
    },
    {
     "data": {
      "text/html": [
       "wandb version 0.17.0 is available!  To upgrade, please run:\n",
       " $ pip install wandb --upgrade"
      ],
      "text/plain": [
       "<IPython.core.display.HTML object>"
      ]
     },
     "metadata": {},
     "output_type": "display_data"
    },
    {
     "data": {
      "text/html": [
       "Tracking run with wandb version 0.16.6"
      ],
      "text/plain": [
       "<IPython.core.display.HTML object>"
      ]
     },
     "metadata": {},
     "output_type": "display_data"
    },
    {
     "data": {
      "text/html": [
       "Run data is saved locally in <code>/home/ebutz/ESL2024/wandb/run-20240517_100030-1zm9ylnw</code>"
      ],
      "text/plain": [
       "<IPython.core.display.HTML object>"
      ]
     },
     "metadata": {},
     "output_type": "display_data"
    },
    {
     "data": {
      "text/html": [
       "Syncing run <strong><a href='https://wandb.ai/esl2024/brouillon/runs/1zm9ylnw' target=\"_blank\">family train for usual labels</a></strong> to <a href='https://wandb.ai/esl2024/brouillon' target=\"_blank\">Weights & Biases</a> (<a href='https://wandb.me/run' target=\"_blank\">docs</a>)<br/>"
      ],
      "text/plain": [
       "<IPython.core.display.HTML object>"
      ]
     },
     "metadata": {},
     "output_type": "display_data"
    },
    {
     "data": {
      "text/html": [
       " View project at <a href='https://wandb.ai/esl2024/brouillon' target=\"_blank\">https://wandb.ai/esl2024/brouillon</a>"
      ],
      "text/plain": [
       "<IPython.core.display.HTML object>"
      ]
     },
     "metadata": {},
     "output_type": "display_data"
    },
    {
     "data": {
      "text/html": [
       " View run at <a href='https://wandb.ai/esl2024/brouillon/runs/1zm9ylnw' target=\"_blank\">https://wandb.ai/esl2024/brouillon/runs/1zm9ylnw</a>"
      ],
      "text/plain": [
       "<IPython.core.display.HTML object>"
      ]
     },
     "metadata": {},
     "output_type": "display_data"
    },
    {
     "name": "stderr",
     "output_type": "stream",
     "text": [
      "/home/ebutz/ESL2024/code/utils/train_utils.py:184: SettingWithCopyWarning: \n",
      "A value is trying to be set on a copy of a slice from a DataFrame.\n",
      "Try using .loc[row_indexer,col_indexer] = value instead\n",
      "\n",
      "See the caveats in the documentation: https://pandas.pydata.org/pandas-docs/stable/user_guide/indexing.html#returning-a-view-versus-a-copy\n",
      "  df_links['source_node'] = df_links.index\n"
     ]
    },
    {
     "name": "stdout",
     "output_type": "stream",
     "text": [
      "data look valid :  True\n",
      "Function 'split_data' executed in 0.0617s\n",
      "Function 'build_dataloaders' executed in 1.2114s\n"
     ]
    }
   ],
   "source": [
    "run = wandb.init(project=xp_name, name = run_name)\n",
    "config = wandb.config\n",
    "config.labels_type = labels_type\n",
    "config.val_ratio=0.1\n",
    "config.homogeneous=False\n",
    "config.scorelist_size=1000\n",
    "config.split_ratio=0.8\n",
    "config.val_ratio=0.1\n",
    "config.test_ratio=0.1\n",
    "config.num_neighbors=[70,55,13,89,85]\n",
    "config.batch_size=1024\n",
    "config.train_neg_sampling_ratio=224\n",
    "config.epochs=epochs\n",
    "config.disjoint_train_ratio=0.6\n",
    "config.lr=0.0015308253347932983\n",
    "config.stopper_metric= 'hit_at_10'\n",
    "config.stopper_direction=\"maximize\"\n",
    "config.stopper_patience=5\n",
    "config.stopper_frequency=1\n",
    "config.stopper_relative_delta=0.05\n",
    "config.gamma=1.3\n",
    "config.alpha=0.42680473078813763\n",
    "config.gnn_layer='ResGatedGraphConv'\n",
    "config.dropout=0.1\n",
    "config.norm='DiffGroupNorm'\n",
    "config.aggregation = 'min'\n",
    "config.hidden_channels=115\n",
    "config.num_layers=3\n",
    "config.attention_heads=4\n",
    "config.homogeneous = False\n",
    "config.labels = {'head' : 'genes', 'relation' : 'gene_ontology', 'tail' : 'go'}\n",
    "\n",
    "# ------------- Load dataset ------------- #\n",
    "\n",
    "data = load_iric_data(iric_path, featureless=False)\n",
    "GO_edge_index = data['go', 'is_a', 'go'].edge_index # Important to extract ontology before making graph undirected\n",
    "data  = T.ToUndirected(merge=True)(data)            # Convert the graph to an undirected graph. Creates reverse edges for each edge.\n",
    "data = T.RemoveDuplicatedEdges()(data)              # Remove duplicated edges\n",
    "# print(data)\n",
    "print('data look valid : ',data.validate())\n",
    "\n",
    "# ------------- Split dataset ------------- #\n",
    "\n",
    "train_data, val_data, test_data = split_data(data, config)\n",
    "train_loader, val_loader, test_loader = build_dataloaders(train_data, val_data, test_data, config)\n",
    "\n",
    "# ------------- Loading ontology ------------- #\n",
    "\n",
    "# nxo = from_file(ontology_path)\n",
    "# nxo.freeze()\n",
    "# pwc.nxo = nxo\n",
    "\n",
    "df = pd.read_csv(iric_path, index_col=0, dtype=str)\n",
    "df['source_node'] = df.index\n",
    "df.columns = [x.lower() for x in df.columns]\n",
    "go_map = get_nodelist(df, 'go')\n",
    "go_to_idx = {node: i for i, node in enumerate(go_map)}\n",
    "idx_to_go = {i: node for i, node in enumerate(go_map)}\n",
    "\n",
    "# ------------- Making global variables accessibles to pwc ------------- #\n",
    "\n",
    "pwc.map_to_GO        = idx_to_go\n",
    "pwc.mapped_alt_tails = None\n",
    "pwc.device           = device\n",
    "\n",
    "# ------------- Model setup ------------- #\n",
    "\n",
    "gnn_layers = get_gnn_layers(config)\n",
    "norm_layers = get_norm_layers(config, len(data.node_types))\n",
    "\n",
    "model = Model(config, data, norm_layers, gnn_layers).to(device)\n",
    "\n",
    "# # ------------- Setup graph ------------- #\n",
    "\n",
    "# G = nx.DiGraph()\n",
    "# for s, d in zip(GO_edge_index[0].tolist(), GO_edge_index[1].tolist()):\n",
    "#     G.add_edge(s, d)"
   ]
  },
  {
   "cell_type": "code",
   "execution_count": 4,
   "metadata": {},
   "outputs": [
    {
     "name": "stdout",
     "output_type": "stream",
     "text": [
      "Nombre de Noeuds dans GO_edreg_index : torch.Size([42769])\n"
     ]
    }
   ],
   "source": [
    "print('Nombre de Noeuds dans GO_edreg_index :', GO_edge_index.unique().size())"
   ]
  },
  {
   "cell_type": "code",
   "execution_count": 5,
   "metadata": {},
   "outputs": [
    {
     "name": "stdout",
     "output_type": "stream",
     "text": [
      "Nombre de Noeuds dans n_id : torch.Size([42979])\n",
      "tensor([    0,     1,     2,  ..., 42976, 42977, 42978])\n",
      "torch.Size([42979])\n",
      "torch.Size([42979])\n"
     ]
    }
   ],
   "source": [
    "train_data.generate_ids()\n",
    "n_ids = train_data[config.labels['tail']].n_id\n",
    "print('Nombre de Noeuds dans n_id :',n_ids.unique().size())\n",
    "print(n_ids)\n",
    "print(n_ids.size())\n",
    "print(n_ids.unique().size())\n"
   ]
  },
  {
   "cell_type": "code",
   "execution_count": 6,
   "metadata": {},
   "outputs": [
    {
     "name": "stdout",
     "output_type": "stream",
     "text": [
      "Nombre de Noeuds dans GO_edge_index : torch.Size([42769])\n",
      "Nombre de Noeuds dans n_id : torch.Size([42979])\n"
     ]
    }
   ],
   "source": [
    "\n",
    "print('Nombre de Noeuds dans GO_edge_index :', GO_edge_index.unique().size())\n",
    "\n",
    "# Génération des n_id :\n",
    "train_data.generate_ids()\n",
    "n_ids = train_data[config.labels['tail']].n_id\n",
    "print('Nombre de Noeuds dans n_id :',n_ids.unique().size())"
   ]
  },
  {
   "cell_type": "code",
   "execution_count": 54,
   "metadata": {},
   "outputs": [
    {
     "name": "stdout",
     "output_type": "stream",
     "text": [
      "210\n",
      "0\n",
      "GO:0031359\n",
      "GO:0031351\n",
      "GO:0006330\n",
      "GO:0006990\n",
      "GO:0009019\n",
      "GO:0030104\n",
      "GO:0006588\n",
      "GO:0019204\n",
      "GO:0035511\n",
      "GO:0031938\n",
      "GO:1900490\n",
      "GO:0004871\n",
      "GO:0010941\n",
      "GO:0055069\n",
      "GO:0018192\n",
      "GO:0015491\n",
      "GO:0048037\n",
      "GO:0055076\n",
      "GO:0005779\n",
      "GO:0031357\n",
      "GO:0004652\n",
      "GO:2001020\n",
      "GO:0016576\n",
      "GO:0000306\n",
      "GO:0102486\n",
      "GO:0006875\n",
      "GO:0090305\n",
      "GO:0102488\n",
      "GO:0006379\n",
      "GO:0004221\n",
      "GO:0005623\n",
      "GO:0006200\n",
      "GO:0016585\n",
      "GO:0010940\n",
      "GO:0102797\n",
      "GO:0102490\n",
      "GO:0007568\n",
      "GO:0042643\n",
      "GO:0010525\n",
      "GO:0052033\n",
      "GO:0018024\n",
      "GO:0102343\n",
      "GO:0010252\n",
      "GO:0010216\n",
      "GO:0044260\n",
      "GO:0009305\n",
      "GO:0005671\n",
      "GO:0044464\n",
      "GO:0102552\n",
      "GO:1901972\n",
      "GO:1990440\n",
      "GO:0030696\n",
      "GO:0042766\n",
      "GO:0031307\n",
      "GO:0060968\n",
      "GO:0045857\n",
      "GO:0010260\n",
      "GO:0102798\n",
      "GO:0030173\n",
      "GO:0000186\n",
      "GO:0098519\n",
      "GO:2000582\n",
      "GO:0009108\n",
      "GO:0043486\n",
      "GO:0005639\n",
      "GO:0070895\n",
      "GO:0006733\n",
      "GO:0016307\n",
      "GO:0006184\n",
      "GO:0061408\n",
      "GO:1903507\n",
      "GO:0046658\n",
      "GO:0050155\n",
      "GO:0015301\n",
      "GO:0000737\n",
      "GO:0006073\n",
      "GO:0030528\n",
      "GO:0016563\n",
      "GO:0102487\n",
      "GO:0043619\n",
      "GO:0044431\n",
      "GO:0033577\n",
      "GO:0052746\n",
      "GO:0051188\n",
      "GO:0043620\n",
      "GO:0003715\n",
      "GO:0048478\n",
      "GO:0009348\n",
      "GO:0007569\n",
      "GO:0010847\n",
      "GO:0097573\n",
      "GO:0043631\n",
      "GO:0000989\n",
      "GO:0044262\n",
      "GO:0046855\n",
      "GO:0010259\n",
      "GO:2001022\n",
      "GO:0070940\n",
      "GO:0031305\n",
      "GO:0018298\n",
      "GO:0004437\n",
      "GO:0102553\n",
      "GO:0031304\n",
      "GO:0010942\n",
      "GO:0055073\n",
      "GO:0004584\n",
      "GO:0006296\n",
      "GO:0072684\n",
      "GO:0016458\n",
      "GO:0070816\n",
      "GO:0006165\n",
      "GO:0034414\n",
      "GO:0042991\n",
      "GO:0031936\n",
      "GO:0090502\n",
      "GO:0010843\n",
      "GO:0072321\n",
      "GO:0004158\n",
      "GO:0006557\n",
      "GO:0009020\n",
      "GO:0051186\n",
      "GO:0042779\n",
      "GO:0000469\n",
      "GO:0140603\n",
      "GO:0016572\n",
      "GO:0055114\n",
      "GO:0008471\n",
      "GO:1900049\n",
      "GO:0033955\n",
      "GO:0046838\n",
      "GO:0035174\n",
      "GO:0016429\n",
      "GO:0035404\n",
      "GO:0055068\n",
      "GO:0102345\n",
      "GO:0003773\n",
      "GO:0071458\n",
      "GO:0030176\n",
      "GO:0043988\n",
      "GO:0071556\n",
      "GO:0004702\n",
      "GO:0008853\n",
      "GO:0034645\n",
      "GO:0031532\n",
      "GO:0006471\n",
      "GO:0008022\n",
      "GO:0080023\n",
      "GO:0001302\n",
      "GO:2000653\n",
      "GO:0032592\n",
      "GO:0004809\n",
      "GO:0033683\n",
      "GO:0001128\n",
      "GO:0061866\n",
      "GO:0008565\n",
      "GO:0070084\n",
      "GO:0048016\n",
      "GO:0071733\n",
      "GO:0070584\n",
      "GO:0070122\n",
      "GO:0000187\n",
      "GO:0050072\n",
      "GO:0102344\n",
      "GO:0102485\n",
      "GO:0004428\n",
      "GO:0055065\n",
      "GO:0006349\n",
      "GO:0031227\n",
      "GO:0010217\n",
      "GO:0031225\n",
      "GO:0000738\n",
      "GO:1900363\n",
      "GO:0031935\n",
      "GO:0098789\n",
      "GO:0004600\n",
      "GO:0001004\n",
      "GO:0007090\n",
      "GO:0102489\n",
      "GO:0046939\n",
      "GO:0043551\n",
      "GO:0016584\n",
      "GO:0044136\n",
      "GO:0000453\n",
      "GO:0009405\n",
      "GO:0071050\n",
      "GO:0090501\n",
      "GO:0044428\n",
      "GO:0070191\n",
      "GO:0009614\n",
      "GO:0008144\n",
      "GO:1901407\n",
      "GO:0047780\n",
      "GO:0043900\n",
      "GO:0050662\n",
      "GO:0102756\n",
      "GO:0003840\n",
      "GO:0017163\n",
      "GO:2000112\n",
      "GO:0044805\n",
      "GO:0060548\n",
      "GO:0043987\n",
      "GO:2001253\n",
      "GO:0016564\n",
      "GO:0052666\n",
      "GO:0055072\n",
      "GO:0090503\n",
      "GO:0070265\n",
      "GO:0102491\n",
      "GO:0000733\n",
      "GO:0015299\n"
     ]
    }
   ],
   "source": [
    "all_n_ids = set(n_ids.unique().tolist())\n",
    "all_in_GO_edge_index = set (GO_edge_index.unique().tolist())\n",
    "print(len(all_n_ids - all_in_GO_edge_index))\n",
    "print(len(all_in_GO_edge_index - all_n_ids))\n",
    "\n",
    "list(all_in_GO_edge_index- all_n_ids)\n",
    "list(all_n_ids - all_in_GO_edge_index)\n",
    "for i in list(all_n_ids - all_in_GO_edge_index):\n",
    "    print(idx_to_go[i])\n",
    "\n",
    "# These are all deprecated terms !"
   ]
  },
  {
   "cell_type": "code",
   "execution_count": 8,
   "metadata": {},
   "outputs": [
    {
     "data": {
      "text/plain": [
       "False"
      ]
     },
     "execution_count": 8,
     "metadata": {},
     "output_type": "execute_result"
    }
   ],
   "source": [
    "42969 in list(all_n_ids - all_in_GO_edge_index)\n"
   ]
  },
  {
   "cell_type": "code",
   "execution_count": null,
   "metadata": {},
   "outputs": [],
   "source": []
  },
  {
   "cell_type": "code",
   "execution_count": 9,
   "metadata": {},
   "outputs": [],
   "source": [
    "# batchy['go']['dst_neg_index']"
   ]
  },
  {
   "cell_type": "code",
   "execution_count": 10,
   "metadata": {},
   "outputs": [],
   "source": [
    "# batchy"
   ]
  },
  {
   "cell_type": "code",
   "execution_count": 11,
   "metadata": {},
   "outputs": [
    {
     "data": {
      "text/plain": [
       "tensor([    0,     1,     2,  ..., 42976, 42977, 42978])"
      ]
     },
     "execution_count": 11,
     "metadata": {},
     "output_type": "execute_result"
    }
   ],
   "source": [
    "train_data.generate_ids()\n",
    "train_data[config.labels['tail']].n_id"
   ]
  },
  {
   "cell_type": "code",
   "execution_count": 12,
   "metadata": {},
   "outputs": [
    {
     "data": {
      "text/plain": [
       "torch.Size([42979])"
      ]
     },
     "execution_count": 12,
     "metadata": {},
     "output_type": "execute_result"
    }
   ],
   "source": [
    "train_data[config.labels['tail']].n_id.size()"
   ]
  },
  {
   "cell_type": "code",
   "execution_count": 13,
   "metadata": {},
   "outputs": [
    {
     "data": {
      "text/plain": [
       "torch.Size([2, 68218])"
      ]
     },
     "execution_count": 13,
     "metadata": {},
     "output_type": "execute_result"
    }
   ],
   "source": [
    "GO_edge_index.size()"
   ]
  },
  {
   "cell_type": "code",
   "execution_count": 14,
   "metadata": {},
   "outputs": [],
   "source": [
    "src = in_onto = set(GO_edge_index[0].unique().tolist())\n",
    "dst = in_onto = set(GO_edge_index[1].unique().tolist())\n",
    "# print(dst-src)\n",
    "# print(src-dst)"
   ]
  },
  {
   "cell_type": "code",
   "execution_count": 15,
   "metadata": {},
   "outputs": [],
   "source": [
    "def node_to_embed_id(node_id, node_to_embed_dict):\n",
    "    try:\n",
    "        return node_to_embed_dict[node_id]\n",
    "    except :\n",
    "        return 8533"
   ]
  },
  {
   "cell_type": "code",
   "execution_count": 16,
   "metadata": {},
   "outputs": [],
   "source": [
    "# GO_df = pd.DataFrame(GO_edge_index.numpy()[0], columns=['src_node_id'])\n",
    "# GO_df['dist_node_id'] = GO_edge_index[1].numpy()\n",
    "# GO_df['src_emb_id'] =GO_df.apply(lambda row : node_to_embed_id(row['src_node_id'], full_node_id_to_emb_id), axis=1)\n",
    "# GO_df['dist_emb_id']=GO_df.apply(lambda row : node_to_embed_id(row['dist_node_id'], full_node_id_to_emb_id), axis=1)\n",
    "# display(GO_df.head())\n",
    "# EMB_GO_edge_index = torch.stack([torch.tensor(list(GO_df['src_emb_id'])), torch.tensor(list(GO_df['dist_emb_id']))])\n",
    "# EMB_GO_edge_index"
   ]
  },
  {
   "cell_type": "code",
   "execution_count": 17,
   "metadata": {},
   "outputs": [
    {
     "data": {
      "image/png": "[encoded data removed]",
      "text/plain": [
       "<Figure size 640x480 with 1 Axes>"
      ]
     },
     "metadata": {},
     "output_type": "display_data"
    },
    {
     "name": "stdout",
     "output_type": "stream",
     "text": [
      "Distance 2/5\n"
     ]
    },
    {
     "name": "stderr",
     "output_type": "stream",
     "text": [
      "Making dist 2-neighbors : 100%|██████████| 8/8 [00:00<00:00, 3788.89it/s]\n",
      "Making dist 2-parents   : 100%|██████████| 8/8 [00:00<00:00, 4519.12it/s]\n",
      "Making dist 2-children  : 100%|██████████| 8/8 [00:00<00:00, 4826.59it/s]\n"
     ]
    },
    {
     "name": "stdout",
     "output_type": "stream",
     "text": [
      "Distance 3/5\n"
     ]
    },
    {
     "name": "stderr",
     "output_type": "stream",
     "text": [
      "Making dist 3-neighbors : 100%|██████████| 8/8 [00:00<00:00, 4351.50it/s]\n",
      "Making dist 3-parents   : 100%|██████████| 8/8 [00:00<00:00, 5358.42it/s]\n",
      "Making dist 3-children  : 100%|██████████| 8/8 [00:00<00:00, 4899.17it/s]\n"
     ]
    },
    {
     "name": "stdout",
     "output_type": "stream",
     "text": [
      "Distance 4/5\n"
     ]
    },
    {
     "name": "stderr",
     "output_type": "stream",
     "text": [
      "Making dist 4-neighbors : 100%|██████████| 8/8 [00:00<00:00, 6208.04it/s]\n",
      "Making dist 4-parents   : 100%|██████████| 8/8 [00:00<00:00, 9073.67it/s]\n",
      "Making dist 4-children  : 100%|██████████| 8/8 [00:00<00:00, 5199.01it/s]\n"
     ]
    },
    {
     "name": "stdout",
     "output_type": "stream",
     "text": [
      "Distance 5/5\n"
     ]
    },
    {
     "name": "stderr",
     "output_type": "stream",
     "text": [
      "Making dist 5-neighbors : 100%|██████████| 8/8 [00:00<00:00, 5326.95it/s]\n",
      "Making dist 5-parents   : 100%|██████████| 8/8 [00:00<00:00, 6009.03it/s]\n",
      "Making dist 5-children  : 100%|██████████| 8/8 [00:00<00:00, 5938.84it/s]\n"
     ]
    },
    {
     "name": "stdout",
     "output_type": "stream",
     "text": [
      "5-family acquired.\n"
     ]
    },
    {
     "name": "stderr",
     "output_type": "stream",
     "text": [
      "Calculating family      : 100%|██████████| 8/8 [00:00<00:00, 6632.62it/s]\n",
      "Calculating children    : 100%|██████████| 8/8 [00:00<00:00, 5754.49it/s]\n",
      "Calculating parents     : 100%|██████████| 8/8 [00:00<00:00, 5628.99it/s]\n",
      "Calculating exclusion   : 100%|██████████| 8/8 [00:00<00:00, 6251.99it/s]\n",
      "Calculating exclusion   : 100%|██████████| 8/8 [00:00<00:00, 7681.88it/s]\n"
     ]
    },
    {
     "data": {
      "text/html": [
       "<div>\n",
       "<style scoped>\n",
       "    .dataframe tbody tr th:only-of-type {\n",
       "        vertical-align: middle;\n",
       "    }\n",
       "\n",
       "    .dataframe tbody tr th {\n",
       "        vertical-align: top;\n",
       "    }\n",
       "\n",
       "    .dataframe thead th {\n",
       "        text-align: right;\n",
       "    }\n",
       "</style>\n",
       "<table border=\"1\" class=\"dataframe\">\n",
       "  <thead>\n",
       "    <tr style=\"text-align: right;\">\n",
       "      <th></th>\n",
       "      <th>source</th>\n",
       "      <th>1-neighbors</th>\n",
       "      <th>2-neighbors</th>\n",
       "      <th>3-neighbors</th>\n",
       "      <th>4-neighbors</th>\n",
       "      <th>5-neighbors</th>\n",
       "      <th>1-children</th>\n",
       "      <th>2-children</th>\n",
       "      <th>3-children</th>\n",
       "      <th>4-children</th>\n",
       "      <th>5-children</th>\n",
       "      <th>1-parents</th>\n",
       "      <th>2-parents</th>\n",
       "      <th>3-parents</th>\n",
       "      <th>4-parents</th>\n",
       "      <th>5-parents</th>\n",
       "      <th>family</th>\n",
       "      <th>parents</th>\n",
       "      <th>family_without_parents</th>\n",
       "      <th>family_without_children</th>\n",
       "    </tr>\n",
       "  </thead>\n",
       "  <tbody>\n",
       "    <tr>\n",
       "      <th>0</th>\n",
       "      <td>{0}</td>\n",
       "      <td>{1}</td>\n",
       "      <td>{2, 3}</td>\n",
       "      <td>{4, 5}</td>\n",
       "      <td>{6}</td>\n",
       "      <td>{15}</td>\n",
       "      <td>{1}</td>\n",
       "      <td>{2, 3}</td>\n",
       "      <td>{3, 4, 5}</td>\n",
       "      <td>{4, 5}</td>\n",
       "      <td>{}</td>\n",
       "      <td>{}</td>\n",
       "      <td>{}</td>\n",
       "      <td>{}</td>\n",
       "      <td>{}</td>\n",
       "      <td>{}</td>\n",
       "      <td>{1, 2, 3, 4, 5, 6, 15}</td>\n",
       "      <td>{}</td>\n",
       "      <td>{1, 2, 3, 4, 5, 6, 15}</td>\n",
       "      <td>{6, 15}</td>\n",
       "    </tr>\n",
       "    <tr>\n",
       "      <th>1</th>\n",
       "      <td>{1}</td>\n",
       "      <td>{0, 2, 3}</td>\n",
       "      <td>{4, 5}</td>\n",
       "      <td>{6}</td>\n",
       "      <td>{15}</td>\n",
       "      <td>{}</td>\n",
       "      <td>{2, 3}</td>\n",
       "      <td>{3, 4, 5}</td>\n",
       "      <td>{4, 5}</td>\n",
       "      <td>{}</td>\n",
       "      <td>{}</td>\n",
       "      <td>{0}</td>\n",
       "      <td>{}</td>\n",
       "      <td>{}</td>\n",
       "      <td>{}</td>\n",
       "      <td>{}</td>\n",
       "      <td>{0, 2, 3, 4, 5, 6, 15}</td>\n",
       "      <td>{0}</td>\n",
       "      <td>{2, 3, 4, 5, 6, 15}</td>\n",
       "      <td>{0, 6, 15}</td>\n",
       "    </tr>\n",
       "    <tr>\n",
       "      <th>2</th>\n",
       "      <td>{2}</td>\n",
       "      <td>{1, 3}</td>\n",
       "      <td>{0, 4, 5}</td>\n",
       "      <td>{6}</td>\n",
       "      <td>{15}</td>\n",
       "      <td>{}</td>\n",
       "      <td>{3}</td>\n",
       "      <td>{4, 5}</td>\n",
       "      <td>{}</td>\n",
       "      <td>{}</td>\n",
       "      <td>{}</td>\n",
       "      <td>{1}</td>\n",
       "      <td>{0}</td>\n",
       "      <td>{}</td>\n",
       "      <td>{}</td>\n",
       "      <td>{}</td>\n",
       "      <td>{0, 1, 3, 4, 5, 6, 15}</td>\n",
       "      <td>{0, 1}</td>\n",
       "      <td>{3, 4, 5, 6, 15}</td>\n",
       "      <td>{0, 1, 6, 15}</td>\n",
       "    </tr>\n",
       "    <tr>\n",
       "      <th>3</th>\n",
       "      <td>{3}</td>\n",
       "      <td>{1, 2, 4, 5}</td>\n",
       "      <td>{0, 6}</td>\n",
       "      <td>{15}</td>\n",
       "      <td>{}</td>\n",
       "      <td>{}</td>\n",
       "      <td>{4, 5}</td>\n",
       "      <td>{}</td>\n",
       "      <td>{}</td>\n",
       "      <td>{}</td>\n",
       "      <td>{}</td>\n",
       "      <td>{1, 2}</td>\n",
       "      <td>{0, 1}</td>\n",
       "      <td>{0}</td>\n",
       "      <td>{}</td>\n",
       "      <td>{}</td>\n",
       "      <td>{0, 1, 2, 4, 5, 6, 15}</td>\n",
       "      <td>{0, 1, 2}</td>\n",
       "      <td>{4, 5, 6, 15}</td>\n",
       "      <td>{0, 1, 2, 6, 15}</td>\n",
       "    </tr>\n",
       "    <tr>\n",
       "      <th>4</th>\n",
       "      <td>{4}</td>\n",
       "      <td>{3}</td>\n",
       "      <td>{1, 2, 5}</td>\n",
       "      <td>{0, 6}</td>\n",
       "      <td>{15}</td>\n",
       "      <td>{}</td>\n",
       "      <td>{}</td>\n",
       "      <td>{}</td>\n",
       "      <td>{}</td>\n",
       "      <td>{}</td>\n",
       "      <td>{}</td>\n",
       "      <td>{3}</td>\n",
       "      <td>{1, 2}</td>\n",
       "      <td>{0, 1}</td>\n",
       "      <td>{0}</td>\n",
       "      <td>{}</td>\n",
       "      <td>{0, 1, 2, 3, 5, 6, 15}</td>\n",
       "      <td>{0, 1, 2, 3}</td>\n",
       "      <td>{5, 6, 15}</td>\n",
       "      <td>{0, 1, 2, 3, 5, 6, 15}</td>\n",
       "    </tr>\n",
       "    <tr>\n",
       "      <th>5</th>\n",
       "      <td>{5}</td>\n",
       "      <td>{3, 6}</td>\n",
       "      <td>{1, 2, 4, 15}</td>\n",
       "      <td>{0}</td>\n",
       "      <td>{}</td>\n",
       "      <td>{}</td>\n",
       "      <td>{}</td>\n",
       "      <td>{}</td>\n",
       "      <td>{}</td>\n",
       "      <td>{}</td>\n",
       "      <td>{}</td>\n",
       "      <td>{3, 6}</td>\n",
       "      <td>{1, 2, 15}</td>\n",
       "      <td>{0, 1}</td>\n",
       "      <td>{0}</td>\n",
       "      <td>{}</td>\n",
       "      <td>{0, 1, 2, 3, 4, 6, 15}</td>\n",
       "      <td>{0, 1, 2, 3, 6, 15}</td>\n",
       "      <td>{4}</td>\n",
       "      <td>{0, 1, 2, 3, 4, 6, 15}</td>\n",
       "    </tr>\n",
       "    <tr>\n",
       "      <th>6</th>\n",
       "      <td>{6}</td>\n",
       "      <td>{5, 15}</td>\n",
       "      <td>{3}</td>\n",
       "      <td>{1, 2, 4}</td>\n",
       "      <td>{0}</td>\n",
       "      <td>{}</td>\n",
       "      <td>{5}</td>\n",
       "      <td>{}</td>\n",
       "      <td>{}</td>\n",
       "      <td>{}</td>\n",
       "      <td>{}</td>\n",
       "      <td>{15}</td>\n",
       "      <td>{}</td>\n",
       "      <td>{}</td>\n",
       "      <td>{}</td>\n",
       "      <td>{}</td>\n",
       "      <td>{0, 1, 2, 3, 4, 5, 15}</td>\n",
       "      <td>{15}</td>\n",
       "      <td>{0, 1, 2, 3, 4, 5}</td>\n",
       "      <td>{0, 1, 2, 3, 4, 15}</td>\n",
       "    </tr>\n",
       "    <tr>\n",
       "      <th>7</th>\n",
       "      <td>{15}</td>\n",
       "      <td>{6}</td>\n",
       "      <td>{5}</td>\n",
       "      <td>{3}</td>\n",
       "      <td>{1, 2, 4}</td>\n",
       "      <td>{0}</td>\n",
       "      <td>{6}</td>\n",
       "      <td>{5}</td>\n",
       "      <td>{}</td>\n",
       "      <td>{}</td>\n",
       "      <td>{}</td>\n",
       "      <td>{}</td>\n",
       "      <td>{}</td>\n",
       "      <td>{}</td>\n",
       "      <td>{}</td>\n",
       "      <td>{}</td>\n",
       "      <td>{0, 1, 2, 3, 4, 5, 6}</td>\n",
       "      <td>{}</td>\n",
       "      <td>{0, 1, 2, 3, 4, 5, 6}</td>\n",
       "      <td>{0, 1, 2, 3, 4}</td>\n",
       "    </tr>\n",
       "  </tbody>\n",
       "</table>\n",
       "</div>"
      ],
      "text/plain": [
       "  source   1-neighbors    2-neighbors 3-neighbors 4-neighbors 5-neighbors  \\\n",
       "0    {0}           {1}         {2, 3}      {4, 5}         {6}        {15}   \n",
       "1    {1}     {0, 2, 3}         {4, 5}         {6}        {15}          {}   \n",
       "2    {2}        {1, 3}      {0, 4, 5}         {6}        {15}          {}   \n",
       "3    {3}  {1, 2, 4, 5}         {0, 6}        {15}          {}          {}   \n",
       "4    {4}           {3}      {1, 2, 5}      {0, 6}        {15}          {}   \n",
       "5    {5}        {3, 6}  {1, 2, 4, 15}         {0}          {}          {}   \n",
       "6    {6}       {5, 15}            {3}   {1, 2, 4}         {0}          {}   \n",
       "7   {15}           {6}            {5}         {3}   {1, 2, 4}         {0}   \n",
       "\n",
       "  1-children 2-children 3-children 4-children 5-children 1-parents  \\\n",
       "0        {1}     {2, 3}  {3, 4, 5}     {4, 5}         {}        {}   \n",
       "1     {2, 3}  {3, 4, 5}     {4, 5}         {}         {}       {0}   \n",
       "2        {3}     {4, 5}         {}         {}         {}       {1}   \n",
       "3     {4, 5}         {}         {}         {}         {}    {1, 2}   \n",
       "4         {}         {}         {}         {}         {}       {3}   \n",
       "5         {}         {}         {}         {}         {}    {3, 6}   \n",
       "6        {5}         {}         {}         {}         {}      {15}   \n",
       "7        {6}        {5}         {}         {}         {}        {}   \n",
       "\n",
       "    2-parents 3-parents 4-parents 5-parents                  family  \\\n",
       "0          {}        {}        {}        {}  {1, 2, 3, 4, 5, 6, 15}   \n",
       "1          {}        {}        {}        {}  {0, 2, 3, 4, 5, 6, 15}   \n",
       "2         {0}        {}        {}        {}  {0, 1, 3, 4, 5, 6, 15}   \n",
       "3      {0, 1}       {0}        {}        {}  {0, 1, 2, 4, 5, 6, 15}   \n",
       "4      {1, 2}    {0, 1}       {0}        {}  {0, 1, 2, 3, 5, 6, 15}   \n",
       "5  {1, 2, 15}    {0, 1}       {0}        {}  {0, 1, 2, 3, 4, 6, 15}   \n",
       "6          {}        {}        {}        {}  {0, 1, 2, 3, 4, 5, 15}   \n",
       "7          {}        {}        {}        {}   {0, 1, 2, 3, 4, 5, 6}   \n",
       "\n",
       "               parents  family_without_parents family_without_children  \n",
       "0                   {}  {1, 2, 3, 4, 5, 6, 15}                 {6, 15}  \n",
       "1                  {0}     {2, 3, 4, 5, 6, 15}              {0, 6, 15}  \n",
       "2               {0, 1}        {3, 4, 5, 6, 15}           {0, 1, 6, 15}  \n",
       "3            {0, 1, 2}           {4, 5, 6, 15}        {0, 1, 2, 6, 15}  \n",
       "4         {0, 1, 2, 3}              {5, 6, 15}  {0, 1, 2, 3, 5, 6, 15}  \n",
       "5  {0, 1, 2, 3, 6, 15}                     {4}  {0, 1, 2, 3, 4, 6, 15}  \n",
       "6                 {15}      {0, 1, 2, 3, 4, 5}     {0, 1, 2, 3, 4, 15}  \n",
       "7                   {}   {0, 1, 2, 3, 4, 5, 6}         {0, 1, 2, 3, 4}  "
      ]
     },
     "metadata": {},
     "output_type": "display_data"
    }
   ],
   "source": [
    "def get_family(ontology_edge_index, max_dist):\n",
    "    \"\"\"\n",
    "    Constructs a family graph up to a certain distance from a given ontology edge index.\n",
    "\n",
    "    Parameters:\n",
    "    - ontology_edge_index (torch.Tensor) : Edge index tensor representing the ontology graph.\n",
    "    - max_dist (int)                     : Maximum distance to traverse to construct the family graph.      \n",
    "\n",
    "    Returns:\n",
    "    - df (pandas.DataFrame): DataFrame containing information about the family graph.\n",
    "                                Columns:\n",
    "                                    - source                   : The source node of the row.\n",
    "                                    - {dist}-neighbors         : Set of neighbors at distance 'dist' from the source node.\n",
    "                                    - {dist}-parents           : Set of parents at distance 'dist' from the source node.\n",
    "                                    - {dist}-children          : Set of children at distance 'dist' from the source node.\n",
    "                                    - family                   : Set of all neighbors up to distance 'max_dist' for the source node.\n",
    "                                    - parents                  : Set of all parents up to distance 'max_dist' for the source node.\n",
    "                                    - family_without_parents   : Set of family members excluding parents for the source node.\n",
    "                                    - family_without_children  : Set of family members excluding children for the source node.\n",
    "    \"\"\"\n",
    "    # Init Graph\n",
    "    G = nx.DiGraph()\n",
    "    for s, d in zip(ontology_edge_index[0].tolist(), ontology_edge_index[1].tolist()):\n",
    "        G.add_edge(s, d)\n",
    "\n",
    "    if not nx.is_directed(G):\n",
    "        raise Exception(\"Graph should be directed.\")\n",
    "\n",
    "    # Listing terms\n",
    "    all_terms =  torch.cat([ontology_edge_index[0], ontology_edge_index[1]]).unique().tolist()\n",
    "    # print(all_terms)\n",
    "    df = pd.DataFrame(all_terms, columns=['source'])\n",
    "    df['source']      = df.apply(lambda row : set([int(row['source'])]), axis = 1)\n",
    "    df['1-neighbors'] = df.apply(lambda row : neighbors_for_nodes(graph = G, nodes = row['source']), axis=1)\n",
    "    df['1-parents']   = df.apply(lambda row : predecessors_for_nodes(graph = G, nodes = row['source']), axis=1)\n",
    "    df['1-children']  = df.apply(lambda row : successors_for_nodes(graph = G, nodes = row['source']), axis=1)\n",
    "\n",
    "    for dist in range(2, max_dist+1):\n",
    "\n",
    "        step = f'Distance {dist}/{max_dist}'\n",
    "        print(step)\n",
    "\n",
    "        tqdm.pandas(desc=f'Making dist {dist}-neighbors ')\n",
    "        df[f'{dist}-neighbors'] = df.progress_apply(lambda row : neighbors_for_nodes(graph = G, nodes = row[f'{dist-1}-neighbors'])-set.union(*[row[f'{d}-neighbors'] for d in range(1,dist)])-row['source'],axis = 1)\n",
    "\n",
    "        tqdm.pandas(desc=f'Making dist {dist}-parents   ')\n",
    "        df[f'{dist}-parents'] = df.progress_apply(lambda row : predecessors_for_nodes(graph = G, nodes = row[f'{dist-1}-parents']),axis = 1)\n",
    "\n",
    "        tqdm.pandas(desc=f'Making dist {dist}-children  ')\n",
    "        df[f'{dist}-children'] = df.progress_apply(lambda row : successors_for_nodes(graph = G, nodes = row[f'{dist-1}-children']),axis = 1)\n",
    "        \n",
    "        # display(df)\n",
    "    \n",
    "    step = f'{max_dist}-family acquired.'\n",
    "    print(step)\n",
    "    tqdm.pandas(desc=f'Calculating family      ')\n",
    "    df['family'] = df.progress_apply(lambda row: set.union(*[row[f'{dist}-neighbors'] for dist in range(1, max_dist+1)]) - (row['source']), axis = 1)\n",
    "    \n",
    "    tqdm.pandas(desc=f'Calculating children    ')\n",
    "    df['children'] = df.progress_apply(lambda row: set.union(*[row[f'{dist}-children'] for dist in range(1, max_dist+1)]), axis = 1)\n",
    "\n",
    "    tqdm.pandas(desc=f'Calculating parents     ')\n",
    "    df['parents'] = df.progress_apply(lambda row: set.union(*[row[f'{dist}-parents'] for dist in range(1, max_dist+1)]), axis = 1)\n",
    "    \n",
    "    tqdm.pandas(desc=f'Calculating exclusion   ')\n",
    "    df['family_without_parents'] = df.progress_apply(lambda row: row['family']- set.union(*[row[f'{dist}-parents'] for dist in range(1, max_dist+1)]), axis = 1)\n",
    "\n",
    "    tqdm.pandas(desc=f'Calculating exclusion   ')\n",
    "    df['family_without_children'] = df.progress_apply(lambda row: row['family']- set.union(*[row[f'{dist}-children'] for dist in range(1, max_dist+1)]), axis = 1)\n",
    "\n",
    "\n",
    "    # tqdm.pandas(desc=f'Calculating lineage          ')\n",
    "    # df['lineage'] = df.progress_apply(lambda row: set.union(*[row[f'{dist}-children'] for dist in range(1, max_dist+1)]+\n",
    "    #                                                          [row[f'{dist}-parents'] for dist in range(1, max_dist+1)] +\n",
    "    #                                                          [row['source']]),axis=1)\n",
    "    # tqdm.pandas(desc=f'Calculating family - lineage ')\n",
    "    # df['family_without_lineage'] = df.progress_apply(lambda row: set.union(*[row[f'{dist}-neighbors'] for dist in range(1, max_dist+1)]) - row['lineage'],axis=1)\n",
    "    # display(df)\n",
    "\n",
    "    # Re-ordering columns :\n",
    "    dists = range(1, max_dist+1)\n",
    "    df = df[['source'] + [f'{dist}-neighbors' for dist in dists]+\n",
    "                         [f'{dist}-children' for dist in dists] +\n",
    "                         [f'{dist}-parents' for dist in dists]  + \n",
    "                         ['family',\n",
    "                          'parents', \n",
    "                          'family_without_parents', \n",
    "                          'family_without_children'\n",
    "                          ]]\n",
    "    \n",
    "    return df\n",
    "\n",
    "def plot_graph(edge_index):\n",
    "    G = nx.DiGraph()\n",
    "    G.add_edges_from(edge_index.t().tolist())\n",
    "\n",
    "    pos = nx.spring_layout(G, iterations=50, seed = 1)\n",
    "    nx.draw(G, pos, with_labels=True, node_color='skyblue', node_size=800, arrows=True)\n",
    "    plt.title(\"Directed Acyclic Graph (DAG)\")\n",
    "    plt.show()\n",
    "\n",
    "edge_index = torch.tensor([[0, 1, 1, 2, 3, 3, 6, 15],   # Liste des départs des arêtes\n",
    "                           [1, 2, 3, 3, 4, 5, 5, 6 ]],  # Liste des arrivées des arêtes\n",
    "                          dtype=torch.long)\n",
    "plot_graph(edge_index)\n",
    "f = get_family(edge_index, 5)\n",
    "display(f)"
   ]
  },
  {
   "cell_type": "code",
   "execution_count": 18,
   "metadata": {},
   "outputs": [
    {
     "name": "stdout",
     "output_type": "stream",
     "text": [
      "Distance 2/3\n"
     ]
    },
    {
     "name": "stderr",
     "output_type": "stream",
     "text": [
      "Making dist 2-neighbors : 100%|██████████| 42769/42769 [00:03<00:00, 13614.21it/s]\n",
      "Making dist 2-parents   : 100%|██████████| 42769/42769 [00:01<00:00, 41072.70it/s]\n",
      "Making dist 2-children  : 100%|██████████| 42769/42769 [00:01<00:00, 41693.07it/s]\n"
     ]
    },
    {
     "name": "stdout",
     "output_type": "stream",
     "text": [
      "Distance 3/3\n"
     ]
    },
    {
     "name": "stderr",
     "output_type": "stream",
     "text": [
      "Making dist 3-neighbors : 100%|██████████| 42769/42769 [00:16<00:00, 2598.45it/s]\n",
      "Making dist 3-parents   : 100%|██████████| 42769/42769 [00:00<00:00, 47972.93it/s]\n",
      "Making dist 3-children  : 100%|██████████| 42769/42769 [00:00<00:00, 59181.17it/s]\n"
     ]
    },
    {
     "name": "stdout",
     "output_type": "stream",
     "text": [
      "3-family acquired.\n"
     ]
    },
    {
     "name": "stderr",
     "output_type": "stream",
     "text": [
      "Calculating family      : 100%|██████████| 42769/42769 [00:04<00:00, 9196.67it/s] \n",
      "Calculating children    : 100%|██████████| 42769/42769 [00:01<00:00, 33952.39it/s]\n",
      "Calculating parents     : 100%|██████████| 42769/42769 [00:08<00:00, 5253.77it/s] \n",
      "Calculating exclusion   : 100%|██████████| 42769/42769 [00:04<00:00, 9017.56it/s] \n",
      "Calculating exclusion   : 100%|██████████| 42769/42769 [00:05<00:00, 7347.50it/s] \n"
     ]
    }
   ],
   "source": [
    "GO_family_df = get_family(GO_edge_index, 3)"
   ]
  },
  {
   "cell_type": "code",
   "execution_count": 19,
   "metadata": {},
   "outputs": [
    {
     "data": {
      "text/html": [
       "<div>\n",
       "<style scoped>\n",
       "    .dataframe tbody tr th:only-of-type {\n",
       "        vertical-align: middle;\n",
       "    }\n",
       "\n",
       "    .dataframe tbody tr th {\n",
       "        vertical-align: top;\n",
       "    }\n",
       "\n",
       "    .dataframe thead th {\n",
       "        text-align: right;\n",
       "    }\n",
       "</style>\n",
       "<table border=\"1\" class=\"dataframe\">\n",
       "  <thead>\n",
       "    <tr style=\"text-align: right;\">\n",
       "      <th></th>\n",
       "      <th>source</th>\n",
       "      <th>1-neighbors</th>\n",
       "      <th>2-neighbors</th>\n",
       "      <th>3-neighbors</th>\n",
       "      <th>1-children</th>\n",
       "      <th>2-children</th>\n",
       "      <th>3-children</th>\n",
       "      <th>1-parents</th>\n",
       "      <th>2-parents</th>\n",
       "      <th>3-parents</th>\n",
       "      <th>family</th>\n",
       "      <th>parents</th>\n",
       "      <th>family_without_parents</th>\n",
       "      <th>family_without_children</th>\n",
       "    </tr>\n",
       "  </thead>\n",
       "  <tbody>\n",
       "    <tr>\n",
       "      <th>0</th>\n",
       "      <td>{0}</td>\n",
       "      <td>{7034}</td>\n",
       "      <td>{27138, 33795, 39172, 16132, 775, 25097, 27658...</td>\n",
       "      <td>{21504, 32258, 35335, 22536, 19463, 20999, 230...</td>\n",
       "      <td>{7034}</td>\n",
       "      <td>{41512, 37313}</td>\n",
       "      <td>{33824}</td>\n",
       "      <td>{}</td>\n",
       "      <td>{}</td>\n",
       "      <td>{}</td>\n",
       "      <td>{21504, 27138, 33795, 32258, 35335, 22536, 250...</td>\n",
       "      <td>{}</td>\n",
       "      <td>{21504, 27138, 33795, 32258, 35335, 22536, 250...</td>\n",
       "      <td>{21504, 27138, 33795, 32258, 35335, 22536, 250...</td>\n",
       "    </tr>\n",
       "    <tr>\n",
       "      <th>1</th>\n",
       "      <td>{1}</td>\n",
       "      <td>{18545, 41826, 22116, 5528, 20009, 18716, 11725}</td>\n",
       "      <td>{7044, 10246, 6920, 35914, 1937, 41681, 26387,...</td>\n",
       "      <td>{39429, 11, 23053, 15374, 6670, 28693, 33790, ...</td>\n",
       "      <td>{41826}</td>\n",
       "      <td>{29729, 2663}</td>\n",
       "      <td>{2451}</td>\n",
       "      <td>{18545, 22116, 5528, 20009, 18716, 11725}</td>\n",
       "      <td>{6920, 23724, 5678, 1937, 41681, 26387, 7477, ...</td>\n",
       "      <td>{38801, 17958, 6670}</td>\n",
       "      <td>{39429, 10246, 11, 23053, 15374, 6670, 28693, ...</td>\n",
       "      <td>{22116, 17958, 6920, 20009, 23724, 11725, 5678...</td>\n",
       "      <td>{39429, 10246, 11, 23053, 15374, 28693, 28183,...</td>\n",
       "      <td>{39429, 10246, 11, 23053, 15374, 6670, 28693, ...</td>\n",
       "    </tr>\n",
       "    <tr>\n",
       "      <th>2</th>\n",
       "      <td>{2}</td>\n",
       "      <td>{24959}</td>\n",
       "      <td>{39088, 6310}</td>\n",
       "      <td>{12695, 18820, 38663, 26346, 35307, 20751, 722...</td>\n",
       "      <td>{24959}</td>\n",
       "      <td>{39088}</td>\n",
       "      <td>{18820}</td>\n",
       "      <td>{}</td>\n",
       "      <td>{}</td>\n",
       "      <td>{}</td>\n",
       "      <td>{18820, 6310, 38663, 26346, 35307, 20751, 3908...</td>\n",
       "      <td>{}</td>\n",
       "      <td>{18820, 6310, 38663, 26346, 35307, 20751, 3908...</td>\n",
       "      <td>{12695, 6310, 38663, 26346, 35307, 20751, 7220...</td>\n",
       "    </tr>\n",
       "    <tr>\n",
       "      <th>3</th>\n",
       "      <td>{3}</td>\n",
       "      <td>{7947}</td>\n",
       "      <td>{1825, 15429, 40394, 16684, 23790, 27987, 1071...</td>\n",
       "      <td>{30507, 40297, 6795, 8905}</td>\n",
       "      <td>{7947}</td>\n",
       "      <td>{23790}</td>\n",
       "      <td>{6795}</td>\n",
       "      <td>{}</td>\n",
       "      <td>{}</td>\n",
       "      <td>{}</td>\n",
       "      <td>{1825, 15429, 40297, 40394, 7947, 16684, 30507...</td>\n",
       "      <td>{}</td>\n",
       "      <td>{1825, 15429, 40297, 40394, 7947, 16684, 30507...</td>\n",
       "      <td>{1825, 15429, 40297, 40394, 30507, 16684, 8905...</td>\n",
       "    </tr>\n",
       "    <tr>\n",
       "      <th>4</th>\n",
       "      <td>{4}</td>\n",
       "      <td>{37438}</td>\n",
       "      <td>{35542, 40310}</td>\n",
       "      <td>{26244, 7439}</td>\n",
       "      <td>{37438}</td>\n",
       "      <td>{35542, 40310}</td>\n",
       "      <td>{26244, 7439}</td>\n",
       "      <td>{}</td>\n",
       "      <td>{}</td>\n",
       "      <td>{}</td>\n",
       "      <td>{26244, 7439, 35542, 40310, 37438}</td>\n",
       "      <td>{}</td>\n",
       "      <td>{26244, 35542, 40310, 37438, 7439}</td>\n",
       "      <td>{}</td>\n",
       "    </tr>\n",
       "    <tr>\n",
       "      <th>...</th>\n",
       "      <td>...</td>\n",
       "      <td>...</td>\n",
       "      <td>...</td>\n",
       "      <td>...</td>\n",
       "      <td>...</td>\n",
       "      <td>...</td>\n",
       "      <td>...</td>\n",
       "      <td>...</td>\n",
       "      <td>...</td>\n",
       "      <td>...</td>\n",
       "      <td>...</td>\n",
       "      <td>...</td>\n",
       "      <td>...</td>\n",
       "      <td>...</td>\n",
       "    </tr>\n",
       "    <tr>\n",
       "      <th>42764</th>\n",
       "      <td>{42974}</td>\n",
       "      <td>{40438, 30886, 16088, 25372, 4781}</td>\n",
       "      <td>{8326, 24779, 11437, 37369, 19284, 4857, 30874...</td>\n",
       "      <td>{1537, 2061, 6158, 2062, 15377, 34321, 9747, 2...</td>\n",
       "      <td>{16088}</td>\n",
       "      <td>{11437}</td>\n",
       "      <td>{21248}</td>\n",
       "      <td>{40438, 25372, 4781, 30886}</td>\n",
       "      <td>{30874}</td>\n",
       "      <td>{}</td>\n",
       "      <td>{2061, 6158, 2062, 15377, 22, 38936, 27673, 22...</td>\n",
       "      <td>{40438, 30886, 30874, 25372, 4781}</td>\n",
       "      <td>{2061, 6158, 2062, 15377, 22, 38936, 27673, 22...</td>\n",
       "      <td>{2061, 6158, 2062, 15377, 22, 38936, 27673, 22...</td>\n",
       "    </tr>\n",
       "    <tr>\n",
       "      <th>42765</th>\n",
       "      <td>{42975}</td>\n",
       "      <td>{4102}</td>\n",
       "      <td>{11205, 7437, 7442, 37459, 30485, 12311, 7578,...</td>\n",
       "      <td>{41089, 5636, 9861, 40198, 28167, 38919, 29833...</td>\n",
       "      <td>{4102}</td>\n",
       "      <td>{1590, 33150}</td>\n",
       "      <td>{200, 29626, 33294}</td>\n",
       "      <td>{}</td>\n",
       "      <td>{}</td>\n",
       "      <td>{}</td>\n",
       "      <td>{5636, 4102, 40198, 28167, 38919, 7437, 2317, ...</td>\n",
       "      <td>{}</td>\n",
       "      <td>{5636, 4102, 40198, 28167, 38919, 7437, 2317, ...</td>\n",
       "      <td>{5636, 40198, 28167, 38919, 7437, 2317, 7442, ...</td>\n",
       "    </tr>\n",
       "    <tr>\n",
       "      <th>42766</th>\n",
       "      <td>{42976}</td>\n",
       "      <td>{16456, 32937, 8803, 11620}</td>\n",
       "      <td>{16961, 12874, 5198, 9550, 10255, 36247, 26653...</td>\n",
       "      <td>{10881, 19970, 21378, 12296, 34061, 37646, 402...</td>\n",
       "      <td>{16456, 8803, 11620}</td>\n",
       "      <td>{7712, 36247, 9003, 10255}</td>\n",
       "      <td>{2027, 26038, 36247}</td>\n",
       "      <td>{32937}</td>\n",
       "      <td>{}</td>\n",
       "      <td>{}</td>\n",
       "      <td>{19970, 12296, 34061, 37646, 10255, 40208, 274...</td>\n",
       "      <td>{32937}</td>\n",
       "      <td>{19970, 12296, 34061, 37646, 10255, 40208, 274...</td>\n",
       "      <td>{19970, 12296, 34061, 37646, 40208, 27414, 770...</td>\n",
       "    </tr>\n",
       "    <tr>\n",
       "      <th>42767</th>\n",
       "      <td>{42977}</td>\n",
       "      <td>{35276, 3062}</td>\n",
       "      <td>{12194, 34629, 6151, 34984, 23369, 39470, 6607...</td>\n",
       "      <td>{3585, 27142, 24583, 27144, 41994, 22028, 1435...</td>\n",
       "      <td>{35276, 3062}</td>\n",
       "      <td>{36273, 12194, 16693, 34984, 23369, 9052, 6607}</td>\n",
       "      <td>{38214, 30952, 393, 34233, 22028, 22476, 31725...</td>\n",
       "      <td>{}</td>\n",
       "      <td>{}</td>\n",
       "      <td>{}</td>\n",
       "      <td>{3585, 27142, 6151, 24583, 27144, 41994, 22028...</td>\n",
       "      <td>{}</td>\n",
       "      <td>{3585, 27142, 6151, 24583, 27144, 41994, 22028...</td>\n",
       "      <td>{3585, 27142, 6151, 24583, 27144, 41994, 14351...</td>\n",
       "    </tr>\n",
       "    <tr>\n",
       "      <th>42768</th>\n",
       "      <td>{42978}</td>\n",
       "      <td>{25440, 13001, 12834, 20051}</td>\n",
       "      <td>{32256, 9733, 32267, 11275, 41995, 21518, 2407...</td>\n",
       "      <td>{1024, 41992, 27663, 1048, 23577, 33818, 30745...</td>\n",
       "      <td>{25440, 12834, 20051}</td>\n",
       "      <td>{16930, 2263, 3208, 22571, 35869}</td>\n",
       "      <td>{7347, 27206, 22571, 35869}</td>\n",
       "      <td>{13001}</td>\n",
       "      <td>{}</td>\n",
       "      <td>{}</td>\n",
       "      <td>{1024, 41992, 11275, 41995, 21518, 27663, 1333...</td>\n",
       "      <td>{13001}</td>\n",
       "      <td>{1024, 41992, 11275, 41995, 21518, 27663, 1333...</td>\n",
       "      <td>{1024, 41992, 11275, 41995, 21518, 27663, 1333...</td>\n",
       "    </tr>\n",
       "  </tbody>\n",
       "</table>\n",
       "<p>42769 rows × 14 columns</p>\n",
       "</div>"
      ],
      "text/plain": [
       "        source                                       1-neighbors  \\\n",
       "0          {0}                                            {7034}   \n",
       "1          {1}  {18545, 41826, 22116, 5528, 20009, 18716, 11725}   \n",
       "2          {2}                                           {24959}   \n",
       "3          {3}                                            {7947}   \n",
       "4          {4}                                           {37438}   \n",
       "...        ...                                               ...   \n",
       "42764  {42974}                {40438, 30886, 16088, 25372, 4781}   \n",
       "42765  {42975}                                            {4102}   \n",
       "42766  {42976}                       {16456, 32937, 8803, 11620}   \n",
       "42767  {42977}                                     {35276, 3062}   \n",
       "42768  {42978}                      {25440, 13001, 12834, 20051}   \n",
       "\n",
       "                                             2-neighbors  \\\n",
       "0      {27138, 33795, 39172, 16132, 775, 25097, 27658...   \n",
       "1      {7044, 10246, 6920, 35914, 1937, 41681, 26387,...   \n",
       "2                                          {39088, 6310}   \n",
       "3      {1825, 15429, 40394, 16684, 23790, 27987, 1071...   \n",
       "4                                         {35542, 40310}   \n",
       "...                                                  ...   \n",
       "42764  {8326, 24779, 11437, 37369, 19284, 4857, 30874...   \n",
       "42765  {11205, 7437, 7442, 37459, 30485, 12311, 7578,...   \n",
       "42766  {16961, 12874, 5198, 9550, 10255, 36247, 26653...   \n",
       "42767  {12194, 34629, 6151, 34984, 23369, 39470, 6607...   \n",
       "42768  {32256, 9733, 32267, 11275, 41995, 21518, 2407...   \n",
       "\n",
       "                                             3-neighbors  \\\n",
       "0      {21504, 32258, 35335, 22536, 19463, 20999, 230...   \n",
       "1      {39429, 11, 23053, 15374, 6670, 28693, 33790, ...   \n",
       "2      {12695, 18820, 38663, 26346, 35307, 20751, 722...   \n",
       "3                             {30507, 40297, 6795, 8905}   \n",
       "4                                          {26244, 7439}   \n",
       "...                                                  ...   \n",
       "42764  {1537, 2061, 6158, 2062, 15377, 34321, 9747, 2...   \n",
       "42765  {41089, 5636, 9861, 40198, 28167, 38919, 29833...   \n",
       "42766  {10881, 19970, 21378, 12296, 34061, 37646, 402...   \n",
       "42767  {3585, 27142, 24583, 27144, 41994, 22028, 1435...   \n",
       "42768  {1024, 41992, 27663, 1048, 23577, 33818, 30745...   \n",
       "\n",
       "                  1-children                                       2-children  \\\n",
       "0                     {7034}                                   {41512, 37313}   \n",
       "1                    {41826}                                    {29729, 2663}   \n",
       "2                    {24959}                                          {39088}   \n",
       "3                     {7947}                                          {23790}   \n",
       "4                    {37438}                                   {35542, 40310}   \n",
       "...                      ...                                              ...   \n",
       "42764                {16088}                                          {11437}   \n",
       "42765                 {4102}                                    {1590, 33150}   \n",
       "42766   {16456, 8803, 11620}                       {7712, 36247, 9003, 10255}   \n",
       "42767          {35276, 3062}  {36273, 12194, 16693, 34984, 23369, 9052, 6607}   \n",
       "42768  {25440, 12834, 20051}                {16930, 2263, 3208, 22571, 35869}   \n",
       "\n",
       "                                              3-children  \\\n",
       "0                                                {33824}   \n",
       "1                                                 {2451}   \n",
       "2                                                {18820}   \n",
       "3                                                 {6795}   \n",
       "4                                          {26244, 7439}   \n",
       "...                                                  ...   \n",
       "42764                                            {21248}   \n",
       "42765                                {200, 29626, 33294}   \n",
       "42766                               {2027, 26038, 36247}   \n",
       "42767  {38214, 30952, 393, 34233, 22028, 22476, 31725...   \n",
       "42768                        {7347, 27206, 22571, 35869}   \n",
       "\n",
       "                                       1-parents  \\\n",
       "0                                             {}   \n",
       "1      {18545, 22116, 5528, 20009, 18716, 11725}   \n",
       "2                                             {}   \n",
       "3                                             {}   \n",
       "4                                             {}   \n",
       "...                                          ...   \n",
       "42764                {40438, 25372, 4781, 30886}   \n",
       "42765                                         {}   \n",
       "42766                                    {32937}   \n",
       "42767                                         {}   \n",
       "42768                                    {13001}   \n",
       "\n",
       "                                               2-parents  \\\n",
       "0                                                     {}   \n",
       "1      {6920, 23724, 5678, 1937, 41681, 26387, 7477, ...   \n",
       "2                                                     {}   \n",
       "3                                                     {}   \n",
       "4                                                     {}   \n",
       "...                                                  ...   \n",
       "42764                                            {30874}   \n",
       "42765                                                 {}   \n",
       "42766                                                 {}   \n",
       "42767                                                 {}   \n",
       "42768                                                 {}   \n",
       "\n",
       "                  3-parents  \\\n",
       "0                        {}   \n",
       "1      {38801, 17958, 6670}   \n",
       "2                        {}   \n",
       "3                        {}   \n",
       "4                        {}   \n",
       "...                     ...   \n",
       "42764                    {}   \n",
       "42765                    {}   \n",
       "42766                    {}   \n",
       "42767                    {}   \n",
       "42768                    {}   \n",
       "\n",
       "                                                  family  \\\n",
       "0      {21504, 27138, 33795, 32258, 35335, 22536, 250...   \n",
       "1      {39429, 10246, 11, 23053, 15374, 6670, 28693, ...   \n",
       "2      {18820, 6310, 38663, 26346, 35307, 20751, 3908...   \n",
       "3      {1825, 15429, 40297, 40394, 7947, 16684, 30507...   \n",
       "4                     {26244, 7439, 35542, 40310, 37438}   \n",
       "...                                                  ...   \n",
       "42764  {2061, 6158, 2062, 15377, 22, 38936, 27673, 22...   \n",
       "42765  {5636, 4102, 40198, 28167, 38919, 7437, 2317, ...   \n",
       "42766  {19970, 12296, 34061, 37646, 10255, 40208, 274...   \n",
       "42767  {3585, 27142, 6151, 24583, 27144, 41994, 22028...   \n",
       "42768  {1024, 41992, 11275, 41995, 21518, 27663, 1333...   \n",
       "\n",
       "                                                 parents  \\\n",
       "0                                                     {}   \n",
       "1      {22116, 17958, 6920, 20009, 23724, 11725, 5678...   \n",
       "2                                                     {}   \n",
       "3                                                     {}   \n",
       "4                                                     {}   \n",
       "...                                                  ...   \n",
       "42764                 {40438, 30886, 30874, 25372, 4781}   \n",
       "42765                                                 {}   \n",
       "42766                                            {32937}   \n",
       "42767                                                 {}   \n",
       "42768                                            {13001}   \n",
       "\n",
       "                                  family_without_parents  \\\n",
       "0      {21504, 27138, 33795, 32258, 35335, 22536, 250...   \n",
       "1      {39429, 10246, 11, 23053, 15374, 28693, 28183,...   \n",
       "2      {18820, 6310, 38663, 26346, 35307, 20751, 3908...   \n",
       "3      {1825, 15429, 40297, 40394, 7947, 16684, 30507...   \n",
       "4                     {26244, 35542, 40310, 37438, 7439}   \n",
       "...                                                  ...   \n",
       "42764  {2061, 6158, 2062, 15377, 22, 38936, 27673, 22...   \n",
       "42765  {5636, 4102, 40198, 28167, 38919, 7437, 2317, ...   \n",
       "42766  {19970, 12296, 34061, 37646, 10255, 40208, 274...   \n",
       "42767  {3585, 27142, 6151, 24583, 27144, 41994, 22028...   \n",
       "42768  {1024, 41992, 11275, 41995, 21518, 27663, 1333...   \n",
       "\n",
       "                                 family_without_children  \n",
       "0      {21504, 27138, 33795, 32258, 35335, 22536, 250...  \n",
       "1      {39429, 10246, 11, 23053, 15374, 6670, 28693, ...  \n",
       "2      {12695, 6310, 38663, 26346, 35307, 20751, 7220...  \n",
       "3      {1825, 15429, 40297, 40394, 30507, 16684, 8905...  \n",
       "4                                                     {}  \n",
       "...                                                  ...  \n",
       "42764  {2061, 6158, 2062, 15377, 22, 38936, 27673, 22...  \n",
       "42765  {5636, 40198, 28167, 38919, 7437, 2317, 7442, ...  \n",
       "42766  {19970, 12296, 34061, 37646, 40208, 27414, 770...  \n",
       "42767  {3585, 27142, 6151, 24583, 27144, 41994, 14351...  \n",
       "42768  {1024, 41992, 11275, 41995, 21518, 27663, 1333...  \n",
       "\n",
       "[42769 rows x 14 columns]"
      ]
     },
     "execution_count": 19,
     "metadata": {},
     "output_type": "execute_result"
    }
   ],
   "source": [
    "GO_family_df"
   ]
  },
  {
   "cell_type": "code",
   "execution_count": 20,
   "metadata": {},
   "outputs": [
    {
     "data": {
      "text/plain": [
       "['1-neighbors',\n",
       " '2-neighbors',\n",
       " '3-neighbors',\n",
       " '1-children',\n",
       " '2-children',\n",
       " '3-children',\n",
       " '1-parents',\n",
       " '2-parents',\n",
       " '3-parents',\n",
       " 'family',\n",
       " 'parents',\n",
       " 'family_without_parents',\n",
       " 'family_without_children']"
      ]
     },
     "execution_count": 20,
     "metadata": {},
     "output_type": "execute_result"
    }
   ],
   "source": [
    "l = list(GO_family_df.columns)\n",
    "l.remove('source')\n",
    "l"
   ]
  },
  {
   "cell_type": "code",
   "execution_count": 21,
   "metadata": {},
   "outputs": [],
   "source": [
    "def filter_set(s, threshold):\n",
    "    return {x for x in s if x <= threshold}\n",
    "\n",
    "cols = list(GO_family_df.columns)\n",
    "cols.remove('source')\n",
    "\n",
    "filterded_GO_family_df = GO_family_df[cols].map(lambda cell: filter_set(cell, 42964))\n",
    "filterded_GO_family_df['source']=GO_family_df['source'].copy()"
   ]
  },
  {
   "cell_type": "code",
   "execution_count": 22,
   "metadata": {},
   "outputs": [
    {
     "data": {
      "text/html": [
       "<div>\n",
       "<style scoped>\n",
       "    .dataframe tbody tr th:only-of-type {\n",
       "        vertical-align: middle;\n",
       "    }\n",
       "\n",
       "    .dataframe tbody tr th {\n",
       "        vertical-align: top;\n",
       "    }\n",
       "\n",
       "    .dataframe thead th {\n",
       "        text-align: right;\n",
       "    }\n",
       "</style>\n",
       "<table border=\"1\" class=\"dataframe\">\n",
       "  <thead>\n",
       "    <tr style=\"text-align: right;\">\n",
       "      <th></th>\n",
       "      <th>1-neighbors</th>\n",
       "      <th>2-neighbors</th>\n",
       "      <th>3-neighbors</th>\n",
       "      <th>1-children</th>\n",
       "      <th>2-children</th>\n",
       "      <th>3-children</th>\n",
       "      <th>1-parents</th>\n",
       "      <th>2-parents</th>\n",
       "      <th>3-parents</th>\n",
       "      <th>family</th>\n",
       "      <th>parents</th>\n",
       "      <th>family_without_parents</th>\n",
       "      <th>family_without_children</th>\n",
       "      <th>source</th>\n",
       "    </tr>\n",
       "  </thead>\n",
       "  <tbody>\n",
       "    <tr>\n",
       "      <th>0</th>\n",
       "      <td>{7034}</td>\n",
       "      <td>{27138, 33795, 25097, 27658, 18443, 4623, 3432...</td>\n",
       "      <td>{21504, 32258, 19463, 22536, 35335, 20999, 230...</td>\n",
       "      <td>{7034}</td>\n",
       "      <td>{41512, 37313}</td>\n",
       "      <td>{33824}</td>\n",
       "      <td>{}</td>\n",
       "      <td>{}</td>\n",
       "      <td>{}</td>\n",
       "      <td>{21504, 27138, 33795, 32258, 35335, 22536, 250...</td>\n",
       "      <td>{}</td>\n",
       "      <td>{21504, 27138, 33795, 32258, 35335, 22536, 250...</td>\n",
       "      <td>{21504, 27138, 33795, 32258, 35335, 22536, 250...</td>\n",
       "      <td>{0}</td>\n",
       "    </tr>\n",
       "    <tr>\n",
       "      <th>1</th>\n",
       "      <td>{41826, 22116, 20009, 11725, 18545, 5528, 18716}</td>\n",
       "      <td>{7044, 10246, 6920, 1937, 26387, 7832, 29728, ...</td>\n",
       "      <td>{39429, 11, 23053, 15374, 6670, 28693, 28183, ...</td>\n",
       "      <td>{41826}</td>\n",
       "      <td>{29729, 2663}</td>\n",
       "      <td>{2451}</td>\n",
       "      <td>{22116, 20009, 11725, 18545, 5528, 18716}</td>\n",
       "      <td>{6920, 23724, 5678, 1937, 41681, 26387, 7477, ...</td>\n",
       "      <td>{38801, 17958, 6670}</td>\n",
       "      <td>{39429, 10246, 11, 23053, 15374, 6670, 28693, ...</td>\n",
       "      <td>{22116, 17958, 6920, 20009, 23724, 11725, 5678...</td>\n",
       "      <td>{39429, 10246, 11, 23053, 15374, 28693, 33790,...</td>\n",
       "      <td>{39429, 10246, 11, 23053, 15374, 6670, 28693, ...</td>\n",
       "      <td>{1}</td>\n",
       "    </tr>\n",
       "    <tr>\n",
       "      <th>2</th>\n",
       "      <td>{24959}</td>\n",
       "      <td>{39088, 6310}</td>\n",
       "      <td>{18820, 38663, 26346, 35307, 20751, 7220, 2671...</td>\n",
       "      <td>{24959}</td>\n",
       "      <td>{39088}</td>\n",
       "      <td>{18820}</td>\n",
       "      <td>{}</td>\n",
       "      <td>{}</td>\n",
       "      <td>{}</td>\n",
       "      <td>{12695, 18820, 6310, 38663, 26346, 35307, 2075...</td>\n",
       "      <td>{}</td>\n",
       "      <td>{12695, 18820, 6310, 38663, 26346, 35307, 2075...</td>\n",
       "      <td>{6310, 38663, 26346, 35307, 20751, 7220, 26711...</td>\n",
       "      <td>{2}</td>\n",
       "    </tr>\n",
       "    <tr>\n",
       "      <th>3</th>\n",
       "      <td>{7947}</td>\n",
       "      <td>{1825, 15429, 40394, 16684, 23790, 27987, 1071...</td>\n",
       "      <td>{40297, 30507, 6795, 8905}</td>\n",
       "      <td>{7947}</td>\n",
       "      <td>{23790}</td>\n",
       "      <td>{6795}</td>\n",
       "      <td>{}</td>\n",
       "      <td>{}</td>\n",
       "      <td>{}</td>\n",
       "      <td>{1825, 15429, 40297, 40394, 7947, 16684, 30507...</td>\n",
       "      <td>{}</td>\n",
       "      <td>{1825, 15429, 40297, 40394, 7947, 16684, 30507...</td>\n",
       "      <td>{1825, 15429, 40297, 40394, 30507, 16684, 8905...</td>\n",
       "      <td>{3}</td>\n",
       "    </tr>\n",
       "    <tr>\n",
       "      <th>4</th>\n",
       "      <td>{37438}</td>\n",
       "      <td>{40310, 35542}</td>\n",
       "      <td>{26244, 7439}</td>\n",
       "      <td>{37438}</td>\n",
       "      <td>{40310, 35542}</td>\n",
       "      <td>{26244, 7439}</td>\n",
       "      <td>{}</td>\n",
       "      <td>{}</td>\n",
       "      <td>{}</td>\n",
       "      <td>{26244, 7439, 40310, 35542, 37438}</td>\n",
       "      <td>{}</td>\n",
       "      <td>{26244, 7439, 40310, 35542, 37438}</td>\n",
       "      <td>{}</td>\n",
       "      <td>{4}</td>\n",
       "    </tr>\n",
       "  </tbody>\n",
       "</table>\n",
       "</div>"
      ],
      "text/plain": [
       "                                        1-neighbors  \\\n",
       "0                                            {7034}   \n",
       "1  {41826, 22116, 20009, 11725, 18545, 5528, 18716}   \n",
       "2                                           {24959}   \n",
       "3                                            {7947}   \n",
       "4                                           {37438}   \n",
       "\n",
       "                                         2-neighbors  \\\n",
       "0  {27138, 33795, 25097, 27658, 18443, 4623, 3432...   \n",
       "1  {7044, 10246, 6920, 1937, 26387, 7832, 29728, ...   \n",
       "2                                      {39088, 6310}   \n",
       "3  {1825, 15429, 40394, 16684, 23790, 27987, 1071...   \n",
       "4                                     {40310, 35542}   \n",
       "\n",
       "                                         3-neighbors 1-children  \\\n",
       "0  {21504, 32258, 19463, 22536, 35335, 20999, 230...     {7034}   \n",
       "1  {39429, 11, 23053, 15374, 6670, 28693, 28183, ...    {41826}   \n",
       "2  {18820, 38663, 26346, 35307, 20751, 7220, 2671...    {24959}   \n",
       "3                         {40297, 30507, 6795, 8905}     {7947}   \n",
       "4                                      {26244, 7439}    {37438}   \n",
       "\n",
       "       2-children     3-children                                  1-parents  \\\n",
       "0  {41512, 37313}        {33824}                                         {}   \n",
       "1   {29729, 2663}         {2451}  {22116, 20009, 11725, 18545, 5528, 18716}   \n",
       "2         {39088}        {18820}                                         {}   \n",
       "3         {23790}         {6795}                                         {}   \n",
       "4  {40310, 35542}  {26244, 7439}                                         {}   \n",
       "\n",
       "                                           2-parents             3-parents  \\\n",
       "0                                                 {}                    {}   \n",
       "1  {6920, 23724, 5678, 1937, 41681, 26387, 7477, ...  {38801, 17958, 6670}   \n",
       "2                                                 {}                    {}   \n",
       "3                                                 {}                    {}   \n",
       "4                                                 {}                    {}   \n",
       "\n",
       "                                              family  \\\n",
       "0  {21504, 27138, 33795, 32258, 35335, 22536, 250...   \n",
       "1  {39429, 10246, 11, 23053, 15374, 6670, 28693, ...   \n",
       "2  {12695, 18820, 6310, 38663, 26346, 35307, 2075...   \n",
       "3  {1825, 15429, 40297, 40394, 7947, 16684, 30507...   \n",
       "4                 {26244, 7439, 40310, 35542, 37438}   \n",
       "\n",
       "                                             parents  \\\n",
       "0                                                 {}   \n",
       "1  {22116, 17958, 6920, 20009, 23724, 11725, 5678...   \n",
       "2                                                 {}   \n",
       "3                                                 {}   \n",
       "4                                                 {}   \n",
       "\n",
       "                              family_without_parents  \\\n",
       "0  {21504, 27138, 33795, 32258, 35335, 22536, 250...   \n",
       "1  {39429, 10246, 11, 23053, 15374, 28693, 33790,...   \n",
       "2  {12695, 18820, 6310, 38663, 26346, 35307, 2075...   \n",
       "3  {1825, 15429, 40297, 40394, 7947, 16684, 30507...   \n",
       "4                 {26244, 7439, 40310, 35542, 37438}   \n",
       "\n",
       "                             family_without_children source  \n",
       "0  {21504, 27138, 33795, 32258, 35335, 22536, 250...    {0}  \n",
       "1  {39429, 10246, 11, 23053, 15374, 6670, 28693, ...    {1}  \n",
       "2  {6310, 38663, 26346, 35307, 20751, 7220, 26711...    {2}  \n",
       "3  {1825, 15429, 40297, 40394, 30507, 16684, 8905...    {3}  \n",
       "4                                                 {}    {4}  "
      ]
     },
     "execution_count": 22,
     "metadata": {},
     "output_type": "execute_result"
    }
   ],
   "source": [
    "filterded_GO_family_df.head()"
   ]
  },
  {
   "cell_type": "code",
   "execution_count": 23,
   "metadata": {},
   "outputs": [
    {
     "data": {
      "text/plain": [
       "1"
      ]
     },
     "execution_count": 23,
     "metadata": {},
     "output_type": "execute_result"
    }
   ],
   "source": [
    "int(torch.Tensor([1]).item())"
   ]
  },
  {
   "cell_type": "code",
   "execution_count": 24,
   "metadata": {},
   "outputs": [
    {
     "data": {
      "text/html": [
       "<div>\n",
       "<style scoped>\n",
       "    .dataframe tbody tr th:only-of-type {\n",
       "        vertical-align: middle;\n",
       "    }\n",
       "\n",
       "    .dataframe tbody tr th {\n",
       "        vertical-align: top;\n",
       "    }\n",
       "\n",
       "    .dataframe thead th {\n",
       "        text-align: right;\n",
       "    }\n",
       "</style>\n",
       "<table border=\"1\" class=\"dataframe\">\n",
       "  <thead>\n",
       "    <tr style=\"text-align: right;\">\n",
       "      <th></th>\n",
       "      <th>source</th>\n",
       "      <th>1-neighbors</th>\n",
       "      <th>2-neighbors</th>\n",
       "      <th>3-neighbors</th>\n",
       "      <th>4-neighbors</th>\n",
       "      <th>5-neighbors</th>\n",
       "      <th>1-children</th>\n",
       "      <th>2-children</th>\n",
       "      <th>3-children</th>\n",
       "      <th>4-children</th>\n",
       "      <th>5-children</th>\n",
       "      <th>1-parents</th>\n",
       "      <th>2-parents</th>\n",
       "      <th>3-parents</th>\n",
       "      <th>4-parents</th>\n",
       "      <th>5-parents</th>\n",
       "      <th>family</th>\n",
       "      <th>parents</th>\n",
       "      <th>family_without_parents</th>\n",
       "      <th>family_without_children</th>\n",
       "    </tr>\n",
       "  </thead>\n",
       "  <tbody>\n",
       "    <tr>\n",
       "      <th>0</th>\n",
       "      <td>{0}</td>\n",
       "      <td>{1}</td>\n",
       "      <td>{2, 3}</td>\n",
       "      <td>{4, 5}</td>\n",
       "      <td>{6}</td>\n",
       "      <td>{15}</td>\n",
       "      <td>{1}</td>\n",
       "      <td>{2, 3}</td>\n",
       "      <td>{3, 4, 5}</td>\n",
       "      <td>{4, 5}</td>\n",
       "      <td>{}</td>\n",
       "      <td>{}</td>\n",
       "      <td>{}</td>\n",
       "      <td>{}</td>\n",
       "      <td>{}</td>\n",
       "      <td>{}</td>\n",
       "      <td>{1, 2, 3, 4, 5, 6, 15}</td>\n",
       "      <td>{}</td>\n",
       "      <td>{1, 2, 3, 4, 5, 6, 15}</td>\n",
       "      <td>{6, 15}</td>\n",
       "    </tr>\n",
       "    <tr>\n",
       "      <th>1</th>\n",
       "      <td>{1}</td>\n",
       "      <td>{0, 2, 3}</td>\n",
       "      <td>{4, 5}</td>\n",
       "      <td>{6}</td>\n",
       "      <td>{15}</td>\n",
       "      <td>{}</td>\n",
       "      <td>{2, 3}</td>\n",
       "      <td>{3, 4, 5}</td>\n",
       "      <td>{4, 5}</td>\n",
       "      <td>{}</td>\n",
       "      <td>{}</td>\n",
       "      <td>{0}</td>\n",
       "      <td>{}</td>\n",
       "      <td>{}</td>\n",
       "      <td>{}</td>\n",
       "      <td>{}</td>\n",
       "      <td>{0, 2, 3, 4, 5, 6, 15}</td>\n",
       "      <td>{0}</td>\n",
       "      <td>{2, 3, 4, 5, 6, 15}</td>\n",
       "      <td>{0, 6, 15}</td>\n",
       "    </tr>\n",
       "    <tr>\n",
       "      <th>2</th>\n",
       "      <td>{2}</td>\n",
       "      <td>{1, 3}</td>\n",
       "      <td>{0, 4, 5}</td>\n",
       "      <td>{6}</td>\n",
       "      <td>{15}</td>\n",
       "      <td>{}</td>\n",
       "      <td>{3}</td>\n",
       "      <td>{4, 5}</td>\n",
       "      <td>{}</td>\n",
       "      <td>{}</td>\n",
       "      <td>{}</td>\n",
       "      <td>{1}</td>\n",
       "      <td>{0}</td>\n",
       "      <td>{}</td>\n",
       "      <td>{}</td>\n",
       "      <td>{}</td>\n",
       "      <td>{0, 1, 3, 4, 5, 6, 15}</td>\n",
       "      <td>{0, 1}</td>\n",
       "      <td>{3, 4, 5, 6, 15}</td>\n",
       "      <td>{0, 1, 6, 15}</td>\n",
       "    </tr>\n",
       "    <tr>\n",
       "      <th>3</th>\n",
       "      <td>{3}</td>\n",
       "      <td>{1, 2, 4, 5}</td>\n",
       "      <td>{0, 6}</td>\n",
       "      <td>{15}</td>\n",
       "      <td>{}</td>\n",
       "      <td>{}</td>\n",
       "      <td>{4, 5}</td>\n",
       "      <td>{}</td>\n",
       "      <td>{}</td>\n",
       "      <td>{}</td>\n",
       "      <td>{}</td>\n",
       "      <td>{1, 2}</td>\n",
       "      <td>{0, 1}</td>\n",
       "      <td>{0}</td>\n",
       "      <td>{}</td>\n",
       "      <td>{}</td>\n",
       "      <td>{0, 1, 2, 4, 5, 6, 15}</td>\n",
       "      <td>{0, 1, 2}</td>\n",
       "      <td>{4, 5, 6, 15}</td>\n",
       "      <td>{0, 1, 2, 6, 15}</td>\n",
       "    </tr>\n",
       "    <tr>\n",
       "      <th>4</th>\n",
       "      <td>{4}</td>\n",
       "      <td>{3}</td>\n",
       "      <td>{1, 2, 5}</td>\n",
       "      <td>{0, 6}</td>\n",
       "      <td>{15}</td>\n",
       "      <td>{}</td>\n",
       "      <td>{}</td>\n",
       "      <td>{}</td>\n",
       "      <td>{}</td>\n",
       "      <td>{}</td>\n",
       "      <td>{}</td>\n",
       "      <td>{3}</td>\n",
       "      <td>{1, 2}</td>\n",
       "      <td>{0, 1}</td>\n",
       "      <td>{0}</td>\n",
       "      <td>{}</td>\n",
       "      <td>{0, 1, 2, 3, 5, 6, 15}</td>\n",
       "      <td>{0, 1, 2, 3}</td>\n",
       "      <td>{5, 6, 15}</td>\n",
       "      <td>{0, 1, 2, 3, 5, 6, 15}</td>\n",
       "    </tr>\n",
       "    <tr>\n",
       "      <th>5</th>\n",
       "      <td>{5}</td>\n",
       "      <td>{3, 6}</td>\n",
       "      <td>{1, 2, 4, 15}</td>\n",
       "      <td>{0}</td>\n",
       "      <td>{}</td>\n",
       "      <td>{}</td>\n",
       "      <td>{}</td>\n",
       "      <td>{}</td>\n",
       "      <td>{}</td>\n",
       "      <td>{}</td>\n",
       "      <td>{}</td>\n",
       "      <td>{3, 6}</td>\n",
       "      <td>{1, 2, 15}</td>\n",
       "      <td>{0, 1}</td>\n",
       "      <td>{0}</td>\n",
       "      <td>{}</td>\n",
       "      <td>{0, 1, 2, 3, 4, 6, 15}</td>\n",
       "      <td>{0, 1, 2, 3, 6, 15}</td>\n",
       "      <td>{4}</td>\n",
       "      <td>{0, 1, 2, 3, 4, 6, 15}</td>\n",
       "    </tr>\n",
       "    <tr>\n",
       "      <th>6</th>\n",
       "      <td>{6}</td>\n",
       "      <td>{5, 15}</td>\n",
       "      <td>{3}</td>\n",
       "      <td>{1, 2, 4}</td>\n",
       "      <td>{0}</td>\n",
       "      <td>{}</td>\n",
       "      <td>{5}</td>\n",
       "      <td>{}</td>\n",
       "      <td>{}</td>\n",
       "      <td>{}</td>\n",
       "      <td>{}</td>\n",
       "      <td>{15}</td>\n",
       "      <td>{}</td>\n",
       "      <td>{}</td>\n",
       "      <td>{}</td>\n",
       "      <td>{}</td>\n",
       "      <td>{0, 1, 2, 3, 4, 5, 15}</td>\n",
       "      <td>{15}</td>\n",
       "      <td>{0, 1, 2, 3, 4, 5}</td>\n",
       "      <td>{0, 1, 2, 3, 4, 15}</td>\n",
       "    </tr>\n",
       "    <tr>\n",
       "      <th>7</th>\n",
       "      <td>{15}</td>\n",
       "      <td>{6}</td>\n",
       "      <td>{5}</td>\n",
       "      <td>{3}</td>\n",
       "      <td>{1, 2, 4}</td>\n",
       "      <td>{0}</td>\n",
       "      <td>{6}</td>\n",
       "      <td>{5}</td>\n",
       "      <td>{}</td>\n",
       "      <td>{}</td>\n",
       "      <td>{}</td>\n",
       "      <td>{}</td>\n",
       "      <td>{}</td>\n",
       "      <td>{}</td>\n",
       "      <td>{}</td>\n",
       "      <td>{}</td>\n",
       "      <td>{0, 1, 2, 3, 4, 5, 6}</td>\n",
       "      <td>{}</td>\n",
       "      <td>{0, 1, 2, 3, 4, 5, 6}</td>\n",
       "      <td>{0, 1, 2, 3, 4}</td>\n",
       "    </tr>\n",
       "  </tbody>\n",
       "</table>\n",
       "</div>"
      ],
      "text/plain": [
       "  source   1-neighbors    2-neighbors 3-neighbors 4-neighbors 5-neighbors  \\\n",
       "0    {0}           {1}         {2, 3}      {4, 5}         {6}        {15}   \n",
       "1    {1}     {0, 2, 3}         {4, 5}         {6}        {15}          {}   \n",
       "2    {2}        {1, 3}      {0, 4, 5}         {6}        {15}          {}   \n",
       "3    {3}  {1, 2, 4, 5}         {0, 6}        {15}          {}          {}   \n",
       "4    {4}           {3}      {1, 2, 5}      {0, 6}        {15}          {}   \n",
       "5    {5}        {3, 6}  {1, 2, 4, 15}         {0}          {}          {}   \n",
       "6    {6}       {5, 15}            {3}   {1, 2, 4}         {0}          {}   \n",
       "7   {15}           {6}            {5}         {3}   {1, 2, 4}         {0}   \n",
       "\n",
       "  1-children 2-children 3-children 4-children 5-children 1-parents  \\\n",
       "0        {1}     {2, 3}  {3, 4, 5}     {4, 5}         {}        {}   \n",
       "1     {2, 3}  {3, 4, 5}     {4, 5}         {}         {}       {0}   \n",
       "2        {3}     {4, 5}         {}         {}         {}       {1}   \n",
       "3     {4, 5}         {}         {}         {}         {}    {1, 2}   \n",
       "4         {}         {}         {}         {}         {}       {3}   \n",
       "5         {}         {}         {}         {}         {}    {3, 6}   \n",
       "6        {5}         {}         {}         {}         {}      {15}   \n",
       "7        {6}        {5}         {}         {}         {}        {}   \n",
       "\n",
       "    2-parents 3-parents 4-parents 5-parents                  family  \\\n",
       "0          {}        {}        {}        {}  {1, 2, 3, 4, 5, 6, 15}   \n",
       "1          {}        {}        {}        {}  {0, 2, 3, 4, 5, 6, 15}   \n",
       "2         {0}        {}        {}        {}  {0, 1, 3, 4, 5, 6, 15}   \n",
       "3      {0, 1}       {0}        {}        {}  {0, 1, 2, 4, 5, 6, 15}   \n",
       "4      {1, 2}    {0, 1}       {0}        {}  {0, 1, 2, 3, 5, 6, 15}   \n",
       "5  {1, 2, 15}    {0, 1}       {0}        {}  {0, 1, 2, 3, 4, 6, 15}   \n",
       "6          {}        {}        {}        {}  {0, 1, 2, 3, 4, 5, 15}   \n",
       "7          {}        {}        {}        {}   {0, 1, 2, 3, 4, 5, 6}   \n",
       "\n",
       "               parents  family_without_parents family_without_children  \n",
       "0                   {}  {1, 2, 3, 4, 5, 6, 15}                 {6, 15}  \n",
       "1                  {0}     {2, 3, 4, 5, 6, 15}              {0, 6, 15}  \n",
       "2               {0, 1}        {3, 4, 5, 6, 15}           {0, 1, 6, 15}  \n",
       "3            {0, 1, 2}           {4, 5, 6, 15}        {0, 1, 2, 6, 15}  \n",
       "4         {0, 1, 2, 3}              {5, 6, 15}  {0, 1, 2, 3, 5, 6, 15}  \n",
       "5  {0, 1, 2, 3, 6, 15}                     {4}  {0, 1, 2, 3, 4, 6, 15}  \n",
       "6                 {15}      {0, 1, 2, 3, 4, 5}     {0, 1, 2, 3, 4, 15}  \n",
       "7                   {}   {0, 1, 2, 3, 4, 5, 6}         {0, 1, 2, 3, 4}  "
      ]
     },
     "metadata": {},
     "output_type": "display_data"
    },
    {
     "name": "stderr",
     "output_type": "stream",
     "text": [
      "Correcting source type : 100%|██████████| 8/8 [00:00<00:00, 3659.95it/s]\n",
      "Correcting family_without_children type : 100%|██████████| 8/8 [00:00<00:00, 3347.41it/s]\n"
     ]
    },
    {
     "name": "stdout",
     "output_type": "stream",
     "text": [
      "Making family negatives... Should last a few minutes\n"
     ]
    },
    {
     "name": "stderr",
     "output_type": "stream",
     "text": [
      "Making family negatives: 100%|██████████| 8/8 [00:00<00:00, 2295.42it/s]\n"
     ]
    },
    {
     "data": {
      "text/html": [
       "<div>\n",
       "<style scoped>\n",
       "    .dataframe tbody tr th:only-of-type {\n",
       "        vertical-align: middle;\n",
       "    }\n",
       "\n",
       "    .dataframe tbody tr th {\n",
       "        vertical-align: top;\n",
       "    }\n",
       "\n",
       "    .dataframe thead th {\n",
       "        text-align: right;\n",
       "    }\n",
       "</style>\n",
       "<table border=\"1\" class=\"dataframe\">\n",
       "  <thead>\n",
       "    <tr style=\"text-align: right;\">\n",
       "      <th></th>\n",
       "      <th>source</th>\n",
       "      <th>1-neighbors</th>\n",
       "      <th>2-neighbors</th>\n",
       "      <th>3-neighbors</th>\n",
       "      <th>4-neighbors</th>\n",
       "      <th>5-neighbors</th>\n",
       "      <th>1-children</th>\n",
       "      <th>2-children</th>\n",
       "      <th>3-children</th>\n",
       "      <th>4-children</th>\n",
       "      <th>5-children</th>\n",
       "      <th>1-parents</th>\n",
       "      <th>2-parents</th>\n",
       "      <th>3-parents</th>\n",
       "      <th>4-parents</th>\n",
       "      <th>5-parents</th>\n",
       "      <th>family</th>\n",
       "      <th>parents</th>\n",
       "      <th>family_without_parents</th>\n",
       "      <th>family_without_children</th>\n",
       "    </tr>\n",
       "  </thead>\n",
       "  <tbody>\n",
       "    <tr>\n",
       "      <th>0</th>\n",
       "      <td>{0}</td>\n",
       "      <td>{1}</td>\n",
       "      <td>{2, 3}</td>\n",
       "      <td>{4, 5}</td>\n",
       "      <td>{}</td>\n",
       "      <td>{}</td>\n",
       "      <td>{1}</td>\n",
       "      <td>{2, 3}</td>\n",
       "      <td>{3, 4, 5}</td>\n",
       "      <td>{4, 5}</td>\n",
       "      <td>{}</td>\n",
       "      <td>{}</td>\n",
       "      <td>{}</td>\n",
       "      <td>{}</td>\n",
       "      <td>{}</td>\n",
       "      <td>{}</td>\n",
       "      <td>{1, 2, 3, 4, 5}</td>\n",
       "      <td>{}</td>\n",
       "      <td>{1, 2, 3, 4, 5}</td>\n",
       "      <td>{}</td>\n",
       "    </tr>\n",
       "    <tr>\n",
       "      <th>1</th>\n",
       "      <td>{1}</td>\n",
       "      <td>{0, 2, 3}</td>\n",
       "      <td>{4, 5}</td>\n",
       "      <td>{}</td>\n",
       "      <td>{}</td>\n",
       "      <td>{}</td>\n",
       "      <td>{2, 3}</td>\n",
       "      <td>{3, 4, 5}</td>\n",
       "      <td>{4, 5}</td>\n",
       "      <td>{}</td>\n",
       "      <td>{}</td>\n",
       "      <td>{0}</td>\n",
       "      <td>{}</td>\n",
       "      <td>{}</td>\n",
       "      <td>{}</td>\n",
       "      <td>{}</td>\n",
       "      <td>{0, 2, 3, 4, 5}</td>\n",
       "      <td>{0}</td>\n",
       "      <td>{2, 3, 4, 5}</td>\n",
       "      <td>{0}</td>\n",
       "    </tr>\n",
       "    <tr>\n",
       "      <th>2</th>\n",
       "      <td>{2}</td>\n",
       "      <td>{1, 3}</td>\n",
       "      <td>{0, 4, 5}</td>\n",
       "      <td>{}</td>\n",
       "      <td>{}</td>\n",
       "      <td>{}</td>\n",
       "      <td>{3}</td>\n",
       "      <td>{4, 5}</td>\n",
       "      <td>{}</td>\n",
       "      <td>{}</td>\n",
       "      <td>{}</td>\n",
       "      <td>{1}</td>\n",
       "      <td>{0}</td>\n",
       "      <td>{}</td>\n",
       "      <td>{}</td>\n",
       "      <td>{}</td>\n",
       "      <td>{0, 1, 3, 4, 5}</td>\n",
       "      <td>{0, 1}</td>\n",
       "      <td>{3, 4, 5}</td>\n",
       "      <td>{0, 1}</td>\n",
       "    </tr>\n",
       "    <tr>\n",
       "      <th>3</th>\n",
       "      <td>{3}</td>\n",
       "      <td>{1, 2, 4, 5}</td>\n",
       "      <td>{0}</td>\n",
       "      <td>{}</td>\n",
       "      <td>{}</td>\n",
       "      <td>{}</td>\n",
       "      <td>{4, 5}</td>\n",
       "      <td>{}</td>\n",
       "      <td>{}</td>\n",
       "      <td>{}</td>\n",
       "      <td>{}</td>\n",
       "      <td>{1, 2}</td>\n",
       "      <td>{0, 1}</td>\n",
       "      <td>{0}</td>\n",
       "      <td>{}</td>\n",
       "      <td>{}</td>\n",
       "      <td>{0, 1, 2, 4, 5}</td>\n",
       "      <td>{0, 1, 2}</td>\n",
       "      <td>{4, 5}</td>\n",
       "      <td>{0, 1, 2}</td>\n",
       "    </tr>\n",
       "    <tr>\n",
       "      <th>4</th>\n",
       "      <td>{4}</td>\n",
       "      <td>{3}</td>\n",
       "      <td>{1, 2, 5}</td>\n",
       "      <td>{0}</td>\n",
       "      <td>{}</td>\n",
       "      <td>{}</td>\n",
       "      <td>{}</td>\n",
       "      <td>{}</td>\n",
       "      <td>{}</td>\n",
       "      <td>{}</td>\n",
       "      <td>{}</td>\n",
       "      <td>{3}</td>\n",
       "      <td>{1, 2}</td>\n",
       "      <td>{0, 1}</td>\n",
       "      <td>{0}</td>\n",
       "      <td>{}</td>\n",
       "      <td>{0, 1, 2, 3, 5}</td>\n",
       "      <td>{0, 1, 2, 3}</td>\n",
       "      <td>{5}</td>\n",
       "      <td>{0, 1, 2, 3, 5}</td>\n",
       "    </tr>\n",
       "    <tr>\n",
       "      <th>5</th>\n",
       "      <td>{5}</td>\n",
       "      <td>{3}</td>\n",
       "      <td>{1, 2, 4}</td>\n",
       "      <td>{0}</td>\n",
       "      <td>{}</td>\n",
       "      <td>{}</td>\n",
       "      <td>{}</td>\n",
       "      <td>{}</td>\n",
       "      <td>{}</td>\n",
       "      <td>{}</td>\n",
       "      <td>{}</td>\n",
       "      <td>{3}</td>\n",
       "      <td>{1, 2}</td>\n",
       "      <td>{0, 1}</td>\n",
       "      <td>{0}</td>\n",
       "      <td>{}</td>\n",
       "      <td>{0, 1, 2, 3, 4}</td>\n",
       "      <td>{0, 1, 2, 3}</td>\n",
       "      <td>{4}</td>\n",
       "      <td>{0, 1, 2, 3, 4}</td>\n",
       "    </tr>\n",
       "    <tr>\n",
       "      <th>6</th>\n",
       "      <td>{}</td>\n",
       "      <td>{5}</td>\n",
       "      <td>{3}</td>\n",
       "      <td>{1, 2, 4}</td>\n",
       "      <td>{0}</td>\n",
       "      <td>{}</td>\n",
       "      <td>{5}</td>\n",
       "      <td>{}</td>\n",
       "      <td>{}</td>\n",
       "      <td>{}</td>\n",
       "      <td>{}</td>\n",
       "      <td>{}</td>\n",
       "      <td>{}</td>\n",
       "      <td>{}</td>\n",
       "      <td>{}</td>\n",
       "      <td>{}</td>\n",
       "      <td>{0, 1, 2, 3, 4, 5}</td>\n",
       "      <td>{}</td>\n",
       "      <td>{0, 1, 2, 3, 4, 5}</td>\n",
       "      <td>{0, 1, 2, 3, 4}</td>\n",
       "    </tr>\n",
       "    <tr>\n",
       "      <th>7</th>\n",
       "      <td>{}</td>\n",
       "      <td>{}</td>\n",
       "      <td>{5}</td>\n",
       "      <td>{3}</td>\n",
       "      <td>{1, 2, 4}</td>\n",
       "      <td>{0}</td>\n",
       "      <td>{}</td>\n",
       "      <td>{5}</td>\n",
       "      <td>{}</td>\n",
       "      <td>{}</td>\n",
       "      <td>{}</td>\n",
       "      <td>{}</td>\n",
       "      <td>{}</td>\n",
       "      <td>{}</td>\n",
       "      <td>{}</td>\n",
       "      <td>{}</td>\n",
       "      <td>{0, 1, 2, 3, 4, 5}</td>\n",
       "      <td>{}</td>\n",
       "      <td>{0, 1, 2, 3, 4, 5}</td>\n",
       "      <td>{0, 1, 2, 3, 4}</td>\n",
       "    </tr>\n",
       "  </tbody>\n",
       "</table>\n",
       "</div>"
      ],
      "text/plain": [
       "  source   1-neighbors 2-neighbors 3-neighbors 4-neighbors 5-neighbors  \\\n",
       "0    {0}           {1}      {2, 3}      {4, 5}          {}          {}   \n",
       "1    {1}     {0, 2, 3}      {4, 5}          {}          {}          {}   \n",
       "2    {2}        {1, 3}   {0, 4, 5}          {}          {}          {}   \n",
       "3    {3}  {1, 2, 4, 5}         {0}          {}          {}          {}   \n",
       "4    {4}           {3}   {1, 2, 5}         {0}          {}          {}   \n",
       "5    {5}           {3}   {1, 2, 4}         {0}          {}          {}   \n",
       "6     {}           {5}         {3}   {1, 2, 4}         {0}          {}   \n",
       "7     {}            {}         {5}         {3}   {1, 2, 4}         {0}   \n",
       "\n",
       "  1-children 2-children 3-children 4-children 5-children 1-parents 2-parents  \\\n",
       "0        {1}     {2, 3}  {3, 4, 5}     {4, 5}         {}        {}        {}   \n",
       "1     {2, 3}  {3, 4, 5}     {4, 5}         {}         {}       {0}        {}   \n",
       "2        {3}     {4, 5}         {}         {}         {}       {1}       {0}   \n",
       "3     {4, 5}         {}         {}         {}         {}    {1, 2}    {0, 1}   \n",
       "4         {}         {}         {}         {}         {}       {3}    {1, 2}   \n",
       "5         {}         {}         {}         {}         {}       {3}    {1, 2}   \n",
       "6        {5}         {}         {}         {}         {}        {}        {}   \n",
       "7         {}        {5}         {}         {}         {}        {}        {}   \n",
       "\n",
       "  3-parents 4-parents 5-parents              family       parents  \\\n",
       "0        {}        {}        {}     {1, 2, 3, 4, 5}            {}   \n",
       "1        {}        {}        {}     {0, 2, 3, 4, 5}           {0}   \n",
       "2        {}        {}        {}     {0, 1, 3, 4, 5}        {0, 1}   \n",
       "3       {0}        {}        {}     {0, 1, 2, 4, 5}     {0, 1, 2}   \n",
       "4    {0, 1}       {0}        {}     {0, 1, 2, 3, 5}  {0, 1, 2, 3}   \n",
       "5    {0, 1}       {0}        {}     {0, 1, 2, 3, 4}  {0, 1, 2, 3}   \n",
       "6        {}        {}        {}  {0, 1, 2, 3, 4, 5}            {}   \n",
       "7        {}        {}        {}  {0, 1, 2, 3, 4, 5}            {}   \n",
       "\n",
       "  family_without_parents family_without_children  \n",
       "0        {1, 2, 3, 4, 5}                      {}  \n",
       "1           {2, 3, 4, 5}                     {0}  \n",
       "2              {3, 4, 5}                  {0, 1}  \n",
       "3                 {4, 5}               {0, 1, 2}  \n",
       "4                    {5}         {0, 1, 2, 3, 5}  \n",
       "5                    {4}         {0, 1, 2, 3, 4}  \n",
       "6     {0, 1, 2, 3, 4, 5}         {0, 1, 2, 3, 4}  \n",
       "7     {0, 1, 2, 3, 4, 5}         {0, 1, 2, 3, 4}  "
      ]
     },
     "metadata": {},
     "output_type": "display_data"
    },
    {
     "name": "stderr",
     "output_type": "stream",
     "text": [
      "Correcting source type : 100%|██████████| 8/8 [00:00<00:00, 6975.97it/s]\n",
      "Correcting family_without_children type : 100%|██████████| 8/8 [00:00<00:00, 6537.00it/s]\n"
     ]
    },
    {
     "name": "stdout",
     "output_type": "stream",
     "text": [
      "Making family negatives... Should last a few minutes\n"
     ]
    },
    {
     "name": "stderr",
     "output_type": "stream",
     "text": [
      "Making family negatives: 100%|██████████| 8/8 [00:00<00:00, 4879.23it/s]\n"
     ]
    },
    {
     "data": {
      "text/plain": [
       "{0: tensor([15.,  6.,  3., 15.,  1.]),\n",
       " 1: tensor([ 0.,  6., 15.,  3.,  1.]),\n",
       " 2: tensor([ 0.,  6.,  1., 15., 15.]),\n",
       " 3: tensor([ 1.,  6., 15.,  0.,  2.]),\n",
       " 4: tensor([0., 3., 6., 5., 2.]),\n",
       " 5: tensor([ 1.,  6.,  0., 15.,  2.]),\n",
       " 6: tensor([15.,  0.,  1.,  2.,  4.]),\n",
       " 15: tensor([0., 4., 1., 2., 3.])}"
      ]
     },
     "execution_count": 24,
     "metadata": {},
     "output_type": "execute_result"
    }
   ],
   "source": [
    "def correct_numel(l, num_el, default_elements : list, source = None):\n",
    "\n",
    "    '''\n",
    "    Correct the number of elements in a list by adjusting its length.\n",
    "\n",
    "    If the length of `l` matches `num_el`, the function returns `l` unchanged.\n",
    "    If `l` is longer than `num_el`, it returns a sublist containing the first `num_el` elements.\n",
    "    If `l` is shorter than `num_el`, it randomly selects elements from `l` to append to the end until the desired length is reached.\n",
    "    If `l` is empty, it randomly selects elements from `default_elements` to create a list with `num_el` elements.\n",
    "\n",
    "    Parameters:\n",
    "        l (list)             : The input list.\n",
    "        num_el (int)         : The desired number of elements in the list.\n",
    "        default_elements (list): A list of elements to be used when `l` is empty.\n",
    "\n",
    "    Returns:\n",
    "        list: A list with the corrected number of elements.\n",
    "    '''\n",
    "\n",
    "    random.shuffle(l)\n",
    "    if len(l)==0:\n",
    "        if source is not None :\n",
    "            print(source)\n",
    "        print(f\"No family negatives disponible - \\nprobably looking for root's children or depraceted terms\\n. Using random src terms as negatives.\")\n",
    "        l = random.choices(default_elements, k = num_el)\n",
    "\n",
    "    elif len(l) == num_el:\n",
    "        l = l\n",
    "    elif len(l) > num_el:\n",
    "        l = l[:num_el]  \n",
    "    elif len(l) < num_el:\n",
    "        l += random.choices(default_elements, k=num_el - len(l))\n",
    "    \n",
    "    return l\n",
    "\n",
    "\n",
    "def make_family_negatives(family_df, neg_group_col: str, num_neg_per_pos, source_col = 'source'):\n",
    "    '''\n",
    "    Generates negative examples for each positive example in a DataFrame.\n",
    "\n",
    "    For each positive example in the DataFrame `family_df`, it creates negative examples by adjusting the number of elements in the specified column `neg_group_col`.\n",
    "\n",
    "    Parameters:\n",
    "        family_df (DataFrame): The input DataFrame containing positive examples.\n",
    "        neg_group_col (str) : The column name representing groups of elements.\n",
    "        num_neg_per_pos (int) : The desired number of negative examples per positive example.\n",
    "\n",
    "    Returns:\n",
    "        DataFrame: A DataFrame with negative examples generated for each positive example.\n",
    "    '''\n",
    "    if neg_group_col not in family_df.columns:\n",
    "        raise KeyError(f'{neg_group_col} not in {list(family_df.columns)}')\n",
    "    \n",
    "    default_elements = list(family_df[neg_group_col].explode())\n",
    "    \n",
    "    tqdm.pandas(desc=f'Making family negatives')\n",
    "    family_negs = family_df.progress_apply(lambda row : torch.Tensor(correct_numel(list(row[neg_group_col]),\n",
    "                                                                                   num_el = num_neg_per_pos,\n",
    "                                                                                   default_elements=default_elements,\n",
    "                                                                                   source = row[source_col])), axis = 1)\n",
    "\n",
    "    return family_negs\n",
    "\n",
    "def make_source_family_neg_dict(input_df, source_col = 'source', neg_col = 'family', num_neg_per_pos=224):\n",
    "    '''\n",
    "    Generates a dictionary with negative examples for each positive example based on a source column in an input DataFrame.\n",
    "\n",
    "    Creates a dictionary where each key is a positive example from the source column, and each value is a \n",
    "    list of negative examples generated from the corresponding positive example.\n",
    "\n",
    "    Parameters:\n",
    "        input_df (DataFrame): The input DataFrame containing positive and negative examples.\n",
    "        source_col (str): The column name representing the source of positive examples.\n",
    "        neg_col (str): The column name representing groups of elements.\n",
    "        num_neg_per_pos (int): The desired number of negative examples per positive example.\n",
    "\n",
    "    Returns:\n",
    "        dict: A dictionary mapping positive examples to lists of negative examples.\n",
    "    '''\n",
    "\n",
    "    df = input_df[[source_col, neg_col]].copy()\n",
    "    \n",
    "    if not isinstance(df[source_col][0], np.int64):\n",
    "        tqdm.pandas(desc=f'Correcting {source_col} type ')\n",
    "        df[source_col]     = df.progress_apply(lambda row: int(torch.Tensor(list(row[source_col])).item()), axis = 1)\n",
    "\n",
    "            \n",
    "    if not isinstance(df[neg_col][0], torch.Tensor):\n",
    "        tqdm.pandas(desc=f'Correcting {neg_col} type ')\n",
    "        df[neg_col]     = df.progress_apply(lambda row: torch.Tensor(list(row[neg_col])), axis = 1)\n",
    "    \n",
    "    print('Making family negatives... Should last a few minutes')\n",
    "    df['numeled_neg_col'] = make_family_negatives(df, neg_col, num_neg_per_pos)\n",
    "\n",
    "    return df.set_index(source_col)['numeled_neg_col'].to_dict()\n",
    "\n",
    "display(f)\n",
    "example = make_source_family_neg_dict(input_df=f, source_col='source', neg_col='family_without_children', num_neg_per_pos=5)\n",
    "filtered_f = f.map(lambda cell: filter_set(cell, 5))\n",
    "display(filtered_f)\n",
    "filtered_example = make_source_family_neg_dict(input_df=f, source_col='source', neg_col='family_without_children', num_neg_per_pos=5)\n",
    "filtered_example"
   ]
  },
  {
   "cell_type": "code",
   "execution_count": 25,
   "metadata": {},
   "outputs": [
    {
     "name": "stderr",
     "output_type": "stream",
     "text": [
      "Correcting source type : 100%|██████████| 42769/42769 [00:00<00:00, 58557.38it/s]\n",
      "Correcting family_without_children type : 100%|██████████| 42769/42769 [00:04<00:00, 9605.17it/s] \n"
     ]
    },
    {
     "name": "stdout",
     "output_type": "stream",
     "text": [
      "Making family negatives... Should last a few minutes\n"
     ]
    },
    {
     "name": "stderr",
     "output_type": "stream",
     "text": [
      "Making family negatives:   0%|          | 0/42769 [00:00<?, ?it/s]"
     ]
    },
    {
     "name": "stdout",
     "output_type": "stream",
     "text": [
      "No family negatives disponible - \n",
      "probably looking for root's children or depraceted terms\n",
      ". Using random src terms as negatives.\n"
     ]
    },
    {
     "name": "stderr",
     "output_type": "stream",
     "text": [
      "Making family negatives:   0%|          | 148/42769 [00:05<16:40, 42.58it/s] "
     ]
    },
    {
     "name": "stdout",
     "output_type": "stream",
     "text": [
      "No family negatives disponible - \n",
      "probably looking for root's children or depraceted terms\n",
      ". Using random src terms as negatives.\n"
     ]
    },
    {
     "name": "stderr",
     "output_type": "stream",
     "text": [
      "Making family negatives:   1%|▏         | 555/42769 [00:06<02:28, 283.40it/s]"
     ]
    },
    {
     "name": "stdout",
     "output_type": "stream",
     "text": [
      "No family negatives disponible - \n",
      "probably looking for root's children or depraceted terms\n",
      ". Using random src terms as negatives.\n",
      "No family negatives disponible - \n",
      "probably looking for root's children or depraceted terms\n",
      ". Using random src terms as negatives.\n"
     ]
    },
    {
     "name": "stderr",
     "output_type": "stream",
     "text": [
      "Making family negatives:   2%|▏         | 968/42769 [00:07<01:46, 393.51it/s]"
     ]
    },
    {
     "name": "stdout",
     "output_type": "stream",
     "text": [
      "No family negatives disponible - \n",
      "probably looking for root's children or depraceted terms\n",
      ". Using random src terms as negatives.\n"
     ]
    },
    {
     "name": "stderr",
     "output_type": "stream",
     "text": [
      "Making family negatives:   3%|▎         | 1172/42769 [00:08<01:48, 383.43it/s]"
     ]
    },
    {
     "name": "stdout",
     "output_type": "stream",
     "text": [
      "No family negatives disponible - \n",
      "probably looking for root's children or depraceted terms\n",
      ". Using random src terms as negatives.\n"
     ]
    },
    {
     "name": "stderr",
     "output_type": "stream",
     "text": [
      "Making family negatives:   4%|▎         | 1526/42769 [00:09<01:27, 471.13it/s]"
     ]
    },
    {
     "name": "stdout",
     "output_type": "stream",
     "text": [
      "No family negatives disponible - \n",
      "probably looking for root's children or depraceted terms\n",
      ". Using random src terms as negatives.\n"
     ]
    },
    {
     "name": "stderr",
     "output_type": "stream",
     "text": [
      "Making family negatives:   8%|▊         | 3472/42769 [00:14<01:35, 411.85it/s]"
     ]
    },
    {
     "name": "stdout",
     "output_type": "stream",
     "text": [
      "No family negatives disponible - \n",
      "probably looking for root's children or depraceted terms\n",
      ". Using random src terms as negatives.\n",
      "No family negatives disponible - \n",
      "probably looking for root's children or depraceted terms\n",
      ". Using random src terms as negatives.\n",
      "No family negatives disponible - \n",
      "probably looking for root's children or depraceted terms\n",
      ". Using random src terms as negatives.\n"
     ]
    },
    {
     "name": "stderr",
     "output_type": "stream",
     "text": [
      "Making family negatives:  10%|█         | 4469/42769 [00:17<01:41, 377.40it/s]"
     ]
    },
    {
     "name": "stdout",
     "output_type": "stream",
     "text": [
      "No family negatives disponible - \n",
      "probably looking for root's children or depraceted terms\n",
      ". Using random src terms as negatives.\n"
     ]
    },
    {
     "name": "stderr",
     "output_type": "stream",
     "text": [
      "Making family negatives:  12%|█▏        | 5162/42769 [00:19<01:07, 554.72it/s]"
     ]
    },
    {
     "name": "stdout",
     "output_type": "stream",
     "text": [
      "No family negatives disponible - \n",
      "probably looking for root's children or depraceted terms\n",
      ". Using random src terms as negatives.\n"
     ]
    },
    {
     "name": "stderr",
     "output_type": "stream",
     "text": [
      "Making family negatives:  14%|█▍        | 6145/42769 [00:20<00:53, 690.91it/s]"
     ]
    },
    {
     "name": "stdout",
     "output_type": "stream",
     "text": [
      "No family negatives disponible - \n",
      "probably looking for root's children or depraceted terms\n",
      ". Using random src terms as negatives.\n"
     ]
    },
    {
     "name": "stderr",
     "output_type": "stream",
     "text": [
      "Making family negatives:  15%|█▌        | 6497/42769 [00:21<00:54, 662.66it/s]"
     ]
    },
    {
     "name": "stdout",
     "output_type": "stream",
     "text": [
      "No family negatives disponible - \n",
      "probably looking for root's children or depraceted terms\n",
      ". Using random src terms as negatives.\n"
     ]
    },
    {
     "name": "stderr",
     "output_type": "stream",
     "text": [
      "Making family negatives:  17%|█▋        | 7198/42769 [00:23<01:15, 468.67it/s]"
     ]
    },
    {
     "name": "stdout",
     "output_type": "stream",
     "text": [
      "No family negatives disponible - \n",
      "probably looking for root's children or depraceted terms\n",
      ". Using random src terms as negatives.\n"
     ]
    },
    {
     "name": "stderr",
     "output_type": "stream",
     "text": [
      "Making family negatives:  17%|█▋        | 7265/42769 [00:23<01:13, 485.79it/s]"
     ]
    },
    {
     "name": "stdout",
     "output_type": "stream",
     "text": [
      "No family negatives disponible - \n",
      "probably looking for root's children or depraceted terms\n",
      ". Using random src terms as negatives.\n"
     ]
    },
    {
     "name": "stderr",
     "output_type": "stream",
     "text": [
      "Making family negatives:  19%|█▊        | 7963/42769 [00:25<01:07, 518.79it/s]"
     ]
    },
    {
     "name": "stdout",
     "output_type": "stream",
     "text": [
      "No family negatives disponible - \n",
      "probably looking for root's children or depraceted terms\n",
      ". Using random src terms as negatives.\n"
     ]
    },
    {
     "name": "stderr",
     "output_type": "stream",
     "text": [
      "Making family negatives:  22%|██▏       | 9467/42769 [00:30<01:26, 386.65it/s]"
     ]
    },
    {
     "name": "stdout",
     "output_type": "stream",
     "text": [
      "No family negatives disponible - \n",
      "probably looking for root's children or depraceted terms\n",
      ". Using random src terms as negatives.\n"
     ]
    },
    {
     "name": "stderr",
     "output_type": "stream",
     "text": [
      "Making family negatives:  27%|██▋       | 11671/42769 [00:37<01:31, 340.01it/s]"
     ]
    },
    {
     "name": "stdout",
     "output_type": "stream",
     "text": [
      "No family negatives disponible - \n",
      "probably looking for root's children or depraceted terms\n",
      ". Using random src terms as negatives.\n"
     ]
    },
    {
     "name": "stderr",
     "output_type": "stream",
     "text": [
      "Making family negatives:  27%|██▋       | 11743/42769 [00:37<01:14, 418.50it/s]"
     ]
    },
    {
     "name": "stdout",
     "output_type": "stream",
     "text": [
      "No family negatives disponible - \n",
      "probably looking for root's children or depraceted terms\n",
      ". Using random src terms as negatives.\n"
     ]
    },
    {
     "name": "stderr",
     "output_type": "stream",
     "text": [
      "Making family negatives:  29%|██▉       | 12514/42769 [00:40<02:08, 234.55it/s]"
     ]
    },
    {
     "name": "stdout",
     "output_type": "stream",
     "text": [
      "No family negatives disponible - \n",
      "probably looking for root's children or depraceted terms\n",
      ". Using random src terms as negatives.\n"
     ]
    },
    {
     "name": "stderr",
     "output_type": "stream",
     "text": [
      "Making family negatives:  30%|██▉       | 12796/42769 [00:40<01:04, 462.12it/s]"
     ]
    },
    {
     "name": "stdout",
     "output_type": "stream",
     "text": [
      "No family negatives disponible - \n",
      "probably looking for root's children or depraceted terms\n",
      ". Using random src terms as negatives.\n"
     ]
    },
    {
     "name": "stderr",
     "output_type": "stream",
     "text": [
      "Making family negatives:  32%|███▏      | 13754/42769 [00:43<01:04, 446.54it/s]"
     ]
    },
    {
     "name": "stdout",
     "output_type": "stream",
     "text": [
      "No family negatives disponible - \n",
      "probably looking for root's children or depraceted terms\n",
      ". Using random src terms as negatives.\n"
     ]
    },
    {
     "name": "stderr",
     "output_type": "stream",
     "text": [
      "Making family negatives:  34%|███▍      | 14531/42769 [00:45<00:57, 489.00it/s]"
     ]
    },
    {
     "name": "stdout",
     "output_type": "stream",
     "text": [
      "No family negatives disponible - \n",
      "probably looking for root's children or depraceted terms\n",
      ". Using random src terms as negatives.\n"
     ]
    },
    {
     "name": "stderr",
     "output_type": "stream",
     "text": [
      "Making family negatives:  37%|███▋      | 15624/42769 [00:49<01:05, 411.39it/s]"
     ]
    },
    {
     "name": "stdout",
     "output_type": "stream",
     "text": [
      "No family negatives disponible - \n",
      "probably looking for root's children or depraceted terms\n",
      ". Using random src terms as negatives.\n"
     ]
    },
    {
     "name": "stderr",
     "output_type": "stream",
     "text": [
      "Making family negatives:  37%|███▋      | 15994/42769 [00:50<01:51, 239.96it/s]"
     ]
    },
    {
     "name": "stdout",
     "output_type": "stream",
     "text": [
      "No family negatives disponible - \n",
      "probably looking for root's children or depraceted terms\n",
      ". Using random src terms as negatives.\n"
     ]
    },
    {
     "name": "stderr",
     "output_type": "stream",
     "text": [
      "Making family negatives:  38%|███▊      | 16046/42769 [00:50<01:40, 265.14it/s]"
     ]
    },
    {
     "name": "stdout",
     "output_type": "stream",
     "text": [
      "No family negatives disponible - \n",
      "probably looking for root's children or depraceted terms\n",
      ". Using random src terms as negatives.\n"
     ]
    },
    {
     "name": "stderr",
     "output_type": "stream",
     "text": [
      "Making family negatives:  39%|███▊      | 16496/42769 [00:51<00:48, 536.33it/s]"
     ]
    },
    {
     "name": "stdout",
     "output_type": "stream",
     "text": [
      "No family negatives disponible - \n",
      "probably looking for root's children or depraceted terms\n",
      ". Using random src terms as negatives.\n"
     ]
    },
    {
     "name": "stderr",
     "output_type": "stream",
     "text": [
      "Making family negatives:  39%|███▉      | 16747/42769 [00:52<01:03, 409.61it/s]"
     ]
    },
    {
     "name": "stdout",
     "output_type": "stream",
     "text": [
      "No family negatives disponible - \n",
      "probably looking for root's children or depraceted terms\n",
      ". Using random src terms as negatives.\n"
     ]
    },
    {
     "name": "stderr",
     "output_type": "stream",
     "text": [
      "Making family negatives:  43%|████▎     | 18406/42769 [00:57<00:49, 492.48it/s]"
     ]
    },
    {
     "name": "stdout",
     "output_type": "stream",
     "text": [
      "No family negatives disponible - \n",
      "probably looking for root's children or depraceted terms\n",
      ". Using random src terms as negatives.\n"
     ]
    },
    {
     "name": "stderr",
     "output_type": "stream",
     "text": [
      "Making family negatives:  47%|████▋     | 20028/42769 [01:02<00:44, 515.73it/s]"
     ]
    },
    {
     "name": "stdout",
     "output_type": "stream",
     "text": [
      "No family negatives disponible - \n",
      "probably looking for root's children or depraceted terms\n",
      ". Using random src terms as negatives.\n"
     ]
    },
    {
     "name": "stderr",
     "output_type": "stream",
     "text": [
      "Making family negatives:  47%|████▋     | 20303/42769 [01:02<00:39, 563.31it/s]"
     ]
    },
    {
     "name": "stdout",
     "output_type": "stream",
     "text": [
      "No family negatives disponible - \n",
      "probably looking for root's children or depraceted terms\n",
      ". Using random src terms as negatives.\n",
      "No family negatives disponible - \n",
      "probably looking for root's children or depraceted terms\n",
      ". Using random src terms as negatives.\n"
     ]
    },
    {
     "name": "stderr",
     "output_type": "stream",
     "text": [
      "Making family negatives:  49%|████▉     | 21026/42769 [01:04<00:51, 421.84it/s]"
     ]
    },
    {
     "name": "stdout",
     "output_type": "stream",
     "text": [
      "No family negatives disponible - \n",
      "probably looking for root's children or depraceted terms\n",
      ". Using random src terms as negatives.\n"
     ]
    },
    {
     "name": "stderr",
     "output_type": "stream",
     "text": [
      "Making family negatives:  49%|████▉     | 21166/42769 [01:05<00:58, 367.20it/s]"
     ]
    },
    {
     "name": "stdout",
     "output_type": "stream",
     "text": [
      "No family negatives disponible - \n",
      "probably looking for root's children or depraceted terms\n",
      ". Using random src terms as negatives.\n"
     ]
    },
    {
     "name": "stderr",
     "output_type": "stream",
     "text": [
      "Making family negatives:  51%|█████     | 21599/42769 [01:06<00:43, 490.62it/s]"
     ]
    },
    {
     "name": "stdout",
     "output_type": "stream",
     "text": [
      "No family negatives disponible - \n",
      "probably looking for root's children or depraceted terms\n",
      ". Using random src terms as negatives.\n"
     ]
    },
    {
     "name": "stderr",
     "output_type": "stream",
     "text": [
      "Making family negatives:  52%|█████▏    | 22423/42769 [01:09<00:45, 448.94it/s]"
     ]
    },
    {
     "name": "stdout",
     "output_type": "stream",
     "text": [
      "No family negatives disponible - \n",
      "probably looking for root's children or depraceted terms\n",
      ". Using random src terms as negatives.\n",
      "No family negatives disponible - \n",
      "probably looking for root's children or depraceted terms\n",
      ". Using random src terms as negatives.\n",
      "No family negatives disponible - \n",
      "probably looking for root's children or depraceted terms\n",
      ". Using random src terms as negatives.\n"
     ]
    },
    {
     "name": "stderr",
     "output_type": "stream",
     "text": [
      "Making family negatives:  53%|█████▎    | 22770/42769 [01:10<00:43, 456.43it/s]"
     ]
    },
    {
     "name": "stdout",
     "output_type": "stream",
     "text": [
      "No family negatives disponible - \n",
      "probably looking for root's children or depraceted terms\n",
      ". Using random src terms as negatives.\n"
     ]
    },
    {
     "name": "stderr",
     "output_type": "stream",
     "text": [
      "Making family negatives:  55%|█████▍    | 23465/42769 [01:12<00:37, 519.39it/s]"
     ]
    },
    {
     "name": "stdout",
     "output_type": "stream",
     "text": [
      "No family negatives disponible - \n",
      "probably looking for root's children or depraceted terms\n",
      ". Using random src terms as negatives.\n"
     ]
    },
    {
     "name": "stderr",
     "output_type": "stream",
     "text": [
      "Making family negatives:  57%|█████▋    | 24462/42769 [01:14<00:35, 522.83it/s]"
     ]
    },
    {
     "name": "stdout",
     "output_type": "stream",
     "text": [
      "No family negatives disponible - \n",
      "probably looking for root's children or depraceted terms\n",
      ". Using random src terms as negatives.\n"
     ]
    },
    {
     "name": "stderr",
     "output_type": "stream",
     "text": [
      "Making family negatives:  58%|█████▊    | 24750/42769 [01:15<00:40, 448.29it/s]"
     ]
    },
    {
     "name": "stdout",
     "output_type": "stream",
     "text": [
      "No family negatives disponible - \n",
      "probably looking for root's children or depraceted terms\n",
      ". Using random src terms as negatives.\n"
     ]
    },
    {
     "name": "stderr",
     "output_type": "stream",
     "text": [
      "Making family negatives:  62%|██████▏   | 26630/42769 [01:21<00:37, 431.88it/s]"
     ]
    },
    {
     "name": "stdout",
     "output_type": "stream",
     "text": [
      "No family negatives disponible - \n",
      "probably looking for root's children or depraceted terms\n",
      ". Using random src terms as negatives.\n"
     ]
    },
    {
     "name": "stderr",
     "output_type": "stream",
     "text": [
      "Making family negatives:  63%|██████▎   | 26989/42769 [01:22<00:36, 437.40it/s]"
     ]
    },
    {
     "name": "stdout",
     "output_type": "stream",
     "text": [
      "No family negatives disponible - \n",
      "probably looking for root's children or depraceted terms\n",
      ". Using random src terms as negatives.\n"
     ]
    },
    {
     "name": "stderr",
     "output_type": "stream",
     "text": [
      "Making family negatives:  66%|██████▌   | 28049/42769 [01:25<00:29, 492.83it/s]"
     ]
    },
    {
     "name": "stdout",
     "output_type": "stream",
     "text": [
      "No family negatives disponible - \n",
      "probably looking for root's children or depraceted terms\n",
      ". Using random src terms as negatives.\n"
     ]
    },
    {
     "name": "stderr",
     "output_type": "stream",
     "text": [
      "Making family negatives:  66%|██████▋   | 28405/42769 [01:26<00:28, 504.64it/s]"
     ]
    },
    {
     "name": "stdout",
     "output_type": "stream",
     "text": [
      "No family negatives disponible - \n",
      "probably looking for root's children or depraceted terms\n",
      ". Using random src terms as negatives.\n"
     ]
    },
    {
     "name": "stderr",
     "output_type": "stream",
     "text": [
      "Making family negatives:  69%|██████▉   | 29561/42769 [01:29<00:25, 520.29it/s]"
     ]
    },
    {
     "name": "stdout",
     "output_type": "stream",
     "text": [
      "No family negatives disponible - \n",
      "probably looking for root's children or depraceted terms\n",
      ". Using random src terms as negatives.\n"
     ]
    },
    {
     "name": "stderr",
     "output_type": "stream",
     "text": [
      "Making family negatives:  70%|██████▉   | 29854/42769 [01:30<00:31, 415.37it/s]"
     ]
    },
    {
     "name": "stdout",
     "output_type": "stream",
     "text": [
      "No family negatives disponible - \n",
      "probably looking for root's children or depraceted terms\n",
      ". Using random src terms as negatives.\n",
      "No family negatives disponible - \n",
      "probably looking for root's children or depraceted terms\n",
      ". Using random src terms as negatives.\n"
     ]
    },
    {
     "name": "stderr",
     "output_type": "stream",
     "text": [
      "Making family negatives:  77%|███████▋  | 32776/42769 [01:37<00:17, 578.21it/s]"
     ]
    },
    {
     "name": "stdout",
     "output_type": "stream",
     "text": [
      "No family negatives disponible - \n",
      "probably looking for root's children or depraceted terms\n",
      ". Using random src terms as negatives.\n"
     ]
    },
    {
     "name": "stderr",
     "output_type": "stream",
     "text": [
      "Making family negatives:  77%|███████▋  | 33117/42769 [01:38<00:19, 489.82it/s]"
     ]
    },
    {
     "name": "stdout",
     "output_type": "stream",
     "text": [
      "No family negatives disponible - \n",
      "probably looking for root's children or depraceted terms\n",
      ". Using random src terms as negatives.\n"
     ]
    },
    {
     "name": "stderr",
     "output_type": "stream",
     "text": [
      "Making family negatives:  78%|███████▊  | 33439/42769 [01:39<00:18, 514.36it/s]"
     ]
    },
    {
     "name": "stdout",
     "output_type": "stream",
     "text": [
      "No family negatives disponible - \n",
      "probably looking for root's children or depraceted terms\n",
      ". Using random src terms as negatives.\n"
     ]
    },
    {
     "name": "stderr",
     "output_type": "stream",
     "text": [
      "Making family negatives:  80%|███████▉  | 34046/42769 [01:41<00:20, 425.51it/s]"
     ]
    },
    {
     "name": "stdout",
     "output_type": "stream",
     "text": [
      "No family negatives disponible - \n",
      "probably looking for root's children or depraceted terms\n",
      ". Using random src terms as negatives.\n"
     ]
    },
    {
     "name": "stderr",
     "output_type": "stream",
     "text": [
      "Making family negatives:  82%|████████▏ | 35130/42769 [01:44<00:15, 493.47it/s]"
     ]
    },
    {
     "name": "stdout",
     "output_type": "stream",
     "text": [
      "No family negatives disponible - \n",
      "probably looking for root's children or depraceted terms\n",
      ". Using random src terms as negatives.\n"
     ]
    },
    {
     "name": "stderr",
     "output_type": "stream",
     "text": [
      "Making family negatives:  85%|████████▍ | 36210/42769 [01:47<00:13, 501.10it/s]"
     ]
    },
    {
     "name": "stdout",
     "output_type": "stream",
     "text": [
      "No family negatives disponible - \n",
      "probably looking for root's children or depraceted terms\n",
      ". Using random src terms as negatives.\n"
     ]
    },
    {
     "name": "stderr",
     "output_type": "stream",
     "text": [
      "Making family negatives:  86%|████████▌ | 36576/42769 [01:48<00:15, 404.28it/s]"
     ]
    },
    {
     "name": "stdout",
     "output_type": "stream",
     "text": [
      "No family negatives disponible - \n",
      "probably looking for root's children or depraceted terms\n",
      ". Using random src terms as negatives.\n"
     ]
    },
    {
     "name": "stderr",
     "output_type": "stream",
     "text": [
      "Making family negatives:  86%|████████▋ | 36916/42769 [01:49<00:11, 510.54it/s]"
     ]
    },
    {
     "name": "stdout",
     "output_type": "stream",
     "text": [
      "No family negatives disponible - \n",
      "probably looking for root's children or depraceted terms\n",
      ". Using random src terms as negatives.\n"
     ]
    },
    {
     "name": "stderr",
     "output_type": "stream",
     "text": [
      "Making family negatives:  88%|████████▊ | 37599/42769 [01:51<00:10, 511.07it/s]"
     ]
    },
    {
     "name": "stdout",
     "output_type": "stream",
     "text": [
      "No family negatives disponible - \n",
      "probably looking for root's children or depraceted terms\n",
      ". Using random src terms as negatives.\n"
     ]
    },
    {
     "name": "stderr",
     "output_type": "stream",
     "text": [
      "Making family negatives:  91%|█████████ | 38965/42769 [01:55<00:07, 503.63it/s]"
     ]
    },
    {
     "name": "stdout",
     "output_type": "stream",
     "text": [
      "No family negatives disponible - \n",
      "probably looking for root's children or depraceted terms\n",
      ". Using random src terms as negatives.\n"
     ]
    },
    {
     "name": "stderr",
     "output_type": "stream",
     "text": [
      "Making family negatives:  92%|█████████▏| 39321/42769 [01:56<00:06, 494.53it/s]"
     ]
    },
    {
     "name": "stdout",
     "output_type": "stream",
     "text": [
      "No family negatives disponible - \n",
      "probably looking for root's children or depraceted terms\n",
      ". Using random src terms as negatives.\n"
     ]
    },
    {
     "name": "stderr",
     "output_type": "stream",
     "text": [
      "Making family negatives:  93%|█████████▎| 39668/42769 [01:57<00:07, 421.46it/s]"
     ]
    },
    {
     "name": "stdout",
     "output_type": "stream",
     "text": [
      "No family negatives disponible - \n",
      "probably looking for root's children or depraceted terms\n",
      ". Using random src terms as negatives.\n"
     ]
    },
    {
     "name": "stderr",
     "output_type": "stream",
     "text": [
      "Making family negatives:  96%|█████████▌| 40947/42769 [02:00<00:04, 425.09it/s]"
     ]
    },
    {
     "name": "stdout",
     "output_type": "stream",
     "text": [
      "No family negatives disponible - \n",
      "probably looking for root's children or depraceted terms\n",
      ". Using random src terms as negatives.\n"
     ]
    },
    {
     "name": "stderr",
     "output_type": "stream",
     "text": [
      "Making family negatives:  97%|█████████▋| 41545/42769 [02:02<00:03, 402.56it/s]"
     ]
    },
    {
     "name": "stdout",
     "output_type": "stream",
     "text": [
      "No family negatives disponible - \n",
      "probably looking for root's children or depraceted terms\n",
      ". Using random src terms as negatives.\n"
     ]
    },
    {
     "name": "stderr",
     "output_type": "stream",
     "text": [
      "Making family negatives:  99%|█████████▉| 42249/42769 [02:04<00:01, 404.31it/s]"
     ]
    },
    {
     "name": "stdout",
     "output_type": "stream",
     "text": [
      "No family negatives disponible - \n",
      "probably looking for root's children or depraceted terms\n",
      ". Using random src terms as negatives.\n"
     ]
    },
    {
     "name": "stderr",
     "output_type": "stream",
     "text": [
      "Making family negatives: 100%|██████████| 42769/42769 [02:11<00:00, 325.14it/s]\n"
     ]
    }
   ],
   "source": [
    "source_family_neg_dict = make_source_family_neg_dict(input_df=filterded_GO_family_df, source_col='source', neg_col='family_without_children', num_neg_per_pos=224)"
   ]
  },
  {
   "cell_type": "code",
   "execution_count": 41,
   "metadata": {},
   "outputs": [
    {
     "name": "stderr",
     "output_type": "stream",
     "text": [
      "100%|██████████| 42769/42769 [00:00<00:00, 687169.13it/s]\n"
     ]
    }
   ],
   "source": [
    "for k in tqdm(source_family_neg_dict.keys()):\n",
    "    if 224 != source_family_neg_dict[k].size()[0]:\n",
    "        print(k)"
   ]
  },
  {
   "cell_type": "code",
   "execution_count": 44,
   "metadata": {},
   "outputs": [
    {
     "data": {
      "text/plain": [
       "torch.Size([42793])"
      ]
     },
     "execution_count": 44,
     "metadata": {},
     "output_type": "execute_result"
    }
   ],
   "source": [
    "batchy['go']['dst_neg_index'].unique().size()"
   ]
  },
  {
   "cell_type": "code",
   "execution_count": 48,
   "metadata": {},
   "outputs": [],
   "source": [
    "diff = set(batchy['go']['dst_neg_index'].unique().tolist()) - set(GO_edge_index.unique().tolist())"
   ]
  },
  {
   "cell_type": "code",
   "execution_count": 49,
   "metadata": {},
   "outputs": [
    {
     "data": {
      "text/plain": [
       "210"
      ]
     },
     "execution_count": 49,
     "metadata": {},
     "output_type": "execute_result"
    }
   ],
   "source": [
    "len(diff)"
   ]
  },
  {
   "cell_type": "code",
   "execution_count": 53,
   "metadata": {},
   "outputs": [
    {
     "name": "stdout",
     "output_type": "stream",
     "text": [
      "GO:0031359\n",
      "GO:0031351\n",
      "GO:0006330\n",
      "GO:0006990\n",
      "GO:0009019\n",
      "GO:0030104\n",
      "GO:0006588\n",
      "GO:0019204\n",
      "GO:0035511\n",
      "GO:0031938\n",
      "GO:1900490\n",
      "GO:0004871\n",
      "GO:0010941\n",
      "GO:0055069\n",
      "GO:0018192\n",
      "GO:0015491\n",
      "GO:0048037\n",
      "GO:0055076\n",
      "GO:0005779\n",
      "GO:0031357\n",
      "GO:0004652\n",
      "GO:2001020\n",
      "GO:0016576\n",
      "GO:0000306\n",
      "GO:0102486\n",
      "GO:0006875\n",
      "GO:0090305\n",
      "GO:0102488\n",
      "GO:0006379\n",
      "GO:0004221\n",
      "GO:0005623\n",
      "GO:0006200\n",
      "GO:0016585\n",
      "GO:0010940\n",
      "GO:0102797\n",
      "GO:0102490\n",
      "GO:0007568\n",
      "GO:0042643\n",
      "GO:0010525\n",
      "GO:0052033\n",
      "GO:0018024\n",
      "GO:0102343\n",
      "GO:0010252\n",
      "GO:0010216\n",
      "GO:0044260\n",
      "GO:0009305\n",
      "GO:0005671\n",
      "GO:0044464\n",
      "GO:0102552\n",
      "GO:1901972\n",
      "GO:1990440\n",
      "GO:0030696\n",
      "GO:0042766\n",
      "GO:0031307\n",
      "GO:0060968\n",
      "GO:0045857\n",
      "GO:0010260\n",
      "GO:0102798\n",
      "GO:0030173\n",
      "GO:0000186\n",
      "GO:0098519\n",
      "GO:2000582\n",
      "GO:0009108\n",
      "GO:0043486\n",
      "GO:0005639\n",
      "GO:0070895\n",
      "GO:0006733\n",
      "GO:0016307\n",
      "GO:0006184\n",
      "GO:0061408\n",
      "GO:1903507\n",
      "GO:0046658\n",
      "GO:0050155\n",
      "GO:0015301\n",
      "GO:0000737\n",
      "GO:0006073\n",
      "GO:0030528\n",
      "GO:0016563\n",
      "GO:0102487\n",
      "GO:0043619\n",
      "GO:0044431\n",
      "GO:0033577\n",
      "GO:0052746\n",
      "GO:0051188\n",
      "GO:0043620\n",
      "GO:0003715\n",
      "GO:0048478\n",
      "GO:0009348\n",
      "GO:0007569\n",
      "GO:0010847\n",
      "GO:0097573\n",
      "GO:0043631\n",
      "GO:0000989\n",
      "GO:0044262\n",
      "GO:0046855\n",
      "GO:0010259\n",
      "GO:2001022\n",
      "GO:0070940\n",
      "GO:0031305\n",
      "GO:0018298\n",
      "GO:0004437\n",
      "GO:0102553\n",
      "GO:0031304\n",
      "GO:0010942\n",
      "GO:0055073\n",
      "GO:0004584\n",
      "GO:0006296\n",
      "GO:0072684\n",
      "GO:0016458\n",
      "GO:0070816\n",
      "GO:0006165\n",
      "GO:0034414\n",
      "GO:0042991\n",
      "GO:0031936\n",
      "GO:0090502\n",
      "GO:0010843\n",
      "GO:0072321\n",
      "GO:0004158\n",
      "GO:0006557\n",
      "GO:0009020\n",
      "GO:0051186\n",
      "GO:0042779\n",
      "GO:0000469\n",
      "GO:0140603\n",
      "GO:0016572\n",
      "GO:0055114\n",
      "GO:0008471\n",
      "GO:1900049\n",
      "GO:0033955\n",
      "GO:0046838\n",
      "GO:0035174\n",
      "GO:0016429\n",
      "GO:0035404\n",
      "GO:0055068\n",
      "GO:0102345\n",
      "GO:0003773\n",
      "GO:0071458\n",
      "GO:0030176\n",
      "GO:0043988\n",
      "GO:0071556\n",
      "GO:0004702\n",
      "GO:0008853\n",
      "GO:0034645\n",
      "GO:0031532\n",
      "GO:0006471\n",
      "GO:0008022\n",
      "GO:0080023\n",
      "GO:0001302\n",
      "GO:2000653\n",
      "GO:0032592\n",
      "GO:0004809\n",
      "GO:0033683\n",
      "GO:0001128\n",
      "GO:0061866\n",
      "GO:0008565\n",
      "GO:0070084\n",
      "GO:0048016\n",
      "GO:0071733\n",
      "GO:0070584\n",
      "GO:0070122\n",
      "GO:0000187\n",
      "GO:0050072\n",
      "GO:0102344\n",
      "GO:0102485\n",
      "GO:0004428\n",
      "GO:0055065\n",
      "GO:0006349\n",
      "GO:0031227\n",
      "GO:0010217\n",
      "GO:0031225\n",
      "GO:0000738\n",
      "GO:1900363\n",
      "GO:0031935\n",
      "GO:0098789\n",
      "GO:0004600\n",
      "GO:0001004\n",
      "GO:0007090\n",
      "GO:0102489\n",
      "GO:0046939\n",
      "GO:0043551\n",
      "GO:0016584\n",
      "GO:0044136\n",
      "GO:0000453\n",
      "GO:0009405\n",
      "GO:0071050\n",
      "GO:0090501\n",
      "GO:0044428\n",
      "GO:0070191\n",
      "GO:0009614\n",
      "GO:0008144\n",
      "GO:1901407\n",
      "GO:0047780\n",
      "GO:0043900\n",
      "GO:0050662\n",
      "GO:0102756\n",
      "GO:0003840\n",
      "GO:0017163\n",
      "GO:2000112\n",
      "GO:0044805\n",
      "GO:0060548\n",
      "GO:0043987\n",
      "GO:2001253\n",
      "GO:0016564\n",
      "GO:0052666\n",
      "GO:0055072\n",
      "GO:0090503\n",
      "GO:0070265\n",
      "GO:0102491\n",
      "GO:0000733\n",
      "GO:0015299\n"
     ]
    }
   ],
   "source": [
    "for i in diff:\n",
    "    print(idx_to_go[i])\n",
    "\n",
    "# These are deprecated GO terms !!!\n",
    "# Deprecated terms are not in edge index and thus not in source_family_neg_dict."
   ]
  },
  {
   "cell_type": "code",
   "execution_count": 51,
   "metadata": {},
   "outputs": [
    {
     "data": {
      "text/plain": [
       "torch.Size([1024, 224])"
      ]
     },
     "execution_count": 51,
     "metadata": {},
     "output_type": "execute_result"
    }
   ],
   "source": []
  },
  {
   "cell_type": "code",
   "execution_count": 27,
   "metadata": {},
   "outputs": [],
   "source": [
    "# df3 = get_family(GO_edge_index, max_dist = 3)\n",
    "# df3.head()"
   ]
  },
  {
   "cell_type": "code",
   "execution_count": null,
   "metadata": {},
   "outputs": [],
   "source": [
    "batch"
   ]
  },
  {
   "cell_type": "code",
   "execution_count": 28,
   "metadata": {},
   "outputs": [
    {
     "data": {
      "text/plain": [
       "tensor([[30216, 28465, 39027,  ...,  3669, 42383, 35430],\n",
       "        [33431, 12311,  6202,  ..., 38014,  2084, 39752],\n",
       "        [12521, 18979, 37378,  ...,  4920, 34142, 34856],\n",
       "        ...,\n",
       "        [13191, 21645, 29896,  ...,  4781, 10992, 12529],\n",
       "        [12833, 40396, 30481,  ...,  6186, 28599,  2479],\n",
       "        [39509, 16951, 25960,  ..., 25806, 22557, 17300]])"
      ]
     },
     "execution_count": 28,
     "metadata": {},
     "output_type": "execute_result"
    }
   ],
   "source": [
    "'''il faut modifier batchy['go']['dst_neg_index']'''\n",
    "batchy = next(iter(train_loader))\n",
    "batchy['go']['dst_neg_index']"
   ]
  },
  {
   "cell_type": "code",
   "execution_count": 29,
   "metadata": {},
   "outputs": [],
   "source": [
    "# batchy['go']['dst_neg_index'].size()"
   ]
  },
  {
   "cell_type": "code",
   "execution_count": 30,
   "metadata": {},
   "outputs": [],
   "source": [
    "# source_family_neg_dict = make_source_family_neg_dict(input_df=df3, source_col='source', neg_col='family_without_parents', num_neg_per_pos=batchy['go']['dst_neg_index'].size()[1])"
   ]
  },
  {
   "cell_type": "code",
   "execution_count": 31,
   "metadata": {},
   "outputs": [],
   "source": [
    "# print(batchy['go']['dst_neg_index'].size())\n",
    "# print(batchy['go']['dst_pos_index'].size())"
   ]
  },
  {
   "cell_type": "code",
   "execution_count": 32,
   "metadata": {},
   "outputs": [
    {
     "data": {
      "text/plain": [
       "torch.Size([224])"
      ]
     },
     "execution_count": 32,
     "metadata": {},
     "output_type": "execute_result"
    }
   ],
   "source": [
    "source_family_neg_dict[0].size()"
   ]
  },
  {
   "cell_type": "code",
   "execution_count": 33,
   "metadata": {},
   "outputs": [
    {
     "ename": "SyntaxError",
     "evalue": "invalid syntax (3310570541.py, line 2)",
     "output_type": "error",
     "traceback": [
      "\u001b[0;36m  Cell \u001b[0;32mIn[33], line 2\u001b[0;36m\u001b[0m\n\u001b[0;31m    source_family_neg_dict[k]b\u001b[0m\n\u001b[0m                             ^\u001b[0m\n\u001b[0;31mSyntaxError\u001b[0m\u001b[0;31m:\u001b[0m invalid syntax\n"
     ]
    }
   ],
   "source": [
    "for k in source_family_neg_dict.keys():\n",
    "    source_family_neg_dict[k]"
   ]
  },
  {
   "cell_type": "code",
   "execution_count": null,
   "metadata": {},
   "outputs": [
    {
     "name": "stdout",
     "output_type": "stream",
     "text": [
      "783 not found in dict, using random original terms for negatives.\n",
      " Probably a node that is not connected in GO because deprecated\n",
      "783 not found in dict, using random original terms for negatives.\n",
      " Probably a node that is not connected in GO because deprecated\n",
      "783 not found in dict, using random original terms for negatives.\n",
      " Probably a node that is not connected in GO because deprecated\n",
      "783 not found in dict, using random original terms for negatives.\n",
      " Probably a node that is not connected in GO because deprecated\n",
      "783 not found in dict, using random original terms for negatives.\n",
      " Probably a node that is not connected in GO because deprecated\n",
      "37971 not found in dict, using random original terms for negatives.\n",
      " Probably a node that is not connected in GO because deprecated\n",
      "783 not found in dict, using random original terms for negatives.\n",
      " Probably a node that is not connected in GO because deprecated\n",
      "783 not found in dict, using random original terms for negatives.\n",
      " Probably a node that is not connected in GO because deprecated\n",
      "27083 not found in dict, using random original terms for negatives.\n",
      " Probably a node that is not connected in GO because deprecated\n",
      "783 not found in dict, using random original terms for negatives.\n",
      " Probably a node that is not connected in GO because deprecated\n",
      "37971 not found in dict, using random original terms for negatives.\n",
      " Probably a node that is not connected in GO because deprecated\n",
      "15803 not found in dict, using random original terms for negatives.\n",
      " Probably a node that is not connected in GO because deprecated\n",
      "19307 not found in dict, using random original terms for negatives.\n",
      " Probably a node that is not connected in GO because deprecated\n",
      "783 not found in dict, using random original terms for negatives.\n",
      " Probably a node that is not connected in GO because deprecated\n",
      "37971 not found in dict, using random original terms for negatives.\n",
      " Probably a node that is not connected in GO because deprecated\n",
      "Generated negs : torch.Size([1024, 224]) torch.int64\n",
      "Original negs  : torch.Size([1024, 224]) torch.int64\n"
     ]
    }
   ],
   "source": [
    "def try_to_associate_family_neg(id, family_neg_dict, alt_values_list, num_neg):\n",
    "\n",
    "    try :\n",
    "\n",
    "        return family_neg_dict[id]\n",
    "    except :\n",
    "        print(f'{id} not found in dict, using random original terms for negatives.\\n Probably a node that is not connected in GO because deprecated')\n",
    "        return torch.tensor(random.choices(alt_values_list, k = num_neg))\n",
    "    \n",
    "\n",
    "def make_family_neg_for_batch(batch, family_neg_dict):\n",
    "    \n",
    "    num_neg = batch['go']['dst_neg_index'].size()[1]\n",
    "    alt_values = list(set(batch['go']['dst_neg_index'].unique().tolist()) - set(list(range(42960,42999))))\n",
    "\n",
    "    pos = batch['go']['dst_pos_index'].numpy()\n",
    "    df = pd.DataFrame(pos, columns=['pos'])\n",
    "\n",
    "    df['family_neg'] = df.apply(lambda row : try_to_associate_family_neg(id              =  row['pos'],\n",
    "                                                                         family_neg_dict = family_neg_dict,\n",
    "                                                                         num_neg         = num_neg,\n",
    "                                                                         alt_values_list = alt_values),\n",
    "                                            axis =1)\n",
    "    \n",
    "\n",
    "    return torch.stack(df['family_neg'].to_list()).type(dtype=torch.LongTensor)\n",
    "\n",
    "        \n",
    "    \n",
    "\n",
    "batchy_family_neg = make_family_neg_for_batch(batchy, source_family_neg_dict)\n",
    "print('Generated negs :',batchy_family_neg.size(), batchy_family_neg.dtype)\n",
    "print('Original negs  :',batchy['go']['dst_neg_index'].size(), batchy_family_neg.dtype)"
   ]
  },
  {
   "cell_type": "code",
   "execution_count": 35,
   "metadata": {},
   "outputs": [
    {
     "name": "stderr",
     "output_type": "stream",
     "text": [
      "  0%|          | 0/42769 [00:00<?, ?it/s]"
     ]
    },
    {
     "name": "stderr",
     "output_type": "stream",
     "text": [
      "100%|██████████| 42769/42769 [04:02<00:00, 176.08it/s]\n"
     ]
    }
   ],
   "source": [
    "for k in tqdm(source_family_neg_dict.keys()):\n",
    "    for i in source_family_neg_dict[k]:\n",
    "        if i<0 :\n",
    "            print(i)\n",
    "        elif i >42965:\n",
    "            print(i)"
   ]
  },
  {
   "cell_type": "code",
   "execution_count": 36,
   "metadata": {},
   "outputs": [
    {
     "name": "stderr",
     "output_type": "stream",
     "text": [
      "Training:   0%|          | 0/80 [00:00<?, ?it/s]"
     ]
    },
    {
     "name": "stdout",
     "output_type": "stream",
     "text": [
      "6215 not found in dict, using random original terms for negatives.\n",
      " Probably a node that is not connected in GO because deprecated\n",
      "33199 not found in dict, using random original terms for negatives.\n",
      " Probably a node that is not connected in GO because deprecated\n",
      "tensor([[24609, 37697, 34284,  ..., 20555, 13315, 27809],\n",
      "        [36008, 30789,  4535,  ...,  3705, 41724,  7758],\n",
      "        [19660, 40464, 38448,  ...,  7926, 23725, 20995],\n",
      "        ...,\n",
      "        [15779, 29833, 28231,  ..., 32838,  6328, 28455],\n",
      "        [37176, 17348,  3287,  ..., 16442, 27401, 41449],\n",
      "        [34178, 15769, 17470,  ..., 15434,   478, 39837]])\n"
     ]
    },
    {
     "name": "stderr",
     "output_type": "stream",
     "text": [
      "Training:   1%|▏         | 1/80 [01:54<2:30:28, 114.28s/it]"
     ]
    },
    {
     "name": "stdout",
     "output_type": "stream",
     "text": [
      "34482 not found in dict, using random original terms for negatives.\n",
      " Probably a node that is not connected in GO because deprecated\n",
      "33315 not found in dict, using random original terms for negatives.\n",
      " Probably a node that is not connected in GO because deprecated\n",
      "18322 not found in dict, using random original terms for negatives.\n",
      " Probably a node that is not connected in GO because deprecated\n",
      "33315 not found in dict, using random original terms for negatives.\n",
      " Probably a node that is not connected in GO because deprecated\n",
      "33315 not found in dict, using random original terms for negatives.\n",
      " Probably a node that is not connected in GO because deprecated\n",
      "34482 not found in dict, using random original terms for negatives.\n",
      " Probably a node that is not connected in GO because deprecated\n",
      "34482 not found in dict, using random original terms for negatives.\n",
      " Probably a node that is not connected in GO because deprecated\n",
      "33315 not found in dict, using random original terms for negatives.\n",
      " Probably a node that is not connected in GO because deprecated\n",
      "34482 not found in dict, using random original terms for negatives.\n",
      " Probably a node that is not connected in GO because deprecated\n",
      "33315 not found in dict, using random original terms for negatives.\n",
      " Probably a node that is not connected in GO because deprecated\n",
      "18322 not found in dict, using random original terms for negatives.\n",
      " Probably a node that is not connected in GO because deprecated\n",
      "34482 not found in dict, using random original terms for negatives.\n",
      " Probably a node that is not connected in GO because deprecated\n",
      "34482 not found in dict, using random original terms for negatives.\n",
      " Probably a node that is not connected in GO because deprecated\n",
      "18322 not found in dict, using random original terms for negatives.\n",
      " Probably a node that is not connected in GO because deprecated\n",
      "tensor([[ 6079,  7355, 12186,  ..., 33492, 39909,  3648],\n",
      "        [33049, 19958, 14919,  ...,  6318, 11867, 37990],\n",
      "        [24891, 17246, 14792,  ...,  7920, 35638, 27577],\n",
      "        ...,\n",
      "        [ 5663, 29689, 12063,  ..., 39161, 34704, 39804],\n",
      "        [ 5753, 17643, 29618,  ..., 29547, 25549, 24520],\n",
      "        [41355, 26346,  9156,  ..., 31487, 31681, 20948]])\n"
     ]
    },
    {
     "name": "stderr",
     "output_type": "stream",
     "text": [
      "Training:   2%|▎         | 2/80 [03:26<2:11:26, 101.11s/it]"
     ]
    },
    {
     "name": "stdout",
     "output_type": "stream",
     "text": [
      "23127 not found in dict, using random original terms for negatives.\n",
      " Probably a node that is not connected in GO because deprecated\n",
      "8180 not found in dict, using random original terms for negatives.\n",
      " Probably a node that is not connected in GO because deprecated\n",
      "11094 not found in dict, using random original terms for negatives.\n",
      " Probably a node that is not connected in GO because deprecated\n",
      "24089 not found in dict, using random original terms for negatives.\n",
      " Probably a node that is not connected in GO because deprecated\n",
      "17239 not found in dict, using random original terms for negatives.\n",
      " Probably a node that is not connected in GO because deprecated\n",
      "18050 not found in dict, using random original terms for negatives.\n",
      " Probably a node that is not connected in GO because deprecated\n",
      "18050 not found in dict, using random original terms for negatives.\n",
      " Probably a node that is not connected in GO because deprecated\n",
      "tensor([[30882, 23940, 21741,  ..., 25037,   478,  8416],\n",
      "        [36981, 17890, 37123,  ..., 31532, 23326, 19232],\n",
      "        [31362, 29663, 11901,  ..., 29269,  8389, 21866],\n",
      "        ...,\n",
      "        [14329, 19215, 36665,  ...,  5174, 38449, 15182],\n",
      "        [28126, 24403, 16927,  ...,  4857, 37401, 26909],\n",
      "        [32307, 14069, 15108,  ...,  8753, 28716, 25221]])\n"
     ]
    },
    {
     "name": "stderr",
     "output_type": "stream",
     "text": [
      "Training:   4%|▍         | 3/80 [04:56<2:03:12, 96.01s/it] "
     ]
    },
    {
     "name": "stdout",
     "output_type": "stream",
     "text": [
      "783 not found in dict, using random original terms for negatives.\n",
      " Probably a node that is not connected in GO because deprecated\n",
      "783 not found in dict, using random original terms for negatives.\n",
      " Probably a node that is not connected in GO because deprecated\n",
      "7944 not found in dict, using random original terms for negatives.\n",
      " Probably a node that is not connected in GO because deprecated\n",
      "37971 not found in dict, using random original terms for negatives.\n",
      " Probably a node that is not connected in GO because deprecated\n",
      "783 not found in dict, using random original terms for negatives.\n",
      " Probably a node that is not connected in GO because deprecated\n",
      "7944 not found in dict, using random original terms for negatives.\n",
      " Probably a node that is not connected in GO because deprecated\n",
      "10888 not found in dict, using random original terms for negatives.\n",
      " Probably a node that is not connected in GO because deprecated\n",
      "7944 not found in dict, using random original terms for negatives.\n",
      " Probably a node that is not connected in GO because deprecated\n",
      "7944 not found in dict, using random original terms for negatives.\n",
      " Probably a node that is not connected in GO because deprecated\n",
      "7944 not found in dict, using random original terms for negatives.\n",
      " Probably a node that is not connected in GO because deprecated\n",
      "783 not found in dict, using random original terms for negatives.\n",
      " Probably a node that is not connected in GO because deprecated\n",
      "7944 not found in dict, using random original terms for negatives.\n",
      " Probably a node that is not connected in GO because deprecated\n",
      "7944 not found in dict, using random original terms for negatives.\n",
      " Probably a node that is not connected in GO because deprecated\n",
      "42403 not found in dict, using random original terms for negatives.\n",
      " Probably a node that is not connected in GO because deprecated\n",
      "17765 not found in dict, using random original terms for negatives.\n",
      " Probably a node that is not connected in GO because deprecated\n",
      "7944 not found in dict, using random original terms for negatives.\n",
      " Probably a node that is not connected in GO because deprecated\n",
      "783 not found in dict, using random original terms for negatives.\n",
      " Probably a node that is not connected in GO because deprecated\n",
      "7944 not found in dict, using random original terms for negatives.\n",
      " Probably a node that is not connected in GO because deprecated\n",
      "7944 not found in dict, using random original terms for negatives.\n",
      " Probably a node that is not connected in GO because deprecated\n",
      "tensor([[41913, 36666,  5545,  ..., 22895, 11672,  3753],\n",
      "        [  689,  3144, 17472,  ..., 17740, 15286, 35969],\n",
      "        [ 1679, 25202, 22209,  ..., 36859, 37792, 40014],\n",
      "        ...,\n",
      "        [18856,  3040,  8087,  ...,  5542, 41064, 25292],\n",
      "        [37154,  6147, 39932,  ..., 26952,  9981, 31333],\n",
      "        [16420, 17793, 25043,  ...,   915, 37146, 12422]])\n"
     ]
    },
    {
     "name": "stderr",
     "output_type": "stream",
     "text": [
      "Training:   5%|▌         | 4/80 [06:32<2:01:34, 95.98s/it]"
     ]
    },
    {
     "name": "stdout",
     "output_type": "stream",
     "text": [
      "2530 not found in dict, using random original terms for negatives.\n",
      " Probably a node that is not connected in GO because deprecated\n",
      "33732 not found in dict, using random original terms for negatives.\n",
      " Probably a node that is not connected in GO because deprecated\n",
      "tensor([[42064, 10622, 29078,  ..., 11115,  3627,  1130],\n",
      "        [ 2455, 32479, 38375,  ..., 42050, 24332, 10408],\n",
      "        [30839, 12985, 34207,  ...,  3936, 41532, 19688],\n",
      "        ...,\n",
      "        [ 5664, 27823, 20774,  ..., 12430, 21384, 37802],\n",
      "        [26244, 10817, 30458,  ..., 21382, 31309, 33539],\n",
      "        [41040,  3429, 14562,  ...,  8314, 36845,  7791]])\n"
     ]
    },
    {
     "name": "stderr",
     "output_type": "stream",
     "text": [
      "Training:   6%|▋         | 5/80 [08:28<2:09:24, 103.52s/it]"
     ]
    },
    {
     "name": "stdout",
     "output_type": "stream",
     "text": [
      "2883 not found in dict, using random original terms for negatives.\n",
      " Probably a node that is not connected in GO because deprecated\n",
      "2883 not found in dict, using random original terms for negatives.\n",
      " Probably a node that is not connected in GO because deprecated\n",
      "2883 not found in dict, using random original terms for negatives.\n",
      " Probably a node that is not connected in GO because deprecated\n",
      "20359 not found in dict, using random original terms for negatives.\n",
      " Probably a node that is not connected in GO because deprecated\n",
      "2883 not found in dict, using random original terms for negatives.\n",
      " Probably a node that is not connected in GO because deprecated\n",
      "2883 not found in dict, using random original terms for negatives.\n",
      " Probably a node that is not connected in GO because deprecated\n",
      "2883 not found in dict, using random original terms for negatives.\n",
      " Probably a node that is not connected in GO because deprecated\n",
      "2883 not found in dict, using random original terms for negatives.\n",
      " Probably a node that is not connected in GO because deprecated\n",
      "2883 not found in dict, using random original terms for negatives.\n",
      " Probably a node that is not connected in GO because deprecated\n",
      "2883 not found in dict, using random original terms for negatives.\n",
      " Probably a node that is not connected in GO because deprecated\n",
      "2883 not found in dict, using random original terms for negatives.\n",
      " Probably a node that is not connected in GO because deprecated\n",
      "2883 not found in dict, using random original terms for negatives.\n",
      " Probably a node that is not connected in GO because deprecated\n",
      "2883 not found in dict, using random original terms for negatives.\n",
      " Probably a node that is not connected in GO because deprecated\n",
      "2883 not found in dict, using random original terms for negatives.\n",
      " Probably a node that is not connected in GO because deprecated\n",
      "2883 not found in dict, using random original terms for negatives.\n",
      " Probably a node that is not connected in GO because deprecated\n",
      "20359 not found in dict, using random original terms for negatives.\n",
      " Probably a node that is not connected in GO because deprecated\n",
      "20359 not found in dict, using random original terms for negatives.\n",
      " Probably a node that is not connected in GO because deprecated\n",
      "2883 not found in dict, using random original terms for negatives.\n",
      " Probably a node that is not connected in GO because deprecated\n",
      "2883 not found in dict, using random original terms for negatives.\n",
      " Probably a node that is not connected in GO because deprecated\n",
      "2883 not found in dict, using random original terms for negatives.\n",
      " Probably a node that is not connected in GO because deprecated\n",
      "2883 not found in dict, using random original terms for negatives.\n",
      " Probably a node that is not connected in GO because deprecated\n",
      "2883 not found in dict, using random original terms for negatives.\n",
      " Probably a node that is not connected in GO because deprecated\n",
      "2883 not found in dict, using random original terms for negatives.\n",
      " Probably a node that is not connected in GO because deprecated\n",
      "2883 not found in dict, using random original terms for negatives.\n",
      " Probably a node that is not connected in GO because deprecated\n",
      "12256 not found in dict, using random original terms for negatives.\n",
      " Probably a node that is not connected in GO because deprecated\n",
      "2883 not found in dict, using random original terms for negatives.\n",
      " Probably a node that is not connected in GO because deprecated\n",
      "2883 not found in dict, using random original terms for negatives.\n",
      " Probably a node that is not connected in GO because deprecated\n",
      "20359 not found in dict, using random original terms for negatives.\n",
      " Probably a node that is not connected in GO because deprecated\n",
      "40834 not found in dict, using random original terms for negatives.\n",
      " Probably a node that is not connected in GO because deprecated\n",
      "2883 not found in dict, using random original terms for negatives.\n",
      " Probably a node that is not connected in GO because deprecated\n",
      "2883 not found in dict, using random original terms for negatives.\n",
      " Probably a node that is not connected in GO because deprecated\n",
      "2883 not found in dict, using random original terms for negatives.\n",
      " Probably a node that is not connected in GO because deprecated\n",
      "2883 not found in dict, using random original terms for negatives.\n",
      " Probably a node that is not connected in GO because deprecated\n",
      "2883 not found in dict, using random original terms for negatives.\n",
      " Probably a node that is not connected in GO because deprecated\n",
      "2883 not found in dict, using random original terms for negatives.\n",
      " Probably a node that is not connected in GO because deprecated\n",
      "2883 not found in dict, using random original terms for negatives.\n",
      " Probably a node that is not connected in GO because deprecated\n",
      "2883 not found in dict, using random original terms for negatives.\n",
      " Probably a node that is not connected in GO because deprecated\n",
      "2883 not found in dict, using random original terms for negatives.\n",
      " Probably a node that is not connected in GO because deprecated\n",
      "2883 not found in dict, using random original terms for negatives.\n",
      " Probably a node that is not connected in GO because deprecated\n",
      "2883 not found in dict, using random original terms for negatives.\n",
      " Probably a node that is not connected in GO because deprecated\n",
      "2883 not found in dict, using random original terms for negatives.\n",
      " Probably a node that is not connected in GO because deprecated\n",
      "2883 not found in dict, using random original terms for negatives.\n",
      " Probably a node that is not connected in GO because deprecated\n",
      "2883 not found in dict, using random original terms for negatives.\n",
      " Probably a node that is not connected in GO because deprecated\n",
      "2883 not found in dict, using random original terms for negatives.\n",
      " Probably a node that is not connected in GO because deprecated\n",
      "2883 not found in dict, using random original terms for negatives.\n",
      " Probably a node that is not connected in GO because deprecated\n",
      "2883 not found in dict, using random original terms for negatives.\n",
      " Probably a node that is not connected in GO because deprecated\n",
      "14276 not found in dict, using random original terms for negatives.\n",
      " Probably a node that is not connected in GO because deprecated\n",
      "2883 not found in dict, using random original terms for negatives.\n",
      " Probably a node that is not connected in GO because deprecated\n",
      "2883 not found in dict, using random original terms for negatives.\n",
      " Probably a node that is not connected in GO because deprecated\n",
      "2883 not found in dict, using random original terms for negatives.\n",
      " Probably a node that is not connected in GO because deprecated\n",
      "2883 not found in dict, using random original terms for negatives.\n",
      " Probably a node that is not connected in GO because deprecated\n",
      "20359 not found in dict, using random original terms for negatives.\n",
      " Probably a node that is not connected in GO because deprecated\n",
      "2883 not found in dict, using random original terms for negatives.\n",
      " Probably a node that is not connected in GO because deprecated\n",
      "2883 not found in dict, using random original terms for negatives.\n",
      " Probably a node that is not connected in GO because deprecated\n",
      "2883 not found in dict, using random original terms for negatives.\n",
      " Probably a node that is not connected in GO because deprecated\n",
      "2883 not found in dict, using random original terms for negatives.\n",
      " Probably a node that is not connected in GO because deprecated\n",
      "tensor([[16939, 20123, 16264,  ..., 12730, 17139, 19672],\n",
      "        [27808, 22085, 30883,  ..., 17479,  6458, 16586],\n",
      "        [  534, 40805, 30035,  ..., 23292, 23077,  3023],\n",
      "        ...,\n",
      "        [23724, 17182,  1346,  ..., 30269, 18249, 15560],\n",
      "        [33656, 16042, 21552,  ...,  1524, 18280, 27644],\n",
      "        [ 2199, 35728,  5171,  ..., 36048,  6026, 32112]])\n"
     ]
    },
    {
     "name": "stderr",
     "output_type": "stream",
     "text": [
      "Training:   8%|▊         | 6/80 [10:34<2:16:56, 111.04s/it]"
     ]
    },
    {
     "name": "stdout",
     "output_type": "stream",
     "text": [
      "36992 not found in dict, using random original terms for negatives.\n",
      " Probably a node that is not connected in GO because deprecated\n",
      "16025 not found in dict, using random original terms for negatives.\n",
      " Probably a node that is not connected in GO because deprecated\n",
      "12256 not found in dict, using random original terms for negatives.\n",
      " Probably a node that is not connected in GO because deprecated\n",
      "37 not found in dict, using random original terms for negatives.\n",
      " Probably a node that is not connected in GO because deprecated\n",
      "tensor([[41538, 31794, 36481,  ..., 17144, 12345, 38776],\n",
      "        [  641, 20034, 12265,  ..., 31856, 31524, 10444],\n",
      "        [24232, 15679, 39639,  ..., 17428, 33650, 28837],\n",
      "        ...,\n",
      "        [16388, 28503, 32589,  ..., 13148, 14998, 31845],\n",
      "        [ 8093,  4990,  4441,  ...,  8645, 30515,   355],\n",
      "        [36114, 42047,  5275,  ..., 26242,  1886,  8048]])\n"
     ]
    },
    {
     "name": "stderr",
     "output_type": "stream",
     "text": [
      "Training:   9%|▉         | 7/80 [12:43<2:22:12, 116.89s/it]"
     ]
    },
    {
     "name": "stdout",
     "output_type": "stream",
     "text": [
      "2883 not found in dict, using random original terms for negatives.\n",
      " Probably a node that is not connected in GO because deprecated\n",
      "2883 not found in dict, using random original terms for negatives.\n",
      " Probably a node that is not connected in GO because deprecated\n",
      "2883 not found in dict, using random original terms for negatives.\n",
      " Probably a node that is not connected in GO because deprecated\n",
      "2883 not found in dict, using random original terms for negatives.\n",
      " Probably a node that is not connected in GO because deprecated\n",
      "2883 not found in dict, using random original terms for negatives.\n",
      " Probably a node that is not connected in GO because deprecated\n",
      "2883 not found in dict, using random original terms for negatives.\n",
      " Probably a node that is not connected in GO because deprecated\n",
      "783 not found in dict, using random original terms for negatives.\n",
      " Probably a node that is not connected in GO because deprecated\n",
      "20944 not found in dict, using random original terms for negatives.\n",
      " Probably a node that is not connected in GO because deprecated\n",
      "34217 not found in dict, using random original terms for negatives.\n",
      " Probably a node that is not connected in GO because deprecated\n",
      "2883 not found in dict, using random original terms for negatives.\n",
      " Probably a node that is not connected in GO because deprecated\n",
      "2883 not found in dict, using random original terms for negatives.\n",
      " Probably a node that is not connected in GO because deprecated\n",
      "14459 not found in dict, using random original terms for negatives.\n",
      " Probably a node that is not connected in GO because deprecated\n",
      "2883 not found in dict, using random original terms for negatives.\n",
      " Probably a node that is not connected in GO because deprecated\n",
      "2883 not found in dict, using random original terms for negatives.\n",
      " Probably a node that is not connected in GO because deprecated\n",
      "2883 not found in dict, using random original terms for negatives.\n",
      " Probably a node that is not connected in GO because deprecated\n",
      "2883 not found in dict, using random original terms for negatives.\n",
      " Probably a node that is not connected in GO because deprecated\n",
      "2883 not found in dict, using random original terms for negatives.\n",
      " Probably a node that is not connected in GO because deprecated\n",
      "2883 not found in dict, using random original terms for negatives.\n",
      " Probably a node that is not connected in GO because deprecated\n",
      "2883 not found in dict, using random original terms for negatives.\n",
      " Probably a node that is not connected in GO because deprecated\n",
      "2883 not found in dict, using random original terms for negatives.\n",
      " Probably a node that is not connected in GO because deprecated\n",
      "2883 not found in dict, using random original terms for negatives.\n",
      " Probably a node that is not connected in GO because deprecated\n",
      "2883 not found in dict, using random original terms for negatives.\n",
      " Probably a node that is not connected in GO because deprecated\n",
      "2883 not found in dict, using random original terms for negatives.\n",
      " Probably a node that is not connected in GO because deprecated\n",
      "2883 not found in dict, using random original terms for negatives.\n",
      " Probably a node that is not connected in GO because deprecated\n",
      "2883 not found in dict, using random original terms for negatives.\n",
      " Probably a node that is not connected in GO because deprecated\n",
      "2883 not found in dict, using random original terms for negatives.\n",
      " Probably a node that is not connected in GO because deprecated\n",
      "2883 not found in dict, using random original terms for negatives.\n",
      " Probably a node that is not connected in GO because deprecated\n",
      "2883 not found in dict, using random original terms for negatives.\n",
      " Probably a node that is not connected in GO because deprecated\n",
      "2883 not found in dict, using random original terms for negatives.\n",
      " Probably a node that is not connected in GO because deprecated\n",
      "14459 not found in dict, using random original terms for negatives.\n",
      " Probably a node that is not connected in GO because deprecated\n",
      "783 not found in dict, using random original terms for negatives.\n",
      " Probably a node that is not connected in GO because deprecated\n",
      "2883 not found in dict, using random original terms for negatives.\n",
      " Probably a node that is not connected in GO because deprecated\n",
      "2883 not found in dict, using random original terms for negatives.\n",
      " Probably a node that is not connected in GO because deprecated\n",
      "2883 not found in dict, using random original terms for negatives.\n",
      " Probably a node that is not connected in GO because deprecated\n",
      "783 not found in dict, using random original terms for negatives.\n",
      " Probably a node that is not connected in GO because deprecated\n",
      "2883 not found in dict, using random original terms for negatives.\n",
      " Probably a node that is not connected in GO because deprecated\n",
      "783 not found in dict, using random original terms for negatives.\n",
      " Probably a node that is not connected in GO because deprecated\n",
      "2883 not found in dict, using random original terms for negatives.\n",
      " Probably a node that is not connected in GO because deprecated\n",
      "2883 not found in dict, using random original terms for negatives.\n",
      " Probably a node that is not connected in GO because deprecated\n",
      "2883 not found in dict, using random original terms for negatives.\n",
      " Probably a node that is not connected in GO because deprecated\n",
      "2883 not found in dict, using random original terms for negatives.\n",
      " Probably a node that is not connected in GO because deprecated\n",
      "2883 not found in dict, using random original terms for negatives.\n",
      " Probably a node that is not connected in GO because deprecated\n",
      "783 not found in dict, using random original terms for negatives.\n",
      " Probably a node that is not connected in GO because deprecated\n",
      "783 not found in dict, using random original terms for negatives.\n",
      " Probably a node that is not connected in GO because deprecated\n",
      "2883 not found in dict, using random original terms for negatives.\n",
      " Probably a node that is not connected in GO because deprecated\n",
      "2883 not found in dict, using random original terms for negatives.\n",
      " Probably a node that is not connected in GO because deprecated\n",
      "2883 not found in dict, using random original terms for negatives.\n",
      " Probably a node that is not connected in GO because deprecated\n",
      "2883 not found in dict, using random original terms for negatives.\n",
      " Probably a node that is not connected in GO because deprecated\n",
      "2883 not found in dict, using random original terms for negatives.\n",
      " Probably a node that is not connected in GO because deprecated\n",
      "2883 not found in dict, using random original terms for negatives.\n",
      " Probably a node that is not connected in GO because deprecated\n",
      "783 not found in dict, using random original terms for negatives.\n",
      " Probably a node that is not connected in GO because deprecated\n",
      "2883 not found in dict, using random original terms for negatives.\n",
      " Probably a node that is not connected in GO because deprecated\n",
      "2883 not found in dict, using random original terms for negatives.\n",
      " Probably a node that is not connected in GO because deprecated\n",
      "2883 not found in dict, using random original terms for negatives.\n",
      " Probably a node that is not connected in GO because deprecated\n",
      "2883 not found in dict, using random original terms for negatives.\n",
      " Probably a node that is not connected in GO because deprecated\n",
      "tensor([[ 5171, 31592, 13542,  ..., 23450, 38557, 23732],\n",
      "        [14003, 35380,  7006,  ...,  3298,   925, 13341],\n",
      "        [42943, 15167, 29507,  ..., 41017, 14256, 40893],\n",
      "        ...,\n",
      "        [14003, 35380,  7006,  ...,  3298,   925, 13341],\n",
      "        [10847,  9032, 25727,  ..., 21050,  4844,  5785],\n",
      "        [19599,  5687, 25205,  ...,  3735, 17588, 25817]])\n"
     ]
    },
    {
     "name": "stderr",
     "output_type": "stream",
     "text": [
      "Training:  10%|█         | 8/80 [14:54<2:25:31, 121.27s/it]"
     ]
    },
    {
     "name": "stdout",
     "output_type": "stream",
     "text": [
      "tensor([[37500, 38356, 21956,  ..., 22888, 40779,  5603],\n",
      "        [ 9317, 16531, 30045,  ...,  5953, 16782, 24648],\n",
      "        [26316,  1240, 32256,  ..., 38612,  5646, 38915],\n",
      "        ...,\n",
      "        [ 6438, 10550, 33912,  ..., 27360, 24239,  9301],\n",
      "        [27808, 22085, 30883,  ..., 17479,  6458, 16586],\n",
      "        [  122, 28615, 13614,  ..., 30190, 18443, 29864]])\n"
     ]
    },
    {
     "ename": "",
     "evalue": "",
     "output_type": "error",
     "traceback": [
      "\u001b[1;31mCanceled future for execute_request message before replies were done"
     ]
    },
    {
     "ename": "",
     "evalue": "",
     "output_type": "error",
     "traceback": [
      "\u001b[1;31mCanceled future for execute_request message before replies were done. \n",
      "\u001b[1;31mView Jupyter <a href='command:jupyter.viewOutput'>log</a> for further details."
     ]
    }
   ],
   "source": [
    "# ----------------- Loops ----------------- #\n",
    "@timer_func\n",
    "def evaluate(config, loader, model, criterion, compute_all_metrics=False, loader_type='validation', stopper_metric=False):\n",
    "    \"\"\"\n",
    "    Evaluate the model on a given data loader.\n",
    "\n",
    "    Parameters\n",
    "    ----------\n",
    "    config : object\n",
    "        An object containing the configuration parameters for the model.    \n",
    "    loader : DataLoader\n",
    "        The data loader to evaluate the model on.\n",
    "    model : Model\n",
    "        The model to evaluate.\n",
    "    criterion : callable\n",
    "        The loss function to use for evaluation.\n",
    "    compute_all_metrics : bool, optional\n",
    "        Whether to compute all metrics or partially. Default is False.\n",
    "    loader_type : str, optional\n",
    "        The type of the loader ('validation' or 'test'). Default is 'validation'.\n",
    "    stopper_metric : str or bool, optional\n",
    "        The metric that dictates when to stop training. If False, only the loss is computed. Default is False.\n",
    "\n",
    "    Returns\n",
    "    -------\n",
    "    tuple\n",
    "        A tuple of the evaluation metric and the loss, depending on the value of `stopper_metric`.\n",
    "        If compute_all_metrics is True, the function logs all metrics to W&B.\n",
    "    \"\"\"\n",
    "\n",
    "    print(\"Evaluation...\")\n",
    "    model.eval()\n",
    "    num_neg_samples = loader.neg_sampling.amount\n",
    "    with torch.no_grad():\n",
    "        if stopper_metric or compute_all_metrics:\n",
    "            ground_truths = torch.tensor([], device='cpu')\n",
    "            preds = torch.tensor([], device='cpu')\n",
    "            indexes = torch.tensor([], device='cpu')\n",
    "            total_loss, total_examples = 0, 0\n",
    "            index_end = loader.batch_size\n",
    "\n",
    "        for sampled_data in loader:\n",
    "            sampled_data = sampled_data.to(device)\n",
    "\n",
    "            batch_size = len(sampled_data[config.labels['tail']].dst_pos_index)\n",
    "            pred = model(sampled_data, config)\n",
    "            pos_samples = torch.ones(batch_size, device=device)\n",
    "            neg_samples = torch.zeros(num_neg_samples*batch_size, device=device)\n",
    "            ground_truth = torch.cat((pos_samples, neg_samples))\n",
    "\n",
    "            if stopper_metric or compute_all_metrics: # Store preds and truths for all batches, and compute indices to calc metrics\n",
    "                index_pos = torch.arange(end=index_end, start=index_end-batch_size) # index for predictions with pos. ground_truth\n",
    "                index_neg = torch.arange(end=index_end, start=index_end-batch_size).repeat_interleave(num_neg_samples)\n",
    "                index = torch.cat((index_pos, index_neg))\n",
    "                indexes = torch.cat((indexes, index.to('cpu')))\n",
    "                preds = torch.cat((preds, pred.to('cpu')))\n",
    "                ground_truths = torch.cat((ground_truths, ground_truth.to('cpu')))\n",
    "                index_end += batch_size\n",
    "\n",
    "            eval_loss = criterion(pred, ground_truth, gamma=config.gamma, alpha=config.alpha)\n",
    "\n",
    "            # if not stopper_metric: # Just logging loss\n",
    "            #     wandb.log({\"running_val_loss\": eval_loss})\n",
    "            #     break\n",
    "            # else:\n",
    "            total_loss += float(eval_loss) * pred.numel() \n",
    "            total_examples += pred.numel()\n",
    "            eval_loss = total_loss / total_examples\n",
    "\n",
    "            # if stopper_metric and not compute_all_metrics:\n",
    "            #     if index_end >= 2048: # Compute approx. intermediate metric on a few datapoints to speed up hyperopt process\n",
    "            #         break \n",
    "\n",
    "\n",
    "        model.train()\n",
    "\n",
    "        if stopper_metric and not compute_all_metrics: # Compute only the metric that dictates stopping\n",
    "            indexes = indexes.long()\n",
    "\n",
    "            # # Log heatmap between prediction and ground truth. Useful for visualization / debugging. overhead 0.2s per epoch for a single sample.\n",
    "            # heatmap = heatmaps(preds, ground_truths, indexes) \n",
    "            # wandb.log({f\"heatmap\": wandb.Image(heatmap)})\n",
    "            # heatmap.close() # Free up memory\n",
    "\n",
    "            match stopper_metric:\n",
    "                case \"val_loss\":\n",
    "                    eval_loss = total_loss / total_examples\n",
    "                    return eval_loss\n",
    "                \n",
    "                case \"mrr\":\n",
    "                    mrr = RetrievalMRR().to(device)\n",
    "                    return mrr(preds, ground_truths, indexes=indexes), eval_loss\n",
    "                \n",
    "                case \"hit_at_10\":\n",
    "                    hit_at_10 = RetrievalHitRate(top_k=10).to(device)\n",
    "                    return hit_at_10(preds, ground_truths, indexes=indexes), eval_loss\n",
    "                \n",
    "                case \"hit_at_5\":\n",
    "                    hit_at_5 = RetrievalHitRate(top_k=5).to(device)\n",
    "                    return hit_at_5(preds, ground_truths, indexes=indexes), eval_loss\n",
    "                \n",
    "                case \"hit_at_3\":\n",
    "                    hit_at_3 = RetrievalHitRate(top_k=3).to(device)\n",
    "                    return hit_at_3(preds, ground_truths, indexes=indexes), eval_loss\n",
    "                \n",
    "                case \"hit_at_1\":\n",
    "                    hit_at_1 = RetrievalHitRate(top_k=1).to(device)\n",
    "                    return hit_at_1(preds, ground_truths, indexes=indexes), eval_loss\n",
    "                \n",
    "                case _:\n",
    "                    raise ValueError(f\"Unrecognized stopper metric: '{stopper_metric}'\")\n",
    "                \n",
    "        if compute_all_metrics: # Compute all metrics at the end of training\n",
    "            indexes = indexes.long()\n",
    "            mrr = RetrievalMRR().to(device)\n",
    "            hit_at_10 = RetrievalHitRate(top_k=10).to(device)\n",
    "            hit_at_5 = RetrievalHitRate(top_k=5).to(device)\n",
    "            hit_at_3 = RetrievalHitRate(top_k=3).to(device)\n",
    "            hit_at_1 = RetrievalHitRate(top_k=1).to(device)\n",
    "            \n",
    "            mrr = mrr(preds, ground_truths, indexes=indexes)\n",
    "            hit_at_10 = hit_at_10(preds, ground_truths, indexes=indexes)\n",
    "            hit_at_5 = hit_at_5(preds, ground_truths, indexes=indexes)\n",
    "            hit_at_3 = hit_at_3(preds, ground_truths, indexes=indexes)\n",
    "            hit_at_1 = hit_at_1(preds, ground_truths, indexes=indexes)\n",
    "\n",
    "            wandb.log({\n",
    "                f\"{loader_type}MRR\": mrr, f\"{loader_type}hit_at_10\": hit_at_10, f\"{loader_type}hit_at_5\": hit_at_5, f\"{loader_type}hit_at_3\": hit_at_3, f\"{loader_type}hit_at_1\": hit_at_1\n",
    "            })\n",
    "\n",
    "    return mrr, eval_loss\n",
    "\n",
    "@timer_func\n",
    "def train(config, train_loader, val_loader, model, criterion, optimizer, early_stopper, labels_type = 'usual', eval_period = 0):\n",
    "    for epoch in range(config.epochs):\n",
    "        total_loss = total_examples = 0\n",
    "\n",
    "        for sampled_data in tqdm(train_loader, desc=\"Training\"):\n",
    "\n",
    "            sampled_data = sampled_data.to(device)\n",
    "            pred = model(sampled_data, config)\n",
    "            pos_samples  = torch.ones(len(sampled_data[config.labels['tail']].dst_pos_index), device=device)\n",
    "            neg_samples  = torch.zeros(len(sampled_data[config.labels['tail']].dst_neg_index.view(-1)), device=device) # As many zeroes as there are negative samples * batch_size\n",
    "            ground_truth = torch.cat((pos_samples, neg_samples))\n",
    "\n",
    "            false_tails = sampled_data[config.labels['tail']].dst_neg_index.view(-1)\n",
    "            true_tails = sampled_data['go']['dst_pos_index']\n",
    "            true_tails = torch.repeat_interleave(true_tails,int(false_tails.size()[0]/true_tails.size()[0]))\n",
    "\n",
    "\n",
    "            if labels_type == 'linsim':\n",
    "                \n",
    "                lin_neg_samples = pwc.lin_sims_for_batch(true_tails, false_tails)\n",
    "\n",
    "                pos_samples = pos_samples.to(device)\n",
    "                lin_neg_samples = lin_neg_samples.to(device)\n",
    "\n",
    "                lin_ground_truth = torch.cat((pos_samples, lin_neg_samples))\n",
    "                loss = criterion(pred, lin_ground_truth, gamma=config.gamma, alpha=config.alpha)\n",
    "\n",
    "            if labels_type == 'rand_linsim':\n",
    "\n",
    "                linsims = pwc.lin_sims_for_batch(true_tails, false_tails)\n",
    "                lin_neg_samples = pwc.shuffle_tensor(linsims)\n",
    "                lin_neg_samples.to(device)\n",
    "                \n",
    "                lin_ground_truth = torch.cat((pos_samples, lin_neg_samples))\n",
    "                loss = criterion(pred, lin_ground_truth, gamma=config.gamma, alpha=config.alpha)\n",
    "\n",
    "            if labels_type == 'gaussian_noise':\n",
    "                # Add gaussian noise to pos_samples to simulate noisy labels. Added noise must be negative and not exceed 1.\n",
    "                ground_truth += torch.normal(mean=0, std=1, size=(len(ground_truth),), device=device)\n",
    "                # apply sigmoid\n",
    "                ground_truth = torch.sigmoid(ground_truth)\n",
    "                loss = criterion(pred, ground_truth, gamma=config.gamma, alpha=config.alpha)\n",
    "\n",
    "            if labels_type == 'usual':\n",
    "                ground_truth = torch.sigmoid(ground_truth)\n",
    "                loss = criterion(pred, ground_truth, gamma=config.gamma, alpha=config.alpha)\n",
    "\n",
    "            wandb.log({\"loss\": loss})\n",
    "            \n",
    "            loss.backward()\n",
    "            optimizer.step()\n",
    "            optimizer.zero_grad()\n",
    "\n",
    "            total_loss += float(loss) * pred.numel()\n",
    "            total_examples += pred.numel()\n",
    "        train_loss = total_loss / total_examples\n",
    "        print(f\"Epoch: {epoch:03d}, Avg. Loss: {train_loss:.10f}\")\n",
    "\n",
    "\n",
    "        # scheduler.step()\n",
    "        if eval_period:\n",
    "            if epoch%eval_period == 0:\n",
    "                # Compute metrics and check for early stopping\n",
    "                score, val_loss = evaluate(config, val_loader, model, criterion, stopper_metric=config.stopper_metric, compute_all_metrics= True)\n",
    "                wandb.log({\"avg_loss\": train_loss, \"val_loss\": val_loss, f\"{config.stopper_metric}\": score})\n",
    "\n",
    "        # early_stopper(score)\n",
    "        # if early_stopper.early_stop:\n",
    "        #     print(\"Early stopping triggered at epoch\", epoch)\n",
    "        #     break\n",
    "\n",
    "    print(\"Training done.\")\n",
    "\n",
    "    return model\n",
    "\n",
    "def train_with_family(family_neg_dict, config, train_loader, val_loader, model, criterion, optimizer, early_stopper, labels_type = 'usual', eval_period = 0):\n",
    "    \n",
    "    for epoch in range(config.epochs):\n",
    "        total_loss = total_examples = 0\n",
    "        i  = 0\n",
    "        for sampled_data in tqdm(train_loader, desc=\"Training\"):\n",
    "\n",
    "            sampled_data_family_neg = make_family_neg_for_batch(sampled_data, family_neg_dict)\n",
    "            print(sampled_data_family_neg)\n",
    "            sampled_data['go']['dst_neg_index'] = sampled_data_family_neg\n",
    "            sampled_data = sampled_data.to(device)\n",
    "\n",
    "\n",
    "            \n",
    "            pred = model(sampled_data, config)\n",
    "            pos_samples  = torch.ones(len(sampled_data[config.labels['tail']].dst_pos_index), device=device)\n",
    "            neg_samples  = torch.zeros(len(sampled_data[config.labels['tail']].dst_neg_index.view(-1)), device=device) # As many zeroes as there are negative samples * batch_size\n",
    "            ground_truth = torch.cat((pos_samples, neg_samples))\n",
    "\n",
    "            false_tails = sampled_data[config.labels['tail']].dst_neg_index.view(-1)\n",
    "            true_tails = sampled_data['go']['dst_pos_index']\n",
    "            true_tails = torch.repeat_interleave(true_tails,int(false_tails.size()[0]/true_tails.size()[0]))\n",
    "\n",
    "\n",
    "            if labels_type == 'linsim':\n",
    "                \n",
    "                lin_neg_samples = pwc.lin_sims_for_batch(true_tails, false_tails)\n",
    "\n",
    "                pos_samples = pos_samples.to(device)\n",
    "                lin_neg_samples = lin_neg_samples.to(device)\n",
    "\n",
    "                lin_ground_truth = torch.cat((pos_samples, lin_neg_samples))\n",
    "                loss = criterion(pred, lin_ground_truth, gamma=config.gamma, alpha=config.alpha)\n",
    "\n",
    "            if labels_type == 'rand_linsim':\n",
    "\n",
    "                linsims = pwc.lin_sims_for_batch(true_tails, false_tails)\n",
    "                lin_neg_samples = pwc.shuffle_tensor(linsims)\n",
    "                lin_neg_samples.to(device)\n",
    "                \n",
    "                lin_ground_truth = torch.cat((pos_samples, lin_neg_samples))\n",
    "                loss = criterion(pred, lin_ground_truth, gamma=config.gamma, alpha=config.alpha)\n",
    "\n",
    "            if labels_type == 'gaussian_noise':\n",
    "                # Add gaussian noise to pos_samples to simulate noisy labels. Added noise must be negative and not exceed 1.\n",
    "                ground_truth += torch.normal(mean=0, std=1, size=(len(ground_truth),), device=device)\n",
    "                # apply sigmoid\n",
    "                ground_truth = torch.sigmoid(ground_truth)\n",
    "                loss = criterion(pred, ground_truth, gamma=config.gamma, alpha=config.alpha)\n",
    "\n",
    "            if labels_type == 'usual':\n",
    "                ground_truth = torch.sigmoid(ground_truth)\n",
    "                loss = criterion(pred, ground_truth, gamma=config.gamma, alpha=config.alpha)\n",
    "\n",
    "            wandb.log({\"loss\": loss})\n",
    "            \n",
    "            loss.backward()\n",
    "            optimizer.step()\n",
    "            optimizer.zero_grad()\n",
    "\n",
    "            total_loss += float(loss) * pred.numel()\n",
    "            total_examples += pred.numel()\n",
    "        train_loss = total_loss / total_examples\n",
    "        print(f\"Epoch: {epoch:03d}, Avg. Loss: {train_loss:.10f}\")\n",
    "\n",
    "\n",
    "        # scheduler.step()\n",
    "        if eval_period:\n",
    "            if epoch%eval_period == 0:\n",
    "                # Compute metrics and check for early stopping\n",
    "                score, val_loss = evaluate(config, val_loader, model, criterion, stopper_metric=config.stopper_metric, compute_all_metrics= True)\n",
    "                wandb.log({\"avg_loss\": train_loss, \"val_loss\": val_loss, f\"{config.stopper_metric}\": score})\n",
    "\n",
    "        # early_stopper(score)\n",
    "        # if early_stopper.early_stop:\n",
    "        #     print(\"Early stopping triggered at epoch\", epoch)\n",
    "        #     break\n",
    "\n",
    "    print(\"Training done.\")\n",
    "\n",
    "model = Model(config, data, norm_layers, gnn_layers).to(device)\n",
    "criterion = sigmoid_focal_loss\n",
    "optimizer = torch.optim.Adam(model.parameters(), lr=config.lr)\n",
    "early_stopper = EarlyStopper(frequency=config.stopper_frequency, patience=config.stopper_patience,\n",
    "                             direction=config.stopper_direction, relative_delta=config.stopper_relative_delta)\n",
    "\n",
    "# trained_model = train(config, train_loader, val_loader, model, criterion, optimizer, early_stopper,\n",
    "#                       labels_type=config.labels_type, eval_period = eval_period)\n",
    "\n",
    "retrained_model = train_with_family(source_family_neg_dict , config, train_loader, val_loader, model, criterion, optimizer, early_stopper, labels_type=config.labels_type, eval_period = eval_period)\n"
   ]
  },
  {
   "cell_type": "code",
   "execution_count": null,
   "metadata": {},
   "outputs": [
    {
     "name": "stderr",
     "output_type": "stream",
     "text": [
      "Training:   0%|          | 0/80 [00:00<?, ?it/s]"
     ]
    },
    {
     "name": "stdout",
     "output_type": "stream",
     "text": [
      "HeteroData(\n",
      "  genes={\n",
      "    x=[24937, 29],\n",
      "    n_id=[24937],\n",
      "    num_sampled_nodes=[6],\n",
      "    src_index=[1024],\n",
      "  },\n",
      "  go={\n",
      "    x=[42965, 3],\n",
      "    n_id=[42965],\n",
      "    num_sampled_nodes=[6],\n",
      "    dst_pos_index=[1024],\n",
      "    dst_neg_index=[1024, 224],\n",
      "  },\n",
      "  po={\n",
      "    x=[1508, 2],\n",
      "    n_id=[1508],\n",
      "    num_sampled_nodes=[6],\n",
      "  },\n",
      "  traito={\n",
      "    x=[1523, 1],\n",
      "    n_id=[1523],\n",
      "    num_sampled_nodes=[6],\n",
      "  },\n",
      "  prosite_profiles={\n",
      "    x=[625, 1],\n",
      "    n_id=[625],\n",
      "    num_sampled_nodes=[6],\n",
      "  },\n",
      "  prosite_patterns={\n",
      "    x=[652, 1],\n",
      "    n_id=[652],\n",
      "    num_sampled_nodes=[6],\n",
      "  },\n",
      "  superfamily={\n",
      "    x=[952, 1],\n",
      "    n_id=[952],\n",
      "    num_sampled_nodes=[6],\n",
      "  },\n",
      "  panther={\n",
      "    x=[5512, 1],\n",
      "    n_id=[5512],\n",
      "    num_sampled_nodes=[6],\n",
      "  },\n",
      "  prints={\n",
      "    x=[420, 1],\n",
      "    n_id=[420],\n",
      "    num_sampled_nodes=[6],\n",
      "  },\n",
      "  (genes, interacts_with, genes)={\n",
      "    edge_index=[2, 487816],\n",
      "    e_id=[487816],\n",
      "    num_sampled_edges=[5],\n",
      "  },\n",
      "  (genes, gene_ontology, go)={\n",
      "    edge_index=[2, 32402],\n",
      "    edge_label=[81240],\n",
      "    e_id=[32402],\n",
      "    num_sampled_edges=[5],\n",
      "    input_id=[1024],\n",
      "  },\n",
      "  (genes, trait_ontology, traito)={\n",
      "    edge_index=[2, 7954],\n",
      "    e_id=[7954],\n",
      "    num_sampled_edges=[5],\n",
      "  },\n",
      "  (genes, plant_ontology, po)={\n",
      "    edge_index=[2, 3123],\n",
      "    e_id=[3123],\n",
      "    num_sampled_edges=[5],\n",
      "  },\n",
      "  (genes, profile, prosite_profiles)={\n",
      "    edge_index=[2, 7504],\n",
      "    e_id=[7504],\n",
      "    num_sampled_edges=[5],\n",
      "  },\n",
      "  (genes, pattern, prosite_patterns)={\n",
      "    edge_index=[2, 4219],\n",
      "    e_id=[4219],\n",
      "    num_sampled_edges=[5],\n",
      "  },\n",
      "  (genes, family, superfamily)={\n",
      "    edge_index=[2, 10745],\n",
      "    e_id=[10745],\n",
      "    num_sampled_edges=[5],\n",
      "  },\n",
      "  (genes, panther_id, panther)={\n",
      "    edge_index=[2, 22517],\n",
      "    e_id=[22517],\n",
      "    num_sampled_edges=[5],\n",
      "  },\n",
      "  (genes, prints_id, prints)={\n",
      "    edge_index=[2, 3235],\n",
      "    e_id=[3235],\n",
      "    num_sampled_edges=[5],\n",
      "  },\n",
      "  (go, is_a, go)={\n",
      "    edge_index=[2, 133070],\n",
      "    e_id=[133070],\n",
      "    num_sampled_edges=[5],\n",
      "  },\n",
      "  (po, is_a, po)={\n",
      "    edge_index=[2, 3050],\n",
      "    e_id=[3050],\n",
      "    num_sampled_edges=[5],\n",
      "  },\n",
      "  (traito, is_a, traito)={\n",
      "    edge_index=[2, 3435],\n",
      "    e_id=[3435],\n",
      "    num_sampled_edges=[5],\n",
      "  },\n",
      "  (go, rev_gene_ontology, genes)={\n",
      "    edge_index=[2, 53569],\n",
      "    e_id=[53569],\n",
      "    num_sampled_edges=[5],\n",
      "  },\n",
      "  (traito, rev_trait_ontology, genes)={\n",
      "    edge_index=[2, 15030],\n",
      "    e_id=[15030],\n",
      "    num_sampled_edges=[5],\n",
      "  },\n",
      "  (po, rev_plant_ontology, genes)={\n",
      "    edge_index=[2, 6079],\n",
      "    e_id=[6079],\n",
      "    num_sampled_edges=[5],\n",
      "  },\n",
      "  (prosite_profiles, rev_profile, genes)={\n",
      "    edge_index=[2, 12090],\n",
      "    e_id=[12090],\n",
      "    num_sampled_edges=[5],\n",
      "  },\n",
      "  (prosite_patterns, rev_pattern, genes)={\n",
      "    edge_index=[2, 6654],\n",
      "    e_id=[6654],\n",
      "    num_sampled_edges=[5],\n",
      "  },\n",
      "  (superfamily, rev_family, genes)={\n",
      "    edge_index=[2, 20274],\n",
      "    e_id=[20274],\n",
      "    num_sampled_edges=[5],\n",
      "  },\n",
      "  (panther, rev_panther_id, genes)={\n",
      "    edge_index=[2, 23872],\n",
      "    e_id=[23872],\n",
      "    num_sampled_edges=[5],\n",
      "  },\n",
      "  (prints, rev_prints_id, genes)={\n",
      "    edge_index=[2, 4291],\n",
      "    e_id=[4291],\n",
      "    num_sampled_edges=[5],\n",
      "  }\n",
      ")\n",
      "1\n",
      "torch.Size([1024, 224])\n"
     ]
    },
    {
     "name": "stderr",
     "output_type": "stream",
     "text": [
      "Training:   0%|          | 0/80 [00:07<?, ?it/s]\n"
     ]
    },
    {
     "ename": "IndexError",
     "evalue": "index 42975 is out of bounds for dimension 0 with size 42965",
     "output_type": "error",
     "traceback": [
      "\u001b[0;31m---------------------------------------------------------------------------\u001b[0m",
      "\u001b[0;31mIndexError\u001b[0m                                Traceback (most recent call last)",
      "Cell \u001b[0;32mIn[22], line 6\u001b[0m\n\u001b[1;32m      1\u001b[0m \u001b[38;5;66;03m# trained_model = train(config, train_loader, val_loader, model, criterion, optimizer, early_stopper, labels_type=config.labels_type, eval_period = eval_period)\u001b[39;00m\n\u001b[1;32m      2\u001b[0m \n\u001b[1;32m      3\u001b[0m \u001b[38;5;66;03m# evaluate(config,  val_loader, model, criterion, compute_all_metrics=False, loader_type='validation', stopper_metric='hit_at_10')\u001b[39;00m\n\u001b[1;32m      4\u001b[0m \u001b[38;5;66;03m# evaluate(config, test_loader, model, criterion, compute_all_metrics=False, loader_type='test'      , stopper_metric='hit_at_10')\u001b[39;00m\n\u001b[0;32m----> 6\u001b[0m retrained_model \u001b[38;5;241m=\u001b[39m \u001b[43mtrain_with_family\u001b[49m\u001b[43m(\u001b[49m\u001b[43msource_family_neg_dict\u001b[49m\u001b[43m \u001b[49m\u001b[43m,\u001b[49m\u001b[43m \u001b[49m\u001b[43mconfig\u001b[49m\u001b[43m,\u001b[49m\u001b[43m \u001b[49m\u001b[43mtrain_loader\u001b[49m\u001b[43m,\u001b[49m\u001b[43m \u001b[49m\u001b[43mval_loader\u001b[49m\u001b[43m,\u001b[49m\u001b[43m \u001b[49m\u001b[43mmodel\u001b[49m\u001b[43m,\u001b[49m\u001b[43m \u001b[49m\u001b[43mcriterion\u001b[49m\u001b[43m,\u001b[49m\u001b[43m \u001b[49m\u001b[43moptimizer\u001b[49m\u001b[43m,\u001b[49m\u001b[43m \u001b[49m\u001b[43mearly_stopper\u001b[49m\u001b[43m,\u001b[49m\u001b[43m \u001b[49m\u001b[43mlabels_type\u001b[49m\u001b[38;5;241;43m=\u001b[39;49m\u001b[43mconfig\u001b[49m\u001b[38;5;241;43m.\u001b[39;49m\u001b[43mlabels_type\u001b[49m\u001b[43m,\u001b[49m\u001b[43m \u001b[49m\u001b[43meval_period\u001b[49m\u001b[43m \u001b[49m\u001b[38;5;241;43m=\u001b[39;49m\u001b[43m \u001b[49m\u001b[43meval_period\u001b[49m\u001b[43m)\u001b[49m\n\u001b[1;32m      8\u001b[0m \u001b[38;5;66;03m# evaluate(config,  val_loader, model, criterion, compute_all_metrics=False, loader_type='validation', stopper_metric='hit_at_10')\u001b[39;00m\n\u001b[1;32m      9\u001b[0m \u001b[38;5;66;03m# evaluate(config, test_loader, model, criterion, compute_all_metrics=False, loader_type='test'      , stopper_metric='hit_at_10')\u001b[39;00m\n\u001b[1;32m     11\u001b[0m wandb\u001b[38;5;241m.\u001b[39mfinish\n",
      "Cell \u001b[0;32mIn[20], line 225\u001b[0m, in \u001b[0;36mtrain_with_family\u001b[0;34m(family_neg_dict, config, train_loader, val_loader, model, criterion, optimizer, early_stopper, labels_type, eval_period)\u001b[0m\n\u001b[1;32m    221\u001b[0m sampled_data[\u001b[38;5;124m'\u001b[39m\u001b[38;5;124mgo\u001b[39m\u001b[38;5;124m'\u001b[39m][\u001b[38;5;124m'\u001b[39m\u001b[38;5;124mdst_neg_index\u001b[39m\u001b[38;5;124m'\u001b[39m] \u001b[38;5;241m=\u001b[39m sampled_data_family_neg\n\u001b[1;32m    222\u001b[0m sampled_data \u001b[38;5;241m=\u001b[39m sampled_data\u001b[38;5;241m.\u001b[39mto(device)\n\u001b[0;32m--> 225\u001b[0m pred \u001b[38;5;241m=\u001b[39m \u001b[43mmodel\u001b[49m\u001b[43m(\u001b[49m\u001b[43msampled_data\u001b[49m\u001b[43m,\u001b[49m\u001b[43m \u001b[49m\u001b[43mconfig\u001b[49m\u001b[43m)\u001b[49m\n\u001b[1;32m    226\u001b[0m pos_samples  \u001b[38;5;241m=\u001b[39m torch\u001b[38;5;241m.\u001b[39mones(\u001b[38;5;28mlen\u001b[39m(sampled_data[config\u001b[38;5;241m.\u001b[39mlabels[\u001b[38;5;124m'\u001b[39m\u001b[38;5;124mtail\u001b[39m\u001b[38;5;124m'\u001b[39m]]\u001b[38;5;241m.\u001b[39mdst_pos_index), device\u001b[38;5;241m=\u001b[39mdevice)\n\u001b[1;32m    227\u001b[0m neg_samples  \u001b[38;5;241m=\u001b[39m torch\u001b[38;5;241m.\u001b[39mzeros(\u001b[38;5;28mlen\u001b[39m(sampled_data[config\u001b[38;5;241m.\u001b[39mlabels[\u001b[38;5;124m'\u001b[39m\u001b[38;5;124mtail\u001b[39m\u001b[38;5;124m'\u001b[39m]]\u001b[38;5;241m.\u001b[39mdst_neg_index\u001b[38;5;241m.\u001b[39mview(\u001b[38;5;241m-\u001b[39m\u001b[38;5;241m1\u001b[39m)), device\u001b[38;5;241m=\u001b[39mdevice) \u001b[38;5;66;03m# As many zeroes as there are negative samples * batch_size\u001b[39;00m\n",
      "File \u001b[0;32m~/miniconda3/envs/pyg2/lib/python3.11/site-packages/torch/nn/modules/module.py:1518\u001b[0m, in \u001b[0;36mModule._wrapped_call_impl\u001b[0;34m(self, *args, **kwargs)\u001b[0m\n\u001b[1;32m   1516\u001b[0m     \u001b[38;5;28;01mreturn\u001b[39;00m \u001b[38;5;28mself\u001b[39m\u001b[38;5;241m.\u001b[39m_compiled_call_impl(\u001b[38;5;241m*\u001b[39margs, \u001b[38;5;241m*\u001b[39m\u001b[38;5;241m*\u001b[39mkwargs)  \u001b[38;5;66;03m# type: ignore[misc]\u001b[39;00m\n\u001b[1;32m   1517\u001b[0m \u001b[38;5;28;01melse\u001b[39;00m:\n\u001b[0;32m-> 1518\u001b[0m     \u001b[38;5;28;01mreturn\u001b[39;00m \u001b[38;5;28;43mself\u001b[39;49m\u001b[38;5;241;43m.\u001b[39;49m\u001b[43m_call_impl\u001b[49m\u001b[43m(\u001b[49m\u001b[38;5;241;43m*\u001b[39;49m\u001b[43margs\u001b[49m\u001b[43m,\u001b[49m\u001b[43m \u001b[49m\u001b[38;5;241;43m*\u001b[39;49m\u001b[38;5;241;43m*\u001b[39;49m\u001b[43mkwargs\u001b[49m\u001b[43m)\u001b[49m\n",
      "File \u001b[0;32m~/miniconda3/envs/pyg2/lib/python3.11/site-packages/torch/nn/modules/module.py:1527\u001b[0m, in \u001b[0;36mModule._call_impl\u001b[0;34m(self, *args, **kwargs)\u001b[0m\n\u001b[1;32m   1522\u001b[0m \u001b[38;5;66;03m# If we don't have any hooks, we want to skip the rest of the logic in\u001b[39;00m\n\u001b[1;32m   1523\u001b[0m \u001b[38;5;66;03m# this function, and just call forward.\u001b[39;00m\n\u001b[1;32m   1524\u001b[0m \u001b[38;5;28;01mif\u001b[39;00m \u001b[38;5;129;01mnot\u001b[39;00m (\u001b[38;5;28mself\u001b[39m\u001b[38;5;241m.\u001b[39m_backward_hooks \u001b[38;5;129;01mor\u001b[39;00m \u001b[38;5;28mself\u001b[39m\u001b[38;5;241m.\u001b[39m_backward_pre_hooks \u001b[38;5;129;01mor\u001b[39;00m \u001b[38;5;28mself\u001b[39m\u001b[38;5;241m.\u001b[39m_forward_hooks \u001b[38;5;129;01mor\u001b[39;00m \u001b[38;5;28mself\u001b[39m\u001b[38;5;241m.\u001b[39m_forward_pre_hooks\n\u001b[1;32m   1525\u001b[0m         \u001b[38;5;129;01mor\u001b[39;00m _global_backward_pre_hooks \u001b[38;5;129;01mor\u001b[39;00m _global_backward_hooks\n\u001b[1;32m   1526\u001b[0m         \u001b[38;5;129;01mor\u001b[39;00m _global_forward_hooks \u001b[38;5;129;01mor\u001b[39;00m _global_forward_pre_hooks):\n\u001b[0;32m-> 1527\u001b[0m     \u001b[38;5;28;01mreturn\u001b[39;00m \u001b[43mforward_call\u001b[49m\u001b[43m(\u001b[49m\u001b[38;5;241;43m*\u001b[39;49m\u001b[43margs\u001b[49m\u001b[43m,\u001b[49m\u001b[43m \u001b[49m\u001b[38;5;241;43m*\u001b[39;49m\u001b[38;5;241;43m*\u001b[39;49m\u001b[43mkwargs\u001b[49m\u001b[43m)\u001b[49m\n\u001b[1;32m   1529\u001b[0m \u001b[38;5;28;01mtry\u001b[39;00m:\n\u001b[1;32m   1530\u001b[0m     result \u001b[38;5;241m=\u001b[39m \u001b[38;5;28;01mNone\u001b[39;00m\n",
      "File \u001b[0;32m~/ESL2024/code/utils/model_utils.py:262\u001b[0m, in \u001b[0;36mModel.forward\u001b[0;34m(self, sampled_data, config)\u001b[0m\n\u001b[1;32m    260\u001b[0m \u001b[38;5;28;01mdef\u001b[39;00m \u001b[38;5;21mforward\u001b[39m(\u001b[38;5;28mself\u001b[39m, sampled_data, config):\n\u001b[1;32m    261\u001b[0m     z_dict \u001b[38;5;241m=\u001b[39m \u001b[38;5;28mself\u001b[39m\u001b[38;5;241m.\u001b[39mencoder(sampled_data\u001b[38;5;241m.\u001b[39mx_dict, sampled_data\u001b[38;5;241m.\u001b[39medge_index_dict)\n\u001b[0;32m--> 262\u001b[0m     \u001b[38;5;28;01mreturn\u001b[39;00m \u001b[38;5;28;43mself\u001b[39;49m\u001b[38;5;241;43m.\u001b[39;49m\u001b[43mdecoder\u001b[49m\u001b[43m(\u001b[49m\u001b[43mz_dict\u001b[49m\u001b[43m,\u001b[49m\u001b[43m \u001b[49m\u001b[43msampled_data\u001b[49m\u001b[43m,\u001b[49m\u001b[43m \u001b[49m\u001b[43mconfig\u001b[49m\u001b[43m)\u001b[49m\n",
      "File \u001b[0;32m~/miniconda3/envs/pyg2/lib/python3.11/site-packages/torch/nn/modules/module.py:1518\u001b[0m, in \u001b[0;36mModule._wrapped_call_impl\u001b[0;34m(self, *args, **kwargs)\u001b[0m\n\u001b[1;32m   1516\u001b[0m     \u001b[38;5;28;01mreturn\u001b[39;00m \u001b[38;5;28mself\u001b[39m\u001b[38;5;241m.\u001b[39m_compiled_call_impl(\u001b[38;5;241m*\u001b[39margs, \u001b[38;5;241m*\u001b[39m\u001b[38;5;241m*\u001b[39mkwargs)  \u001b[38;5;66;03m# type: ignore[misc]\u001b[39;00m\n\u001b[1;32m   1517\u001b[0m \u001b[38;5;28;01melse\u001b[39;00m:\n\u001b[0;32m-> 1518\u001b[0m     \u001b[38;5;28;01mreturn\u001b[39;00m \u001b[38;5;28;43mself\u001b[39;49m\u001b[38;5;241;43m.\u001b[39;49m\u001b[43m_call_impl\u001b[49m\u001b[43m(\u001b[49m\u001b[38;5;241;43m*\u001b[39;49m\u001b[43margs\u001b[49m\u001b[43m,\u001b[49m\u001b[43m \u001b[49m\u001b[38;5;241;43m*\u001b[39;49m\u001b[38;5;241;43m*\u001b[39;49m\u001b[43mkwargs\u001b[49m\u001b[43m)\u001b[49m\n",
      "File \u001b[0;32m~/miniconda3/envs/pyg2/lib/python3.11/site-packages/torch/nn/modules/module.py:1527\u001b[0m, in \u001b[0;36mModule._call_impl\u001b[0;34m(self, *args, **kwargs)\u001b[0m\n\u001b[1;32m   1522\u001b[0m \u001b[38;5;66;03m# If we don't have any hooks, we want to skip the rest of the logic in\u001b[39;00m\n\u001b[1;32m   1523\u001b[0m \u001b[38;5;66;03m# this function, and just call forward.\u001b[39;00m\n\u001b[1;32m   1524\u001b[0m \u001b[38;5;28;01mif\u001b[39;00m \u001b[38;5;129;01mnot\u001b[39;00m (\u001b[38;5;28mself\u001b[39m\u001b[38;5;241m.\u001b[39m_backward_hooks \u001b[38;5;129;01mor\u001b[39;00m \u001b[38;5;28mself\u001b[39m\u001b[38;5;241m.\u001b[39m_backward_pre_hooks \u001b[38;5;129;01mor\u001b[39;00m \u001b[38;5;28mself\u001b[39m\u001b[38;5;241m.\u001b[39m_forward_hooks \u001b[38;5;129;01mor\u001b[39;00m \u001b[38;5;28mself\u001b[39m\u001b[38;5;241m.\u001b[39m_forward_pre_hooks\n\u001b[1;32m   1525\u001b[0m         \u001b[38;5;129;01mor\u001b[39;00m _global_backward_pre_hooks \u001b[38;5;129;01mor\u001b[39;00m _global_backward_hooks\n\u001b[1;32m   1526\u001b[0m         \u001b[38;5;129;01mor\u001b[39;00m _global_forward_hooks \u001b[38;5;129;01mor\u001b[39;00m _global_forward_pre_hooks):\n\u001b[0;32m-> 1527\u001b[0m     \u001b[38;5;28;01mreturn\u001b[39;00m \u001b[43mforward_call\u001b[49m\u001b[43m(\u001b[49m\u001b[38;5;241;43m*\u001b[39;49m\u001b[43margs\u001b[49m\u001b[43m,\u001b[49m\u001b[43m \u001b[49m\u001b[38;5;241;43m*\u001b[39;49m\u001b[38;5;241;43m*\u001b[39;49m\u001b[43mkwargs\u001b[49m\u001b[43m)\u001b[49m\n\u001b[1;32m   1529\u001b[0m \u001b[38;5;28;01mtry\u001b[39;00m:\n\u001b[1;32m   1530\u001b[0m     result \u001b[38;5;241m=\u001b[39m \u001b[38;5;28;01mNone\u001b[39;00m\n",
      "File \u001b[0;32m~/ESL2024/code/utils/model_utils.py:151\u001b[0m, in \u001b[0;36mLinear.forward\u001b[0;34m(self, z_dict, sampled_data, config)\u001b[0m\n\u001b[1;32m    148\u001b[0m \u001b[38;5;28;01mdef\u001b[39;00m \u001b[38;5;21mforward\u001b[39m(\u001b[38;5;28mself\u001b[39m, z_dict, sampled_data, config):\n\u001b[1;32m    149\u001b[0m     src_idx, dst_idx \u001b[38;5;241m=\u001b[39m get_sampled_edge_indices(sampled_data, config)\n\u001b[0;32m--> 151\u001b[0m     x \u001b[38;5;241m=\u001b[39m torch\u001b[38;5;241m.\u001b[39mcat([z_dict[config\u001b[38;5;241m.\u001b[39mlabels[\u001b[38;5;124m'\u001b[39m\u001b[38;5;124mtail\u001b[39m\u001b[38;5;124m'\u001b[39m]][src_idx], \u001b[43mz_dict\u001b[49m\u001b[43m[\u001b[49m\u001b[43mconfig\u001b[49m\u001b[38;5;241;43m.\u001b[39;49m\u001b[43mlabels\u001b[49m\u001b[43m[\u001b[49m\u001b[38;5;124;43m'\u001b[39;49m\u001b[38;5;124;43mtail\u001b[39;49m\u001b[38;5;124;43m'\u001b[39;49m\u001b[43m]\u001b[49m\u001b[43m]\u001b[49m\u001b[43m[\u001b[49m\u001b[43mdst_idx\u001b[49m\u001b[43m]\u001b[49m], dim\u001b[38;5;241m=\u001b[39m\u001b[38;5;241m-\u001b[39m\u001b[38;5;241m1\u001b[39m) \u001b[38;5;66;03m# Concatenate node embeddings\u001b[39;00m\n\u001b[1;32m    152\u001b[0m     x \u001b[38;5;241m=\u001b[39m \u001b[38;5;28mself\u001b[39m\u001b[38;5;241m.\u001b[39mlin1(x)\n\u001b[1;32m    153\u001b[0m     x \u001b[38;5;241m=\u001b[39m torch\u001b[38;5;241m.\u001b[39mrelu(x)\n",
      "\u001b[0;31mIndexError\u001b[0m: index 42975 is out of bounds for dimension 0 with size 42965"
     ]
    }
   ],
   "source": [
    "# trained_model = train(config, train_loader, val_loader, model, criterion, optimizer, early_stopper, labels_type=config.labels_type, eval_period = eval_period)\n",
    "\n",
    "# evaluate(config,  val_loader, model, criterion, compute_all_metrics=False, loader_type='validation', stopper_metric='hit_at_10')\n",
    "# evaluate(config, test_loader, model, criterion, compute_all_metrics=False, loader_type='test'      , stopper_metric='hit_at_10')\n",
    "\n",
    "retrained_model = train_with_family(source_family_neg_dict , config, train_loader, val_loader, model, criterion, optimizer, early_stopper, labels_type=config.labels_type, eval_period = eval_period)\n",
    "\n",
    "# evaluate(config,  val_loader, model, criterion, compute_all_metrics=False, loader_type='validation', stopper_metric='hit_at_10')\n",
    "# evaluate(config, test_loader, model, criterion, compute_all_metrics=False, loader_type='test'      , stopper_metric='hit_at_10')\n",
    "\n",
    "wandb.finish"
   ]
  }
 ],
 "metadata": {
  "kernelspec": {
   "display_name": "pyg2",
   "language": "python",
   "name": "python3"
  },
  "language_info": {
   "codemirror_mode": {
    "name": "ipython",
    "version": 3
   },
   "file_extension": ".py",
   "mimetype": "text/x-python",
   "name": "python",
   "nbconvert_exporter": "python",
   "pygments_lexer": "ipython3",
   "version": "3.11.9"
  }
 },
 "nbformat": 4,
 "nbformat_minor": 2
}
