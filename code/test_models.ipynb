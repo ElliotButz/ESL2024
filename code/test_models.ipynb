{
 "cells": [
  {
   "cell_type": "code",
   "execution_count": 3,
   "metadata": {},
   "outputs": [
    {
     "name": "stdout",
     "output_type": "stream",
     "text": [
      "\n",
      "Imports...\n",
      "Device: 'cpu'\n",
      "Could reach GPU : False\n",
      "\n",
      "Loading iric...\n",
      "      subject predicate      object  mapped_subject  mapped_predicate  \\\n",
      "0  GO:0000001      is_a  GO:0048311           49100                 0   \n",
      "1  GO:0000001      is_a  GO:0048308           49100                 0   \n",
      "2  GO:0000002      is_a  GO:0007005            9015                 0   \n",
      "3  GO:0000003      is_a  GO:0008150             379                 0   \n",
      "4  GO:0000006      is_a  GO:0005385           78507                 0   \n",
      "\n",
      "   mapped_object mapped_alt_tails  \n",
      "0          35069          [26571]  \n",
      "1          26571          [35069]  \n",
      "2          26957               []  \n",
      "3          11514               []  \n",
      "4          48466               []  \n",
      "mapped_alt_tails type : <class 'numpy.ndarray'>\n",
      "Alternative tails dict (first key-value pair): ((49100, 0), [26571, 35069])\n",
      "\n",
      "Making datasets...\n",
      "Data(edge_index=[2, 1452521], edge_attr=[1452521], num_nodes=82249)\n",
      "\n",
      "Dataset looks valid : True\n",
      "Dataset splits look valid (train, val, test): True True True\n",
      "\n",
      "Loading ontology...\n"
     ]
    }
   ],
   "source": [
    "print(\"\\nImports...\")\n",
    "\n",
    "import numpy as np\n",
    "import pandas as pd\n",
    "from tqdm import tqdm\n",
    "tqdm.pandas()\n",
    "\n",
    "import pickle\n",
    "import os\n",
    "import sys\n",
    "sys.path.append( '/home/ebutz/ESL2024/code/utils' )\n",
    "import play_with_complex as pwc\n",
    "\n",
    "\n",
    "import torch\n",
    "import torch.optim as optim\n",
    "import torch_geometric\n",
    "from torch_geometric.nn import ComplEx\n",
    "from torch_geometric.data import Data\n",
    "from torch_geometric.transforms import RandomLinkSplit\n",
    "from torch_geometric.loader import DataLoader\n",
    "import torch.nn.functional as F\n",
    "\n",
    "\n",
    "from nxontology.imports import from_file\n",
    "\n",
    "# ------------- Paths ------------- #\n",
    "\n",
    "# Iric\n",
    "mapped_iric_path  = '/home/ebutz/ESL2024/data/full_iric/altailed_mapped_iric.pickle'\n",
    "altails_dict_path = '/home/ebutz/ESL2024/data/full_iric/altail_iric_DICT.pickle'\n",
    "\n",
    "# Model to train :\n",
    "hidden_channels = 5\n",
    "batch_size      = 4096\n",
    "epochs          = 150\n",
    "eval_period     = 2\n",
    "lin_factor      = 1\n",
    "xp_name = f'LinSim labels vs others on full dataset with 6*{hidden_channels} HC'\n",
    "\n",
    "params_save_name = f\"PARAMS_ComplEx_6_times_{hidden_channels}_HC_{epochs}_epochs_{batch_size}_BS_on_full_iric\"\n",
    "model_parameters_path = \"/home/ebutz/ESL2024/data/mapping_datasets_and_model_for_genes_to_phenotypes_iric/\"+params_save_name\n",
    "\n",
    "# Ontology\n",
    "ontology_path = \"/home/ebutz/ESL2024/data/go-basic.json.gz\"\n",
    "check_dicts = False\n",
    "\n",
    "# ------------- Cuda ------------- #\n",
    "\n",
    "device = 'cpu'\n",
    "print(f\"Device: '{device}'\")\n",
    "print(\"Could reach GPU :\", torch.Tensor([0,1]).to(device).is_cuda)\n",
    "\n",
    "\n",
    "# ------------- Loading datas ------------- #\n",
    "\n",
    "print(\"\\nLoading iric...\")\n",
    "mapped_iric = pd.read_pickle(mapped_iric_path)\n",
    "print(mapped_iric.head())\n",
    "print('mapped_alt_tails type :', type(mapped_iric.iloc[0]['mapped_alt_tails']))\n",
    "\n",
    "GO_to_map = mapped_iric.set_index('object')['mapped_object'].to_dict()\n",
    "map_to_GO = {value: key for key, value in GO_to_map.items()}\n",
    "\n",
    "if check_dicts:\n",
    "    looks_ok: bool = True\n",
    "    for i in tqdm(range(len(list(mapped_iric['object']))), desc = \"Checking GO to MAP dict\"):\n",
    "        if GO_to_map[mapped_iric['object'][i]]!=mapped_iric['mapped_object'][i] :\n",
    "            looks_ok = False\n",
    "    print('GO - Mapping dicts looks ok :', looks_ok)\n",
    "\n",
    "with open(altails_dict_path, 'rb') as handle:\n",
    "    mapped_alt_tails = pickle.load(handle)\n",
    "print(\"Alternative tails dict (first key-value pair):\", list(mapped_alt_tails.items())[0])\n",
    "\n",
    "# # ------------- Making datasets ------------- #\n",
    "\n",
    "print(\"\\nMaking datasets...\")\n",
    "# Edges index :\n",
    "heads = list(mapped_iric['mapped_subject'])\n",
    "tails = list(mapped_iric['mapped_object'])\n",
    "edge_index = torch.tensor([heads,tails], dtype=torch.long)\n",
    "# edges attributes :\n",
    "edge_attributes = torch.tensor(mapped_iric['mapped_predicate'])\n",
    "\n",
    "\n",
    "iric_pyg = Data(\n",
    "                num_nodes = len(set(mapped_iric['object']).union(set(mapped_iric['subject']))),\n",
    "                edge_index = edge_index,\n",
    "                edge_attr = edge_attributes\n",
    "                )\n",
    "\n",
    "print(iric_pyg)\n",
    "\n",
    "print(\"\\nDataset looks valid :\",iric_pyg.validate(raise_on_error=True))\n",
    "\n",
    "transform = RandomLinkSplit(\n",
    "                            num_val = 0.1,\n",
    "                            num_test = 0.1,\n",
    "                            is_undirected = False,\n",
    "                            add_negative_train_samples = False,\n",
    "                            )\n",
    "\n",
    "train_set, val_set, test_set = transform(iric_pyg)\n",
    "print('Dataset splits look valid (train, val, test):',train_set.validate(raise_on_error = True),\n",
    "                                                      val_set.validate(raise_on_error   = True),\n",
    "                                                      test_set.validate(raise_on_error  = True))\n",
    "\n",
    "# ------------- Loading ontology ------------- #\n",
    "\n",
    "print(\"\\nLoading ontology...\")\n",
    "nxo = from_file(ontology_path)\n",
    "nxo.freeze()\n",
    "\n",
    "# ------------- Making global variables accessibles to pwc ------------- #\n",
    "\n",
    "pwc.map_to_GO        = map_to_GO\n",
    "pwc.nxo              = nxo\n",
    "pwc.mapped_alt_tails = mapped_alt_tails\n",
    "pwc.device           = device\n",
    "\n",
    "\n",
    "# ------------- Init model ------------- #\n",
    "\n",
    "LinSim_labels = pwc.ComplEx_with_LinSim_labels(\n",
    "                                    num_nodes       = train_set.num_nodes,\n",
    "                                    num_relations   = train_set.edge_index.size()[1],\n",
    "                                    hidden_channels = hidden_channels,\n",
    "                                    ).to(device)\n",
    "# pwc.train_and_test_complex(model      = LinSim_labels,\n",
    "    #                         train_data = train_set,\n",
    "    #                         test_data  = test_set,\n",
    "    #                         device     = device,\n",
    "    #                         use_wandb  = False,\n",
    "    #                         xp_name    = xp_name,\n",
    "    #                         run_name   = 'LinSim_labels',\n",
    "    #                         eval_period= eval_period,\n",
    "    #                         epochs = epochs\n",
    "    #                         )"
   ]
  },
  {
   "cell_type": "code",
   "execution_count": 10,
   "metadata": {},
   "outputs": [
    {
     "name": "stdout",
     "output_type": "stream",
     "text": [
      "(tensor([ 3542, 57880, 58774,  ..., 41457, 80722, 29588]), tensor([3, 3, 3,  ..., 3, 3, 3]), tensor([65972, 11408, 13688,  ..., 40224, 39805,  5668]))\n"
     ]
    }
   ],
   "source": [
    "loader = LinSim_labels.loader(\n",
    "    head_index = train_set.edge_index[0],\n",
    "    tail_index = train_set.edge_index[1],\n",
    "    rel_type = train_set.edge_attr,\n",
    "    batch_size=batch_size,\n",
    "    shuffle=False,)\n",
    "\n",
    "batchy = next(iter(loader))\n",
    "print(batchy)"
   ]
  },
  {
   "cell_type": "code",
   "execution_count": 19,
   "metadata": {},
   "outputs": [
    {
     "name": "stdout",
     "output_type": "stream",
     "text": [
      "non-zero : tensor(538)\n",
      "torch.Size([4096])\n"
     ]
    }
   ],
   "source": [
    "bls = pwc.best_lin_sims_for_batch(*batchy)\n",
    "print('non-zero :',torch.count_nonzero(bls))\n",
    "print(bls.size())\n"
   ]
  },
  {
   "cell_type": "code",
   "execution_count": 28,
   "metadata": {},
   "outputs": [
    {
     "data": {
      "text/plain": [
       "(array([3.558e+03, 0.000e+00, 0.000e+00, 0.000e+00, 0.000e+00, 0.000e+00,\n",
       "        5.000e+00, 4.000e+00, 1.000e+00, 0.000e+00, 3.000e+00, 3.000e+00,\n",
       "        1.000e+00, 4.000e+00, 0.000e+00, 3.000e+00, 1.000e+00, 2.000e+00,\n",
       "        1.000e+00, 1.000e+00, 0.000e+00, 8.000e+00, 4.000e+00, 3.000e+00,\n",
       "        3.000e+00, 1.000e+00, 1.000e+00, 0.000e+00, 0.000e+00, 1.000e+00,\n",
       "        1.000e+00, 3.000e+00, 2.000e+00, 0.000e+00, 1.000e+00, 1.000e+00,\n",
       "        8.000e+00, 3.000e+00, 7.000e+00, 2.000e+00, 1.200e+01, 4.000e+00,\n",
       "        1.000e+01, 4.000e+00, 1.000e+01, 7.000e+00, 2.000e+00, 4.000e+00,\n",
       "        3.000e+00, 5.000e+00, 3.000e+00, 4.000e+00, 1.000e+00, 5.000e+00,\n",
       "        3.000e+00, 3.000e+00, 5.000e+00, 0.000e+00, 1.000e+00, 1.200e+01,\n",
       "        7.000e+00, 6.000e+00, 7.000e+00, 3.000e+00, 4.000e+00, 4.000e+00,\n",
       "        7.000e+00, 4.000e+00, 5.000e+00, 7.000e+00, 3.000e+00, 2.000e+00,\n",
       "        3.000e+00, 1.300e+01, 9.000e+00, 4.000e+00, 1.500e+01, 1.000e+00,\n",
       "        6.000e+00, 1.400e+01, 7.000e+00, 8.000e+00, 4.000e+00, 2.000e+00,\n",
       "        3.000e+00, 7.000e+00, 9.000e+00, 8.000e+00, 9.000e+00, 2.100e+01,\n",
       "        6.000e+00, 1.100e+01, 1.400e+01, 2.400e+01, 1.200e+01, 1.600e+01,\n",
       "        2.500e+01, 1.600e+01, 1.800e+01, 1.800e+01]),\n",
       " array([0.        , 0.00058116, 0.00116232, 0.00174348, 0.00232464,\n",
       "        0.00290579, 0.00348695, 0.00406811, 0.00464927, 0.00523043,\n",
       "        0.00581159, 0.00639275, 0.00697391, 0.00755507, 0.00813622,\n",
       "        0.00871738, 0.00929854, 0.0098797 , 0.01046086, 0.01104202,\n",
       "        0.01162318, 0.01220434, 0.01278549, 0.01336665, 0.01394781,\n",
       "        0.01452897, 0.01511013, 0.01569129, 0.01627245, 0.01685361,\n",
       "        0.01743476, 0.01801592, 0.01859708, 0.01917824, 0.0197594 ,\n",
       "        0.02034056, 0.02092172, 0.02150288, 0.02208404, 0.0226652 ,\n",
       "        0.02324635, 0.02382751, 0.02440867, 0.02498983, 0.02557099,\n",
       "        0.02615215, 0.02673331, 0.02731447, 0.02789562, 0.02847678,\n",
       "        0.02905794, 0.0296391 , 0.03022026, 0.03080142, 0.03138258,\n",
       "        0.03196374, 0.0325449 , 0.03312605, 0.03370721, 0.03428837,\n",
       "        0.03486953, 0.03545069, 0.03603185, 0.03661301, 0.03719417,\n",
       "        0.03777533, 0.03835648, 0.03893764, 0.0395188 , 0.04009996,\n",
       "        0.04068112, 0.04126228, 0.04184344, 0.0424246 , 0.04300575,\n",
       "        0.04358691, 0.04416807, 0.04474923, 0.04533039, 0.04591155,\n",
       "        0.04649271, 0.04707387, 0.04765502, 0.04823618, 0.04881734,\n",
       "        0.0493985 , 0.04997966, 0.05056082, 0.05114198, 0.05172314,\n",
       "        0.0523043 , 0.05288545, 0.05346661, 0.05404777, 0.05462893,\n",
       "        0.05521009, 0.05579125, 0.05637241, 0.05695357, 0.05753472,\n",
       "        0.05811588]),\n",
       " <BarContainer object of 100 artists>)"
      ]
     },
     "execution_count": 28,
     "metadata": {},
     "output_type": "execute_result"
    },
    {
     "data": {
      "image/png": "[encoded data removed]",
      "text/plain": [
       "<Figure size 640x480 with 1 Axes>"
      ]
     },
     "metadata": {},
     "output_type": "display_data"
    }
   ],
   "source": [
    "from torch.nn.functional import normalize as norm\n",
    "nbls = norm(bls, dim = 0)\n",
    "import matplotlib.pyplot as plt\n",
    "plt.hist(x = nbls, bins = 100)\n"
   ]
  },
  {
   "cell_type": "code",
   "execution_count": 25,
   "metadata": {},
   "outputs": [
    {
     "data": {
      "text/plain": [
       "(array([3.558e+03, 0.000e+00, 0.000e+00, 0.000e+00, 0.000e+00, 0.000e+00,\n",
       "        5.000e+00, 4.000e+00, 1.000e+00, 0.000e+00, 3.000e+00, 3.000e+00,\n",
       "        1.000e+00, 4.000e+00, 0.000e+00, 3.000e+00, 1.000e+00, 2.000e+00,\n",
       "        1.000e+00, 1.000e+00, 0.000e+00, 8.000e+00, 4.000e+00, 3.000e+00,\n",
       "        3.000e+00, 1.000e+00, 1.000e+00, 0.000e+00, 0.000e+00, 1.000e+00,\n",
       "        1.000e+00, 3.000e+00, 2.000e+00, 0.000e+00, 1.000e+00, 1.000e+00,\n",
       "        8.000e+00, 3.000e+00, 7.000e+00, 2.000e+00, 1.200e+01, 4.000e+00,\n",
       "        1.000e+01, 4.000e+00, 1.000e+01, 7.000e+00, 2.000e+00, 4.000e+00,\n",
       "        3.000e+00, 5.000e+00, 3.000e+00, 4.000e+00, 1.000e+00, 5.000e+00,\n",
       "        3.000e+00, 3.000e+00, 5.000e+00, 0.000e+00, 1.000e+00, 1.200e+01,\n",
       "        7.000e+00, 6.000e+00, 7.000e+00, 3.000e+00, 4.000e+00, 4.000e+00,\n",
       "        7.000e+00, 4.000e+00, 5.000e+00, 7.000e+00, 3.000e+00, 2.000e+00,\n",
       "        3.000e+00, 1.300e+01, 9.000e+00, 4.000e+00, 1.500e+01, 1.000e+00,\n",
       "        6.000e+00, 1.400e+01, 7.000e+00, 8.000e+00, 4.000e+00, 2.000e+00,\n",
       "        3.000e+00, 7.000e+00, 9.000e+00, 8.000e+00, 9.000e+00, 2.100e+01,\n",
       "        6.000e+00, 1.100e+01, 1.400e+01, 2.400e+01, 1.200e+01, 1.600e+01,\n",
       "        2.500e+01, 1.600e+01, 1.800e+01, 1.800e+01]),\n",
       " array([0.        , 0.00997666, 0.01995333, 0.02992999, 0.03990665,\n",
       "        0.04988331, 0.05985998, 0.06983664, 0.0798133 , 0.08978996,\n",
       "        0.09976663, 0.10974329, 0.11971995, 0.12969662, 0.13967328,\n",
       "        0.14964995, 0.1596266 , 0.16960327, 0.17957993, 0.1895566 ,\n",
       "        0.19953325, 0.20950992, 0.21948658, 0.22946325, 0.2394399 ,\n",
       "        0.24941657, 0.25939324, 0.2693699 , 0.27934656, 0.28932324,\n",
       "        0.2992999 , 0.30927655, 0.31925321, 0.32922989, 0.33920655,\n",
       "        0.3491832 , 0.35915986, 0.36913654, 0.3791132 , 0.38908985,\n",
       "        0.39906651, 0.40904319, 0.41901985, 0.4289965 , 0.43897316,\n",
       "        0.44894984, 0.4589265 , 0.46890315, 0.47887981, 0.48885649,\n",
       "        0.49883315, 0.5088098 , 0.51878649, 0.52876312, 0.5387398 ,\n",
       "        0.54871649, 0.55869311, 0.5686698 , 0.57864648, 0.58862311,\n",
       "        0.59859979, 0.60857642, 0.6185531 , 0.62852979, 0.63850641,\n",
       "        0.6484831 , 0.65845978, 0.66843641, 0.67841309, 0.68838972,\n",
       "        0.6983664 , 0.70834309, 0.71831971, 0.7282964 , 0.73827308,\n",
       "        0.74824971, 0.75822639, 0.76820308, 0.77817971, 0.78815639,\n",
       "        0.79813302, 0.8081097 , 0.81808639, 0.82806301, 0.8380397 ,\n",
       "        0.84801638, 0.85799301, 0.86796969, 0.87794632, 0.887923  ,\n",
       "        0.89789969, 0.90787631, 0.917853  , 0.92782968, 0.93780631,\n",
       "        0.94778299, 0.95775962, 0.9677363 , 0.97771299, 0.98768961,\n",
       "        0.9976663 ]),\n",
       " <BarContainer object of 100 artists>)"
      ]
     },
     "execution_count": 25,
     "metadata": {},
     "output_type": "execute_result"
    },
    {
     "data": {
      "image/png": "[encoded data removed]",
      "text/plain": [
       "<Figure size 640x480 with 1 Axes>"
      ]
     },
     "metadata": {},
     "output_type": "display_data"
    }
   ],
   "source": [
    "import matplotlib.pyplot as plt\n",
    "plt.hist(x = bls, bins = 100)\n",
    "\n",
    "\n"
   ]
  }
 ],
 "metadata": {
  "kernelspec": {
   "display_name": "pyg",
   "language": "python",
   "name": "python3"
  },
  "language_info": {
   "codemirror_mode": {
    "name": "ipython",
    "version": 3
   },
   "file_extension": ".py",
   "mimetype": "text/x-python",
   "name": "python",
   "nbconvert_exporter": "python",
   "pygments_lexer": "ipython3",
   "version": "3.11.8"
  }
 },
 "nbformat": 4,
 "nbformat_minor": 2
}
