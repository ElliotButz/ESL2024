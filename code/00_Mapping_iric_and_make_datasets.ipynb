{
  "cells": [
    {
      "cell_type": "markdown",
      "metadata": {
        "id": "JQDup52LepGf"
      },
      "source": [
        "# Imports, install and mount"
      ]
    },
    {
      "cell_type": "markdown",
      "metadata": {
        "id": "WcIJjGMol68d"
      },
      "source": [
        "<!--  -->"
      ]
    },
    {
      "cell_type": "code",
      "execution_count": 6,
      "metadata": {
        "id": "IdMkskBXNLUF"
      },
      "outputs": [],
      "source": [
        "import torch\n",
        "import torch_geometric\n",
        "from torch_geometric.data import Data\n",
        "import pandas as pd\n",
        "from torch_geometric.loader import DataLoader\n",
        "import pickle\n",
        "from torch_geometric.transforms import RandomLinkSplit"
      ]
    },
    {
      "cell_type": "markdown",
      "metadata": {
        "id": "0zsSHTMaQjRm"
      },
      "source": [
        "# Settings\n"
      ]
    },
    {
      "cell_type": "code",
      "execution_count": 7,
      "metadata": {
        "colab": {
          "base_uri": "https://localhost:8080/"
        },
        "id": "vZUA9xMQQjRm",
        "outputId": "074d9313-168f-444d-c817-4bb87dc9d0df"
      },
      "outputs": [],
      "source": [
        "file_path = \"/home/elliot/Documents/ESL2024/data/genes_to_phenotypes_iric.tsv\"\n",
        "\n",
        "mapping_save_path = \"/home/elliot/Documents/ESL2024/data/mapped_Os_to_GO_iric.tsv\"\n",
        "datasets_save_path = '/home/elliot/Documents/ESL2024/data/mapping_datasets_and_model_for_genes_to_phenotypes_iric/dataset_'\n",
        "val_path = datasets_save_path + 'VAL' +  '.pickle'\n",
        "test_path = datasets_save_path + 'TEST' +  '.pickle'\n",
        "train_path = datasets_save_path + 'TRAIN' +  '.pickle'\n",
        "\n",
        "device = 'cpu'"
      ]
    },
    {
      "cell_type": "markdown",
      "metadata": {
        "id": "gnktwewNevXS"
      },
      "source": [
        "## Reading and mapping graph"
      ]
    },
    {
      "cell_type": "code",
      "execution_count": 8,
      "metadata": {
        "colab": {
          "base_uri": "https://localhost:8080/",
          "height": 1000
        },
        "id": "GBF6eQpLQmk6",
        "outputId": "bce4f453-fe6e-405f-ffc9-33fb9f8c97f1"
      },
      "outputs": [
        {
          "name": "stdout",
          "output_type": "stream",
          "text": [
            "Saved mapping :\n"
          ]
        },
        {
          "data": {
            "text/html": [
              "<div>\n",
              "<style scoped>\n",
              "    .dataframe tbody tr th:only-of-type {\n",
              "        vertical-align: middle;\n",
              "    }\n",
              "\n",
              "    .dataframe tbody tr th {\n",
              "        vertical-align: top;\n",
              "    }\n",
              "\n",
              "    .dataframe thead th {\n",
              "        text-align: right;\n",
              "    }\n",
              "</style>\n",
              "<table border=\"1\" class=\"dataframe\">\n",
              "  <thead>\n",
              "    <tr style=\"text-align: right;\">\n",
              "      <th></th>\n",
              "      <th>subject</th>\n",
              "      <th>predicate</th>\n",
              "      <th>object</th>\n",
              "      <th>mapped_subject</th>\n",
              "      <th>mapped_predicate</th>\n",
              "      <th>mapped_object</th>\n",
              "    </tr>\n",
              "  </thead>\n",
              "  <tbody>\n",
              "    <tr>\n",
              "      <th>0</th>\n",
              "      <td>OsNippo01g010050</td>\n",
              "      <td>gene ontology</td>\n",
              "      <td>GO:0031267</td>\n",
              "      <td>8201</td>\n",
              "      <td>0</td>\n",
              "      <td>6566</td>\n",
              "    </tr>\n",
              "    <tr>\n",
              "      <th>1</th>\n",
              "      <td>OsNippo01g010050</td>\n",
              "      <td>gene ontology</td>\n",
              "      <td>GO:0006886</td>\n",
              "      <td>8201</td>\n",
              "      <td>0</td>\n",
              "      <td>20154</td>\n",
              "    </tr>\n",
              "    <tr>\n",
              "      <th>2</th>\n",
              "      <td>OsNippo01g010050</td>\n",
              "      <td>gene ontology</td>\n",
              "      <td>GO:0005622</td>\n",
              "      <td>8201</td>\n",
              "      <td>0</td>\n",
              "      <td>20826</td>\n",
              "    </tr>\n",
              "    <tr>\n",
              "      <th>3</th>\n",
              "      <td>OsNippo01g010050</td>\n",
              "      <td>gene ontology</td>\n",
              "      <td>GO:0005623</td>\n",
              "      <td>8201</td>\n",
              "      <td>0</td>\n",
              "      <td>10373</td>\n",
              "    </tr>\n",
              "    <tr>\n",
              "      <th>4</th>\n",
              "      <td>OsNippo01g010050</td>\n",
              "      <td>gene ontology</td>\n",
              "      <td>GO:0090630</td>\n",
              "      <td>8201</td>\n",
              "      <td>0</td>\n",
              "      <td>2733</td>\n",
              "    </tr>\n",
              "    <tr>\n",
              "      <th>...</th>\n",
              "      <td>...</td>\n",
              "      <td>...</td>\n",
              "      <td>...</td>\n",
              "      <td>...</td>\n",
              "      <td>...</td>\n",
              "      <td>...</td>\n",
              "    </tr>\n",
              "    <tr>\n",
              "      <th>169243</th>\n",
              "      <td>OsNippo12g248550</td>\n",
              "      <td>gene ontology</td>\n",
              "      <td>GO:0009409</td>\n",
              "      <td>20245</td>\n",
              "      <td>0</td>\n",
              "      <td>12440</td>\n",
              "    </tr>\n",
              "    <tr>\n",
              "      <th>169244</th>\n",
              "      <td>OsNippo12g248550</td>\n",
              "      <td>gene ontology</td>\n",
              "      <td>GO:0001666</td>\n",
              "      <td>20245</td>\n",
              "      <td>0</td>\n",
              "      <td>4625</td>\n",
              "    </tr>\n",
              "    <tr>\n",
              "      <th>169245</th>\n",
              "      <td>OsNippo12g250550</td>\n",
              "      <td>gene ontology</td>\n",
              "      <td>GO:0008270</td>\n",
              "      <td>20383</td>\n",
              "      <td>0</td>\n",
              "      <td>15186</td>\n",
              "    </tr>\n",
              "    <tr>\n",
              "      <th>169246</th>\n",
              "      <td>OsNippo12g255100</td>\n",
              "      <td>gene ontology</td>\n",
              "      <td>GO:0005576</td>\n",
              "      <td>29052</td>\n",
              "      <td>0</td>\n",
              "      <td>8295</td>\n",
              "    </tr>\n",
              "    <tr>\n",
              "      <th>169247</th>\n",
              "      <td>OsNippo12g255100</td>\n",
              "      <td>gene ontology</td>\n",
              "      <td>GO:0006952</td>\n",
              "      <td>29052</td>\n",
              "      <td>0</td>\n",
              "      <td>7092</td>\n",
              "    </tr>\n",
              "  </tbody>\n",
              "</table>\n",
              "<p>169248 rows × 6 columns</p>\n",
              "</div>"
            ],
            "text/plain": [
              "                 subject      predicate      object  mapped_subject  \\\n",
              "0       OsNippo01g010050  gene ontology  GO:0031267            8201   \n",
              "1       OsNippo01g010050  gene ontology  GO:0006886            8201   \n",
              "2       OsNippo01g010050  gene ontology  GO:0005622            8201   \n",
              "3       OsNippo01g010050  gene ontology  GO:0005623            8201   \n",
              "4       OsNippo01g010050  gene ontology  GO:0090630            8201   \n",
              "...                  ...            ...         ...             ...   \n",
              "169243  OsNippo12g248550  gene ontology  GO:0009409           20245   \n",
              "169244  OsNippo12g248550  gene ontology  GO:0001666           20245   \n",
              "169245  OsNippo12g250550  gene ontology  GO:0008270           20383   \n",
              "169246  OsNippo12g255100  gene ontology  GO:0005576           29052   \n",
              "169247  OsNippo12g255100  gene ontology  GO:0006952           29052   \n",
              "\n",
              "        mapped_predicate  mapped_object  \n",
              "0                      0           6566  \n",
              "1                      0          20154  \n",
              "2                      0          20826  \n",
              "3                      0          10373  \n",
              "4                      0           2733  \n",
              "...                  ...            ...  \n",
              "169243                 0          12440  \n",
              "169244                 0           4625  \n",
              "169245                 0          15186  \n",
              "169246                 0           8295  \n",
              "169247                 0           7092  \n",
              "\n",
              "[169248 rows x 6 columns]"
            ]
          },
          "metadata": {},
          "output_type": "display_data"
        }
      ],
      "source": [
        "iric = pd.read_csv(file_path, delimiter='\\t', names = ['subject', 'predicate','object'])\n",
        "\n",
        "# Mapping entities and relations to ids\n",
        "entity_set = set(iric['object']).union(set(iric['subject']))\n",
        "entity_to_mapping = {entity: int(i) for i, entity in enumerate(entity_set)}\n",
        "relation_set = set(iric['predicate'])\n",
        "relation_to_mapping = {relation: int(i) for i, relation in enumerate(relation_set)}\n",
        "\n",
        "iric['mapped_subject'] = iric['subject'].apply(lambda x: entity_to_mapping[x])\n",
        "iric['mapped_predicate'] = iric['predicate'].apply(lambda x: relation_to_mapping[x])\n",
        "iric['mapped_object'] = iric['object'].apply(lambda x: entity_to_mapping[x])\n",
        "\n",
        "iric.to_csv(mapping_save_path, sep='\\t', index=False)\n",
        "print(\"Saved mapping :\")\n",
        "display(pd.read_csv(mapping_save_path, sep = '\\t'))"
      ]
    },
    {
      "cell_type": "markdown",
      "metadata": {
        "id": "yVemQRTkczW7"
      },
      "source": [
        "## Building init vars for Data :"
      ]
    },
    {
      "cell_type": "code",
      "execution_count": 9,
      "metadata": {
        "colab": {
          "base_uri": "https://localhost:8080/"
        },
        "id": "a4Zh3HoEc6cU",
        "outputId": "eb445852-a342-46d2-98a4-ce447df0c8ed"
      },
      "outputs": [
        {
          "name": "stdout",
          "output_type": "stream",
          "text": [
            "Data(edge_index=[2, 169248], edge_attr=[169248], num_nodes=30396)\n",
            "\n",
            "Dataset looks valid ? \n",
            " True\n"
          ]
        }
      ],
      "source": [
        "# Edges index\n",
        "heads = list(iric['mapped_subject'])\n",
        "tails = list(iric['mapped_object'])\n",
        "edge_index = torch.tensor([heads,tails], dtype=torch.long)\n",
        "# edges states\n",
        "edge_attributes = torch.tensor(iric['mapped_predicate'])\n",
        "\n",
        "iric_pyg = Data(\n",
        "                num_nodes = len(entity_set),\n",
        "                edge_index = edge_index,\n",
        "                edge_attr = edge_attributes\n",
        "                )\n",
        "\n",
        "print(iric_pyg)\n",
        "\n",
        "print(\"\\nDataset looks valid ? \\n\",iric_pyg.validate(raise_on_error=True))"
      ]
    },
    {
      "cell_type": "markdown",
      "metadata": {
        "id": "YcWLKtXxCoBK"
      },
      "source": [
        "## Splitting dataset"
      ]
    },
    {
      "cell_type": "code",
      "execution_count": 10,
      "metadata": {
        "colab": {
          "base_uri": "https://localhost:8080/"
        },
        "id": "liA7PxgDac4i",
        "outputId": "a38fc686-f884-4147-8f6e-3101f3cc41ab"
      },
      "outputs": [
        {
          "name": "stdout",
          "output_type": "stream",
          "text": [
            "test saved at /home/elliot/Documents/ESL2024/data/mapping_datasets_and_model_for_genes_to_phenotypes_iric/dataset_TEST.pickle\n",
            "val saved at : /home/elliot/Documents/ESL2024/data/mapping_datasets_and_model_for_genes_to_phenotypes_iric/dataset_VAL.pickle\n",
            "train saved at : /home/elliot/Documents/ESL2024/data/mapping_datasets_and_model_for_genes_to_phenotypes_iric/dataset_TRAIN.pickle\n",
            "\n",
            "Loaded datasets look valid (val, test, train): True True True \n",
            "\n",
            "Before : Data(edge_index=[2, 135400], edge_attr=[135400], num_nodes=30396, edge_label=[33848], edge_label_index=[2, 33848])\n",
            " After : Data(edge_index=[2, 135400], edge_attr=[135400], num_nodes=30396, edge_label=[33848], edge_label_index=[2, 33848])\n"
          ]
        }
      ],
      "source": [
        "transform = RandomLinkSplit(\n",
        "                            num_val = 0.1,\n",
        "                            num_test = 0.1,\n",
        "                            is_undirected=False,\n",
        "                            add_negative_train_samples=False,\n",
        "                            )\n",
        "\n",
        "train, val, test = transform(iric_pyg)\n",
        "\n",
        "torch.save(obj=train, f = train_path)\n",
        "torch.save(obj=test, f = test_path)\n",
        "torch.save(obj=val, f = val_path)\n",
        "\n",
        "print(f'test saved at {test_path}\\nval saved at : {val_path}\\ntrain saved at : {train_path}\\n')\n",
        "\n",
        "print('Loaded datasets look valid (val, test, train):',\n",
        "torch.load(val_path).validate(raise_on_error=True),\n",
        "torch.load(test_path).validate(raise_on_error=True),\n",
        "torch.load(train_path).validate(raise_on_error=True),'\\n')\n",
        "\n",
        "print('Before :', val)\n",
        "print(' After :', torch.load(val_path))"
      ]
    }
  ],
  "metadata": {
    "accelerator": "GPU",
    "colab": {
      "gpuType": "T4",
      "provenance": []
    },
    "kernelspec": {
      "display_name": "Python 3",
      "name": "python3"
    },
    "language_info": {
      "codemirror_mode": {
        "name": "ipython",
        "version": 3
      },
      "file_extension": ".py",
      "mimetype": "text/x-python",
      "name": "python",
      "nbconvert_exporter": "python",
      "pygments_lexer": "ipython3",
      "version": "3.8.10"
    }
  },
  "nbformat": 4,
  "nbformat_minor": 0
}
