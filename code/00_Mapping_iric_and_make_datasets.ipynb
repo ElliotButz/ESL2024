{
  "cells": [
    {
      "cell_type": "markdown",
      "metadata": {
        "id": "JQDup52LepGf"
      },
      "source": [
        "# Imports, install and mount"
      ]
    },
    {
      "cell_type": "markdown",
      "metadata": {
        "id": "WcIJjGMol68d"
      },
      "source": [
        "<!--  -->"
      ]
    },
    {
      "cell_type": "code",
      "execution_count": 1,
      "metadata": {
        "id": "IdMkskBXNLUF"
      },
      "outputs": [
        {
          "name": "stderr",
          "output_type": "stream",
          "text": [
            "/home/ebutz/miniconda3/envs/pyg/lib/python3.11/site-packages/torch_geometric/typing.py:54: UserWarning: An issue occurred while importing 'pyg-lib'. Disabling its usage. Stacktrace: /home/ebutz/miniconda3/envs/pyg/lib/python3.11/site-packages/libpyg.so: undefined symbol: _ZNK5torch8autograd4Node4nameEv\n",
            "  warnings.warn(f\"An issue occurred while importing 'pyg-lib'. \"\n"
          ]
        }
      ],
      "source": [
        "import pandas as pd\n",
        "import pickle"
      ]
    },
    {
      "cell_type": "markdown",
      "metadata": {
        "id": "0zsSHTMaQjRm"
      },
      "source": [
        "# Settings\n"
      ]
    },
    {
      "cell_type": "code",
      "execution_count": 3,
      "metadata": {
        "colab": {
          "base_uri": "https://localhost:8080/"
        },
        "id": "vZUA9xMQQjRm",
        "outputId": "074d9313-168f-444d-c817-4bb87dc9d0df"
      },
      "outputs": [],
      "source": [
        "file_path = \"/home/ebutz/ESL2024/data/full_iric/iric.tsv\"\n",
        "altail_mapping_save_path = \"data/full_iric/altailed_iric.pickle\"\n",
        "altail_dict_save_path = \"/home/ebutz/ESL2024/data/full_iric/DICT_altailed_iric.pickle\"\n",
        "altail_mapping_save_path = \"/home/ebutz/ESL2024/data/full_iric/altailed_full_iric.pickle\"\n",
        "altail_dict_save_path = \"/home/ebutz/ESL2024/data/little_iric/DICT_altailed_full_iric.pickle\"\n",
        "datasets_save_path = '/home/elliot/Documents/ESL2024/data/mapping_datasets_and_model_for_genes_to_phenotypes_iric/little_dataset_'\n",
        "val_path = datasets_save_path + 'VAL'\n",
        "test_path = datasets_save_path + 'TEST'\n",
        "train_path = datasets_save_path + 'TRAIN'\n",
        "\n",
        "device = 'cpu'"
      ]
    },
    {
      "cell_type": "markdown",
      "metadata": {
        "id": "gnktwewNevXS"
      },
      "source": [
        "## Reading and mapping graph"
      ]
    },
    {
      "cell_type": "code",
      "execution_count": 4,
      "metadata": {},
      "outputs": [
        {
          "ename": "FileNotFoundError",
          "evalue": "[Errno 2] No such file or directory: '/home/ebutz/ESL2024/data/Os_to_GO_iric/iric.tsv'",
          "output_type": "error",
          "traceback": [
            "\u001b[0;31m---------------------------------------------------------------------------\u001b[0m",
            "\u001b[0;31mFileNotFoundError\u001b[0m                         Traceback (most recent call last)",
            "Cell \u001b[0;32mIn[4], line 1\u001b[0m\n\u001b[0;32m----> 1\u001b[0m iric \u001b[38;5;241m=\u001b[39m \u001b[43mpd\u001b[49m\u001b[38;5;241;43m.\u001b[39;49m\u001b[43mread_csv\u001b[49m\u001b[43m(\u001b[49m\u001b[43mfile_path\u001b[49m\u001b[43m,\u001b[49m\u001b[43m \u001b[49m\u001b[43mdelimiter\u001b[49m\u001b[38;5;241;43m=\u001b[39;49m\u001b[38;5;124;43m'\u001b[39;49m\u001b[38;5;130;43;01m\\t\u001b[39;49;00m\u001b[38;5;124;43m'\u001b[39;49m\u001b[43m,\u001b[49m\u001b[43m \u001b[49m\u001b[43mnames\u001b[49m\u001b[38;5;241;43m=\u001b[39;49m\u001b[43m[\u001b[49m\u001b[38;5;124;43m'\u001b[39;49m\u001b[38;5;124;43msubject\u001b[39;49m\u001b[38;5;124;43m'\u001b[39;49m\u001b[43m,\u001b[49m\u001b[43m \u001b[49m\u001b[38;5;124;43m'\u001b[39;49m\u001b[38;5;124;43mpredicate\u001b[39;49m\u001b[38;5;124;43m'\u001b[39;49m\u001b[43m,\u001b[49m\u001b[38;5;124;43m'\u001b[39;49m\u001b[38;5;124;43mobject\u001b[39;49m\u001b[38;5;124;43m'\u001b[39;49m\u001b[43m]\u001b[49m\u001b[43m)\u001b[49m\n\u001b[1;32m      2\u001b[0m display(iric)\n",
            "File \u001b[0;32m~/miniconda3/envs/pyg/lib/python3.11/site-packages/pandas/io/parsers/readers.py:1026\u001b[0m, in \u001b[0;36mread_csv\u001b[0;34m(filepath_or_buffer, sep, delimiter, header, names, index_col, usecols, dtype, engine, converters, true_values, false_values, skipinitialspace, skiprows, skipfooter, nrows, na_values, keep_default_na, na_filter, verbose, skip_blank_lines, parse_dates, infer_datetime_format, keep_date_col, date_parser, date_format, dayfirst, cache_dates, iterator, chunksize, compression, thousands, decimal, lineterminator, quotechar, quoting, doublequote, escapechar, comment, encoding, encoding_errors, dialect, on_bad_lines, delim_whitespace, low_memory, memory_map, float_precision, storage_options, dtype_backend)\u001b[0m\n\u001b[1;32m   1013\u001b[0m kwds_defaults \u001b[38;5;241m=\u001b[39m _refine_defaults_read(\n\u001b[1;32m   1014\u001b[0m     dialect,\n\u001b[1;32m   1015\u001b[0m     delimiter,\n\u001b[0;32m   (...)\u001b[0m\n\u001b[1;32m   1022\u001b[0m     dtype_backend\u001b[38;5;241m=\u001b[39mdtype_backend,\n\u001b[1;32m   1023\u001b[0m )\n\u001b[1;32m   1024\u001b[0m kwds\u001b[38;5;241m.\u001b[39mupdate(kwds_defaults)\n\u001b[0;32m-> 1026\u001b[0m \u001b[38;5;28;01mreturn\u001b[39;00m \u001b[43m_read\u001b[49m\u001b[43m(\u001b[49m\u001b[43mfilepath_or_buffer\u001b[49m\u001b[43m,\u001b[49m\u001b[43m \u001b[49m\u001b[43mkwds\u001b[49m\u001b[43m)\u001b[49m\n",
            "File \u001b[0;32m~/miniconda3/envs/pyg/lib/python3.11/site-packages/pandas/io/parsers/readers.py:620\u001b[0m, in \u001b[0;36m_read\u001b[0;34m(filepath_or_buffer, kwds)\u001b[0m\n\u001b[1;32m    617\u001b[0m _validate_names(kwds\u001b[38;5;241m.\u001b[39mget(\u001b[38;5;124m\"\u001b[39m\u001b[38;5;124mnames\u001b[39m\u001b[38;5;124m\"\u001b[39m, \u001b[38;5;28;01mNone\u001b[39;00m))\n\u001b[1;32m    619\u001b[0m \u001b[38;5;66;03m# Create the parser.\u001b[39;00m\n\u001b[0;32m--> 620\u001b[0m parser \u001b[38;5;241m=\u001b[39m \u001b[43mTextFileReader\u001b[49m\u001b[43m(\u001b[49m\u001b[43mfilepath_or_buffer\u001b[49m\u001b[43m,\u001b[49m\u001b[43m \u001b[49m\u001b[38;5;241;43m*\u001b[39;49m\u001b[38;5;241;43m*\u001b[39;49m\u001b[43mkwds\u001b[49m\u001b[43m)\u001b[49m\n\u001b[1;32m    622\u001b[0m \u001b[38;5;28;01mif\u001b[39;00m chunksize \u001b[38;5;129;01mor\u001b[39;00m iterator:\n\u001b[1;32m    623\u001b[0m     \u001b[38;5;28;01mreturn\u001b[39;00m parser\n",
            "File \u001b[0;32m~/miniconda3/envs/pyg/lib/python3.11/site-packages/pandas/io/parsers/readers.py:1620\u001b[0m, in \u001b[0;36mTextFileReader.__init__\u001b[0;34m(self, f, engine, **kwds)\u001b[0m\n\u001b[1;32m   1617\u001b[0m     \u001b[38;5;28mself\u001b[39m\u001b[38;5;241m.\u001b[39moptions[\u001b[38;5;124m\"\u001b[39m\u001b[38;5;124mhas_index_names\u001b[39m\u001b[38;5;124m\"\u001b[39m] \u001b[38;5;241m=\u001b[39m kwds[\u001b[38;5;124m\"\u001b[39m\u001b[38;5;124mhas_index_names\u001b[39m\u001b[38;5;124m\"\u001b[39m]\n\u001b[1;32m   1619\u001b[0m \u001b[38;5;28mself\u001b[39m\u001b[38;5;241m.\u001b[39mhandles: IOHandles \u001b[38;5;241m|\u001b[39m \u001b[38;5;28;01mNone\u001b[39;00m \u001b[38;5;241m=\u001b[39m \u001b[38;5;28;01mNone\u001b[39;00m\n\u001b[0;32m-> 1620\u001b[0m \u001b[38;5;28mself\u001b[39m\u001b[38;5;241m.\u001b[39m_engine \u001b[38;5;241m=\u001b[39m \u001b[38;5;28;43mself\u001b[39;49m\u001b[38;5;241;43m.\u001b[39;49m\u001b[43m_make_engine\u001b[49m\u001b[43m(\u001b[49m\u001b[43mf\u001b[49m\u001b[43m,\u001b[49m\u001b[43m \u001b[49m\u001b[38;5;28;43mself\u001b[39;49m\u001b[38;5;241;43m.\u001b[39;49m\u001b[43mengine\u001b[49m\u001b[43m)\u001b[49m\n",
            "File \u001b[0;32m~/miniconda3/envs/pyg/lib/python3.11/site-packages/pandas/io/parsers/readers.py:1880\u001b[0m, in \u001b[0;36mTextFileReader._make_engine\u001b[0;34m(self, f, engine)\u001b[0m\n\u001b[1;32m   1878\u001b[0m     \u001b[38;5;28;01mif\u001b[39;00m \u001b[38;5;124m\"\u001b[39m\u001b[38;5;124mb\u001b[39m\u001b[38;5;124m\"\u001b[39m \u001b[38;5;129;01mnot\u001b[39;00m \u001b[38;5;129;01min\u001b[39;00m mode:\n\u001b[1;32m   1879\u001b[0m         mode \u001b[38;5;241m+\u001b[39m\u001b[38;5;241m=\u001b[39m \u001b[38;5;124m\"\u001b[39m\u001b[38;5;124mb\u001b[39m\u001b[38;5;124m\"\u001b[39m\n\u001b[0;32m-> 1880\u001b[0m \u001b[38;5;28mself\u001b[39m\u001b[38;5;241m.\u001b[39mhandles \u001b[38;5;241m=\u001b[39m \u001b[43mget_handle\u001b[49m\u001b[43m(\u001b[49m\n\u001b[1;32m   1881\u001b[0m \u001b[43m    \u001b[49m\u001b[43mf\u001b[49m\u001b[43m,\u001b[49m\n\u001b[1;32m   1882\u001b[0m \u001b[43m    \u001b[49m\u001b[43mmode\u001b[49m\u001b[43m,\u001b[49m\n\u001b[1;32m   1883\u001b[0m \u001b[43m    \u001b[49m\u001b[43mencoding\u001b[49m\u001b[38;5;241;43m=\u001b[39;49m\u001b[38;5;28;43mself\u001b[39;49m\u001b[38;5;241;43m.\u001b[39;49m\u001b[43moptions\u001b[49m\u001b[38;5;241;43m.\u001b[39;49m\u001b[43mget\u001b[49m\u001b[43m(\u001b[49m\u001b[38;5;124;43m\"\u001b[39;49m\u001b[38;5;124;43mencoding\u001b[39;49m\u001b[38;5;124;43m\"\u001b[39;49m\u001b[43m,\u001b[49m\u001b[43m \u001b[49m\u001b[38;5;28;43;01mNone\u001b[39;49;00m\u001b[43m)\u001b[49m\u001b[43m,\u001b[49m\n\u001b[1;32m   1884\u001b[0m \u001b[43m    \u001b[49m\u001b[43mcompression\u001b[49m\u001b[38;5;241;43m=\u001b[39;49m\u001b[38;5;28;43mself\u001b[39;49m\u001b[38;5;241;43m.\u001b[39;49m\u001b[43moptions\u001b[49m\u001b[38;5;241;43m.\u001b[39;49m\u001b[43mget\u001b[49m\u001b[43m(\u001b[49m\u001b[38;5;124;43m\"\u001b[39;49m\u001b[38;5;124;43mcompression\u001b[39;49m\u001b[38;5;124;43m\"\u001b[39;49m\u001b[43m,\u001b[49m\u001b[43m \u001b[49m\u001b[38;5;28;43;01mNone\u001b[39;49;00m\u001b[43m)\u001b[49m\u001b[43m,\u001b[49m\n\u001b[1;32m   1885\u001b[0m \u001b[43m    \u001b[49m\u001b[43mmemory_map\u001b[49m\u001b[38;5;241;43m=\u001b[39;49m\u001b[38;5;28;43mself\u001b[39;49m\u001b[38;5;241;43m.\u001b[39;49m\u001b[43moptions\u001b[49m\u001b[38;5;241;43m.\u001b[39;49m\u001b[43mget\u001b[49m\u001b[43m(\u001b[49m\u001b[38;5;124;43m\"\u001b[39;49m\u001b[38;5;124;43mmemory_map\u001b[39;49m\u001b[38;5;124;43m\"\u001b[39;49m\u001b[43m,\u001b[49m\u001b[43m \u001b[49m\u001b[38;5;28;43;01mFalse\u001b[39;49;00m\u001b[43m)\u001b[49m\u001b[43m,\u001b[49m\n\u001b[1;32m   1886\u001b[0m \u001b[43m    \u001b[49m\u001b[43mis_text\u001b[49m\u001b[38;5;241;43m=\u001b[39;49m\u001b[43mis_text\u001b[49m\u001b[43m,\u001b[49m\n\u001b[1;32m   1887\u001b[0m \u001b[43m    \u001b[49m\u001b[43merrors\u001b[49m\u001b[38;5;241;43m=\u001b[39;49m\u001b[38;5;28;43mself\u001b[39;49m\u001b[38;5;241;43m.\u001b[39;49m\u001b[43moptions\u001b[49m\u001b[38;5;241;43m.\u001b[39;49m\u001b[43mget\u001b[49m\u001b[43m(\u001b[49m\u001b[38;5;124;43m\"\u001b[39;49m\u001b[38;5;124;43mencoding_errors\u001b[39;49m\u001b[38;5;124;43m\"\u001b[39;49m\u001b[43m,\u001b[49m\u001b[43m \u001b[49m\u001b[38;5;124;43m\"\u001b[39;49m\u001b[38;5;124;43mstrict\u001b[39;49m\u001b[38;5;124;43m\"\u001b[39;49m\u001b[43m)\u001b[49m\u001b[43m,\u001b[49m\n\u001b[1;32m   1888\u001b[0m \u001b[43m    \u001b[49m\u001b[43mstorage_options\u001b[49m\u001b[38;5;241;43m=\u001b[39;49m\u001b[38;5;28;43mself\u001b[39;49m\u001b[38;5;241;43m.\u001b[39;49m\u001b[43moptions\u001b[49m\u001b[38;5;241;43m.\u001b[39;49m\u001b[43mget\u001b[49m\u001b[43m(\u001b[49m\u001b[38;5;124;43m\"\u001b[39;49m\u001b[38;5;124;43mstorage_options\u001b[39;49m\u001b[38;5;124;43m\"\u001b[39;49m\u001b[43m,\u001b[49m\u001b[43m \u001b[49m\u001b[38;5;28;43;01mNone\u001b[39;49;00m\u001b[43m)\u001b[49m\u001b[43m,\u001b[49m\n\u001b[1;32m   1889\u001b[0m \u001b[43m\u001b[49m\u001b[43m)\u001b[49m\n\u001b[1;32m   1890\u001b[0m \u001b[38;5;28;01massert\u001b[39;00m \u001b[38;5;28mself\u001b[39m\u001b[38;5;241m.\u001b[39mhandles \u001b[38;5;129;01mis\u001b[39;00m \u001b[38;5;129;01mnot\u001b[39;00m \u001b[38;5;28;01mNone\u001b[39;00m\n\u001b[1;32m   1891\u001b[0m f \u001b[38;5;241m=\u001b[39m \u001b[38;5;28mself\u001b[39m\u001b[38;5;241m.\u001b[39mhandles\u001b[38;5;241m.\u001b[39mhandle\n",
            "File \u001b[0;32m~/miniconda3/envs/pyg/lib/python3.11/site-packages/pandas/io/common.py:873\u001b[0m, in \u001b[0;36mget_handle\u001b[0;34m(path_or_buf, mode, encoding, compression, memory_map, is_text, errors, storage_options)\u001b[0m\n\u001b[1;32m    868\u001b[0m \u001b[38;5;28;01melif\u001b[39;00m \u001b[38;5;28misinstance\u001b[39m(handle, \u001b[38;5;28mstr\u001b[39m):\n\u001b[1;32m    869\u001b[0m     \u001b[38;5;66;03m# Check whether the filename is to be opened in binary mode.\u001b[39;00m\n\u001b[1;32m    870\u001b[0m     \u001b[38;5;66;03m# Binary mode does not support 'encoding' and 'newline'.\u001b[39;00m\n\u001b[1;32m    871\u001b[0m     \u001b[38;5;28;01mif\u001b[39;00m ioargs\u001b[38;5;241m.\u001b[39mencoding \u001b[38;5;129;01mand\u001b[39;00m \u001b[38;5;124m\"\u001b[39m\u001b[38;5;124mb\u001b[39m\u001b[38;5;124m\"\u001b[39m \u001b[38;5;129;01mnot\u001b[39;00m \u001b[38;5;129;01min\u001b[39;00m ioargs\u001b[38;5;241m.\u001b[39mmode:\n\u001b[1;32m    872\u001b[0m         \u001b[38;5;66;03m# Encoding\u001b[39;00m\n\u001b[0;32m--> 873\u001b[0m         handle \u001b[38;5;241m=\u001b[39m \u001b[38;5;28;43mopen\u001b[39;49m\u001b[43m(\u001b[49m\n\u001b[1;32m    874\u001b[0m \u001b[43m            \u001b[49m\u001b[43mhandle\u001b[49m\u001b[43m,\u001b[49m\n\u001b[1;32m    875\u001b[0m \u001b[43m            \u001b[49m\u001b[43mioargs\u001b[49m\u001b[38;5;241;43m.\u001b[39;49m\u001b[43mmode\u001b[49m\u001b[43m,\u001b[49m\n\u001b[1;32m    876\u001b[0m \u001b[43m            \u001b[49m\u001b[43mencoding\u001b[49m\u001b[38;5;241;43m=\u001b[39;49m\u001b[43mioargs\u001b[49m\u001b[38;5;241;43m.\u001b[39;49m\u001b[43mencoding\u001b[49m\u001b[43m,\u001b[49m\n\u001b[1;32m    877\u001b[0m \u001b[43m            \u001b[49m\u001b[43merrors\u001b[49m\u001b[38;5;241;43m=\u001b[39;49m\u001b[43merrors\u001b[49m\u001b[43m,\u001b[49m\n\u001b[1;32m    878\u001b[0m \u001b[43m            \u001b[49m\u001b[43mnewline\u001b[49m\u001b[38;5;241;43m=\u001b[39;49m\u001b[38;5;124;43m\"\u001b[39;49m\u001b[38;5;124;43m\"\u001b[39;49m\u001b[43m,\u001b[49m\n\u001b[1;32m    879\u001b[0m \u001b[43m        \u001b[49m\u001b[43m)\u001b[49m\n\u001b[1;32m    880\u001b[0m     \u001b[38;5;28;01melse\u001b[39;00m:\n\u001b[1;32m    881\u001b[0m         \u001b[38;5;66;03m# Binary mode\u001b[39;00m\n\u001b[1;32m    882\u001b[0m         handle \u001b[38;5;241m=\u001b[39m \u001b[38;5;28mopen\u001b[39m(handle, ioargs\u001b[38;5;241m.\u001b[39mmode)\n",
            "\u001b[0;31mFileNotFoundError\u001b[0m: [Errno 2] No such file or directory: '/home/ebutz/ESL2024/data/Os_to_GO_iric/iric.tsv'"
          ]
        }
      ],
      "source": [
        "iric = pd.read_csv(file_path, delimiter='\\t', names=['subject', 'predicate','object'])\n",
        "display(iric)"
      ]
    },
    {
      "cell_type": "code",
      "execution_count": 12,
      "metadata": {
        "colab": {
          "base_uri": "https://localhost:8080/",
          "height": 1000
        },
        "id": "GBF6eQpLQmk6",
        "outputId": "bce4f453-fe6e-405f-ffc9-33fb9f8c97f1"
      },
      "outputs": [
        {
          "name": "stdout",
          "output_type": "stream",
          "text": [
            "subject             object\n",
            "predicate           object\n",
            "object              object\n",
            "mapped_subject       int64\n",
            "mapped_predicate     int64\n",
            "mapped_object        int64\n",
            "dtype: object\n"
          ]
        },
        {
          "data": {
            "text/html": [
              "<div>\n",
              "<style scoped>\n",
              "    .dataframe tbody tr th:only-of-type {\n",
              "        vertical-align: middle;\n",
              "    }\n",
              "\n",
              "    .dataframe tbody tr th {\n",
              "        vertical-align: top;\n",
              "    }\n",
              "\n",
              "    .dataframe thead th {\n",
              "        text-align: right;\n",
              "    }\n",
              "</style>\n",
              "<table border=\"1\" class=\"dataframe\">\n",
              "  <thead>\n",
              "    <tr style=\"text-align: right;\">\n",
              "      <th></th>\n",
              "      <th>subject</th>\n",
              "      <th>predicate</th>\n",
              "      <th>object</th>\n",
              "      <th>mapped_subject</th>\n",
              "      <th>mapped_predicate</th>\n",
              "      <th>mapped_object</th>\n",
              "    </tr>\n",
              "  </thead>\n",
              "  <tbody>\n",
              "    <tr>\n",
              "      <th>0</th>\n",
              "      <td>OsNippo01g010050</td>\n",
              "      <td>gene ontology</td>\n",
              "      <td>GO:0031267</td>\n",
              "      <td>29269</td>\n",
              "      <td>0</td>\n",
              "      <td>8105</td>\n",
              "    </tr>\n",
              "    <tr>\n",
              "      <th>1</th>\n",
              "      <td>OsNippo01g010050</td>\n",
              "      <td>gene ontology</td>\n",
              "      <td>GO:0006886</td>\n",
              "      <td>29269</td>\n",
              "      <td>0</td>\n",
              "      <td>20179</td>\n",
              "    </tr>\n",
              "    <tr>\n",
              "      <th>2</th>\n",
              "      <td>OsNippo01g010050</td>\n",
              "      <td>gene ontology</td>\n",
              "      <td>GO:0005622</td>\n",
              "      <td>29269</td>\n",
              "      <td>0</td>\n",
              "      <td>25142</td>\n",
              "    </tr>\n",
              "    <tr>\n",
              "      <th>3</th>\n",
              "      <td>OsNippo01g010050</td>\n",
              "      <td>gene ontology</td>\n",
              "      <td>GO:0005623</td>\n",
              "      <td>29269</td>\n",
              "      <td>0</td>\n",
              "      <td>11107</td>\n",
              "    </tr>\n",
              "    <tr>\n",
              "      <th>4</th>\n",
              "      <td>OsNippo01g010050</td>\n",
              "      <td>gene ontology</td>\n",
              "      <td>GO:0090630</td>\n",
              "      <td>29269</td>\n",
              "      <td>0</td>\n",
              "      <td>11397</td>\n",
              "    </tr>\n",
              "    <tr>\n",
              "      <th>...</th>\n",
              "      <td>...</td>\n",
              "      <td>...</td>\n",
              "      <td>...</td>\n",
              "      <td>...</td>\n",
              "      <td>...</td>\n",
              "      <td>...</td>\n",
              "    </tr>\n",
              "    <tr>\n",
              "      <th>169243</th>\n",
              "      <td>OsNippo12g248550</td>\n",
              "      <td>gene ontology</td>\n",
              "      <td>GO:0009409</td>\n",
              "      <td>12214</td>\n",
              "      <td>0</td>\n",
              "      <td>1993</td>\n",
              "    </tr>\n",
              "    <tr>\n",
              "      <th>169244</th>\n",
              "      <td>OsNippo12g248550</td>\n",
              "      <td>gene ontology</td>\n",
              "      <td>GO:0001666</td>\n",
              "      <td>12214</td>\n",
              "      <td>0</td>\n",
              "      <td>12298</td>\n",
              "    </tr>\n",
              "    <tr>\n",
              "      <th>169245</th>\n",
              "      <td>OsNippo12g250550</td>\n",
              "      <td>gene ontology</td>\n",
              "      <td>GO:0008270</td>\n",
              "      <td>24465</td>\n",
              "      <td>0</td>\n",
              "      <td>27212</td>\n",
              "    </tr>\n",
              "    <tr>\n",
              "      <th>169246</th>\n",
              "      <td>OsNippo12g255100</td>\n",
              "      <td>gene ontology</td>\n",
              "      <td>GO:0005576</td>\n",
              "      <td>887</td>\n",
              "      <td>0</td>\n",
              "      <td>3993</td>\n",
              "    </tr>\n",
              "    <tr>\n",
              "      <th>169247</th>\n",
              "      <td>OsNippo12g255100</td>\n",
              "      <td>gene ontology</td>\n",
              "      <td>GO:0006952</td>\n",
              "      <td>887</td>\n",
              "      <td>0</td>\n",
              "      <td>13967</td>\n",
              "    </tr>\n",
              "  </tbody>\n",
              "</table>\n",
              "<p>169248 rows × 6 columns</p>\n",
              "</div>"
            ],
            "text/plain": [
              "                 subject      predicate      object  mapped_subject  \\\n",
              "0       OsNippo01g010050  gene ontology  GO:0031267           29269   \n",
              "1       OsNippo01g010050  gene ontology  GO:0006886           29269   \n",
              "2       OsNippo01g010050  gene ontology  GO:0005622           29269   \n",
              "3       OsNippo01g010050  gene ontology  GO:0005623           29269   \n",
              "4       OsNippo01g010050  gene ontology  GO:0090630           29269   \n",
              "...                  ...            ...         ...             ...   \n",
              "169243  OsNippo12g248550  gene ontology  GO:0009409           12214   \n",
              "169244  OsNippo12g248550  gene ontology  GO:0001666           12214   \n",
              "169245  OsNippo12g250550  gene ontology  GO:0008270           24465   \n",
              "169246  OsNippo12g255100  gene ontology  GO:0005576             887   \n",
              "169247  OsNippo12g255100  gene ontology  GO:0006952             887   \n",
              "\n",
              "        mapped_predicate  mapped_object  \n",
              "0                      0           8105  \n",
              "1                      0          20179  \n",
              "2                      0          25142  \n",
              "3                      0          11107  \n",
              "4                      0          11397  \n",
              "...                  ...            ...  \n",
              "169243                 0           1993  \n",
              "169244                 0          12298  \n",
              "169245                 0          27212  \n",
              "169246                 0           3993  \n",
              "169247                 0          13967  \n",
              "\n",
              "[169248 rows x 6 columns]"
            ]
          },
          "metadata": {},
          "output_type": "display_data"
        }
      ],
      "source": [
        "# Mapping entities and relations to ids\n",
        "entity_set = set(iric['object']).union(set(iric['subject']))\n",
        "entity_to_mapping = {entity: int(i) for i, entity in enumerate(entity_set)}\n",
        "relation_set = set(iric['predicate'])\n",
        "relation_to_mapping = {relation: int(i) for i, relation in enumerate(relation_set)}\n",
        "\n",
        "iric['mapped_subject'] = iric['subject'].apply(lambda x: entity_to_mapping[x])\n",
        "iric['mapped_predicate'] = iric['predicate'].apply(lambda x: relation_to_mapping[x])\n",
        "iric['mapped_object'] = iric['object'].apply(lambda x: entity_to_mapping[x])\n",
        "print(iric.dtypes)\n",
        "display(iric)"
      ]
    },
    {
      "cell_type": "code",
      "execution_count": 13,
      "metadata": {},
      "outputs": [
        {
          "name": "stderr",
          "output_type": "stream",
          "text": [
            "100%|██████████| 169248/169248 [02:13<00:00, 1263.45it/s]\n"
          ]
        },
        {
          "data": {
            "text/html": [
              "<div>\n",
              "<style scoped>\n",
              "    .dataframe tbody tr th:only-of-type {\n",
              "        vertical-align: middle;\n",
              "    }\n",
              "\n",
              "    .dataframe tbody tr th {\n",
              "        vertical-align: top;\n",
              "    }\n",
              "\n",
              "    .dataframe thead th {\n",
              "        text-align: right;\n",
              "    }\n",
              "</style>\n",
              "<table border=\"1\" class=\"dataframe\">\n",
              "  <thead>\n",
              "    <tr style=\"text-align: right;\">\n",
              "      <th></th>\n",
              "      <th>subject</th>\n",
              "      <th>predicate</th>\n",
              "      <th>object</th>\n",
              "      <th>mapped_subject</th>\n",
              "      <th>mapped_predicate</th>\n",
              "      <th>mapped_object</th>\n",
              "      <th>mapped_alt_tails</th>\n",
              "    </tr>\n",
              "  </thead>\n",
              "  <tbody>\n",
              "    <tr>\n",
              "      <th>0</th>\n",
              "      <td>OsNippo01g010050</td>\n",
              "      <td>gene ontology</td>\n",
              "      <td>GO:0031267</td>\n",
              "      <td>29269</td>\n",
              "      <td>0</td>\n",
              "      <td>8105</td>\n",
              "      <td>[20179, 25142, 11107, 11397, 25543, 24490]</td>\n",
              "    </tr>\n",
              "    <tr>\n",
              "      <th>1</th>\n",
              "      <td>OsNippo01g010050</td>\n",
              "      <td>gene ontology</td>\n",
              "      <td>GO:0006886</td>\n",
              "      <td>29269</td>\n",
              "      <td>0</td>\n",
              "      <td>20179</td>\n",
              "      <td>[8105, 25142, 11107, 11397, 25543, 24490]</td>\n",
              "    </tr>\n",
              "    <tr>\n",
              "      <th>2</th>\n",
              "      <td>OsNippo01g010050</td>\n",
              "      <td>gene ontology</td>\n",
              "      <td>GO:0005622</td>\n",
              "      <td>29269</td>\n",
              "      <td>0</td>\n",
              "      <td>25142</td>\n",
              "      <td>[8105, 20179, 11107, 11397, 25543, 24490]</td>\n",
              "    </tr>\n",
              "    <tr>\n",
              "      <th>3</th>\n",
              "      <td>OsNippo01g010050</td>\n",
              "      <td>gene ontology</td>\n",
              "      <td>GO:0005623</td>\n",
              "      <td>29269</td>\n",
              "      <td>0</td>\n",
              "      <td>11107</td>\n",
              "      <td>[8105, 20179, 25142, 11397, 25543, 24490]</td>\n",
              "    </tr>\n",
              "    <tr>\n",
              "      <th>4</th>\n",
              "      <td>OsNippo01g010050</td>\n",
              "      <td>gene ontology</td>\n",
              "      <td>GO:0090630</td>\n",
              "      <td>29269</td>\n",
              "      <td>0</td>\n",
              "      <td>11397</td>\n",
              "      <td>[8105, 20179, 25142, 11107, 25543, 24490]</td>\n",
              "    </tr>\n",
              "    <tr>\n",
              "      <th>...</th>\n",
              "      <td>...</td>\n",
              "      <td>...</td>\n",
              "      <td>...</td>\n",
              "      <td>...</td>\n",
              "      <td>...</td>\n",
              "      <td>...</td>\n",
              "      <td>...</td>\n",
              "    </tr>\n",
              "    <tr>\n",
              "      <th>169243</th>\n",
              "      <td>OsNippo12g248550</td>\n",
              "      <td>gene ontology</td>\n",
              "      <td>GO:0009409</td>\n",
              "      <td>12214</td>\n",
              "      <td>0</td>\n",
              "      <td>1993</td>\n",
              "      <td>[25466, 17386, 6443, 18599, 16454, 12298]</td>\n",
              "    </tr>\n",
              "    <tr>\n",
              "      <th>169244</th>\n",
              "      <td>OsNippo12g248550</td>\n",
              "      <td>gene ontology</td>\n",
              "      <td>GO:0001666</td>\n",
              "      <td>12214</td>\n",
              "      <td>0</td>\n",
              "      <td>12298</td>\n",
              "      <td>[25466, 17386, 6443, 18599, 16454, 1993]</td>\n",
              "    </tr>\n",
              "    <tr>\n",
              "      <th>169245</th>\n",
              "      <td>OsNippo12g250550</td>\n",
              "      <td>gene ontology</td>\n",
              "      <td>GO:0008270</td>\n",
              "      <td>24465</td>\n",
              "      <td>0</td>\n",
              "      <td>27212</td>\n",
              "      <td>[]</td>\n",
              "    </tr>\n",
              "    <tr>\n",
              "      <th>169246</th>\n",
              "      <td>OsNippo12g255100</td>\n",
              "      <td>gene ontology</td>\n",
              "      <td>GO:0005576</td>\n",
              "      <td>887</td>\n",
              "      <td>0</td>\n",
              "      <td>3993</td>\n",
              "      <td>[13967]</td>\n",
              "    </tr>\n",
              "    <tr>\n",
              "      <th>169247</th>\n",
              "      <td>OsNippo12g255100</td>\n",
              "      <td>gene ontology</td>\n",
              "      <td>GO:0006952</td>\n",
              "      <td>887</td>\n",
              "      <td>0</td>\n",
              "      <td>13967</td>\n",
              "      <td>[3993]</td>\n",
              "    </tr>\n",
              "  </tbody>\n",
              "</table>\n",
              "<p>169248 rows × 7 columns</p>\n",
              "</div>"
            ],
            "text/plain": [
              "                 subject      predicate      object  mapped_subject  \\\n",
              "0       OsNippo01g010050  gene ontology  GO:0031267           29269   \n",
              "1       OsNippo01g010050  gene ontology  GO:0006886           29269   \n",
              "2       OsNippo01g010050  gene ontology  GO:0005622           29269   \n",
              "3       OsNippo01g010050  gene ontology  GO:0005623           29269   \n",
              "4       OsNippo01g010050  gene ontology  GO:0090630           29269   \n",
              "...                  ...            ...         ...             ...   \n",
              "169243  OsNippo12g248550  gene ontology  GO:0009409           12214   \n",
              "169244  OsNippo12g248550  gene ontology  GO:0001666           12214   \n",
              "169245  OsNippo12g250550  gene ontology  GO:0008270           24465   \n",
              "169246  OsNippo12g255100  gene ontology  GO:0005576             887   \n",
              "169247  OsNippo12g255100  gene ontology  GO:0006952             887   \n",
              "\n",
              "        mapped_predicate  mapped_object  \\\n",
              "0                      0           8105   \n",
              "1                      0          20179   \n",
              "2                      0          25142   \n",
              "3                      0          11107   \n",
              "4                      0          11397   \n",
              "...                  ...            ...   \n",
              "169243                 0           1993   \n",
              "169244                 0          12298   \n",
              "169245                 0          27212   \n",
              "169246                 0           3993   \n",
              "169247                 0          13967   \n",
              "\n",
              "                                  mapped_alt_tails  \n",
              "0       [20179, 25142, 11107, 11397, 25543, 24490]  \n",
              "1        [8105, 25142, 11107, 11397, 25543, 24490]  \n",
              "2        [8105, 20179, 11107, 11397, 25543, 24490]  \n",
              "3        [8105, 20179, 25142, 11397, 25543, 24490]  \n",
              "4        [8105, 20179, 25142, 11107, 25543, 24490]  \n",
              "...                                            ...  \n",
              "169243   [25466, 17386, 6443, 18599, 16454, 12298]  \n",
              "169244    [25466, 17386, 6443, 18599, 16454, 1993]  \n",
              "169245                                          []  \n",
              "169246                                     [13967]  \n",
              "169247                                      [3993]  \n",
              "\n",
              "[169248 rows x 7 columns]"
            ]
          },
          "metadata": {},
          "output_type": "display_data"
        },
        {
          "name": "stdout",
          "output_type": "stream",
          "text": [
            "Saved mapping at /home/ebutz/ESL2024/data/Os_to_GO_iric/altailed_Os_to_GO_iric.pickle :\n"
          ]
        },
        {
          "data": {
            "text/html": [
              "<div>\n",
              "<style scoped>\n",
              "    .dataframe tbody tr th:only-of-type {\n",
              "        vertical-align: middle;\n",
              "    }\n",
              "\n",
              "    .dataframe tbody tr th {\n",
              "        vertical-align: top;\n",
              "    }\n",
              "\n",
              "    .dataframe thead th {\n",
              "        text-align: right;\n",
              "    }\n",
              "</style>\n",
              "<table border=\"1\" class=\"dataframe\">\n",
              "  <thead>\n",
              "    <tr style=\"text-align: right;\">\n",
              "      <th></th>\n",
              "      <th>subject</th>\n",
              "      <th>predicate</th>\n",
              "      <th>object</th>\n",
              "      <th>mapped_subject</th>\n",
              "      <th>mapped_predicate</th>\n",
              "      <th>mapped_object</th>\n",
              "      <th>mapped_alt_tails</th>\n",
              "    </tr>\n",
              "  </thead>\n",
              "  <tbody>\n",
              "    <tr>\n",
              "      <th>0</th>\n",
              "      <td>OsNippo01g010050</td>\n",
              "      <td>gene ontology</td>\n",
              "      <td>GO:0031267</td>\n",
              "      <td>29269</td>\n",
              "      <td>0</td>\n",
              "      <td>8105</td>\n",
              "      <td>[20179, 25142, 11107, 11397, 25543, 24490]</td>\n",
              "    </tr>\n",
              "    <tr>\n",
              "      <th>1</th>\n",
              "      <td>OsNippo01g010050</td>\n",
              "      <td>gene ontology</td>\n",
              "      <td>GO:0006886</td>\n",
              "      <td>29269</td>\n",
              "      <td>0</td>\n",
              "      <td>20179</td>\n",
              "      <td>[8105, 25142, 11107, 11397, 25543, 24490]</td>\n",
              "    </tr>\n",
              "    <tr>\n",
              "      <th>2</th>\n",
              "      <td>OsNippo01g010050</td>\n",
              "      <td>gene ontology</td>\n",
              "      <td>GO:0005622</td>\n",
              "      <td>29269</td>\n",
              "      <td>0</td>\n",
              "      <td>25142</td>\n",
              "      <td>[8105, 20179, 11107, 11397, 25543, 24490]</td>\n",
              "    </tr>\n",
              "    <tr>\n",
              "      <th>3</th>\n",
              "      <td>OsNippo01g010050</td>\n",
              "      <td>gene ontology</td>\n",
              "      <td>GO:0005623</td>\n",
              "      <td>29269</td>\n",
              "      <td>0</td>\n",
              "      <td>11107</td>\n",
              "      <td>[8105, 20179, 25142, 11397, 25543, 24490]</td>\n",
              "    </tr>\n",
              "    <tr>\n",
              "      <th>4</th>\n",
              "      <td>OsNippo01g010050</td>\n",
              "      <td>gene ontology</td>\n",
              "      <td>GO:0090630</td>\n",
              "      <td>29269</td>\n",
              "      <td>0</td>\n",
              "      <td>11397</td>\n",
              "      <td>[8105, 20179, 25142, 11107, 25543, 24490]</td>\n",
              "    </tr>\n",
              "    <tr>\n",
              "      <th>...</th>\n",
              "      <td>...</td>\n",
              "      <td>...</td>\n",
              "      <td>...</td>\n",
              "      <td>...</td>\n",
              "      <td>...</td>\n",
              "      <td>...</td>\n",
              "      <td>...</td>\n",
              "    </tr>\n",
              "    <tr>\n",
              "      <th>169243</th>\n",
              "      <td>OsNippo12g248550</td>\n",
              "      <td>gene ontology</td>\n",
              "      <td>GO:0009409</td>\n",
              "      <td>12214</td>\n",
              "      <td>0</td>\n",
              "      <td>1993</td>\n",
              "      <td>[25466, 17386, 6443, 18599, 16454, 12298]</td>\n",
              "    </tr>\n",
              "    <tr>\n",
              "      <th>169244</th>\n",
              "      <td>OsNippo12g248550</td>\n",
              "      <td>gene ontology</td>\n",
              "      <td>GO:0001666</td>\n",
              "      <td>12214</td>\n",
              "      <td>0</td>\n",
              "      <td>12298</td>\n",
              "      <td>[25466, 17386, 6443, 18599, 16454, 1993]</td>\n",
              "    </tr>\n",
              "    <tr>\n",
              "      <th>169245</th>\n",
              "      <td>OsNippo12g250550</td>\n",
              "      <td>gene ontology</td>\n",
              "      <td>GO:0008270</td>\n",
              "      <td>24465</td>\n",
              "      <td>0</td>\n",
              "      <td>27212</td>\n",
              "      <td>[]</td>\n",
              "    </tr>\n",
              "    <tr>\n",
              "      <th>169246</th>\n",
              "      <td>OsNippo12g255100</td>\n",
              "      <td>gene ontology</td>\n",
              "      <td>GO:0005576</td>\n",
              "      <td>887</td>\n",
              "      <td>0</td>\n",
              "      <td>3993</td>\n",
              "      <td>[13967]</td>\n",
              "    </tr>\n",
              "    <tr>\n",
              "      <th>169247</th>\n",
              "      <td>OsNippo12g255100</td>\n",
              "      <td>gene ontology</td>\n",
              "      <td>GO:0006952</td>\n",
              "      <td>887</td>\n",
              "      <td>0</td>\n",
              "      <td>13967</td>\n",
              "      <td>[3993]</td>\n",
              "    </tr>\n",
              "  </tbody>\n",
              "</table>\n",
              "<p>169248 rows × 7 columns</p>\n",
              "</div>"
            ],
            "text/plain": [
              "                 subject      predicate      object  mapped_subject  \\\n",
              "0       OsNippo01g010050  gene ontology  GO:0031267           29269   \n",
              "1       OsNippo01g010050  gene ontology  GO:0006886           29269   \n",
              "2       OsNippo01g010050  gene ontology  GO:0005622           29269   \n",
              "3       OsNippo01g010050  gene ontology  GO:0005623           29269   \n",
              "4       OsNippo01g010050  gene ontology  GO:0090630           29269   \n",
              "...                  ...            ...         ...             ...   \n",
              "169243  OsNippo12g248550  gene ontology  GO:0009409           12214   \n",
              "169244  OsNippo12g248550  gene ontology  GO:0001666           12214   \n",
              "169245  OsNippo12g250550  gene ontology  GO:0008270           24465   \n",
              "169246  OsNippo12g255100  gene ontology  GO:0005576             887   \n",
              "169247  OsNippo12g255100  gene ontology  GO:0006952             887   \n",
              "\n",
              "        mapped_predicate  mapped_object  \\\n",
              "0                      0           8105   \n",
              "1                      0          20179   \n",
              "2                      0          25142   \n",
              "3                      0          11107   \n",
              "4                      0          11397   \n",
              "...                  ...            ...   \n",
              "169243                 0           1993   \n",
              "169244                 0          12298   \n",
              "169245                 0          27212   \n",
              "169246                 0           3993   \n",
              "169247                 0          13967   \n",
              "\n",
              "                                  mapped_alt_tails  \n",
              "0       [20179, 25142, 11107, 11397, 25543, 24490]  \n",
              "1        [8105, 25142, 11107, 11397, 25543, 24490]  \n",
              "2        [8105, 20179, 11107, 11397, 25543, 24490]  \n",
              "3        [8105, 20179, 25142, 11397, 25543, 24490]  \n",
              "4        [8105, 20179, 25142, 11107, 25543, 24490]  \n",
              "...                                            ...  \n",
              "169243   [25466, 17386, 6443, 18599, 16454, 12298]  \n",
              "169244    [25466, 17386, 6443, 18599, 16454, 1993]  \n",
              "169245                                          []  \n",
              "169246                                     [13967]  \n",
              "169247                                      [3993]  \n",
              "\n",
              "[169248 rows x 7 columns]"
            ]
          },
          "metadata": {},
          "output_type": "display_data"
        }
      ],
      "source": [
        "from tqdm import tqdm\n",
        "tqdm.pandas()\n",
        "\n",
        "iric['mapped_alt_tails'] = iric.progress_apply(\n",
        "                                             lambda row: \n",
        "                                             iric.loc[(iric['mapped_subject'] == row['mapped_subject']) & \n",
        "                                                      (iric['mapped_predicate'] == row['mapped_predicate']) & \n",
        "                                                      (iric['mapped_object'] != row['mapped_object']), \n",
        "                                                                                                               'mapped_object'].values, \n",
        "                                             axis=1)\n",
        "\n",
        "\n",
        "display(iric)\n",
        "iric.to_pickle(altail_mapping_save_path)\n",
        "print(f\"Saved mapping at {altail_mapping_save_path} :\")\n",
        "display(pd.read_pickle(altail_mapping_save_path))"
      ]
    },
    {
      "cell_type": "code",
      "execution_count": 14,
      "metadata": {},
      "outputs": [
        {
          "name": "stderr",
          "output_type": "stream",
          "text": [
            "Making dict of alternatives tails:   0%|          | 0/169248 [00:00<?, ?it/s]"
          ]
        },
        {
          "name": "stderr",
          "output_type": "stream",
          "text": [
            "Making dict of alternatives tails: 100%|██████████| 169248/169248 [00:01<00:00, 85767.72it/s]"
          ]
        },
        {
          "name": "stdout",
          "output_type": "stream",
          "text": [
            "First key-value pair in dict : ((29269, 0), [11107, 11397, 25543, 8105, 24490, 20179, 25142])\n"
          ]
        },
        {
          "name": "stderr",
          "output_type": "stream",
          "text": [
            "\n"
          ]
        }
      ],
      "source": [
        "def update_alt_tails(row, mapped_alt_tails):\n",
        "    key = (row['mapped_subject'], row['mapped_predicate'])\n",
        "    if key not in mapped_alt_tails:\n",
        "        try:\n",
        "            mapped_alt_tails[key] = set(row['mapped_alt_tails'])\n",
        "        except Exception as e:\n",
        "            print(f\"Problem with {row['mapped_alt_tails']}: {e}\")\n",
        "    else:\n",
        "        try:\n",
        "            mapped_alt_tails[key].update(set(row['mapped_alt_tails']))\n",
        "        except Exception as e:\n",
        "            print(f\"Problem with {row['mapped_alt_tails']}: {e}\")\n",
        "\n",
        "mapped_alt_tails = {}\n",
        "tqdm.pandas(desc=\"Making dict of alternatives tails\")\n",
        "iric.progress_apply(lambda row: update_alt_tails(row, mapped_alt_tails), axis=1)\n",
        "\n",
        "for key, value in mapped_alt_tails.items():\n",
        "    mapped_alt_tails[key]=list(value)\n",
        "\n",
        "print('First key-value pair in dict :', list(mapped_alt_tails.items())[0])"
      ]
    },
    {
      "cell_type": "code",
      "execution_count": 17,
      "metadata": {},
      "outputs": [],
      "source": [
        "with open(altail_dict_save_path , 'wb') as handle:\n",
        "    pickle.dump(mapped_alt_tails, handle, protocol=pickle.HIGHEST_PROTOCOL)"
      ]
    },
    {
      "cell_type": "code",
      "execution_count": 16,
      "metadata": {},
      "outputs": [
        {
          "name": "stdout",
          "output_type": "stream",
          "text": [
            "((29269, 0), [11107, 11397, 25543, 8105, 24490, 20179, 25142])\n"
          ]
        }
      ],
      "source": [
        "with open(altail_dict_save_path, 'rb') as handle:\n",
        "    unserialized_data = pickle.load(handle)\n",
        "print(list(unserialized_data.items())[0])"
      ]
    },
    {
      "cell_type": "markdown",
      "metadata": {
        "id": "yVemQRTkczW7"
      },
      "source": [
        "## Building init vars for Data :"
      ]
    },
    {
      "cell_type": "code",
      "execution_count": null,
      "metadata": {
        "colab": {
          "base_uri": "https://localhost:8080/"
        },
        "id": "a4Zh3HoEc6cU",
        "outputId": "eb445852-a342-46d2-98a4-ce447df0c8ed"
      },
      "outputs": [
        {
          "name": "stdout",
          "output_type": "stream",
          "text": [
            "Data(edge_index=[2, 10001], edge_attr=[10001], num_nodes=3343)\n",
            "\n",
            "Dataset looks valid ? \n",
            " True\n"
          ]
        }
      ],
      "source": [
        "# # Edges index\n",
        "# heads = list(iric['mapped_subject'])\n",
        "# tails = list(iric['mapped_object'])\n",
        "# edge_index = torch.tensor([heads,tails], dtype=torch.long)\n",
        "# # edges states\n",
        "# edge_attributes = torch.tensor(iric['mapped_predicate'])\n",
        "\n",
        "# iric_pyg = Data(\n",
        "#                 num_nodes = len(entity_set),\n",
        "#                 edge_index = edge_index,\n",
        "#                 edge_attr = edge_attributes\n",
        "#                 )\n",
        "\n",
        "# print(iric_pyg)\n",
        "\n",
        "# print(\"\\nDataset looks valid ? \\n\",iric_pyg.validate(raise_on_error=True))"
      ]
    },
    {
      "cell_type": "markdown",
      "metadata": {
        "id": "YcWLKtXxCoBK"
      },
      "source": [
        "## Splitting dataset"
      ]
    },
    {
      "cell_type": "code",
      "execution_count": null,
      "metadata": {
        "colab": {
          "base_uri": "https://localhost:8080/"
        },
        "id": "liA7PxgDac4i",
        "outputId": "a38fc686-f884-4147-8f6e-3101f3cc41ab"
      },
      "outputs": [
        {
          "name": "stdout",
          "output_type": "stream",
          "text": [
            "test saved at /home/elliot/Documents/ESL2024/data/mapping_datasets_and_model_for_genes_to_phenotypes_iric/little_dataset_TEST.pickle\n",
            "val saved at : /home/elliot/Documents/ESL2024/data/mapping_datasets_and_model_for_genes_to_phenotypes_iric/little_dataset_VAL.pickle\n",
            "train saved at : /home/elliot/Documents/ESL2024/data/mapping_datasets_and_model_for_genes_to_phenotypes_iric/little_dataset_TRAIN.pickle\n",
            "\n",
            "Loaded datasets look valid (val, test, train): True True True \n",
            "\n",
            "Before : Data(edge_index=[2, 8001], edge_attr=[8001], num_nodes=3343, edge_label=[2000], edge_label_index=[2, 2000])\n",
            " After : Data(edge_index=[2, 8001], edge_attr=[8001], num_nodes=3343, edge_label=[2000], edge_label_index=[2, 2000])\n"
          ]
        }
      ],
      "source": [
        "# transform = RandomLinkSplit(\n",
        "#                             num_val = 0.1,\n",
        "#                             num_test = 0.1,\n",
        "#                             is_undirected=False,\n",
        "#                             add_negative_train_samples=False,\n",
        "#                             )\n",
        "\n",
        "# train, val, test = transform(iric_pyg)\n",
        "\n",
        "# torch.save(obj=train, f = train_path)\n",
        "# torch.save(obj=test, f = test_path)\n",
        "# torch.save(obj=val, f = val_path)\n",
        "\n",
        "# print(f'test saved at {test_path}\\nval saved at : {val_path}\\ntrain saved at : {train_path}\\n')\n",
        "\n",
        "# print('Loaded datasets look valid (val, test, train):',\n",
        "# torch.load(val_path).validate(raise_on_error=True),\n",
        "# torch.load(test_path).validate(raise_on_error=True),\n",
        "# torch.load(train_path).validate(raise_on_error=True),'\\n')\n",
        "\n",
        "# print('Before :', val)\n",
        "# print(' After :', torch.load(val_path))"
      ]
    }
  ],
  "metadata": {
    "accelerator": "GPU",
    "colab": {
      "gpuType": "T4",
      "provenance": []
    },
    "kernelspec": {
      "display_name": "Python 3",
      "name": "python3"
    },
    "language_info": {
      "codemirror_mode": {
        "name": "ipython",
        "version": 3
      },
      "file_extension": ".py",
      "mimetype": "text/x-python",
      "name": "python",
      "nbconvert_exporter": "python",
      "pygments_lexer": "ipython3",
      "version": "3.11.5"
    }
  },
  "nbformat": 4,
  "nbformat_minor": 0
}
