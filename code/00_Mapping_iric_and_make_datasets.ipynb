{
  "cells": [
    {
      "cell_type": "markdown",
      "metadata": {
        "id": "JQDup52LepGf"
      },
      "source": [
        "# Imports, install and mount"
      ]
    },
    {
      "cell_type": "markdown",
      "metadata": {
        "id": "WcIJjGMol68d"
      },
      "source": [
        "<!--  -->"
      ]
    },
    {
      "cell_type": "code",
      "execution_count": 1,
      "metadata": {
        "id": "IdMkskBXNLUF"
      },
      "outputs": [],
      "source": [
        "import torch\n",
        "import torch_geometric\n",
        "from torch_geometric.data import Data\n",
        "import pandas as pd\n",
        "from torch_geometric.loader import DataLoader\n",
        "import pickle\n",
        "from torch_geometric.transforms import RandomLinkSplit"
      ]
    },
    {
      "cell_type": "markdown",
      "metadata": {
        "id": "0zsSHTMaQjRm"
      },
      "source": [
        "# Settings\n"
      ]
    },
    {
      "cell_type": "code",
      "execution_count": 2,
      "metadata": {
        "colab": {
          "base_uri": "https://localhost:8080/"
        },
        "id": "vZUA9xMQQjRm",
        "outputId": "074d9313-168f-444d-c817-4bb87dc9d0df"
      },
      "outputs": [],
      "source": [
        "file_path = \"/home/elliot/Documents/ESL2024/data/little_genes_to_phenotypes_iric.tsv\"\n",
        "\n",
        "mapping_save_path = \"/home/elliot/Documents/ESL2024/data/little_mapped_Os_to_GO_iric.tsv\"\n",
        "datasets_save_path = '/home/elliot/Documents/ESL2024/data/mapping_datasets_and_model_for_genes_to_phenotypes_iric/little_dataset_'\n",
        "val_path = datasets_save_path + 'VAL' +  '.pickle'\n",
        "test_path = datasets_save_path + 'TEST' +  '.pickle'\n",
        "train_path = datasets_save_path + 'TRAIN' +  '.pickle'\n",
        "\n",
        "device = 'cpu'"
      ]
    },
    {
      "cell_type": "markdown",
      "metadata": {
        "id": "gnktwewNevXS"
      },
      "source": [
        "## Reading and mapping graph"
      ]
    },
    {
      "cell_type": "code",
      "execution_count": 3,
      "metadata": {
        "colab": {
          "base_uri": "https://localhost:8080/",
          "height": 1000
        },
        "id": "GBF6eQpLQmk6",
        "outputId": "bce4f453-fe6e-405f-ffc9-33fb9f8c97f1"
      },
      "outputs": [
        {
          "name": "stdout",
          "output_type": "stream",
          "text": [
            "Saved mapping :\n"
          ]
        },
        {
          "data": {
            "text/html": [
              "<div>\n",
              "<style scoped>\n",
              "    .dataframe tbody tr th:only-of-type {\n",
              "        vertical-align: middle;\n",
              "    }\n",
              "\n",
              "    .dataframe tbody tr th {\n",
              "        vertical-align: top;\n",
              "    }\n",
              "\n",
              "    .dataframe thead th {\n",
              "        text-align: right;\n",
              "    }\n",
              "</style>\n",
              "<table border=\"1\" class=\"dataframe\">\n",
              "  <thead>\n",
              "    <tr style=\"text-align: right;\">\n",
              "      <th></th>\n",
              "      <th>subject</th>\n",
              "      <th>predicate</th>\n",
              "      <th>object</th>\n",
              "      <th>mapped_subject</th>\n",
              "      <th>mapped_predicate</th>\n",
              "      <th>mapped_object</th>\n",
              "    </tr>\n",
              "  </thead>\n",
              "  <tbody>\n",
              "    <tr>\n",
              "      <th>0</th>\n",
              "      <td>OsNippo01g010050</td>\n",
              "      <td>gene ontology</td>\n",
              "      <td>GO:0031267</td>\n",
              "      <td>2270</td>\n",
              "      <td>0</td>\n",
              "      <td>2505</td>\n",
              "    </tr>\n",
              "    <tr>\n",
              "      <th>1</th>\n",
              "      <td>OsNippo01g010050</td>\n",
              "      <td>gene ontology</td>\n",
              "      <td>GO:0006886</td>\n",
              "      <td>2270</td>\n",
              "      <td>0</td>\n",
              "      <td>2022</td>\n",
              "    </tr>\n",
              "    <tr>\n",
              "      <th>2</th>\n",
              "      <td>OsNippo01g010050</td>\n",
              "      <td>gene ontology</td>\n",
              "      <td>GO:0005622</td>\n",
              "      <td>2270</td>\n",
              "      <td>0</td>\n",
              "      <td>2237</td>\n",
              "    </tr>\n",
              "    <tr>\n",
              "      <th>3</th>\n",
              "      <td>OsNippo01g010050</td>\n",
              "      <td>gene ontology</td>\n",
              "      <td>GO:0005623</td>\n",
              "      <td>2270</td>\n",
              "      <td>0</td>\n",
              "      <td>1720</td>\n",
              "    </tr>\n",
              "    <tr>\n",
              "      <th>4</th>\n",
              "      <td>OsNippo01g010050</td>\n",
              "      <td>gene ontology</td>\n",
              "      <td>GO:0090630</td>\n",
              "      <td>2270</td>\n",
              "      <td>0</td>\n",
              "      <td>76</td>\n",
              "    </tr>\n",
              "    <tr>\n",
              "      <th>...</th>\n",
              "      <td>...</td>\n",
              "      <td>...</td>\n",
              "      <td>...</td>\n",
              "      <td>...</td>\n",
              "      <td>...</td>\n",
              "      <td>...</td>\n",
              "    </tr>\n",
              "    <tr>\n",
              "      <th>9996</th>\n",
              "      <td>OsNippo01g223000</td>\n",
              "      <td>gene ontology</td>\n",
              "      <td>GO:0005784</td>\n",
              "      <td>1980</td>\n",
              "      <td>0</td>\n",
              "      <td>141</td>\n",
              "    </tr>\n",
              "    <tr>\n",
              "      <th>9997</th>\n",
              "      <td>OsNippo01g223050</td>\n",
              "      <td>gene ontology</td>\n",
              "      <td>GO:0005634</td>\n",
              "      <td>1922</td>\n",
              "      <td>0</td>\n",
              "      <td>2657</td>\n",
              "    </tr>\n",
              "    <tr>\n",
              "      <th>9998</th>\n",
              "      <td>OsNippo01g223050</td>\n",
              "      <td>gene ontology</td>\n",
              "      <td>GO:0005737</td>\n",
              "      <td>1922</td>\n",
              "      <td>0</td>\n",
              "      <td>160</td>\n",
              "    </tr>\n",
              "    <tr>\n",
              "      <th>9999</th>\n",
              "      <td>OsNippo01g223050</td>\n",
              "      <td>gene ontology</td>\n",
              "      <td>GO:0003676</td>\n",
              "      <td>1922</td>\n",
              "      <td>0</td>\n",
              "      <td>2811</td>\n",
              "    </tr>\n",
              "    <tr>\n",
              "      <th>10000</th>\n",
              "      <td>OsNippo01g223050</td>\n",
              "      <td>gene ontology</td>\n",
              "      <td>GO:0090305</td>\n",
              "      <td>1922</td>\n",
              "      <td>0</td>\n",
              "      <td>362</td>\n",
              "    </tr>\n",
              "  </tbody>\n",
              "</table>\n",
              "<p>10001 rows × 6 columns</p>\n",
              "</div>"
            ],
            "text/plain": [
              "                subject      predicate      object  mapped_subject  \\\n",
              "0      OsNippo01g010050  gene ontology  GO:0031267            2270   \n",
              "1      OsNippo01g010050  gene ontology  GO:0006886            2270   \n",
              "2      OsNippo01g010050  gene ontology  GO:0005622            2270   \n",
              "3      OsNippo01g010050  gene ontology  GO:0005623            2270   \n",
              "4      OsNippo01g010050  gene ontology  GO:0090630            2270   \n",
              "...                 ...            ...         ...             ...   \n",
              "9996   OsNippo01g223000  gene ontology  GO:0005784            1980   \n",
              "9997   OsNippo01g223050  gene ontology  GO:0005634            1922   \n",
              "9998   OsNippo01g223050  gene ontology  GO:0005737            1922   \n",
              "9999   OsNippo01g223050  gene ontology  GO:0003676            1922   \n",
              "10000  OsNippo01g223050  gene ontology  GO:0090305            1922   \n",
              "\n",
              "       mapped_predicate  mapped_object  \n",
              "0                     0           2505  \n",
              "1                     0           2022  \n",
              "2                     0           2237  \n",
              "3                     0           1720  \n",
              "4                     0             76  \n",
              "...                 ...            ...  \n",
              "9996                  0            141  \n",
              "9997                  0           2657  \n",
              "9998                  0            160  \n",
              "9999                  0           2811  \n",
              "10000                 0            362  \n",
              "\n",
              "[10001 rows x 6 columns]"
            ]
          },
          "metadata": {},
          "output_type": "display_data"
        }
      ],
      "source": [
        "iric = pd.read_csv(file_path, delimiter='\\t', names = ['subject', 'predicate','object'])\n",
        "\n",
        "# Mapping entities and relations to ids\n",
        "entity_set = set(iric['object']).union(set(iric['subject']))\n",
        "entity_to_mapping = {entity: int(i) for i, entity in enumerate(entity_set)}\n",
        "relation_set = set(iric['predicate'])\n",
        "relation_to_mapping = {relation: int(i) for i, relation in enumerate(relation_set)}\n",
        "\n",
        "iric['mapped_subject'] = iric['subject'].apply(lambda x: entity_to_mapping[x])\n",
        "iric['mapped_predicate'] = iric['predicate'].apply(lambda x: relation_to_mapping[x])\n",
        "iric['mapped_object'] = iric['object'].apply(lambda x: entity_to_mapping[x])\n",
        "\n",
        "iric.to_csv(mapping_save_path, sep='\\t', index=False)\n",
        "print(\"Saved mapping :\")\n",
        "display(pd.read_csv(mapping_save_path, sep = '\\t'))"
      ]
    },
    {
      "cell_type": "markdown",
      "metadata": {
        "id": "yVemQRTkczW7"
      },
      "source": [
        "## Building init vars for Data :"
      ]
    },
    {
      "cell_type": "code",
      "execution_count": 4,
      "metadata": {
        "colab": {
          "base_uri": "https://localhost:8080/"
        },
        "id": "a4Zh3HoEc6cU",
        "outputId": "eb445852-a342-46d2-98a4-ce447df0c8ed"
      },
      "outputs": [
        {
          "name": "stdout",
          "output_type": "stream",
          "text": [
            "Data(edge_index=[2, 10001], edge_attr=[10001], num_nodes=3343)\n",
            "\n",
            "Dataset looks valid ? \n",
            " True\n"
          ]
        }
      ],
      "source": [
        "# Edges index\n",
        "heads = list(iric['mapped_subject'])\n",
        "tails = list(iric['mapped_object'])\n",
        "edge_index = torch.tensor([heads,tails], dtype=torch.long)\n",
        "# edges states\n",
        "edge_attributes = torch.tensor(iric['mapped_predicate'])\n",
        "\n",
        "iric_pyg = Data(\n",
        "                num_nodes = len(entity_set),\n",
        "                edge_index = edge_index,\n",
        "                edge_attr = edge_attributes\n",
        "                )\n",
        "\n",
        "print(iric_pyg)\n",
        "\n",
        "print(\"\\nDataset looks valid ? \\n\",iric_pyg.validate(raise_on_error=True))"
      ]
    },
    {
      "cell_type": "markdown",
      "metadata": {
        "id": "YcWLKtXxCoBK"
      },
      "source": [
        "## Splitting dataset"
      ]
    },
    {
      "cell_type": "code",
      "execution_count": 5,
      "metadata": {
        "colab": {
          "base_uri": "https://localhost:8080/"
        },
        "id": "liA7PxgDac4i",
        "outputId": "a38fc686-f884-4147-8f6e-3101f3cc41ab"
      },
      "outputs": [
        {
          "name": "stdout",
          "output_type": "stream",
          "text": [
            "test saved at /home/elliot/Documents/ESL2024/data/mapping_datasets_and_model_for_genes_to_phenotypes_iric/little_dataset_TEST.pickle\n",
            "val saved at : /home/elliot/Documents/ESL2024/data/mapping_datasets_and_model_for_genes_to_phenotypes_iric/little_dataset_VAL.pickle\n",
            "train saved at : /home/elliot/Documents/ESL2024/data/mapping_datasets_and_model_for_genes_to_phenotypes_iric/little_dataset_TRAIN.pickle\n",
            "\n",
            "Loaded datasets look valid (val, test, train): True True True \n",
            "\n",
            "Before : Data(edge_index=[2, 8001], edge_attr=[8001], num_nodes=3343, edge_label=[2000], edge_label_index=[2, 2000])\n",
            " After : Data(edge_index=[2, 8001], edge_attr=[8001], num_nodes=3343, edge_label=[2000], edge_label_index=[2, 2000])\n"
          ]
        }
      ],
      "source": [
        "transform = RandomLinkSplit(\n",
        "                            num_val = 0.1,\n",
        "                            num_test = 0.1,\n",
        "                            is_undirected=False,\n",
        "                            add_negative_train_samples=False,\n",
        "                            )\n",
        "\n",
        "train, val, test = transform(iric_pyg)\n",
        "\n",
        "torch.save(obj=train, f = train_path)\n",
        "torch.save(obj=test, f = test_path)\n",
        "torch.save(obj=val, f = val_path)\n",
        "\n",
        "print(f'test saved at {test_path}\\nval saved at : {val_path}\\ntrain saved at : {train_path}\\n')\n",
        "\n",
        "print('Loaded datasets look valid (val, test, train):',\n",
        "torch.load(val_path).validate(raise_on_error=True),\n",
        "torch.load(test_path).validate(raise_on_error=True),\n",
        "torch.load(train_path).validate(raise_on_error=True),'\\n')\n",
        "\n",
        "print('Before :', val)\n",
        "print(' After :', torch.load(val_path))"
      ]
    }
  ],
  "metadata": {
    "accelerator": "GPU",
    "colab": {
      "gpuType": "T4",
      "provenance": []
    },
    "kernelspec": {
      "display_name": "Python 3",
      "name": "python3"
    },
    "language_info": {
      "codemirror_mode": {
        "name": "ipython",
        "version": 3
      },
      "file_extension": ".py",
      "mimetype": "text/x-python",
      "name": "python",
      "nbconvert_exporter": "python",
      "pygments_lexer": "ipython3",
      "version": "3.8.10"
    }
  },
  "nbformat": 4,
  "nbformat_minor": 0
}
