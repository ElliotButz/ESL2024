{
 "cells": [
  {
   "cell_type": "code",
   "execution_count": 1,
   "metadata": {},
   "outputs": [],
   "source": [
    "import pandas as pd\n",
    "import numpy as np\n",
    "\n",
    "import torch\n",
    "from torch_geometric.data import Data\n",
    "from torch_geometric.transforms import RandomLinkSplit\n",
    "from torch_geometric.loader import DataLoader\n",
    "import torch.optim as optim\n",
    "from torch_geometric.nn import ComplEx\n",
    "import random\n",
    "\n",
    "import wandb\n",
    "from tqdm import tqdm\n",
    "\n",
    "# Specifique au dataset iric\n",
    "import os\n",
    "import sys\n",
    "sys.path.append('/home/ebutz/ESL2024/code/utils') # Ajouter le dossier contenant constants.py\n",
    "import constants as c"
   ]
  },
  {
   "cell_type": "code",
   "execution_count": 7,
   "metadata": {},
   "outputs": [
    {
     "name": "stdout",
     "output_type": "stream",
     "text": [
      "cpu\n"
     ]
    }
   ],
   "source": [
    "# Datas :\n",
    "iric_csv_path = \"/home/ebutz/ESL2024/data/full_iric/iric.csv\"\n",
    "test_ratio = 0.1\n",
    "val_ratio  = 0.1\n",
    "\n",
    "# ComplEx embeddings :\n",
    "hidden_channels = 1\n",
    "batch_size = 4096\n",
    "epochs = 3\n",
    "neg_per_pos = 1 #Number of negatives per positive during training\n",
    "K = 10 #K from Hit@K\n",
    "\n",
    "device = 'cuda' if torch.cuda.is_available() else 'cpu'\n",
    "os.environ[\"CUDA_VISIBLE_DEVICES\"] = \"0\"\n",
    "# device = torch.device('cuda' if torch.cuda.is_available() else 'cpu')\n",
    "print(device)"
   ]
  },
  {
   "cell_type": "code",
   "execution_count": 9,
   "metadata": {},
   "outputs": [
    {
     "name": "stderr",
     "output_type": "stream",
     "text": [
      "/tmp/ipykernel_21794/2913780078.py:14: DtypeWarning: Columns (1,2,3,4,6,7,8,9,10,11,12,13,14,15,18,20,21,22,23,24,25,26,27,28,29,30,31) have mixed types. Specify dtype option on import or set low_memory=False.\n",
      "  df = pd.read_csv(filepath_or_buffer=path_to_csv, sep = ',', index_col = 0)\n"
     ]
    },
    {
     "data": {
      "text/html": [
       "<div>\n",
       "<style scoped>\n",
       "    .dataframe tbody tr th:only-of-type {\n",
       "        vertical-align: middle;\n",
       "    }\n",
       "\n",
       "    .dataframe tbody tr th {\n",
       "        vertical-align: top;\n",
       "    }\n",
       "\n",
       "    .dataframe thead th {\n",
       "        text-align: right;\n",
       "    }\n",
       "</style>\n",
       "<table border=\"1\" class=\"dataframe\">\n",
       "  <thead>\n",
       "    <tr style=\"text-align: right;\">\n",
       "      <th></th>\n",
       "      <th>subject</th>\n",
       "      <th>predicate</th>\n",
       "      <th>object</th>\n",
       "      <th>mapped_subject</th>\n",
       "      <th>mapped_predicate</th>\n",
       "      <th>mapped_object</th>\n",
       "    </tr>\n",
       "  </thead>\n",
       "  <tbody>\n",
       "    <tr>\n",
       "      <th>0</th>\n",
       "      <td>GO:0000001</td>\n",
       "      <td>is_a</td>\n",
       "      <td>GO:0048311</td>\n",
       "      <td>49137</td>\n",
       "      <td>7</td>\n",
       "      <td>52855</td>\n",
       "    </tr>\n",
       "    <tr>\n",
       "      <th>1</th>\n",
       "      <td>GO:0000001</td>\n",
       "      <td>is_a</td>\n",
       "      <td>GO:0048308</td>\n",
       "      <td>49137</td>\n",
       "      <td>7</td>\n",
       "      <td>74528</td>\n",
       "    </tr>\n",
       "    <tr>\n",
       "      <th>2</th>\n",
       "      <td>GO:0000002</td>\n",
       "      <td>is_a</td>\n",
       "      <td>GO:0007005</td>\n",
       "      <td>1676</td>\n",
       "      <td>7</td>\n",
       "      <td>46182</td>\n",
       "    </tr>\n",
       "    <tr>\n",
       "      <th>3</th>\n",
       "      <td>GO:0000003</td>\n",
       "      <td>is_a</td>\n",
       "      <td>GO:0008150</td>\n",
       "      <td>49508</td>\n",
       "      <td>7</td>\n",
       "      <td>46766</td>\n",
       "    </tr>\n",
       "    <tr>\n",
       "      <th>4</th>\n",
       "      <td>GO:0000006</td>\n",
       "      <td>is_a</td>\n",
       "      <td>GO:0005385</td>\n",
       "      <td>7766</td>\n",
       "      <td>7</td>\n",
       "      <td>58756</td>\n",
       "    </tr>\n",
       "    <tr>\n",
       "      <th>...</th>\n",
       "      <td>...</td>\n",
       "      <td>...</td>\n",
       "      <td>...</td>\n",
       "      <td>...</td>\n",
       "      <td>...</td>\n",
       "      <td>...</td>\n",
       "    </tr>\n",
       "    <tr>\n",
       "      <th>1452516</th>\n",
       "      <td>OsNippo12g255000</td>\n",
       "      <td>interacts_with</td>\n",
       "      <td>OsNippo07g025800</td>\n",
       "      <td>1963</td>\n",
       "      <td>8</td>\n",
       "      <td>65147</td>\n",
       "    </tr>\n",
       "    <tr>\n",
       "      <th>1452517</th>\n",
       "      <td>OsNippo12g255000</td>\n",
       "      <td>interacts_with</td>\n",
       "      <td>OsNippo07g207000</td>\n",
       "      <td>1963</td>\n",
       "      <td>8</td>\n",
       "      <td>68417</td>\n",
       "    </tr>\n",
       "    <tr>\n",
       "      <th>1452518</th>\n",
       "      <td>OsNippo12g255000</td>\n",
       "      <td>interacts_with</td>\n",
       "      <td>OsNippo07g207600</td>\n",
       "      <td>1963</td>\n",
       "      <td>8</td>\n",
       "      <td>49405</td>\n",
       "    </tr>\n",
       "    <tr>\n",
       "      <th>1452519</th>\n",
       "      <td>OsNippo12g255000</td>\n",
       "      <td>interacts_with</td>\n",
       "      <td>OsNippo10g150350</td>\n",
       "      <td>1963</td>\n",
       "      <td>8</td>\n",
       "      <td>34132</td>\n",
       "    </tr>\n",
       "    <tr>\n",
       "      <th>1452520</th>\n",
       "      <td>OsNippo12g255000</td>\n",
       "      <td>interacts_with</td>\n",
       "      <td>OsNippo12g215150</td>\n",
       "      <td>1963</td>\n",
       "      <td>8</td>\n",
       "      <td>13298</td>\n",
       "    </tr>\n",
       "  </tbody>\n",
       "</table>\n",
       "<p>1452521 rows × 6 columns</p>\n",
       "</div>"
      ],
      "text/plain": [
       "                  subject       predicate            object  mapped_subject  \\\n",
       "0              GO:0000001            is_a        GO:0048311           49137   \n",
       "1              GO:0000001            is_a        GO:0048308           49137   \n",
       "2              GO:0000002            is_a        GO:0007005            1676   \n",
       "3              GO:0000003            is_a        GO:0008150           49508   \n",
       "4              GO:0000006            is_a        GO:0005385            7766   \n",
       "...                   ...             ...               ...             ...   \n",
       "1452516  OsNippo12g255000  interacts_with  OsNippo07g025800            1963   \n",
       "1452517  OsNippo12g255000  interacts_with  OsNippo07g207000            1963   \n",
       "1452518  OsNippo12g255000  interacts_with  OsNippo07g207600            1963   \n",
       "1452519  OsNippo12g255000  interacts_with  OsNippo10g150350            1963   \n",
       "1452520  OsNippo12g255000  interacts_with  OsNippo12g215150            1963   \n",
       "\n",
       "         mapped_predicate  mapped_object  \n",
       "0                       7          52855  \n",
       "1                       7          74528  \n",
       "2                       7          46182  \n",
       "3                       7          46766  \n",
       "4                       7          58756  \n",
       "...                   ...            ...  \n",
       "1452516                 8          65147  \n",
       "1452517                 8          68417  \n",
       "1452518                 8          49405  \n",
       "1452519                 8          34132  \n",
       "1452520                 8          13298  \n",
       "\n",
       "[1452521 rows x 6 columns]"
      ]
     },
     "metadata": {},
     "output_type": "display_data"
    },
    {
     "name": "stdout",
     "output_type": "stream",
     "text": [
      "0\n"
     ]
    }
   ],
   "source": [
    "def triples_from_csv(path_to_csv, columns_to_use = c.IricNode.features.value):\n",
    "    \"\"\"\n",
    "    Creates triples from a CSV.\n",
    "\n",
    "    Parameters:\n",
    "    - path_to_csv (str): Filepath or buffer to the input CSV file.\n",
    "    - columns_to_use (list): A list of the columns to consider.\n",
    "\n",
    "    Returns:\n",
    "    - triples (pandas.DataFrame): Output DataFrame in triple format.\n",
    "                                  Subjects are index items, predicates are column names from columns_to_use, objects are non-NaN values in columns.\n",
    "    \"\"\"\n",
    "\n",
    "    df = pd.read_csv(filepath_or_buffer=path_to_csv, sep = ',', index_col = 0)\n",
    "    df.columns = df.columns.str.lower()\n",
    "    \n",
    "    # Create a list of triples\n",
    "    triples = []\n",
    "    # Drop feature columns\n",
    "    columns_to_drop = [col for col in columns_to_use if col in df.columns]\n",
    "    df.drop(columns=columns_to_drop, inplace=True)\n",
    "    df = df.replace({np.nan:None})\n",
    "    \n",
    "    for index, row in df.iterrows():\n",
    "        for column in df.columns:\n",
    "            if row[column] is not None:\n",
    "                for predicate in row[column].split('|'):\n",
    "                    triples.append([index, column, predicate])\n",
    "\n",
    "    # Create a dataframe from the list of triples\n",
    "    return pd.DataFrame(triples, columns=['subject', 'predicate', 'object'])\n",
    "\n",
    "# Extracting triples from original csv :\n",
    "iric_triples = triples_from_csv(path_to_csv = iric_csv_path)\n",
    "\n",
    "# Mapping entities and relations to integers ids :\n",
    "entity_set = set(iric_triples['object']).union(set(iric_triples['subject']))\n",
    "entity_to_mapping = {entity: int(i) for i, entity in enumerate(entity_set)}\n",
    "relation_set = set(iric_triples['predicate'])\n",
    "relation_to_mapping = {relation: int(i) for i, relation in enumerate(relation_set)}\n",
    "\n",
    "# Triples to mapped triples :\n",
    "iric_triples['mapped_subject'] = iric_triples['subject'].apply(lambda x: entity_to_mapping[x])\n",
    "iric_triples['mapped_predicate'] = iric_triples['predicate'].apply(lambda x: relation_to_mapping[x])\n",
    "iric_triples['mapped_object'] = iric_triples['object'].apply(lambda x: entity_to_mapping[x])\n",
    "display(iric_triples)\n",
    "print(min(iric_triples['mapped_subject']))"
   ]
  },
  {
   "cell_type": "code",
   "execution_count": 16,
   "metadata": {},
   "outputs": [
    {
     "data": {
      "text/plain": [
       "[131073,\n",
       " 131088,\n",
       " 131089,\n",
       " 131096,\n",
       " 131099,\n",
       " 131103,\n",
       " 131105,\n",
       " 131110,\n",
       " 131113,\n",
       " 131114,\n",
       " 131115,\n",
       " 131120,\n",
       " 131122,\n",
       " 131131,\n",
       " 131132,\n",
       " 131134,\n",
       " 131145,\n",
       " 131149,\n",
       " 131151,\n",
       " 131160,\n",
       " 131163,\n",
       " 131166,\n",
       " 131170,\n",
       " 131173,\n",
       " 131174,\n",
       " 131178,\n",
       " 131181,\n",
       " 131182,\n",
       " 131186,\n",
       " 131189,\n",
       " 131201,\n",
       " 131204,\n",
       " 131207,\n",
       " 131212,\n",
       " 131219,\n",
       " 131222,\n",
       " 131225,\n",
       " 131226,\n",
       " 131231,\n",
       " 131236,\n",
       " 131237,\n",
       " 131239,\n",
       " 131241,\n",
       " 131246,\n",
       " 131249,\n",
       " 131253,\n",
       " 131254,\n",
       " 131256,\n",
       " 131260,\n",
       " 131266,\n",
       " 131270,\n",
       " 131279,\n",
       " 131280,\n",
       " 131284,\n",
       " 131295,\n",
       " 131300,\n",
       " 131310,\n",
       " 131313,\n",
       " 131314,\n",
       " 131319,\n",
       " 131320,\n",
       " 131322,\n",
       " 131324,\n",
       " 131325,\n",
       " 131327,\n",
       " 131332,\n",
       " 131336,\n",
       " 131337,\n",
       " 131345,\n",
       " 131346,\n",
       " 131354,\n",
       " 131355,\n",
       " 131356,\n",
       " 131357,\n",
       " 131359,\n",
       " 131360,\n",
       " 131361,\n",
       " 292,\n",
       " 131366,\n",
       " 131367,\n",
       " 131369,\n",
       " 131370,\n",
       " 131371,\n",
       " 131377,\n",
       " 131378,\n",
       " 131379,\n",
       " 131381,\n",
       " 131388,\n",
       " 131394,\n",
       " 131395,\n",
       " 131397,\n",
       " 131398,\n",
       " 131400,\n",
       " 131402,\n",
       " 131407,\n",
       " 131410,\n",
       " 131411,\n",
       " 131412,\n",
       " 131414,\n",
       " 131419]"
      ]
     },
     "execution_count": 16,
     "metadata": {},
     "output_type": "execute_result"
    }
   ],
   "source": [
    "ontology = iric_triples[iric_triples['predicate']=='is_a']\n",
    "GO_terms = list(set(list(ontology['mapped_subject']+list(ontology['mapped_object']))))\n",
    "GO_terms[:100]"
   ]
  },
  {
   "cell_type": "code",
   "execution_count": 5,
   "metadata": {},
   "outputs": [
    {
     "name": "stdout",
     "output_type": "stream",
     "text": [
      "Data(edge_index=[2, 1427], edge_attr=[1427], num_nodes=1684)\n",
      "\n",
      "Dataset looks valid : True\n",
      "Train, test, val sets look valid : True True True\n"
     ]
    }
   ],
   "source": [
    "# Triples to pyg framework :\n",
    "\n",
    "# Edges index :\n",
    "heads = list(iric_triples['mapped_subject'])\n",
    "tails = list(iric_triples['mapped_object'])\n",
    "edge_index = torch.tensor([heads,tails], dtype=torch.long)\n",
    "edge_attributes = torch.tensor(iric_triples['mapped_predicate'])\n",
    "\n",
    "iric_pyg = Data(\n",
    "                num_nodes = len(entity_set),\n",
    "                edge_index = edge_index,\n",
    "                edge_attr = edge_attributes\n",
    "                )\n",
    "\n",
    "print(iric_pyg)\n",
    "\n",
    "print(\"\\nDataset looks valid :\",iric_pyg.validate(raise_on_error=True))\n",
    "\n",
    "transform = RandomLinkSplit(\n",
    "                            num_val = val_ratio,\n",
    "                            num_test = test_ratio,\n",
    "                            is_undirected=False,\n",
    "                            add_negative_train_samples=False,\n",
    "                            )\n",
    "\n",
    "train_data, val_data, test_data = transform(iric_pyg)\n",
    "print(\"Train, test, val sets look valid :\",train_data.validate(raise_on_error=True), test_data.validate(raise_on_error=True), val_data.validate(raise_on_error=True))"
   ]
  },
  {
   "cell_type": "code",
   "execution_count": 6,
   "metadata": {},
   "outputs": [
    {
     "name": "stdout",
     "output_type": "stream",
     "text": [
      "Loader type : <class 'torch_geometric.nn.kge.loader.KGTripletLoader'>\n"
     ]
    }
   ],
   "source": [
    "# Initiating model :\n",
    "to_complex = ComplEx(\n",
    "    num_nodes=train_data.num_nodes,\n",
    "    num_relations = train_data.edge_index.size()[1],\n",
    "    hidden_channels=hidden_channels,\n",
    ").to(device)\n",
    "to_complex.reset_parameters()\n",
    "to_complex.to(device)\n",
    "\n",
    "# Initiaing loader :\n",
    "head_index = train_data.edge_index[0]\n",
    "tail_index = train_data.edge_index[1]\n",
    "rel_type = train_data.edge_attr\n",
    "\n",
    "loader = to_complex.loader(\n",
    "    head_index = head_index,\n",
    "    tail_index = tail_index,\n",
    "    rel_type = rel_type,\n",
    "    batch_size=batch_size,\n",
    "    shuffle=True,\n",
    ")\n",
    "print(\"Loader type :\", type(loader))\n",
    "\n",
    "# initiating optimizers :\n",
    "complex_optimizer = optim.Adam(to_complex.parameters())\n",
    "\n",
    "# Defining test and train functions :\n",
    "@torch.no_grad()\n",
    "def test(data, model):\n",
    "    model.eval()\n",
    "    return model.test(\n",
    "        head_index=data.edge_index[0],\n",
    "        tail_index=data.edge_index[1],\n",
    "        rel_type=data.edge_attr,\n",
    "        batch_size=batch_size, # No need for Tail_Only_ComplEx because one use only 1000 random sample instead of the full dataset.\n",
    "        k=K, #The k in Hit@k\n",
    "    )\n",
    "\n",
    "def train(loader, model, optimizer):\n",
    "    model.train()\n",
    "    total_loss = total_examples = 0\n",
    "    for head_index, rel_type, tail_index in loader:\n",
    "        optimizer.zero_grad()\n",
    "        loss = model.loss(head_index, rel_type, tail_index)\n",
    "        loss.backward()\n",
    "        optimizer.step()\n",
    "        total_loss += float(loss) * head_index.numel()\n",
    "        total_examples += head_index.numel()\n",
    "    return total_loss / total_examples"
   ]
  },
  {
   "cell_type": "code",
   "execution_count": 7,
   "metadata": {},
   "outputs": [
    {
     "name": "stderr",
     "output_type": "stream",
     "text": [
      "Failed to detect the name of this notebook, you can set it manually with the WANDB_NOTEBOOK_NAME environment variable to enable code saving.\n",
      "\u001b[34m\u001b[1mwandb\u001b[0m: Currently logged in as: \u001b[33mbutzelliot\u001b[0m (\u001b[33mesl2024\u001b[0m). Use \u001b[1m`wandb login --relogin`\u001b[0m to force relogin\n"
     ]
    },
    {
     "data": {
      "application/vnd.jupyter.widget-view+json": {
       "model_id": "f553b5914a3f40488f8895180d37f82b",
       "version_major": 2,
       "version_minor": 0
      },
      "text/plain": [
       "VBox(children=(Label(value='Waiting for wandb.init()...\\r'), FloatProgress(value=0.011301602925070459, max=1.0…"
      ]
     },
     "metadata": {},
     "output_type": "display_data"
    },
    {
     "data": {
      "text/html": [
       "wandb version 0.17.0 is available!  To upgrade, please run:\n",
       " $ pip install wandb --upgrade"
      ],
      "text/plain": [
       "<IPython.core.display.HTML object>"
      ]
     },
     "metadata": {},
     "output_type": "display_data"
    },
    {
     "data": {
      "text/html": [
       "Tracking run with wandb version 0.16.5"
      ],
      "text/plain": [
       "<IPython.core.display.HTML object>"
      ]
     },
     "metadata": {},
     "output_type": "display_data"
    },
    {
     "data": {
      "text/html": [
       "Run data is saved locally in <code>/home/ebutz/ESL2024/wandb/run-20240530_165529-kncy8kyc</code>"
      ],
      "text/plain": [
       "<IPython.core.display.HTML object>"
      ]
     },
     "metadata": {},
     "output_type": "display_data"
    },
    {
     "data": {
      "text/html": [
       "Syncing run <strong><a href='https://wandb.ai/esl2024/ComplEx%20on%20Iric/runs/kncy8kyc/workspace' target=\"_blank\">whole-paper-1</a></strong> to <a href='https://wandb.ai/esl2024/ComplEx%20on%20Iric' target=\"_blank\">Weights & Biases</a> (<a href='https://wandb.me/run' target=\"_blank\">docs</a>)<br/>"
      ],
      "text/plain": [
       "<IPython.core.display.HTML object>"
      ]
     },
     "metadata": {},
     "output_type": "display_data"
    },
    {
     "data": {
      "text/html": [
       " View project at <a href='https://wandb.ai/esl2024/ComplEx%20on%20Iric' target=\"_blank\">https://wandb.ai/esl2024/ComplEx%20on%20Iric</a>"
      ],
      "text/plain": [
       "<IPython.core.display.HTML object>"
      ]
     },
     "metadata": {},
     "output_type": "display_data"
    },
    {
     "data": {
      "text/html": [
       " View run at <a href='https://wandb.ai/esl2024/ComplEx%20on%20Iric/runs/kncy8kyc/workspace' target=\"_blank\">https://wandb.ai/esl2024/ComplEx%20on%20Iric/runs/kncy8kyc/workspace</a>"
      ],
      "text/plain": [
       "<IPython.core.display.HTML object>"
      ]
     },
     "metadata": {},
     "output_type": "display_data"
    },
    {
     "name": "stdout",
     "output_type": "stream",
     "text": [
      "Epoch: 001, Loss: 0.6931\n"
     ]
    },
    {
     "name": "stderr",
     "output_type": "stream",
     "text": [
      "100%|██████████| 1143/1143 [00:00<00:00, 1241.49it/s]\n"
     ]
    },
    {
     "name": "stdout",
     "output_type": "stream",
     "text": [
      "Epoch: 001, Val Mean Rank: 808.90 Val MRR: 0.0055, Val Hits@10: 0.0105\n",
      "Epoch: 002, Loss: 0.6931\n"
     ]
    },
    {
     "name": "stderr",
     "output_type": "stream",
     "text": [
      "100%|██████████| 1143/1143 [00:00<00:00, 1990.98it/s]\n"
     ]
    },
    {
     "name": "stdout",
     "output_type": "stream",
     "text": [
      "Epoch: 002, Val Mean Rank: 793.60 Val MRR: 0.0060, Val Hits@10: 0.0114\n",
      "Epoch: 003, Loss: 0.6931\n"
     ]
    },
    {
     "name": "stderr",
     "output_type": "stream",
     "text": [
      "100%|██████████| 1143/1143 [00:00<00:00, 1818.26it/s]\n"
     ]
    },
    {
     "name": "stdout",
     "output_type": "stream",
     "text": [
      "Epoch: 003, Val Mean Rank: 778.51 Val MRR: 0.0066, Val Hits@10: 0.0122\n"
     ]
    },
    {
     "data": {
      "application/vnd.jupyter.widget-view+json": {
       "model_id": "5c86c8073b3049fda54f60a0d878fc46",
       "version_major": 2,
       "version_minor": 0
      },
      "text/plain": [
       "VBox(children=(Label(value='0.005 MB of 0.005 MB uploaded\\r'), FloatProgress(value=1.0, max=1.0)))"
      ]
     },
     "metadata": {},
     "output_type": "display_data"
    },
    {
     "data": {
      "text/html": [
       "<style>\n",
       "    table.wandb td:nth-child(1) { padding: 0 10px; text-align: left ; width: auto;} td:nth-child(2) {text-align: left ; width: 100%}\n",
       "    .wandb-row { display: flex; flex-direction: row; flex-wrap: wrap; justify-content: flex-start; width: 100% }\n",
       "    .wandb-col { display: flex; flex-direction: column; flex-basis: 100%; flex: 1; padding: 10px; }\n",
       "    </style>\n",
       "<div class=\"wandb-row\"><div class=\"wandb-col\"><h3>Run history:</h3><br/><table class=\"wandb\"><tr><td>Val MRR</td><td>▁▄█</td></tr><tr><td>Val Mean Rank</td><td>█▄▁</td></tr><tr><td>hits@10</td><td>▁▅█</td></tr><tr><td>loss</td><td>█▃▁</td></tr></table><br/></div><div class=\"wandb-col\"><h3>Run summary:</h3><br/><table class=\"wandb\"><tr><td>Val MRR</td><td>0.00656</td></tr><tr><td>Val Mean Rank</td><td>778.50745</td></tr><tr><td>hits@10</td><td>0.01225</td></tr><tr><td>loss</td><td>0.69314</td></tr></table><br/></div></div>"
      ],
      "text/plain": [
       "<IPython.core.display.HTML object>"
      ]
     },
     "metadata": {},
     "output_type": "display_data"
    },
    {
     "data": {
      "text/html": [
       " View run <strong style=\"color:#cdcd00\">whole-paper-1</strong> at: <a href='https://wandb.ai/esl2024/ComplEx%20on%20Iric/runs/kncy8kyc/workspace' target=\"_blank\">https://wandb.ai/esl2024/ComplEx%20on%20Iric/runs/kncy8kyc/workspace</a><br/>Synced 6 W&B file(s), 0 media file(s), 0 artifact file(s) and 0 other file(s)"
      ],
      "text/plain": [
       "<IPython.core.display.HTML object>"
      ]
     },
     "metadata": {},
     "output_type": "display_data"
    },
    {
     "data": {
      "text/html": [
       "Find logs at: <code>./wandb/run-20240530_165529-kncy8kyc/logs</code>"
      ],
      "text/plain": [
       "<IPython.core.display.HTML object>"
      ]
     },
     "metadata": {},
     "output_type": "display_data"
    }
   ],
   "source": [
    "# Running XP :\n",
    "\n",
    "wandb.init(\n",
    "    settings=wandb.Settings(start_method=\"fork\"),\n",
    "    # set the wandb project where this run will be logged\n",
    "    project=\"ComplEx on Iric\",\n",
    "    \n",
    "    # track hyperparameters and run metadata\n",
    "    config={\n",
    "    \"architecture\": \"Tail_Only_ComplEx\",\n",
    "    \"dataset\": \"Iric\",\n",
    "    \"epochs\": epochs,\n",
    "    'hidden_channels' : hidden_channels,\n",
    "    'batch_size' : batch_size\n",
    "    }\n",
    ")\n",
    "\n",
    "losses = []\n",
    "for epoch in range(1, epochs+1):\n",
    "    loss = train(model=to_complex, loader = loader, optimizer=complex_optimizer)\n",
    "    losses.append(loss)\n",
    "    wandb.log({\"loss\": loss})\n",
    "\n",
    "    print(f'Epoch: {epoch:03d}, Loss: {loss:.4f}')\n",
    "\n",
    "    rank, mrr, hit = test(val_data, model=to_complex)\n",
    "    print(f'Epoch: {epoch:03d}, Val Mean Rank: {rank:.2f}', f'Val MRR: {mrr:.4f}, Val Hits@10: {hit:.4f}')\n",
    "\n",
    "    wandb.log({\"Val Mean Rank\" : rank, \"Val MRR\" : mrr, \"hits@10\": hit})\n",
    "\n",
    "\n",
    "wandb.finish()\n"
   ]
  },
  {
   "cell_type": "code",
   "execution_count": 8,
   "metadata": {},
   "outputs": [],
   "source": []
  },
  {
   "cell_type": "code",
   "execution_count": null,
   "metadata": {},
   "outputs": [],
   "source": []
  }
 ],
 "metadata": {
  "kernelspec": {
   "display_name": "pyg2",
   "language": "python",
   "name": "python3"
  },
  "language_info": {
   "codemirror_mode": {
    "name": "ipython",
    "version": 3
   },
   "file_extension": ".py",
   "mimetype": "text/x-python",
   "name": "python",
   "nbconvert_exporter": "python",
   "pygments_lexer": "ipython3",
   "version": "3.10.14"
  }
 },
 "nbformat": 4,
 "nbformat_minor": 2
}
