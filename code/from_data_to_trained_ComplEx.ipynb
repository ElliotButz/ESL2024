{
 "cells": [
  {
   "cell_type": "code",
   "execution_count": 1,
   "metadata": {},
   "outputs": [],
   "source": [
    "import pandas as pd\n",
    "import numpy as np\n",
    "\n",
    "import torch\n",
    "from torch_geometric.data import Data\n",
    "from torch_geometric.transforms import RandomLinkSplit\n",
    "from torch_geometric.loader import DataLoader\n",
    "import torch.optim as optim\n",
    "from torch_geometric.nn import ComplEx\n",
    "import random\n",
    "\n",
    "import wandb\n",
    "from tqdm import tqdm\n",
    "\n",
    "# Specifique au dataset iric\n",
    "import os\n",
    "import sys\n",
    "sys.path.append('/home/ebutz/ESL2024/code/utils') # Ajouter le dossier contenant constants.py\n",
    "import constants as c"
   ]
  },
  {
   "cell_type": "code",
   "execution_count": 2,
   "metadata": {},
   "outputs": [
    {
     "name": "stdout",
     "output_type": "stream",
     "text": [
      "cpu\n"
     ]
    }
   ],
   "source": [
    "# Datas :\n",
    "iric_csv_path = \"/home/ebutz/ESL2024/data/little_iric/little_iric.csv\"\n",
    "test_ratio = 0.1\n",
    "val_ratio  = 0.1\n",
    "\n",
    "# ComplEx embeddings :\n",
    "hidden_channels = 1\n",
    "batch_size = 4096\n",
    "epochs = 3\n",
    "neg_per_pos = 1 #Number of negatives per positive during training\n",
    "K = 10 #K from Hit@K\n",
    "\n",
    "# device = 'cuda' if torch.cuda.is_available() else 'cpu'\n",
    "os.environ[\"CUDA_VISIBLE_DEVICES\"] = \"3\"\n",
    "device = torch.device('cuda' if torch.cuda.is_available() else 'cpu')\n",
    "print(device)"
   ]
  },
  {
   "cell_type": "code",
   "execution_count": 3,
   "metadata": {},
   "outputs": [
    {
     "data": {
      "text/html": [
       "<div>\n",
       "<style scoped>\n",
       "    .dataframe tbody tr th:only-of-type {\n",
       "        vertical-align: middle;\n",
       "    }\n",
       "\n",
       "    .dataframe tbody tr th {\n",
       "        vertical-align: top;\n",
       "    }\n",
       "\n",
       "    .dataframe thead th {\n",
       "        text-align: right;\n",
       "    }\n",
       "</style>\n",
       "<table border=\"1\" class=\"dataframe\">\n",
       "  <thead>\n",
       "    <tr style=\"text-align: right;\">\n",
       "      <th></th>\n",
       "      <th>subject</th>\n",
       "      <th>predicate</th>\n",
       "      <th>object</th>\n",
       "      <th>mapped_subject</th>\n",
       "      <th>mapped_predicate</th>\n",
       "      <th>mapped_object</th>\n",
       "    </tr>\n",
       "  </thead>\n",
       "  <tbody>\n",
       "    <tr>\n",
       "      <th>0</th>\n",
       "      <td>GO:0000001</td>\n",
       "      <td>is_a</td>\n",
       "      <td>GO:0048311</td>\n",
       "      <td>681</td>\n",
       "      <td>0</td>\n",
       "      <td>267</td>\n",
       "    </tr>\n",
       "    <tr>\n",
       "      <th>1</th>\n",
       "      <td>GO:0000001</td>\n",
       "      <td>is_a</td>\n",
       "      <td>GO:0048308</td>\n",
       "      <td>681</td>\n",
       "      <td>0</td>\n",
       "      <td>604</td>\n",
       "    </tr>\n",
       "    <tr>\n",
       "      <th>2</th>\n",
       "      <td>GO:0000002</td>\n",
       "      <td>is_a</td>\n",
       "      <td>GO:0007005</td>\n",
       "      <td>553</td>\n",
       "      <td>0</td>\n",
       "      <td>1462</td>\n",
       "    </tr>\n",
       "    <tr>\n",
       "      <th>3</th>\n",
       "      <td>GO:0000003</td>\n",
       "      <td>is_a</td>\n",
       "      <td>GO:0008150</td>\n",
       "      <td>116</td>\n",
       "      <td>0</td>\n",
       "      <td>551</td>\n",
       "    </tr>\n",
       "    <tr>\n",
       "      <th>4</th>\n",
       "      <td>GO:0000006</td>\n",
       "      <td>is_a</td>\n",
       "      <td>GO:0005385</td>\n",
       "      <td>1408</td>\n",
       "      <td>0</td>\n",
       "      <td>403</td>\n",
       "    </tr>\n",
       "    <tr>\n",
       "      <th>...</th>\n",
       "      <td>...</td>\n",
       "      <td>...</td>\n",
       "      <td>...</td>\n",
       "      <td>...</td>\n",
       "      <td>...</td>\n",
       "      <td>...</td>\n",
       "    </tr>\n",
       "    <tr>\n",
       "      <th>1422</th>\n",
       "      <td>GO:0001930</td>\n",
       "      <td>is_a</td>\n",
       "      <td>GO:0031334</td>\n",
       "      <td>784</td>\n",
       "      <td>0</td>\n",
       "      <td>1406</td>\n",
       "    </tr>\n",
       "    <tr>\n",
       "      <th>1423</th>\n",
       "      <td>GO:0001930</td>\n",
       "      <td>is_a</td>\n",
       "      <td>GO:0001928</td>\n",
       "      <td>784</td>\n",
       "      <td>0</td>\n",
       "      <td>1586</td>\n",
       "    </tr>\n",
       "    <tr>\n",
       "      <th>1424</th>\n",
       "      <td>GO:0001931</td>\n",
       "      <td>is_a</td>\n",
       "      <td>GO:0120025</td>\n",
       "      <td>754</td>\n",
       "      <td>0</td>\n",
       "      <td>848</td>\n",
       "    </tr>\n",
       "    <tr>\n",
       "      <th>1425</th>\n",
       "      <td>GO:0001932</td>\n",
       "      <td>is_a</td>\n",
       "      <td>GO:0031399</td>\n",
       "      <td>1616</td>\n",
       "      <td>0</td>\n",
       "      <td>1293</td>\n",
       "    </tr>\n",
       "    <tr>\n",
       "      <th>1426</th>\n",
       "      <td>GO:0001932</td>\n",
       "      <td>is_a</td>\n",
       "      <td>GO:0042325</td>\n",
       "      <td>1616</td>\n",
       "      <td>0</td>\n",
       "      <td>1328</td>\n",
       "    </tr>\n",
       "  </tbody>\n",
       "</table>\n",
       "<p>1427 rows × 6 columns</p>\n",
       "</div>"
      ],
      "text/plain": [
       "         subject predicate      object  mapped_subject  mapped_predicate  \\\n",
       "0     GO:0000001      is_a  GO:0048311             681                 0   \n",
       "1     GO:0000001      is_a  GO:0048308             681                 0   \n",
       "2     GO:0000002      is_a  GO:0007005             553                 0   \n",
       "3     GO:0000003      is_a  GO:0008150             116                 0   \n",
       "4     GO:0000006      is_a  GO:0005385            1408                 0   \n",
       "...          ...       ...         ...             ...               ...   \n",
       "1422  GO:0001930      is_a  GO:0031334             784                 0   \n",
       "1423  GO:0001930      is_a  GO:0001928             784                 0   \n",
       "1424  GO:0001931      is_a  GO:0120025             754                 0   \n",
       "1425  GO:0001932      is_a  GO:0031399            1616                 0   \n",
       "1426  GO:0001932      is_a  GO:0042325            1616                 0   \n",
       "\n",
       "      mapped_object  \n",
       "0               267  \n",
       "1               604  \n",
       "2              1462  \n",
       "3               551  \n",
       "4               403  \n",
       "...             ...  \n",
       "1422           1406  \n",
       "1423           1586  \n",
       "1424            848  \n",
       "1425           1293  \n",
       "1426           1328  \n",
       "\n",
       "[1427 rows x 6 columns]"
      ]
     },
     "metadata": {},
     "output_type": "display_data"
    }
   ],
   "source": [
    "def triples_from_csv(path_to_csv, columns_to_use = c.IricNode.features.value):\n",
    "    \"\"\"\n",
    "    Creates triples from a CSV.\n",
    "\n",
    "    Parameters:\n",
    "    - path_to_csv (str): Filepath or buffer to the input CSV file.\n",
    "    - columns_to_use (list): A list of the columns to consider.\n",
    "\n",
    "    Returns:\n",
    "    - triples (pandas.DataFrame): Output DataFrame in triple format.\n",
    "                                  Subjects are index items, predicates are column names from columns_to_use, objects are non-NaN values in columns.\n",
    "    \"\"\"\n",
    "\n",
    "    df = pd.read_csv(filepath_or_buffer=path_to_csv, sep = ',', index_col = 0)\n",
    "    df.columns = df.columns.str.lower()\n",
    "    \n",
    "    # Create a list of triples\n",
    "    triples = []\n",
    "    # Drop feature columns\n",
    "    columns_to_drop = [col for col in columns_to_use if col in df.columns]\n",
    "    df.drop(columns=columns_to_drop, inplace=True)\n",
    "    df = df.replace({np.nan:None})\n",
    "    \n",
    "    for index, row in df.iterrows():\n",
    "        for column in df.columns:\n",
    "            if row[column] is not None:\n",
    "                for predicate in row[column].split('|'):\n",
    "                    triples.append([index, column, predicate])\n",
    "\n",
    "    # Create a dataframe from the list of triples\n",
    "    return pd.DataFrame(triples, columns=['subject', 'predicate', 'object'])\n",
    "\n",
    "# Extracting triples from original csv :\n",
    "iric_triples = triples_from_csv(path_to_csv = iric_csv_path)\n",
    "\n",
    "# Mapping entities and relations to integers ids :\n",
    "entity_set = set(iric_triples['object']).union(set(iric_triples['subject']))\n",
    "entity_to_mapping = {entity: int(i) for i, entity in enumerate(entity_set)}\n",
    "relation_set = set(iric_triples['predicate'])\n",
    "relation_to_mapping = {relation: int(i) for i, relation in enumerate(relation_set)}\n",
    "\n",
    "# Triples to mapped triples :\n",
    "iric_triples['mapped_subject'] = iric_triples['subject'].apply(lambda x: entity_to_mapping[x])\n",
    "iric_triples['mapped_predicate'] = iric_triples['predicate'].apply(lambda x: relation_to_mapping[x])\n",
    "iric_triples['mapped_object'] = iric_triples['object'].apply(lambda x: entity_to_mapping[x])\n",
    "display(iric_triples)"
   ]
  },
  {
   "cell_type": "code",
   "execution_count": 4,
   "metadata": {},
   "outputs": [
    {
     "name": "stdout",
     "output_type": "stream",
     "text": [
      "0\n"
     ]
    }
   ],
   "source": [
    "print(min(iric_triples['mapped_subject']))"
   ]
  },
  {
   "cell_type": "code",
   "execution_count": 5,
   "metadata": {},
   "outputs": [
    {
     "name": "stdout",
     "output_type": "stream",
     "text": [
      "Data(edge_index=[2, 1427], edge_attr=[1427], num_nodes=1684)\n",
      "\n",
      "Dataset looks valid : True\n",
      "Train, test, val sets look valid : True True True\n"
     ]
    }
   ],
   "source": [
    "# Triples to pyg framework :\n",
    "\n",
    "# Edges index :\n",
    "heads = list(iric_triples['mapped_subject'])\n",
    "tails = list(iric_triples['mapped_object'])\n",
    "edge_index = torch.tensor([heads,tails], dtype=torch.long)\n",
    "edge_attributes = torch.tensor(iric_triples['mapped_predicate'])\n",
    "\n",
    "iric_pyg = Data(\n",
    "                num_nodes = len(entity_set),\n",
    "                edge_index = edge_index,\n",
    "                edge_attr = edge_attributes\n",
    "                )\n",
    "\n",
    "print(iric_pyg)\n",
    "\n",
    "print(\"\\nDataset looks valid :\",iric_pyg.validate(raise_on_error=True))\n",
    "\n",
    "transform = RandomLinkSplit(\n",
    "                            num_val = val_ratio,\n",
    "                            num_test = test_ratio,\n",
    "                            is_undirected=False,\n",
    "                            add_negative_train_samples=False,\n",
    "                            )\n",
    "\n",
    "train_data, val_data, test_data = transform(iric_pyg)\n",
    "print(\"Train, test, val sets look valid :\",train_data.validate(raise_on_error=True), test_data.validate(raise_on_error=True), val_data.validate(raise_on_error=True))"
   ]
  },
  {
   "cell_type": "code",
   "execution_count": 6,
   "metadata": {},
   "outputs": [
    {
     "name": "stdout",
     "output_type": "stream",
     "text": [
      "Loader type : <class 'torch_geometric.nn.kge.loader.KGTripletLoader'>\n"
     ]
    }
   ],
   "source": [
    "# Initiating model :\n",
    "to_complex = ComplEx(\n",
    "    num_nodes=train_data.num_nodes,\n",
    "    num_relations = train_data.edge_index.size()[1],\n",
    "    hidden_channels=hidden_channels,\n",
    ").to(device)\n",
    "to_complex.reset_parameters()\n",
    "to_complex.to(device)\n",
    "\n",
    "# Initiaing loader :\n",
    "head_index = train_data.edge_index[0]\n",
    "tail_index = train_data.edge_index[1]\n",
    "rel_type = train_data.edge_attr\n",
    "\n",
    "loader = to_complex.loader(\n",
    "    head_index = head_index,\n",
    "    tail_index = tail_index,\n",
    "    rel_type = rel_type,\n",
    "    batch_size=batch_size,\n",
    "    shuffle=True,\n",
    ")\n",
    "print(\"Loader type :\", type(loader))\n",
    "\n",
    "# initiating optimizers :\n",
    "complex_optimizer = optim.Adam(to_complex.parameters())\n",
    "\n",
    "# Defining test and train functions :\n",
    "@torch.no_grad()\n",
    "def test(data, model):\n",
    "    model.eval()\n",
    "    return model.test(\n",
    "        head_index=data.edge_index[0],\n",
    "        tail_index=data.edge_index[1],\n",
    "        rel_type=data.edge_attr,\n",
    "        batch_size=batch_size, # No need for Tail_Only_ComplEx because one use only 1000 random sample instead of the full dataset.\n",
    "        k=K, #The k in Hit@k\n",
    "    )\n",
    "\n",
    "def train(loader, model, optimizer):\n",
    "    model.train()\n",
    "    total_loss = total_examples = 0\n",
    "    for head_index, rel_type, tail_index in loader:\n",
    "        optimizer.zero_grad()\n",
    "        loss = model.loss(head_index, rel_type, tail_index)\n",
    "        loss.backward()\n",
    "        optimizer.step()\n",
    "        total_loss += float(loss) * head_index.numel()\n",
    "        total_examples += head_index.numel()\n",
    "    return total_loss / total_examples"
   ]
  },
  {
   "cell_type": "code",
   "execution_count": 7,
   "metadata": {},
   "outputs": [
    {
     "name": "stderr",
     "output_type": "stream",
     "text": [
      "Failed to detect the name of this notebook, you can set it manually with the WANDB_NOTEBOOK_NAME environment variable to enable code saving.\n",
      "\u001b[34m\u001b[1mwandb\u001b[0m: Currently logged in as: \u001b[33mbutzelliot\u001b[0m (\u001b[33mesl2024\u001b[0m). Use \u001b[1m`wandb login --relogin`\u001b[0m to force relogin\n"
     ]
    },
    {
     "data": {
      "application/vnd.jupyter.widget-view+json": {
       "model_id": "f553b5914a3f40488f8895180d37f82b",
       "version_major": 2,
       "version_minor": 0
      },
      "text/plain": [
       "VBox(children=(Label(value='Waiting for wandb.init()...\\r'), FloatProgress(value=0.011301602925070459, max=1.0…"
      ]
     },
     "metadata": {},
     "output_type": "display_data"
    },
    {
     "data": {
      "text/html": [
       "wandb version 0.17.0 is available!  To upgrade, please run:\n",
       " $ pip install wandb --upgrade"
      ],
      "text/plain": [
       "<IPython.core.display.HTML object>"
      ]
     },
     "metadata": {},
     "output_type": "display_data"
    },
    {
     "data": {
      "text/html": [
       "Tracking run with wandb version 0.16.5"
      ],
      "text/plain": [
       "<IPython.core.display.HTML object>"
      ]
     },
     "metadata": {},
     "output_type": "display_data"
    },
    {
     "data": {
      "text/html": [
       "Run data is saved locally in <code>/home/ebutz/ESL2024/wandb/run-20240530_165529-kncy8kyc</code>"
      ],
      "text/plain": [
       "<IPython.core.display.HTML object>"
      ]
     },
     "metadata": {},
     "output_type": "display_data"
    },
    {
     "data": {
      "text/html": [
       "Syncing run <strong><a href='https://wandb.ai/esl2024/ComplEx%20on%20Iric/runs/kncy8kyc/workspace' target=\"_blank\">whole-paper-1</a></strong> to <a href='https://wandb.ai/esl2024/ComplEx%20on%20Iric' target=\"_blank\">Weights & Biases</a> (<a href='https://wandb.me/run' target=\"_blank\">docs</a>)<br/>"
      ],
      "text/plain": [
       "<IPython.core.display.HTML object>"
      ]
     },
     "metadata": {},
     "output_type": "display_data"
    },
    {
     "data": {
      "text/html": [
       " View project at <a href='https://wandb.ai/esl2024/ComplEx%20on%20Iric' target=\"_blank\">https://wandb.ai/esl2024/ComplEx%20on%20Iric</a>"
      ],
      "text/plain": [
       "<IPython.core.display.HTML object>"
      ]
     },
     "metadata": {},
     "output_type": "display_data"
    },
    {
     "data": {
      "text/html": [
       " View run at <a href='https://wandb.ai/esl2024/ComplEx%20on%20Iric/runs/kncy8kyc/workspace' target=\"_blank\">https://wandb.ai/esl2024/ComplEx%20on%20Iric/runs/kncy8kyc/workspace</a>"
      ],
      "text/plain": [
       "<IPython.core.display.HTML object>"
      ]
     },
     "metadata": {},
     "output_type": "display_data"
    },
    {
     "name": "stdout",
     "output_type": "stream",
     "text": [
      "Epoch: 001, Loss: 0.6931\n"
     ]
    },
    {
     "name": "stderr",
     "output_type": "stream",
     "text": [
      "100%|██████████| 1143/1143 [00:00<00:00, 1241.49it/s]\n"
     ]
    },
    {
     "name": "stdout",
     "output_type": "stream",
     "text": [
      "Epoch: 001, Val Mean Rank: 808.90 Val MRR: 0.0055, Val Hits@10: 0.0105\n",
      "Epoch: 002, Loss: 0.6931\n"
     ]
    },
    {
     "name": "stderr",
     "output_type": "stream",
     "text": [
      "100%|██████████| 1143/1143 [00:00<00:00, 1990.98it/s]\n"
     ]
    },
    {
     "name": "stdout",
     "output_type": "stream",
     "text": [
      "Epoch: 002, Val Mean Rank: 793.60 Val MRR: 0.0060, Val Hits@10: 0.0114\n",
      "Epoch: 003, Loss: 0.6931\n"
     ]
    },
    {
     "name": "stderr",
     "output_type": "stream",
     "text": [
      "100%|██████████| 1143/1143 [00:00<00:00, 1818.26it/s]\n"
     ]
    },
    {
     "name": "stdout",
     "output_type": "stream",
     "text": [
      "Epoch: 003, Val Mean Rank: 778.51 Val MRR: 0.0066, Val Hits@10: 0.0122\n"
     ]
    },
    {
     "data": {
      "application/vnd.jupyter.widget-view+json": {
       "model_id": "5c86c8073b3049fda54f60a0d878fc46",
       "version_major": 2,
       "version_minor": 0
      },
      "text/plain": [
       "VBox(children=(Label(value='0.005 MB of 0.005 MB uploaded\\r'), FloatProgress(value=1.0, max=1.0)))"
      ]
     },
     "metadata": {},
     "output_type": "display_data"
    },
    {
     "data": {
      "text/html": [
       "<style>\n",
       "    table.wandb td:nth-child(1) { padding: 0 10px; text-align: left ; width: auto;} td:nth-child(2) {text-align: left ; width: 100%}\n",
       "    .wandb-row { display: flex; flex-direction: row; flex-wrap: wrap; justify-content: flex-start; width: 100% }\n",
       "    .wandb-col { display: flex; flex-direction: column; flex-basis: 100%; flex: 1; padding: 10px; }\n",
       "    </style>\n",
       "<div class=\"wandb-row\"><div class=\"wandb-col\"><h3>Run history:</h3><br/><table class=\"wandb\"><tr><td>Val MRR</td><td>▁▄█</td></tr><tr><td>Val Mean Rank</td><td>█▄▁</td></tr><tr><td>hits@10</td><td>▁▅█</td></tr><tr><td>loss</td><td>█▃▁</td></tr></table><br/></div><div class=\"wandb-col\"><h3>Run summary:</h3><br/><table class=\"wandb\"><tr><td>Val MRR</td><td>0.00656</td></tr><tr><td>Val Mean Rank</td><td>778.50745</td></tr><tr><td>hits@10</td><td>0.01225</td></tr><tr><td>loss</td><td>0.69314</td></tr></table><br/></div></div>"
      ],
      "text/plain": [
       "<IPython.core.display.HTML object>"
      ]
     },
     "metadata": {},
     "output_type": "display_data"
    },
    {
     "data": {
      "text/html": [
       " View run <strong style=\"color:#cdcd00\">whole-paper-1</strong> at: <a href='https://wandb.ai/esl2024/ComplEx%20on%20Iric/runs/kncy8kyc/workspace' target=\"_blank\">https://wandb.ai/esl2024/ComplEx%20on%20Iric/runs/kncy8kyc/workspace</a><br/>Synced 6 W&B file(s), 0 media file(s), 0 artifact file(s) and 0 other file(s)"
      ],
      "text/plain": [
       "<IPython.core.display.HTML object>"
      ]
     },
     "metadata": {},
     "output_type": "display_data"
    },
    {
     "data": {
      "text/html": [
       "Find logs at: <code>./wandb/run-20240530_165529-kncy8kyc/logs</code>"
      ],
      "text/plain": [
       "<IPython.core.display.HTML object>"
      ]
     },
     "metadata": {},
     "output_type": "display_data"
    }
   ],
   "source": [
    "# Running XP :\n",
    "\n",
    "wandb.init(\n",
    "    settings=wandb.Settings(start_method=\"fork\"),\n",
    "    # set the wandb project where this run will be logged\n",
    "    project=\"ComplEx on Iric\",\n",
    "    \n",
    "    # track hyperparameters and run metadata\n",
    "    config={\n",
    "    \"architecture\": \"Tail_Only_ComplEx\",\n",
    "    \"dataset\": \"Iric\",\n",
    "    \"epochs\": epochs,\n",
    "    'hidden_channels' : hidden_channels,\n",
    "    'batch_size' : batch_size\n",
    "    }\n",
    ")\n",
    "\n",
    "losses = []\n",
    "for epoch in range(1, epochs+1):\n",
    "    loss = train(model=to_complex, loader = loader, optimizer=complex_optimizer)\n",
    "    losses.append(loss)\n",
    "    wandb.log({\"loss\": loss})\n",
    "\n",
    "    print(f'Epoch: {epoch:03d}, Loss: {loss:.4f}')\n",
    "\n",
    "    rank, mrr, hit = test(val_data, model=to_complex)\n",
    "    print(f'Epoch: {epoch:03d}, Val Mean Rank: {rank:.2f}', f'Val MRR: {mrr:.4f}, Val Hits@10: {hit:.4f}')\n",
    "\n",
    "    wandb.log({\"Val Mean Rank\" : rank, \"Val MRR\" : mrr, \"hits@10\": hit})\n",
    "\n",
    "\n",
    "wandb.finish()\n"
   ]
  },
  {
   "cell_type": "code",
   "execution_count": 8,
   "metadata": {},
   "outputs": [],
   "source": []
  },
  {
   "cell_type": "code",
   "execution_count": null,
   "metadata": {},
   "outputs": [],
   "source": []
  }
 ],
 "metadata": {
  "kernelspec": {
   "display_name": "pyg2",
   "language": "python",
   "name": "python3"
  },
  "language_info": {
   "codemirror_mode": {
    "name": "ipython",
    "version": 3
   },
   "file_extension": ".py",
   "mimetype": "text/x-python",
   "name": "python",
   "nbconvert_exporter": "python",
   "pygments_lexer": "ipython3",
   "version": "3.10.14"
  }
 },
 "nbformat": 4,
 "nbformat_minor": 2
}
