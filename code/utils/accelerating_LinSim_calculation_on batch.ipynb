{
 "cells": [
  {
   "cell_type": "code",
   "execution_count": 1,
   "metadata": {},
   "outputs": [],
   "source": [
    "import pandas as pd\n",
    "from nxontology.imports import from_file\n",
    "import time\n",
    "import torch\n",
    "\n",
    "nxo = from_file('/home/elliot/Documents/ESL2024/data/go-basic.json.gz')\n",
    "nxo.freeze()\n",
    "\n",
    "file_path = \"/home/elliot/Documents/ESL2024/data/little_iric.tsv\"\n"
   ]
  },
  {
   "cell_type": "code",
   "execution_count": 2,
   "metadata": {},
   "outputs": [
    {
     "data": {
      "text/html": [
       "<div>\n",
       "<style scoped>\n",
       "    .dataframe tbody tr th:only-of-type {\n",
       "        vertical-align: middle;\n",
       "    }\n",
       "\n",
       "    .dataframe tbody tr th {\n",
       "        vertical-align: top;\n",
       "    }\n",
       "\n",
       "    .dataframe thead th {\n",
       "        text-align: right;\n",
       "    }\n",
       "</style>\n",
       "<table border=\"1\" class=\"dataframe\">\n",
       "  <thead>\n",
       "    <tr style=\"text-align: right;\">\n",
       "      <th></th>\n",
       "      <th>subject</th>\n",
       "      <th>predicate</th>\n",
       "      <th>object</th>\n",
       "    </tr>\n",
       "  </thead>\n",
       "  <tbody>\n",
       "    <tr>\n",
       "      <th>0</th>\n",
       "      <td>GO:0000001</td>\n",
       "      <td>is_a</td>\n",
       "      <td>GO:0048311</td>\n",
       "    </tr>\n",
       "    <tr>\n",
       "      <th>1</th>\n",
       "      <td>GO:0000001</td>\n",
       "      <td>is_a</td>\n",
       "      <td>GO:0048308</td>\n",
       "    </tr>\n",
       "    <tr>\n",
       "      <th>2</th>\n",
       "      <td>GO:0000002</td>\n",
       "      <td>is_a</td>\n",
       "      <td>GO:0007005</td>\n",
       "    </tr>\n",
       "    <tr>\n",
       "      <th>3</th>\n",
       "      <td>GO:0000003</td>\n",
       "      <td>is_a</td>\n",
       "      <td>GO:0008150</td>\n",
       "    </tr>\n",
       "    <tr>\n",
       "      <th>4</th>\n",
       "      <td>GO:0000006</td>\n",
       "      <td>is_a</td>\n",
       "      <td>GO:0005385</td>\n",
       "    </tr>\n",
       "    <tr>\n",
       "      <th>...</th>\n",
       "      <td>...</td>\n",
       "      <td>...</td>\n",
       "      <td>...</td>\n",
       "    </tr>\n",
       "    <tr>\n",
       "      <th>9995</th>\n",
       "      <td>GO:0009920</td>\n",
       "      <td>is_a</td>\n",
       "      <td>GO:1903047</td>\n",
       "    </tr>\n",
       "    <tr>\n",
       "      <th>9996</th>\n",
       "      <td>GO:0009921</td>\n",
       "      <td>is_a</td>\n",
       "      <td>GO:0098797</td>\n",
       "    </tr>\n",
       "    <tr>\n",
       "      <th>9997</th>\n",
       "      <td>GO:0009922</td>\n",
       "      <td>is_a</td>\n",
       "      <td>GO:0016747</td>\n",
       "    </tr>\n",
       "    <tr>\n",
       "      <th>9998</th>\n",
       "      <td>GO:0009923</td>\n",
       "      <td>is_a</td>\n",
       "      <td>GO:1990234</td>\n",
       "    </tr>\n",
       "    <tr>\n",
       "      <th>9999</th>\n",
       "      <td>GO:0009923</td>\n",
       "      <td>is_a</td>\n",
       "      <td>GO:0098796</td>\n",
       "    </tr>\n",
       "  </tbody>\n",
       "</table>\n",
       "<p>10000 rows × 3 columns</p>\n",
       "</div>"
      ],
      "text/plain": [
       "         subject predicate      object\n",
       "0     GO:0000001      is_a  GO:0048311\n",
       "1     GO:0000001      is_a  GO:0048308\n",
       "2     GO:0000002      is_a  GO:0007005\n",
       "3     GO:0000003      is_a  GO:0008150\n",
       "4     GO:0000006      is_a  GO:0005385\n",
       "...          ...       ...         ...\n",
       "9995  GO:0009920      is_a  GO:1903047\n",
       "9996  GO:0009921      is_a  GO:0098797\n",
       "9997  GO:0009922      is_a  GO:0016747\n",
       "9998  GO:0009923      is_a  GO:1990234\n",
       "9999  GO:0009923      is_a  GO:0098796\n",
       "\n",
       "[10000 rows x 3 columns]"
      ]
     },
     "metadata": {},
     "output_type": "display_data"
    }
   ],
   "source": [
    "iric = pd.read_csv(file_path, delimiter='\\t', names = ['subject', 'predicate','object'])\n",
    "display(iric)\n",
    "\n",
    "# Mapping entities to ids\n",
    "\n",
    "entity_set = set(iric['object']).union(set(iric['subject']))\n",
    "entity_to_mapping = {entity: int(i) for i, entity in enumerate(entity_set)}\n",
    "relation_set = set(iric['predicate'])\n",
    "relation_to_mapping = {relation: int(i) for i, relation in enumerate(relation_set)}\n",
    "\n",
    "mapped_iric = iric.copy()\n",
    "mapped_iric['object'] = mapped_iric['object'].apply(lambda x: entity_to_mapping[x])\n",
    "mapped_iric['subject'] = mapped_iric['subject'].apply(lambda x: entity_to_mapping[x])\n",
    "mapped_iric['predicate'] = mapped_iric['predicate'].apply(lambda x: relation_to_mapping[x])\n",
    "\n",
    "# display(mapped_iric)\n",
    "\n",
    "mapping_to_entity = {v: k for k, v in entity_to_mapping.items()}\n",
    "mapping_to_relation = {v: k for k, v in relation_to_mapping.items()}"
   ]
  },
  {
   "cell_type": "code",
   "execution_count": 3,
   "metadata": {},
   "outputs": [
    {
     "data": {
      "text/html": [
       "<div>\n",
       "<style scoped>\n",
       "    .dataframe tbody tr th:only-of-type {\n",
       "        vertical-align: middle;\n",
       "    }\n",
       "\n",
       "    .dataframe tbody tr th {\n",
       "        vertical-align: top;\n",
       "    }\n",
       "\n",
       "    .dataframe thead th {\n",
       "        text-align: right;\n",
       "    }\n",
       "</style>\n",
       "<table border=\"1\" class=\"dataframe\">\n",
       "  <thead>\n",
       "    <tr style=\"text-align: right;\">\n",
       "      <th></th>\n",
       "      <th>subject</th>\n",
       "      <th>predicate</th>\n",
       "      <th>object</th>\n",
       "    </tr>\n",
       "  </thead>\n",
       "  <tbody>\n",
       "    <tr>\n",
       "      <th>0</th>\n",
       "      <td>GO:0000001</td>\n",
       "      <td>is_a</td>\n",
       "      <td>GO:0051326</td>\n",
       "    </tr>\n",
       "    <tr>\n",
       "      <th>1</th>\n",
       "      <td>GO:0000001</td>\n",
       "      <td>is_a</td>\n",
       "      <td>GO:0016841</td>\n",
       "    </tr>\n",
       "    <tr>\n",
       "      <th>2</th>\n",
       "      <td>GO:0000002</td>\n",
       "      <td>is_a</td>\n",
       "      <td>GO:0033993</td>\n",
       "    </tr>\n",
       "    <tr>\n",
       "      <th>3</th>\n",
       "      <td>GO:0000003</td>\n",
       "      <td>is_a</td>\n",
       "      <td>GO:0003018</td>\n",
       "    </tr>\n",
       "    <tr>\n",
       "      <th>4</th>\n",
       "      <td>GO:0000006</td>\n",
       "      <td>is_a</td>\n",
       "      <td>GO:0009185</td>\n",
       "    </tr>\n",
       "    <tr>\n",
       "      <th>...</th>\n",
       "      <td>...</td>\n",
       "      <td>...</td>\n",
       "      <td>...</td>\n",
       "    </tr>\n",
       "    <tr>\n",
       "      <th>9995</th>\n",
       "      <td>GO:0009920</td>\n",
       "      <td>is_a</td>\n",
       "      <td>GO:0002604</td>\n",
       "    </tr>\n",
       "    <tr>\n",
       "      <th>9996</th>\n",
       "      <td>GO:0009921</td>\n",
       "      <td>is_a</td>\n",
       "      <td>GO:1905202</td>\n",
       "    </tr>\n",
       "    <tr>\n",
       "      <th>9997</th>\n",
       "      <td>GO:0009922</td>\n",
       "      <td>is_a</td>\n",
       "      <td>GO:0009368</td>\n",
       "    </tr>\n",
       "    <tr>\n",
       "      <th>9998</th>\n",
       "      <td>GO:0009923</td>\n",
       "      <td>is_a</td>\n",
       "      <td>GO:0016836</td>\n",
       "    </tr>\n",
       "    <tr>\n",
       "      <th>9999</th>\n",
       "      <td>GO:0009923</td>\n",
       "      <td>is_a</td>\n",
       "      <td>GO:1901700</td>\n",
       "    </tr>\n",
       "  </tbody>\n",
       "</table>\n",
       "<p>10000 rows × 3 columns</p>\n",
       "</div>"
      ],
      "text/plain": [
       "         subject predicate      object\n",
       "0     GO:0000001      is_a  GO:0051326\n",
       "1     GO:0000001      is_a  GO:0016841\n",
       "2     GO:0000002      is_a  GO:0033993\n",
       "3     GO:0000003      is_a  GO:0003018\n",
       "4     GO:0000006      is_a  GO:0009185\n",
       "...          ...       ...         ...\n",
       "9995  GO:0009920      is_a  GO:0002604\n",
       "9996  GO:0009921      is_a  GO:1905202\n",
       "9997  GO:0009922      is_a  GO:0009368\n",
       "9998  GO:0009923      is_a  GO:0016836\n",
       "9999  GO:0009923      is_a  GO:1901700\n",
       "\n",
       "[10000 rows x 3 columns]"
      ]
     },
     "metadata": {},
     "output_type": "display_data"
    }
   ],
   "source": [
    "shuff_iric = iric.copy()\n",
    "shuff_iric['object'] = shuff_iric['object'].sample(frac=1).reset_index(drop=True)\n",
    "display(shuff_iric)"
   ]
  },
  {
   "cell_type": "code",
   "execution_count": 28,
   "metadata": {},
   "outputs": [],
   "source": [
    "def lin_sim(n1,n2, ontology):\n",
    "    try:\n",
    "        return ontology.similarity(n1, n2).lin\n",
    "    except Exception as e:\n",
    "        # print(e)\n",
    "        return 0\n",
    "def lin_sim_on_row(row):\n",
    "    return lin_sim(row['subject'], row['object'], nxo)"
   ]
  },
  {
   "cell_type": "code",
   "execution_count": 34,
   "metadata": {},
   "outputs": [
    {
     "name": "stderr",
     "output_type": "stream",
     "text": [
      "Pandas Apply: 100%|██████████| 10000/10000 [00:00<00:00, 54311.72it/s]\n",
      "Pandas Apply: 100%|██████████| 10000/10000 [00:00<00:00, 55729.74it/s]\n",
      "Pandas Apply: 100%|██████████| 10000/10000 [00:00<00:00, 55972.19it/s]\n",
      "Pandas Apply: 100%|██████████| 10000/10000 [00:00<00:00, 56404.70it/s]\n",
      "Pandas Apply: 100%|██████████| 10000/10000 [00:00<00:00, 56427.46it/s]\n",
      "Pandas Apply: 100%|██████████| 10000/10000 [00:00<00:00, 55340.54it/s]\n",
      "Pandas Apply: 100%|██████████| 10000/10000 [00:00<00:00, 56003.05it/s]\n",
      "Pandas Apply: 100%|██████████| 10000/10000 [00:00<00:00, 56843.55it/s]"
     ]
    },
    {
     "name": "stdout",
     "output_type": "stream",
     "text": [
      "211 ms ± 1.97 ms per loop (mean ± std. dev. of 7 runs, 1 loop each)\n"
     ]
    },
    {
     "name": "stderr",
     "output_type": "stream",
     "text": [
      "\n"
     ]
    }
   ],
   "source": [
    "%%timeit\n",
    "shuff_iric[\"LinSim\"] = shuff_iric.swifter.apply(func=lin_sim_on_row, axis=1,)"
   ]
  },
  {
   "cell_type": "code",
   "execution_count": null,
   "metadata": {},
   "outputs": [],
   "source": [
    "display(shuff_iric)"
   ]
  },
  {
   "cell_type": "code",
   "execution_count": 36,
   "metadata": {},
   "outputs": [
    {
     "name": "stdout",
     "output_type": "stream",
     "text": [
      "161 ms ± 2.07 ms per loop (mean ± std. dev. of 7 runs, 10 loops each)\n"
     ]
    }
   ],
   "source": [
    "%%timeit\n",
    "shuff_iric[\"LinSim\"] = shuff_iric.apply(func=lin_sim_on_row,\n",
    "                            axis=1,\n",
    "                            )"
   ]
  },
  {
   "cell_type": "code",
   "execution_count": 35,
   "metadata": {},
   "outputs": [
    {
     "data": {
      "text/html": [
       "<div>\n",
       "<style scoped>\n",
       "    .dataframe tbody tr th:only-of-type {\n",
       "        vertical-align: middle;\n",
       "    }\n",
       "\n",
       "    .dataframe tbody tr th {\n",
       "        vertical-align: top;\n",
       "    }\n",
       "\n",
       "    .dataframe thead th {\n",
       "        text-align: right;\n",
       "    }\n",
       "</style>\n",
       "<table border=\"1\" class=\"dataframe\">\n",
       "  <thead>\n",
       "    <tr style=\"text-align: right;\">\n",
       "      <th></th>\n",
       "      <th>subject</th>\n",
       "      <th>predicate</th>\n",
       "      <th>object</th>\n",
       "      <th>LinSim</th>\n",
       "    </tr>\n",
       "  </thead>\n",
       "  <tbody>\n",
       "    <tr>\n",
       "      <th>0</th>\n",
       "      <td>GO:0000001</td>\n",
       "      <td>is_a</td>\n",
       "      <td>GO:0051326</td>\n",
       "      <td>0.062571</td>\n",
       "    </tr>\n",
       "    <tr>\n",
       "      <th>1</th>\n",
       "      <td>GO:0000001</td>\n",
       "      <td>is_a</td>\n",
       "      <td>GO:0016841</td>\n",
       "      <td>0.000000</td>\n",
       "    </tr>\n",
       "    <tr>\n",
       "      <th>2</th>\n",
       "      <td>GO:0000002</td>\n",
       "      <td>is_a</td>\n",
       "      <td>GO:0033993</td>\n",
       "      <td>0.070031</td>\n",
       "    </tr>\n",
       "    <tr>\n",
       "      <th>3</th>\n",
       "      <td>GO:0000003</td>\n",
       "      <td>is_a</td>\n",
       "      <td>GO:0003018</td>\n",
       "      <td>0.079098</td>\n",
       "    </tr>\n",
       "    <tr>\n",
       "      <th>4</th>\n",
       "      <td>GO:0000006</td>\n",
       "      <td>is_a</td>\n",
       "      <td>GO:0009185</td>\n",
       "      <td>0.000000</td>\n",
       "    </tr>\n",
       "    <tr>\n",
       "      <th>...</th>\n",
       "      <td>...</td>\n",
       "      <td>...</td>\n",
       "      <td>...</td>\n",
       "      <td>...</td>\n",
       "    </tr>\n",
       "    <tr>\n",
       "      <th>9995</th>\n",
       "      <td>GO:0009920</td>\n",
       "      <td>is_a</td>\n",
       "      <td>GO:0002604</td>\n",
       "      <td>0.062497</td>\n",
       "    </tr>\n",
       "    <tr>\n",
       "      <th>9996</th>\n",
       "      <td>GO:0009921</td>\n",
       "      <td>is_a</td>\n",
       "      <td>GO:1905202</td>\n",
       "      <td>0.343621</td>\n",
       "    </tr>\n",
       "    <tr>\n",
       "      <th>9997</th>\n",
       "      <td>GO:0009922</td>\n",
       "      <td>is_a</td>\n",
       "      <td>GO:0009368</td>\n",
       "      <td>0.000000</td>\n",
       "    </tr>\n",
       "    <tr>\n",
       "      <th>9998</th>\n",
       "      <td>GO:0009923</td>\n",
       "      <td>is_a</td>\n",
       "      <td>GO:0016836</td>\n",
       "      <td>0.000000</td>\n",
       "    </tr>\n",
       "    <tr>\n",
       "      <th>9999</th>\n",
       "      <td>GO:0009923</td>\n",
       "      <td>is_a</td>\n",
       "      <td>GO:1901700</td>\n",
       "      <td>0.000000</td>\n",
       "    </tr>\n",
       "  </tbody>\n",
       "</table>\n",
       "<p>10000 rows × 4 columns</p>\n",
       "</div>"
      ],
      "text/plain": [
       "         subject predicate      object    LinSim\n",
       "0     GO:0000001      is_a  GO:0051326  0.062571\n",
       "1     GO:0000001      is_a  GO:0016841  0.000000\n",
       "2     GO:0000002      is_a  GO:0033993  0.070031\n",
       "3     GO:0000003      is_a  GO:0003018  0.079098\n",
       "4     GO:0000006      is_a  GO:0009185  0.000000\n",
       "...          ...       ...         ...       ...\n",
       "9995  GO:0009920      is_a  GO:0002604  0.062497\n",
       "9996  GO:0009921      is_a  GO:1905202  0.343621\n",
       "9997  GO:0009922      is_a  GO:0009368  0.000000\n",
       "9998  GO:0009923      is_a  GO:0016836  0.000000\n",
       "9999  GO:0009923      is_a  GO:1901700  0.000000\n",
       "\n",
       "[10000 rows x 4 columns]"
      ]
     },
     "metadata": {},
     "output_type": "display_data"
    }
   ],
   "source": [
    "display(shuff_iric)"
   ]
  },
  {
   "cell_type": "code",
   "execution_count": 37,
   "metadata": {},
   "outputs": [
    {
     "name": "stdout",
     "output_type": "stream",
     "text": [
      "3.58 s ± 53.3 ms per loop (mean ± std. dev. of 7 runs, 1 loop each)\n"
     ]
    }
   ],
   "source": [
    "%%timeit\n",
    "# FOR\n",
    "for index, row in iric.iterrows():\n",
    "    row['Sim to GO:0048308'] = lin_sim(row['object'], 'GO:0048308', nxo)\n"
   ]
  },
  {
   "cell_type": "code",
   "execution_count": 17,
   "metadata": {},
   "outputs": [
    {
     "data": {
      "text/plain": [
       "139781948553232"
      ]
     },
     "execution_count": 17,
     "metadata": {},
     "output_type": "execute_result"
    }
   ],
   "source": [
    "a = torch.Tensor([0.23231,0.23321])\n",
    "b = torch.Tensor([0.23231,0.23321])\n",
    "c = torch.Tensor([0.23231,0.23321])\n",
    "d = torch.Tensor([0.23231,0.23321])\n"
   ]
  },
  {
   "cell_type": "code",
   "execution_count": 38,
   "metadata": {},
   "outputs": [
    {
     "data": {
      "text/plain": [
       "139781948553232"
      ]
     },
     "execution_count": 38,
     "metadata": {},
     "output_type": "execute_result"
    }
   ],
   "source": [
    "hash(a)"
   ]
  }
 ],
 "metadata": {
  "kernelspec": {
   "display_name": "Python 3",
   "language": "python",
   "name": "python3"
  },
  "language_info": {
   "codemirror_mode": {
    "name": "ipython",
    "version": 3
   },
   "file_extension": ".py",
   "mimetype": "text/x-python",
   "name": "python",
   "nbconvert_exporter": "python",
   "pygments_lexer": "ipython3",
   "version": "3.8.10"
  }
 },
 "nbformat": 4,
 "nbformat_minor": 2
}
