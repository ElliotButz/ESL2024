{
 "cells": [
  {
   "cell_type": "code",
   "execution_count": 1,
   "metadata": {},
   "outputs": [
    {
     "name": "stderr",
     "output_type": "stream",
     "text": [
      "/home/ebutz/miniconda3/envs/pyg2/lib/python3.11/site-packages/tqdm/auto.py:21: TqdmWarning: IProgress not found. Please update jupyter and ipywidgets. See https://ipywidgets.readthedocs.io/en/stable/user_install.html\n",
      "  from .autonotebook import tqdm as notebook_tqdm\n"
     ]
    }
   ],
   "source": [
    "import torch\n",
    "import os\n",
    "import sys\n",
    "from torch_geometric.utils import to_networkx\n",
    "\n",
    "sys.path.append('/home/ebutz/ESL2024/code/utils' )\n",
    "import optuna\n",
    "import torch.nn.functional as F\n",
    "from torch_geometric.data import HeteroData\n",
    "from torch_geometric.loader import LinkNeighborLoader\n",
    "from torch_geometric.sampler import NegativeSampling\n",
    "import torch_geometric.transforms as T\n",
    "import pickle\n",
    "import os\n",
    "import sys\n",
    "import torch\n",
    "import torch.optim as optim\n",
    "import torch_geometric\n",
    "from torch_geometric.nn import ComplEx\n",
    "from torch_geometric.data import Data\n",
    "from torch_geometric.transforms import RandomLinkSplit\n",
    "from torch_geometric.loader import DataLoader\n",
    "import torch.nn.functional as F\n",
    "from nxontology.imports import from_file\n",
    "import wandb\n",
    "from play_with_complex import *\n",
    "from data_utils import *\n",
    "from train_utils import *\n",
    "from model_utils import *\n",
    "import numpy as np\n",
    "import pandas as pd\n",
    "from tqdm import tqdm\n",
    "tqdm.pandas()\n",
    "from torchmetrics.retrieval import RetrievalMRR, RetrievalHitRate\n",
    "import play_with_complex as pwc\n",
    "from work_in_graph import *\n",
    "from usefull_little_functions import *\n",
    "import numpy as np\n",
    "\n",
    "from scipy.stats import ttest_ind\n",
    "from scipy.stats import t\n",
    "\n",
    "from nxontology import NXOntology"
   ]
  },
  {
   "cell_type": "code",
   "execution_count": 2,
   "metadata": {},
   "outputs": [],
   "source": [
    "iric_path = '/home/ebutz/ESL2024/data/full_iric/iric.csv'"
   ]
  },
  {
   "cell_type": "code",
   "execution_count": 3,
   "metadata": {},
   "outputs": [],
   "source": [
    "def plot_graph(graph, title=\"Graph\"):\n",
    "    \"\"\"\n",
    "    Plots the given graph using NetworkX.\n",
    "\n",
    "    :param graph: A NetworkX graph object to be plotted.\n",
    "    :param title: The title of the graph.\n",
    "    \"\"\"\n",
    "    # Generate positions for the nodes in the graph\n",
    "    pos = nx.spring_layout(graph, iterations=50, seed=4)\n",
    "    \n",
    "    # Draw the graph with node labels and arrows for directed edges\n",
    "    nx.draw(graph, pos, with_labels=True, node_color='skyblue', node_size=800, arrows=True)\n",
    "    \n",
    "    plt.title(title)\n",
    "    plt.show()\n",
    "\n",
    "def init_ontology(edges: list, display_output: bool = False, output_name = \"ontology\"):\n",
    "    \"\"\"\n",
    "    Initializes an ontology using nxontology and adds edges to it.\n",
    "\n",
    "    Args:\n",
    "    edges: A list of edges to add to the ontology.\n",
    "    display_output: If True, the graph is plotted.\n",
    "\n",
    "    Returns:\n",
    "    nxo: An NXOntology object with the specified edges.\n",
    "    \"\"\"\n",
    "    # Create an NXOntology object\n",
    "    nxo: NXOntology[str] = NXOntology()\n",
    "    nxo.graph.graph[\"name\"] = output_name\n",
    "    \n",
    "    # Set the graph attributes for node names\n",
    "    nxo.set_graph_attributes(node_name_attribute=\"{node}\")\n",
    "    \n",
    "    nxo.graph.add_edges_from(edges)\n",
    "\n",
    "    if display_output:\n",
    "        plot_graph(nxo.graph, title = output_name)\n",
    "\n",
    "    return nxo\n",
    "\n",
    "def DFS(G, v, discovered):\n",
    "    \"\"\"\n",
    "    Performs a Depth-First Search (DFS) on a directed graph.\n",
    "\n",
    "    Args:\n",
    "    G (networkx.classes.digraph.DiGraph): The directed graph in which to perform the DFS.\n",
    "    v: The starting node for the DFS.\n",
    "    discovered (set): A set to keep track of discovered nodes.\n",
    "\n",
    "    Returns:\n",
    "    set: A set of all nodes discovered during the DFS starting from node v.\n",
    "\n",
    "    Source : https://en.wikipedia.org/wiki/Depth-first_search, july 10 2024.\n",
    "    \"\"\"\n",
    "    discovered.add(v)  # Mark v as discovered\n",
    "\n",
    "    for w in G.successors(v):    # Traverse all predecessors of v ;\n",
    "        if w not in discovered:    # If the node w is not yet discovered ;\n",
    "            DFS(G, w, discovered)  # Recursive DFS call on w ;\n",
    "\n",
    "    return discovered\n",
    "\n",
    "def get_leaves_and_ancestors(G):\n",
    "    \"\"\"\n",
    "    Retrieves the leaves and their ancestors from an ontology graph.\n",
    "\n",
    "    Args:\n",
    "    G (networkx.classes.digraph.DiGraph): A Directed Graph, should be Acyclic.\n",
    "\n",
    "    Returns:\n",
    "    dict: A dictionary where each key is a leaf node and the value is a set of its ancestors.\n",
    "    \"\"\"\n",
    "    # 1 - Listing nodes of the ontology:\n",
    "    all_nodes: list = list(G.nodes)\n",
    "\n",
    "    # 2 - For each node, if the node has no children, add node to the list of leaves:\n",
    "    leaves: list = []\n",
    "\n",
    "    for node in tqdm(all_nodes, desc=\"Retrieving leaves from ontology\"):\n",
    "\n",
    "        if len(list(G.predecessors(node))) == 0:\n",
    "            leaves.append(node)\n",
    "\n",
    "    # 3 - Associate each leaf and its ancestors in a dict <leaf>: [ancestors]: \n",
    "    leaves_and_ancestors = dict()\n",
    "    for leaf in tqdm(leaves, desc=\"Retrieving ancestors of each leaf\"):\n",
    "        discovered = set()\n",
    "        leaves_and_ancestors[leaf] = DFS(G, leaf, discovered)\n",
    "\n",
    "    return leaves_and_ancestors"
   ]
  },
  {
   "cell_type": "markdown",
   "metadata": {},
   "source": [
    "# Preparing datas"
   ]
  },
  {
   "cell_type": "markdown",
   "metadata": {},
   "source": [
    "## Reading Iric"
   ]
  },
  {
   "cell_type": "code",
   "execution_count": 4,
   "metadata": {},
   "outputs": [
    {
     "name": "stderr",
     "output_type": "stream",
     "text": [
      "/home/ebutz/ESL2024/code/utils/train_utils.py:184: SettingWithCopyWarning: \n",
      "A value is trying to be set on a copy of a slice from a DataFrame.\n",
      "Try using .loc[row_indexer,col_indexer] = value instead\n",
      "\n",
      "See the caveats in the documentation: https://pandas.pydata.org/pandas-docs/stable/user_guide/indexing.html#returning-a-view-versus-a-copy\n",
      "  df_links['source_node'] = df_links.index\n"
     ]
    },
    {
     "name": "stdout",
     "output_type": "stream",
     "text": [
      "tensor([[30082, 30082, 17769,  ...,  3928,  3928,  3928],\n",
      "        [40098, 31700, 25851,  ..., 39714, 14052, 24537]])\n",
      "HeteroData(\n",
      "  genes={ x=[72335, 29] },\n",
      "  go={ x=[42979, 3] },\n",
      "  po={ x=[1662, 2] },\n",
      "  traito={ x=[1636, 1] },\n",
      "  prosite_profiles={ x=[627, 1] },\n",
      "  prosite_patterns={ x=[652, 1] },\n",
      "  superfamily={ x=[957, 1] },\n",
      "  panther={ x=[5971, 1] },\n",
      "  prints={ x=[420, 1] },\n",
      "  (genes, interacts_with, genes)={ edge_index=[2, 1120849] },\n",
      "  (genes, gene_ontology, go)={ edge_index=[2, 169248] },\n",
      "  (genes, trait_ontology, traito)={ edge_index=[2, 15080] },\n",
      "  (genes, plant_ontology, po)={ edge_index=[2, 6125] },\n",
      "  (genes, profile, prosite_profiles)={ edge_index=[2, 12239] },\n",
      "  (genes, pattern, prosite_patterns)={ edge_index=[2, 6677] },\n",
      "  (genes, family, superfamily)={ edge_index=[2, 20742] },\n",
      "  (genes, panther_id, panther)={ edge_index=[2, 25319] },\n",
      "  (genes, prints_id, prints)={ edge_index=[2, 4365] },\n",
      "  (go, is_a, go)={ edge_index=[2, 136436] },\n",
      "  (po, is_a, po)={ edge_index=[2, 3548] },\n",
      "  (traito, is_a, traito)={ edge_index=[2, 3770] },\n",
      "  (go, rev_gene_ontology, genes)={ edge_index=[2, 169248] },\n",
      "  (traito, rev_trait_ontology, genes)={ edge_index=[2, 15080] },\n",
      "  (po, rev_plant_ontology, genes)={ edge_index=[2, 6125] },\n",
      "  (prosite_profiles, rev_profile, genes)={ edge_index=[2, 12239] },\n",
      "  (prosite_patterns, rev_pattern, genes)={ edge_index=[2, 6677] },\n",
      "  (superfamily, rev_family, genes)={ edge_index=[2, 20742] },\n",
      "  (panther, rev_panther_id, genes)={ edge_index=[2, 25319] },\n",
      "  (prints, rev_prints_id, genes)={ edge_index=[2, 4365] }\n",
      ")\n"
     ]
    }
   ],
   "source": [
    "# Loading Iric as a Data object:\n",
    "data = load_iric_data('/home/ebutz/ESL2024/data/full_iric/iric.csv', featureless=False)\n",
    "\n",
    "# Extracting ontology before setting the graph undirected:\n",
    "GO_edge_index = data[(\"go\", \"is_a\", \"go\")]['edge_index']\n",
    "print(GO_edge_index)\n",
    "\n",
    "data  = T.ToUndirected(merge=True)(data) # Convert the graph to an undirected graph. Creates reverse edges for each edge.\n",
    "data = T.RemoveDuplicatedEdges()(data) # Remove duplicated edges\n",
    "\n",
    "print(data)\n",
    "# Should look like this :\n",
    "# HeteroData(\n",
    "#   genes={ x=[72335, 29] },\n",
    "#   go={ x=[42979, 3] },\n",
    "#   ...\n",
    "#   (panther, rev_panther_id, genes)={ edge_index=[2, 25319] },\n",
    "#   (prints, rev_prints_id, genes)={ edge_index=[2, 4365] }\n",
    "# )\n",
    "\n",
    "assert data.validate()"
   ]
  },
  {
   "cell_type": "markdown",
   "metadata": {},
   "source": [
    "## Extracting ontology "
   ]
  },
  {
   "cell_type": "code",
   "execution_count": 5,
   "metadata": {},
   "outputs": [
    {
     "name": "stdout",
     "output_type": "stream",
     "text": [
      "tensor([[30082, 30082, 17769,  ...,  3928,  3928,  3928],\n",
      "        [40098, 31700, 25851,  ..., 39714, 14052, 24537]])\n",
      "torch.Size([2, 68218])\n"
     ]
    },
    {
     "data": {
      "text/plain": [
       "True"
      ]
     },
     "execution_count": 5,
     "metadata": {},
     "output_type": "execute_result"
    }
   ],
   "source": [
    "print(GO_edge_index)\n",
    "print(GO_edge_index.shape)\n",
    "\n",
    "# Defining GO as an nxo.ontology object (for similarity measure):\n",
    "GO_ontology: nxo.ontology.NXOntology = init_ontology(edges = GO_edge_index.t().tolist())\n",
    "\n",
    "# Defining GO as an nx.DiGraph object (for neighbourhood extraction. Extracting this graph in a function do not works, idk why.):\n",
    "GO_nx=GO_ontology.graph\n",
    "\n",
    "# Checking that the 2 items represent the same graph:\n",
    "set(GO_nx.edges) == set(GO_ontology.graph.edges)"
   ]
  },
  {
   "cell_type": "markdown",
   "metadata": {},
   "source": [
    "## Mapping ontology"
   ]
  },
  {
   "cell_type": "code",
   "execution_count": 6,
   "metadata": {},
   "outputs": [],
   "source": [
    "df = pd.read_csv(iric_path, index_col=0, dtype=str)\n",
    "df['source_node'] = df.index\n",
    "df.columns = [x.lower() for x in df.columns]\n",
    "go_map = get_nodelist(df, 'go')\n",
    "go_to_idx = {node: i for i, node in enumerate(go_map)}\n",
    "idx_to_go = {i: node for i, node in enumerate(go_map)}"
   ]
  },
  {
   "cell_type": "code",
   "execution_count": 14,
   "metadata": {},
   "outputs": [
    {
     "name": "stdout",
     "output_type": "stream",
     "text": [
      "25136\n",
      "11542\n",
      "17266\n",
      "2074\n",
      "0.9980608679276305\n",
      "0.9941239098357871\n",
      "0.9932453283140809\n",
      "True\n",
      "False\n"
     ]
    }
   ],
   "source": [
    "print(go_to_idx['GO:0006281']) # DNA Repair\n",
    "print(go_to_idx['GO:0006974']) # DNA Damage response\n",
    "print(go_to_idx['GO:0033554']) # Cellular response to stress\n",
    "print(go_to_idx['GO:0006950']) # Response to stress\n",
    "\n",
    "print(GO_ontology.similarity(go_to_idx['GO:0006281'], go_to_idx['GO:0006974']).lin)\n",
    "print(GO_ontology.similarity(go_to_idx['GO:0006281'], go_to_idx['GO:0033554']).lin)\n",
    "print(GO_ontology.similarity(go_to_idx['GO:0006281'], go_to_idx['GO:0006950']).lin)\n",
    "\n",
    "DNA_repair = go_to_idx['GO:0006281']\n",
    "DNA_Damage_response = (go_to_idx['GO:0006974'])\n",
    "print(DNA_Damage_response in list(GO_nx.successors(DNA_repair)))\n",
    "print(DNA_Damage_response in list(GO_nx.predecessors(DNA_repair)))"
   ]
  },
  {
   "cell_type": "code",
   "execution_count": 15,
   "metadata": {},
   "outputs": [
    {
     "name": "stderr",
     "output_type": "stream",
     "text": [
      "Retrieving leaves from ontology: 100%|██████████| 42769/42769 [00:00<00:00, 798350.61it/s]\n",
      "Retrieving ancestors of each leaf: 100%|██████████| 26960/26960 [00:00<00:00, 161581.02it/s]"
     ]
    },
    {
     "name": "stdout",
     "output_type": "stream",
     "text": [
      "Found 26960 leaves.\n"
     ]
    },
    {
     "name": "stderr",
     "output_type": "stream",
     "text": [
      "\n"
     ]
    }
   ],
   "source": [
    "GO_leaves_ancestors = get_leaves_and_ancestors(GO_nx)\n",
    "print(f'Found {len(GO_leaves_ancestors.keys())} leaves.')\n",
    "\n",
    "if len(GO_leaves_ancestors.keys()) == 3:\n",
    "    print(\"/!\\ Ontology looks upside-down : the graph is oriented the wrong way. Please permute GO_edge_index[0] and GO_edge_index[1].\")"
   ]
  },
  {
   "cell_type": "code",
   "execution_count": 18,
   "metadata": {},
   "outputs": [
    {
     "name": "stdout",
     "output_type": "stream",
     "text": [
      "30082\n",
      "GO:0000001\n"
     ]
    }
   ],
   "source": [
    "leaves = list(GO_leaves_ancestors.keys())\n",
    "a_leaf = leaves[0]\n",
    "print(a_leaf)\n",
    "print(idx_to_go[a_leaf])"
   ]
  },
  {
   "cell_type": "markdown",
   "metadata": {},
   "source": [
    "# Creating a little ontology (LO) for testing\n",
    "Creating ontology from adjacency tensors. The ontology is given under this form when one work with pyTorch.\n",
    "\n",
    "/!\\ CHECK THAT THE ONTOLOGY IN ORIENTED AS LO_EDGE_INDEX, that is to say that more specific nodes are children of less specific nodes. If not, swap the two parts of the ontology edge index (here thoses parts are commented Departure nodes and Arrival nodes)"
   ]
  },
  {
   "cell_type": "code",
   "execution_count": null,
   "metadata": {},
   "outputs": [
    {
     "name": "stderr",
     "output_type": "stream",
     "text": [
      "/home/ebutz/miniconda3/envs/pyg2/lib/python3.11/site-packages/torch_geometric/data/storage.py:450: UserWarning: Unable to accurately infer 'num_nodes' from the attribute set '{'edge_index'}'. Please explicitly set 'num_nodes' as an attribute of 'data' to suppress this warning\n",
      "  warnings.warn(\n"
     ]
    },
    {
     "data": {
      "text/plain": [
       "14"
      ]
     },
     "execution_count": 50,
     "metadata": {},
     "output_type": "execute_result"
    }
   ],
   "source": [
    "LO_edge_index = torch.tensor([[0,0,1,1,2,2,3,3,9, 9, 3],  # Departure nodes\n",
    "                              [1,2,3,9,4,6,5,7,11,13, 11]], # Arrival nodes\n",
    "                              dtype=torch.long)\n",
    "\n",
    "LO_data = Data(edge_index=LO_edge_index)\n",
    "type(LO_data)\n",
    "LO_nx= to_networkx(LO_data)\n",
    "LO_nx.number_of_nodes()"
   ]
  },
  {
   "cell_type": "code",
   "execution_count": null,
   "metadata": {},
   "outputs": [
    {
     "data": {
      "image/png": "[encoded data removed]",
      "text/plain": [
       "<Figure size 640x480 with 1 Axes>"
      ]
     },
     "metadata": {},
     "output_type": "display_data"
    },
    {
     "name": "stderr",
     "output_type": "stream",
     "text": [
      "Retrieving leaves from ontology: 100%|██████████| 14/14 [00:00<00:00, 278295.05it/s]\n",
      "Retrieving ancestors of each leaf: 100%|██████████| 4/4 [00:00<00:00, 30840.47it/s]\n"
     ]
    }
   ],
   "source": [
    "LO_edge_index = torch.tensor([[0,0,1,1,2,2,3,3,9, 9, 3],  # Departure nodes\n",
    "                              [1,2,3,9,4,6,5,7,11,13, 11]], # Arrival nodes\n",
    "                              dtype=torch.long)\n",
    "LO_edges = LO_edge_index.t().tolist()\n",
    "\n",
    "# Initialize the ontology with the specified edges and display the graph\n",
    "LO = init_ontology(LO_edges, display_output=True, output_name = \"little ontology\")\n",
    "LO_leaves_ancestors = get_leaves_and_ancestors(LO_nx)\n"
   ]
  },
  {
   "cell_type": "code",
   "execution_count": null,
   "metadata": {},
   "outputs": [
    {
     "data": {
      "text/plain": [
       "networkx.classes.digraph.DiGraph"
      ]
     },
     "execution_count": 52,
     "metadata": {},
     "output_type": "execute_result"
    }
   ],
   "source": [
    "type(LO.graph)"
   ]
  },
  {
   "cell_type": "markdown",
   "metadata": {},
   "source": []
  },
  {
   "cell_type": "markdown",
   "metadata": {},
   "source": [
    "# Loading models"
   ]
  },
  {
   "cell_type": "code",
   "execution_count": 137,
   "metadata": {},
   "outputs": [
    {
     "name": "stdout",
     "output_type": "stream",
     "text": [
      "ComplEx(82249, num_relations=1162017, hidden_channels=1)\n"
     ]
    }
   ],
   "source": [
    "to_complex = torch.load('/home/ebutz/ESL2024/to_complex_model_entire.pth')\n",
    "print(to_complex)"
   ]
  },
  {
   "cell_type": "markdown",
   "metadata": {},
   "source": [
    "# Retrieving leaf-ancestor similarity "
   ]
  },
  {
   "cell_type": "code",
   "execution_count": 91,
   "metadata": {},
   "outputs": [
    {
     "name": "stdout",
     "output_type": "stream",
     "text": [
      "4\n",
      "0.6668789811396013\n"
     ]
    }
   ],
   "source": [
    "def get_distance(graph, node1, node2):\n",
    "    if node1 == node2:\n",
    "        return int(0)\n",
    "    else :\n",
    "        return len(nx.bidirectional_shortest_path(graph, source = node1, target = node2))\n",
    "    \n",
    "def get_similarity(ontology, node1, node2):\n",
    "    return ontology.similarity(node1,node2).lin\n",
    "\n",
    "print(get_distance(GO_nx,30082,41338))\n",
    "print(get_similarity(GO_ontology, 30082,41338))"
   ]
  },
  {
   "cell_type": "code",
   "execution_count": 143,
   "metadata": {},
   "outputs": [
    {
     "name": "stderr",
     "output_type": "stream",
     "text": [
      "Calculating leaves-ancestors distances: 100%|██████████| 324799/324799 [00:04<00:00, 71536.52it/s]\n"
     ]
    },
    {
     "data": {
      "text/html": [
       "<div>\n",
       "<style scoped>\n",
       "    .dataframe tbody tr th:only-of-type {\n",
       "        vertical-align: middle;\n",
       "    }\n",
       "\n",
       "    .dataframe tbody tr th {\n",
       "        vertical-align: top;\n",
       "    }\n",
       "\n",
       "    .dataframe thead th {\n",
       "        text-align: right;\n",
       "    }\n",
       "</style>\n",
       "<table border=\"1\" class=\"dataframe\">\n",
       "  <thead>\n",
       "    <tr style=\"text-align: right;\">\n",
       "      <th></th>\n",
       "      <th>leaf</th>\n",
       "      <th>ancestor</th>\n",
       "      <th>distance</th>\n",
       "      <th>similarity</th>\n",
       "      <th>model_score</th>\n",
       "    </tr>\n",
       "  </thead>\n",
       "  <tbody>\n",
       "    <tr>\n",
       "      <th>0</th>\n",
       "      <td>30082</td>\n",
       "      <td>40098</td>\n",
       "      <td>2</td>\n",
       "      <td>NaN</td>\n",
       "      <td>NaN</td>\n",
       "    </tr>\n",
       "    <tr>\n",
       "      <th>1</th>\n",
       "      <td>30082</td>\n",
       "      <td>30082</td>\n",
       "      <td>0</td>\n",
       "      <td>NaN</td>\n",
       "      <td>NaN</td>\n",
       "    </tr>\n",
       "    <tr>\n",
       "      <th>2</th>\n",
       "      <td>30082</td>\n",
       "      <td>15386</td>\n",
       "      <td>6</td>\n",
       "      <td>NaN</td>\n",
       "      <td>NaN</td>\n",
       "    </tr>\n",
       "    <tr>\n",
       "      <th>3</th>\n",
       "      <td>30082</td>\n",
       "      <td>19439</td>\n",
       "      <td>5</td>\n",
       "      <td>NaN</td>\n",
       "      <td>NaN</td>\n",
       "    </tr>\n",
       "    <tr>\n",
       "      <th>4</th>\n",
       "      <td>30082</td>\n",
       "      <td>10098</td>\n",
       "      <td>6</td>\n",
       "      <td>NaN</td>\n",
       "      <td>NaN</td>\n",
       "    </tr>\n",
       "    <tr>\n",
       "      <th>...</th>\n",
       "      <td>...</td>\n",
       "      <td>...</td>\n",
       "      <td>...</td>\n",
       "      <td>...</td>\n",
       "      <td>...</td>\n",
       "    </tr>\n",
       "    <tr>\n",
       "      <th>324794</th>\n",
       "      <td>3928</td>\n",
       "      <td>25182</td>\n",
       "      <td>3</td>\n",
       "      <td>NaN</td>\n",
       "      <td>NaN</td>\n",
       "    </tr>\n",
       "    <tr>\n",
       "      <th>324795</th>\n",
       "      <td>3928</td>\n",
       "      <td>20067</td>\n",
       "      <td>3</td>\n",
       "      <td>NaN</td>\n",
       "      <td>NaN</td>\n",
       "    </tr>\n",
       "    <tr>\n",
       "      <th>324796</th>\n",
       "      <td>3928</td>\n",
       "      <td>14052</td>\n",
       "      <td>2</td>\n",
       "      <td>NaN</td>\n",
       "      <td>NaN</td>\n",
       "    </tr>\n",
       "    <tr>\n",
       "      <th>324797</th>\n",
       "      <td>3928</td>\n",
       "      <td>10098</td>\n",
       "      <td>5</td>\n",
       "      <td>NaN</td>\n",
       "      <td>NaN</td>\n",
       "    </tr>\n",
       "    <tr>\n",
       "      <th>324798</th>\n",
       "      <td>3928</td>\n",
       "      <td>11634</td>\n",
       "      <td>2</td>\n",
       "      <td>NaN</td>\n",
       "      <td>NaN</td>\n",
       "    </tr>\n",
       "  </tbody>\n",
       "</table>\n",
       "<p>324799 rows × 5 columns</p>\n",
       "</div>"
      ],
      "text/plain": [
       "         leaf  ancestor  distance similarity model_score\n",
       "0       30082     40098         2        NaN         NaN\n",
       "1       30082     30082         0        NaN         NaN\n",
       "2       30082     15386         6        NaN         NaN\n",
       "3       30082     19439         5        NaN         NaN\n",
       "4       30082     10098         6        NaN         NaN\n",
       "...       ...       ...       ...        ...         ...\n",
       "324794   3928     25182         3        NaN         NaN\n",
       "324795   3928     20067         3        NaN         NaN\n",
       "324796   3928     14052         2        NaN         NaN\n",
       "324797   3928     10098         5        NaN         NaN\n",
       "324798   3928     11634         2        NaN         NaN\n",
       "\n",
       "[324799 rows x 5 columns]"
      ]
     },
     "metadata": {},
     "output_type": "display_data"
    }
   ],
   "source": [
    "distances_and_similarities = pd.DataFrame(columns=['leaf','ancestor', 'distance', 'similarity', 'model_score'])\n",
    "\n",
    "leaves, ancestors =  [], []\n",
    "\n",
    "for _, (leaf, leaf_ancestors) in enumerate(GO_leaves_ancestors.items()):\n",
    "     for leaf_ancestor in leaf_ancestors:\n",
    "        leaves.append(leaf)\n",
    "        ancestors.append(leaf_ancestor)\n",
    "\n",
    "distances_and_similarities['leaf']= leaves\n",
    "distances_and_similarities['ancestor']= ancestors\n",
    "\n",
    "tqdm.pandas(desc='Calculating leaves-ancestors distances')\n",
    "distances_and_similarities['distance'] = distances_and_similarities.progress_apply(lambda row: get_distance(GO_nx, row['leaf'], row['ancestor']), axis=1)\n",
    "\n",
    "# tqdm.pandas(desc='Calculating leaves_ancestos similarities')\n",
    "# distances_and_similarities['similarity'] = distances_and_similarities.progress_apply(lambda row: get_similarity(GO_ontology, row['leaf'], row['ancestor']), axis=1)\n",
    "\n",
    "display(distances_and_similarities)"
   ]
  },
  {
   "cell_type": "code",
   "execution_count": 146,
   "metadata": {},
   "outputs": [
    {
     "data": {
      "text/html": [
       "<div>\n",
       "<style scoped>\n",
       "    .dataframe tbody tr th:only-of-type {\n",
       "        vertical-align: middle;\n",
       "    }\n",
       "\n",
       "    .dataframe tbody tr th {\n",
       "        vertical-align: top;\n",
       "    }\n",
       "\n",
       "    .dataframe thead th {\n",
       "        text-align: right;\n",
       "    }\n",
       "</style>\n",
       "<table border=\"1\" class=\"dataframe\">\n",
       "  <thead>\n",
       "    <tr style=\"text-align: right;\">\n",
       "      <th></th>\n",
       "      <th>leaf</th>\n",
       "      <th>ancestor</th>\n",
       "      <th>distance</th>\n",
       "      <th>similarity</th>\n",
       "      <th>model_score</th>\n",
       "    </tr>\n",
       "  </thead>\n",
       "  <tbody>\n",
       "    <tr>\n",
       "      <th>0</th>\n",
       "      <td>30082</td>\n",
       "      <td>40098</td>\n",
       "      <td>2</td>\n",
       "      <td>NaN</td>\n",
       "      <td>NaN</td>\n",
       "    </tr>\n",
       "    <tr>\n",
       "      <th>2</th>\n",
       "      <td>30082</td>\n",
       "      <td>15386</td>\n",
       "      <td>6</td>\n",
       "      <td>NaN</td>\n",
       "      <td>NaN</td>\n",
       "    </tr>\n",
       "    <tr>\n",
       "      <th>3</th>\n",
       "      <td>30082</td>\n",
       "      <td>19439</td>\n",
       "      <td>5</td>\n",
       "      <td>NaN</td>\n",
       "      <td>NaN</td>\n",
       "    </tr>\n",
       "    <tr>\n",
       "      <th>4</th>\n",
       "      <td>30082</td>\n",
       "      <td>10098</td>\n",
       "      <td>6</td>\n",
       "      <td>NaN</td>\n",
       "      <td>NaN</td>\n",
       "    </tr>\n",
       "    <tr>\n",
       "      <th>5</th>\n",
       "      <td>30082</td>\n",
       "      <td>21843</td>\n",
       "      <td>5</td>\n",
       "      <td>NaN</td>\n",
       "      <td>NaN</td>\n",
       "    </tr>\n",
       "    <tr>\n",
       "      <th>...</th>\n",
       "      <td>...</td>\n",
       "      <td>...</td>\n",
       "      <td>...</td>\n",
       "      <td>...</td>\n",
       "      <td>...</td>\n",
       "    </tr>\n",
       "    <tr>\n",
       "      <th>324794</th>\n",
       "      <td>3928</td>\n",
       "      <td>25182</td>\n",
       "      <td>3</td>\n",
       "      <td>NaN</td>\n",
       "      <td>NaN</td>\n",
       "    </tr>\n",
       "    <tr>\n",
       "      <th>324795</th>\n",
       "      <td>3928</td>\n",
       "      <td>20067</td>\n",
       "      <td>3</td>\n",
       "      <td>NaN</td>\n",
       "      <td>NaN</td>\n",
       "    </tr>\n",
       "    <tr>\n",
       "      <th>324796</th>\n",
       "      <td>3928</td>\n",
       "      <td>14052</td>\n",
       "      <td>2</td>\n",
       "      <td>NaN</td>\n",
       "      <td>NaN</td>\n",
       "    </tr>\n",
       "    <tr>\n",
       "      <th>324797</th>\n",
       "      <td>3928</td>\n",
       "      <td>10098</td>\n",
       "      <td>5</td>\n",
       "      <td>NaN</td>\n",
       "      <td>NaN</td>\n",
       "    </tr>\n",
       "    <tr>\n",
       "      <th>324798</th>\n",
       "      <td>3928</td>\n",
       "      <td>11634</td>\n",
       "      <td>2</td>\n",
       "      <td>NaN</td>\n",
       "      <td>NaN</td>\n",
       "    </tr>\n",
       "  </tbody>\n",
       "</table>\n",
       "<p>297839 rows × 5 columns</p>\n",
       "</div>"
      ],
      "text/plain": [
       "         leaf  ancestor  distance similarity model_score\n",
       "0       30082     40098         2        NaN         NaN\n",
       "2       30082     15386         6        NaN         NaN\n",
       "3       30082     19439         5        NaN         NaN\n",
       "4       30082     10098         6        NaN         NaN\n",
       "5       30082     21843         5        NaN         NaN\n",
       "...       ...       ...       ...        ...         ...\n",
       "324794   3928     25182         3        NaN         NaN\n",
       "324795   3928     20067         3        NaN         NaN\n",
       "324796   3928     14052         2        NaN         NaN\n",
       "324797   3928     10098         5        NaN         NaN\n",
       "324798   3928     11634         2        NaN         NaN\n",
       "\n",
       "[297839 rows x 5 columns]"
      ]
     },
     "execution_count": 146,
     "metadata": {},
     "output_type": "execute_result"
    }
   ],
   "source": [
    "distances_and_similarities = distances_and_similarities[distances_and_similarities.distance != 0]\n",
    "distances_and_similarities"
   ]
  },
  {
   "cell_type": "markdown",
   "metadata": {},
   "source": [
    "# Comparing ontologies comprehension of the trained models"
   ]
  },
  {
   "cell_type": "code",
   "execution_count": 157,
   "metadata": {},
   "outputs": [
    {
     "name": "stdout",
     "output_type": "stream",
     "text": [
      "tensor([30082, 30082, 30082,  ...,  3928,  3928,  3928]) tensor([1, 1, 1,  ..., 1, 1, 1]) tensor([40098, 15386, 19439,  ..., 14052, 10098, 11634])\n"
     ]
    }
   ],
   "source": [
    "isa_id = 1\n",
    "\n",
    "heads     = torch.Tensor(distances_and_similarities['leaf'].values).to(torch.long)\n",
    "relations = torch.Tensor([isa_id]*heads.shape[0]).to(torch.long)\n",
    "tails     = torch.Tensor(distances_and_similarities['ancestor'].values).to(torch.long)\n",
    "print(heads, relations, tails)"
   ]
  },
  {
   "cell_type": "code",
   "execution_count": 158,
   "metadata": {},
   "outputs": [
    {
     "data": {
      "text/html": [
       "<div>\n",
       "<style scoped>\n",
       "    .dataframe tbody tr th:only-of-type {\n",
       "        vertical-align: middle;\n",
       "    }\n",
       "\n",
       "    .dataframe tbody tr th {\n",
       "        vertical-align: top;\n",
       "    }\n",
       "\n",
       "    .dataframe thead th {\n",
       "        text-align: right;\n",
       "    }\n",
       "</style>\n",
       "<table border=\"1\" class=\"dataframe\">\n",
       "  <thead>\n",
       "    <tr style=\"text-align: right;\">\n",
       "      <th></th>\n",
       "      <th>leaf</th>\n",
       "      <th>ancestor</th>\n",
       "      <th>distance</th>\n",
       "      <th>similarity</th>\n",
       "      <th>model_score</th>\n",
       "    </tr>\n",
       "  </thead>\n",
       "  <tbody>\n",
       "    <tr>\n",
       "      <th>0</th>\n",
       "      <td>30082</td>\n",
       "      <td>40098</td>\n",
       "      <td>2</td>\n",
       "      <td>NaN</td>\n",
       "      <td>0.007652</td>\n",
       "    </tr>\n",
       "    <tr>\n",
       "      <th>2</th>\n",
       "      <td>30082</td>\n",
       "      <td>15386</td>\n",
       "      <td>6</td>\n",
       "      <td>NaN</td>\n",
       "      <td>-0.002908</td>\n",
       "    </tr>\n",
       "    <tr>\n",
       "      <th>3</th>\n",
       "      <td>30082</td>\n",
       "      <td>19439</td>\n",
       "      <td>5</td>\n",
       "      <td>NaN</td>\n",
       "      <td>-0.002033</td>\n",
       "    </tr>\n",
       "    <tr>\n",
       "      <th>4</th>\n",
       "      <td>30082</td>\n",
       "      <td>10098</td>\n",
       "      <td>6</td>\n",
       "      <td>NaN</td>\n",
       "      <td>-0.001828</td>\n",
       "    </tr>\n",
       "    <tr>\n",
       "      <th>5</th>\n",
       "      <td>30082</td>\n",
       "      <td>21843</td>\n",
       "      <td>5</td>\n",
       "      <td>NaN</td>\n",
       "      <td>-0.002140</td>\n",
       "    </tr>\n",
       "    <tr>\n",
       "      <th>...</th>\n",
       "      <td>...</td>\n",
       "      <td>...</td>\n",
       "      <td>...</td>\n",
       "      <td>...</td>\n",
       "      <td>...</td>\n",
       "    </tr>\n",
       "    <tr>\n",
       "      <th>324794</th>\n",
       "      <td>3928</td>\n",
       "      <td>25182</td>\n",
       "      <td>3</td>\n",
       "      <td>NaN</td>\n",
       "      <td>0.000099</td>\n",
       "    </tr>\n",
       "    <tr>\n",
       "      <th>324795</th>\n",
       "      <td>3928</td>\n",
       "      <td>20067</td>\n",
       "      <td>3</td>\n",
       "      <td>NaN</td>\n",
       "      <td>0.000661</td>\n",
       "    </tr>\n",
       "    <tr>\n",
       "      <th>324796</th>\n",
       "      <td>3928</td>\n",
       "      <td>14052</td>\n",
       "      <td>2</td>\n",
       "      <td>NaN</td>\n",
       "      <td>0.000325</td>\n",
       "    </tr>\n",
       "    <tr>\n",
       "      <th>324797</th>\n",
       "      <td>3928</td>\n",
       "      <td>10098</td>\n",
       "      <td>5</td>\n",
       "      <td>NaN</td>\n",
       "      <td>0.000260</td>\n",
       "    </tr>\n",
       "    <tr>\n",
       "      <th>324798</th>\n",
       "      <td>3928</td>\n",
       "      <td>11634</td>\n",
       "      <td>2</td>\n",
       "      <td>NaN</td>\n",
       "      <td>0.000266</td>\n",
       "    </tr>\n",
       "  </tbody>\n",
       "</table>\n",
       "<p>297839 rows × 5 columns</p>\n",
       "</div>"
      ],
      "text/plain": [
       "         leaf  ancestor  distance similarity  model_score\n",
       "0       30082     40098         2        NaN     0.007652\n",
       "2       30082     15386         6        NaN    -0.002908\n",
       "3       30082     19439         5        NaN    -0.002033\n",
       "4       30082     10098         6        NaN    -0.001828\n",
       "5       30082     21843         5        NaN    -0.002140\n",
       "...       ...       ...       ...        ...          ...\n",
       "324794   3928     25182         3        NaN     0.000099\n",
       "324795   3928     20067         3        NaN     0.000661\n",
       "324796   3928     14052         2        NaN     0.000325\n",
       "324797   3928     10098         5        NaN     0.000260\n",
       "324798   3928     11634         2        NaN     0.000266\n",
       "\n",
       "[297839 rows x 5 columns]"
      ]
     },
     "metadata": {},
     "output_type": "display_data"
    }
   ],
   "source": [
    "scores = to_complex(heads, relations, tails)\n",
    "\n",
    "distances_and_similarities['model_score'] = scores.tolist()\n",
    "display(distances_and_similarities)"
   ]
  },
  {
   "cell_type": "code",
   "execution_count": 173,
   "metadata": {},
   "outputs": [
    {
     "data": {
      "image/png": "[encoded data removed]",
      "text/plain": [
       "<Figure size 1000x600 with 1 Axes>"
      ]
     },
     "metadata": {},
     "output_type": "display_data"
    }
   ],
   "source": [
    "import matplotlib.pyplot as plt\n",
    "from scipy.stats import pearsonr\n",
    "\n",
    "# Supposons que le DataFrame est déjà chargé dans distances_and_similarities\n",
    "\n",
    "# Calculer la moyenne de model_score pour chaque valeur de distance\n",
    "mean_scores = distances_and_similarities.groupby('distance')['model_score'].mean().reset_index()\n",
    "\n",
    "# Scatter plot initial\n",
    "plt.figure(figsize=(10, 6))\n",
    "plt.scatter(distances_and_similarities['distance'], distances_and_similarities['model_score'], alpha=0.5, label='Données individuelles')\n",
    "\n",
    "# Ajouter les valeurs moyennes\n",
    "plt.plot(mean_scores['distance'], mean_scores['model_score'], color='red', marker='o', linestyle='-', linewidth=2, markersize=6, label='Moyennes')\n",
    "\n",
    "# Calculer la droite de tendance\n",
    "slope, intercept = np.polyfit(distances_and_similarities['distance'], distances_and_similarities['model_score'], 1)\n",
    "trendline = slope * distances_and_similarities['distance'] + intercept\n",
    "\n",
    "# # Ajouter la droite de tendance\n",
    "# plt.plot(distances_and_similarities['distance'], trendline, color='blue', linestyle='--', linewidth=2, label='Droite de tendance')\n",
    "\n",
    "# Titre et labels\n",
    "plt.title('Relation entre Distance et Model Score')\n",
    "plt.xlabel('Distance')\n",
    "plt.ylabel('Model Score')\n",
    "plt.grid(True)\n",
    "plt.legend()\n",
    "plt.show()\n"
   ]
  },
  {
   "cell_type": "code",
   "execution_count": 174,
   "metadata": {},
   "outputs": [
    {
     "name": "stdout",
     "output_type": "stream",
     "text": [
      "Correlation de Pearson: 0.009141110830692974\n",
      "P-value: 6.075220585438794e-07\n"
     ]
    }
   ],
   "source": [
    "correlation, p_value = pearsonr(distances_and_similarities['distance'], distances_and_similarities['model_score'])\n",
    "print(f\"Correlation de Pearson: {correlation}\")\n",
    "print(f\"P-value: {p_value}\")"
   ]
  }
 ],
 "metadata": {
  "kernelspec": {
   "display_name": "pyg2",
   "language": "python",
   "name": "python3"
  },
  "language_info": {
   "codemirror_mode": {
    "name": "ipython",
    "version": 3
   },
   "file_extension": ".py",
   "mimetype": "text/x-python",
   "name": "python",
   "nbconvert_exporter": "python",
   "pygments_lexer": "ipython3",
   "version": "3.11.9"
  }
 },
 "nbformat": 4,
 "nbformat_minor": 2
}
